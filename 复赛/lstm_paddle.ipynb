{
 "cells": [
  {
   "cell_type": "code",
   "execution_count": 1,
   "metadata": {
    "collapsed": true
   },
   "outputs": [],
   "source": [
    "import os\n",
    "import pandas as pd\n",
    "import numpy as np\n",
    "import matplotlib.pyplot as plt\n",
    "plt.rcParams['font.sans-serif']=['SimHei'] #用来正常显示中文标签\n",
    "plt.rcParams['axes.unicode_minus']=False #用来正常显示负号\n",
    "import lightgbm as lgb\n",
    "import math\n",
    "from sklearn.metrics import mean_squared_error as mse\n",
    "from sklearn.linear_model import LinearRegression\n",
    "import warnings\n",
    "import pdb\n",
    "warnings.filterwarnings('ignore')\n",
    "import random\n",
    "from tqdm import tqdm\n",
    "import paddlets\n",
    "from paddlets import TSDataset\n",
    "from paddlets import TimeSeries\n",
    "from paddlets.models.forecasting import MLPRegressor, LSTNetRegressor\n",
    "from paddlets.transform import Fill, StandardScaler\n",
    "from paddlets.metrics import MSE, MAE"
   ]
  },
  {
   "cell_type": "code",
   "execution_count": 2,
   "outputs": [],
   "source": [
    "def set_seed(seed):\n",
    "    random.seed(seed)\n",
    "    np.random.seed(seed)\n",
    "    os.environ['PYTHONHASHSEED'] = str(seed)  # 禁止hash随机化\n",
    "\n",
    "set_seed(42)"
   ],
   "metadata": {
    "collapsed": false,
    "pycharm": {
     "name": "#%%\n"
    }
   }
  },
  {
   "cell_type": "code",
   "execution_count": 3,
   "outputs": [
    {
     "name": "stdout",
     "output_type": "stream",
     "text": [
      "<class 'pandas.core.frame.DataFrame'>\n",
      "Int64Index: 141188 entries, 0 to 141187\n",
      "Data columns (total 19 columns):\n",
      " #   Column     Non-Null Count   Dtype  \n",
      "---  ------     --------------   -----  \n",
      " 0   时间         141188 non-null  object \n",
      " 1   推料器自动指令    141188 non-null  float64\n",
      " 2   CO含量       141188 non-null  float64\n",
      " 3   HCL含量      141188 non-null  float64\n",
      " 4   NOx含量      141188 non-null  float64\n",
      " 5   SO2含量      141188 non-null  float64\n",
      " 6   二次风调门      141188 non-null  float64\n",
      " 7   二次风量       141188 non-null  float64\n",
      " 8   给水流量       141188 non-null  float64\n",
      " 9   炉排实际运行指令   141188 non-null  float64\n",
      " 10  炉排自动投退信号   141188 non-null  object \n",
      " 11  汽包水位       141188 non-null  float64\n",
      " 12  推料器启停      141188 non-null  object \n",
      " 13  推料器自动投退信号  141188 non-null  object \n",
      " 14  氧量设定值      141188 non-null  float64\n",
      " 15  一次风调门      141188 non-null  float64\n",
      " 16  一次风量       141188 non-null  float64\n",
      " 17  引风机转速      141188 non-null  float64\n",
      " 18  主蒸汽流量      141188 non-null  float64\n",
      "dtypes: float64(15), object(4)\n",
      "memory usage: 21.5+ MB\n",
      "<class 'pandas.core.frame.DataFrame'>\n",
      "RangeIndex: 1800 entries, 0 to 1799\n",
      "Data columns (total 18 columns):\n",
      " #   Column     Non-Null Count  Dtype  \n",
      "---  ------     --------------  -----  \n",
      " 0   时间         1800 non-null   object \n",
      " 1   CO含量       1800 non-null   float64\n",
      " 2   HCL含量      1800 non-null   float64\n",
      " 3   NOx含量      1800 non-null   float64\n",
      " 4   SO2含量      1800 non-null   float64\n",
      " 5   二次风调门      1800 non-null   float64\n",
      " 6   二次风量       1800 non-null   float64\n",
      " 7   给水流量       1800 non-null   float64\n",
      " 8   炉排实际运行指令   1800 non-null   float64\n",
      " 9   炉排自动投退信号   1800 non-null   bool   \n",
      " 10  汽包水位       1800 non-null   float64\n",
      " 11  推料器启停      1800 non-null   bool   \n",
      " 12  推料器自动投退信号  1800 non-null   bool   \n",
      " 13  氧量设定值      1800 non-null   float64\n",
      " 14  一次风调门      1800 non-null   float64\n",
      " 15  一次风量       1800 non-null   float64\n",
      " 16  引风机转速      1800 non-null   float64\n",
      " 17  主蒸汽流量      1800 non-null   float64\n",
      "dtypes: bool(3), float64(14), object(1)\n",
      "memory usage: 216.3+ KB\n"
     ]
    }
   ],
   "source": [
    "train_df = pd.read_csv('./data/train.csv')\n",
    "train_df = train_df.dropna()\n",
    "\n",
    "test_df = pd.read_csv('./data/test.csv')\n",
    "train_df.info()\n",
    "test_df.info()"
   ],
   "metadata": {
    "collapsed": false,
    "pycharm": {
     "name": "#%%\n"
    }
   }
  },
  {
   "cell_type": "code",
   "execution_count": 4,
   "outputs": [],
   "source": [
    "# df = pd.concat([train_df, test_df])\n",
    "#\n",
    "# df.info()"
   ],
   "metadata": {
    "collapsed": false,
    "pycharm": {
     "name": "#%%\n"
    }
   }
  },
  {
   "cell_type": "code",
   "execution_count": 5,
   "outputs": [],
   "source": [
    "train_val_dataset = TSDataset.load_from_dataframe(\n",
    "    train_df,\n",
    "    time_col='时间',\n",
    "    target_cols='推料器自动指令',\n",
    "    observed_cov_cols=['CO含量', 'HCL含量', 'NOx含量', 'SO2含量','二次风调门', '二次风量'],\n",
    "    freq='1s',\n",
    "    fill_missing_dates=True,\n",
    "    fillna_method='pre'\n",
    ")\n",
    "# train_dev_dataset.plot(['CO含量', 'HCL含量', 'NOx含量', 'SO2含量','二次风调门', '二次风量'])\n",
    "\n",
    "test_dataset = TSDataset.load_from_dataframe(\n",
    "    test_df,\n",
    "    time_col='时间',\n",
    "    observed_cov_cols=['CO含量', 'HCL含量', 'NOx含量', 'SO2含量','二次风调门', '二次风量'],\n",
    "    freq='1s',\n",
    "    fill_missing_dates=True,\n",
    "    fillna_method='pre'\n",
    ")\n",
    "# train_dev_dataset.plot(['CO含量', 'HCL含量', 'NOx含量', 'SO2含量','二次风调门', '二次风量'])"
   ],
   "metadata": {
    "collapsed": false,
    "pycharm": {
     "name": "#%%\n"
    }
   }
  },
  {
   "cell_type": "code",
   "execution_count": 6,
   "outputs": [
    {
     "data": {
      "text/plain": "<AxesSubplot:xlabel='时间'>"
     },
     "execution_count": 6,
     "metadata": {},
     "output_type": "execute_result"
    },
    {
     "data": {
      "text/plain": "<Figure size 720x216 with 1 Axes>",
      "image/png": "[encoded data removed]"
     },
     "metadata": {
      "needs_background": "light"
     },
     "output_type": "display_data"
    }
   ],
   "source": [
    "train_dataset, val_dataset = train_val_dataset.split(0.7)\n",
    "train_dataset.plot(add_data=[val_dataset], labels=['val'])"
   ],
   "metadata": {
    "collapsed": false,
    "pycharm": {
     "name": "#%%\n"
    }
   }
  },
  {
   "cell_type": "code",
   "execution_count": 7,
   "outputs": [],
   "source": [
    "scaler = StandardScaler()\n",
    "scaler.fit(train_dataset)\n",
    "train_dataset_scaled = scaler.transform(train_dataset)\n",
    "val_dataset_scaled = scaler.transform(val_dataset)\n",
    "test_dataset_scaled = scaler.transform(test_dataset)"
   ],
   "metadata": {
    "collapsed": false,
    "pycharm": {
     "name": "#%%\n"
    }
   }
  },
  {
   "cell_type": "code",
   "execution_count": 8,
   "outputs": [],
   "source": [
    "# 查看PaddleTS库内置的评估指标\n",
    "??paddlets.metrics"
   ],
   "metadata": {
    "collapsed": false,
    "pycharm": {
     "name": "#%%\n"
    }
   }
  },
  {
   "cell_type": "code",
   "execution_count": 9,
   "outputs": [],
   "source": [
    "lstm = LSTNetRegressor(in_chunk_len=1800,\n",
    "                       out_chunk_len=1800,\n",
    "                       eval_metrics=['mse'],\n",
    "                       batch_size=32,\n",
    "                       max_epochs=20)"
   ],
   "metadata": {
    "collapsed": false,
    "pycharm": {
     "name": "#%%\n"
    }
   }
  },
  {
   "cell_type": "code",
   "execution_count": 10,
   "outputs": [
    {
     "name": "stderr",
     "output_type": "stream",
     "text": [
      "[2022-11-23 11:39:21,291] [paddlets.models.common.callbacks.callbacks] [INFO] epoch 000| loss: 0.486363| val_0_mse: 0.808936| 0:05:09s\n",
      "[2022-11-23 11:44:20,397] [paddlets.models.common.callbacks.callbacks] [INFO] epoch 001| loss: 0.473276| val_0_mse: 0.698059| 0:10:08s\n",
      "[2022-11-23 11:49:20,106] [paddlets.models.common.callbacks.callbacks] [INFO] epoch 002| loss: 0.472275| val_0_mse: 0.762476| 0:15:08s\n",
      "[2022-11-23 11:54:19,586] [paddlets.models.common.callbacks.callbacks] [INFO] epoch 003| loss: 0.464351| val_0_mse: 0.773702| 0:20:08s\n",
      "[2022-11-23 11:59:18,355] [paddlets.models.common.callbacks.callbacks] [INFO] epoch 004| loss: 0.463435| val_0_mse: 0.755354| 0:25:06s\n",
      "[2022-11-23 12:04:17,464] [paddlets.models.common.callbacks.callbacks] [INFO] epoch 005| loss: 0.460101| val_0_mse: 0.775763| 0:30:05s\n",
      "[2022-11-23 12:09:16,401] [paddlets.models.common.callbacks.callbacks] [INFO] epoch 006| loss: 0.458275| val_0_mse: 0.737988| 0:35:04s\n",
      "[2022-11-23 12:14:17,707] [paddlets.models.common.callbacks.callbacks] [INFO] epoch 007| loss: 0.470977| val_0_mse: 0.696883| 0:40:06s\n",
      "[2022-11-23 12:19:17,282] [paddlets.models.common.callbacks.callbacks] [INFO] epoch 008| loss: 0.456062| val_0_mse: 0.749248| 0:45:05s\n",
      "[2022-11-23 12:24:16,587] [paddlets.models.common.callbacks.callbacks] [INFO] epoch 009| loss: 0.456580| val_0_mse: 0.761314| 0:50:05s\n",
      "[2022-11-23 12:29:17,235] [paddlets.models.common.callbacks.callbacks] [INFO] epoch 010| loss: 0.456394| val_0_mse: 0.724884| 0:55:05s\n",
      "[2022-11-23 12:34:16,124] [paddlets.models.common.callbacks.callbacks] [INFO] epoch 011| loss: 0.452319| val_0_mse: 0.876972| 1:00:04s\n",
      "[2022-11-23 12:39:14,967] [paddlets.models.common.callbacks.callbacks] [INFO] epoch 012| loss: 0.446328| val_0_mse: 0.775499| 1:05:03s\n",
      "[2022-11-23 12:44:13,775] [paddlets.models.common.callbacks.callbacks] [INFO] epoch 013| loss: 0.442512| val_0_mse: 0.903868| 1:10:02s\n",
      "[2022-11-23 12:49:12,250] [paddlets.models.common.callbacks.callbacks] [INFO] epoch 014| loss: 0.444659| val_0_mse: 0.797763| 1:15:00s\n",
      "[2022-11-23 12:54:12,242] [paddlets.models.common.callbacks.callbacks] [INFO] epoch 015| loss: 0.442224| val_0_mse: 0.770867| 1:20:00s\n",
      "[2022-11-23 12:59:11,672] [paddlets.models.common.callbacks.callbacks] [INFO] epoch 016| loss: 0.441683| val_0_mse: 0.873508| 1:25:00s\n",
      "[2022-11-23 13:04:13,018] [paddlets.models.common.callbacks.callbacks] [INFO] epoch 017| loss: 0.441077| val_0_mse: 0.751508| 1:30:01s\n",
      "[2022-11-23 13:04:13,029] [paddlets.models.common.callbacks.callbacks] [INFO] \n",
      "Early stopping occurred at epoch 17 with best_epoch = 7 and best_val_0_mse = 0.696883\n",
      "[2022-11-23 13:04:13,030] [paddlets.models.common.callbacks.callbacks] [INFO] Best weights from best epoch are automatically used!\n"
     ]
    }
   ],
   "source": [
    "lstm.fit(train_dataset_scaled, val_dataset_scaled)\n"
   ],
   "metadata": {
    "collapsed": false,
    "pycharm": {
     "name": "#%%\n"
    }
   }
  },
  {
   "cell_type": "code",
   "execution_count": 11,
   "outputs": [
    {
     "name": "stderr",
     "output_type": "stream",
     "text": [
      "[2022-11-23 13:04:13,129] [paddlets] [ERROR] ValueError: Failed to save model, target file already exists: E:\\打工\\竞赛\\江苏大数据开发与应用大赛-智能制造赛道\\复赛\\model\n"
     ]
    },
    {
     "ename": "ValueError",
     "evalue": "Failed to save model, target file already exists: E:\\打工\\竞赛\\江苏大数据开发与应用大赛-智能制造赛道\\复赛\\model",
     "output_type": "error",
     "traceback": [
      "\u001B[1;31m---------------------------------------------------------------------------\u001B[0m",
      "\u001B[1;31mValueError\u001B[0m                                Traceback (most recent call last)",
      "\u001B[1;32mC:\\Users\\MACHEN~1\\AppData\\Local\\Temp/ipykernel_9652/4006622137.py\u001B[0m in \u001B[0;36m<module>\u001B[1;34m\u001B[0m\n\u001B[0;32m      1\u001B[0m \u001B[1;31m# save the model for multiple times.\u001B[0m\u001B[1;33m\u001B[0m\u001B[1;33m\u001B[0m\u001B[1;33m\u001B[0m\u001B[0m\n\u001B[1;32m----> 2\u001B[1;33m \u001B[0mlstm\u001B[0m\u001B[1;33m.\u001B[0m\u001B[0msave\u001B[0m\u001B[1;33m(\u001B[0m\u001B[1;34m\"model\"\u001B[0m\u001B[1;33m)\u001B[0m\u001B[1;33m\u001B[0m\u001B[1;33m\u001B[0m\u001B[0m\n\u001B[0m\u001B[0;32m      3\u001B[0m \u001B[1;32mfrom\u001B[0m \u001B[0mpaddlets\u001B[0m\u001B[1;33m.\u001B[0m\u001B[0mmodels\u001B[0m\u001B[1;33m.\u001B[0m\u001B[0mmodel_loader\u001B[0m \u001B[1;32mimport\u001B[0m \u001B[0mload\u001B[0m\u001B[1;33m\u001B[0m\u001B[1;33m\u001B[0m\u001B[0m\n\u001B[0;32m      4\u001B[0m \u001B[1;31m# loaded_lstm = load(\"lstm\")\u001B[0m\u001B[1;33m\u001B[0m\u001B[1;33m\u001B[0m\u001B[1;33m\u001B[0m\u001B[0m\n\u001B[0;32m      5\u001B[0m \u001B[1;33m\u001B[0m\u001B[0m\n",
      "\u001B[1;32mF:\\ML_ENVS\\lib\\site-packages\\paddlets\\models\\forecasting\\dl\\paddle_base.py\u001B[0m in \u001B[0;36msave\u001B[1;34m(self, path)\u001B[0m\n\u001B[0;32m    120\u001B[0m         raise_if(\n\u001B[0;32m    121\u001B[0m             \u001B[0mos\u001B[0m\u001B[1;33m.\u001B[0m\u001B[0mpath\u001B[0m\u001B[1;33m.\u001B[0m\u001B[0mexists\u001B[0m\u001B[1;33m(\u001B[0m\u001B[0mabs_model_path\u001B[0m\u001B[1;33m)\u001B[0m\u001B[1;33m,\u001B[0m\u001B[1;33m\u001B[0m\u001B[1;33m\u001B[0m\u001B[0m\n\u001B[1;32m--> 122\u001B[1;33m             \u001B[1;34m\"Failed to save model, target file already exists: %s\"\u001B[0m \u001B[1;33m%\u001B[0m \u001B[0mabs_model_path\u001B[0m\u001B[1;33m\u001B[0m\u001B[1;33m\u001B[0m\u001B[0m\n\u001B[0m\u001B[0;32m    123\u001B[0m         )\n\u001B[0;32m    124\u001B[0m \u001B[1;33m\u001B[0m\u001B[0m\n",
      "\u001B[1;32mF:\\ML_ENVS\\lib\\site-packages\\paddlets\\logger\\logger.py\u001B[0m in \u001B[0;36mraise_if\u001B[1;34m(condition, message, logger)\u001B[0m\n\u001B[0;32m    154\u001B[0m \u001B[1;33m\u001B[0m\u001B[0m\n\u001B[0;32m    155\u001B[0m     \"\"\"\n\u001B[1;32m--> 156\u001B[1;33m     \u001B[0mraise_if_not\u001B[0m\u001B[1;33m(\u001B[0m\u001B[1;32mnot\u001B[0m \u001B[0mcondition\u001B[0m\u001B[1;33m,\u001B[0m \u001B[0mmessage\u001B[0m\u001B[1;33m,\u001B[0m \u001B[0mlogger\u001B[0m\u001B[1;33m)\u001B[0m\u001B[1;33m\u001B[0m\u001B[1;33m\u001B[0m\u001B[0m\n\u001B[0m",
      "\u001B[1;32mF:\\ML_ENVS\\lib\\site-packages\\paddlets\\logger\\logger.py\u001B[0m in \u001B[0;36mraise_if_not\u001B[1;34m(condition, message, logger)\u001B[0m\n\u001B[0;32m    133\u001B[0m     \u001B[1;32mif\u001B[0m \u001B[1;32mnot\u001B[0m \u001B[0mcondition\u001B[0m\u001B[1;33m:\u001B[0m\u001B[1;33m\u001B[0m\u001B[1;33m\u001B[0m\u001B[0m\n\u001B[0;32m    134\u001B[0m         \u001B[0mlogger\u001B[0m\u001B[1;33m.\u001B[0m\u001B[0merror\u001B[0m\u001B[1;33m(\u001B[0m\u001B[1;34m\"ValueError: \"\u001B[0m \u001B[1;33m+\u001B[0m \u001B[0mmessage\u001B[0m\u001B[1;33m)\u001B[0m\u001B[1;33m\u001B[0m\u001B[1;33m\u001B[0m\u001B[0m\n\u001B[1;32m--> 135\u001B[1;33m         \u001B[1;32mraise\u001B[0m \u001B[0mValueError\u001B[0m\u001B[1;33m(\u001B[0m\u001B[0mmessage\u001B[0m\u001B[1;33m)\u001B[0m\u001B[1;33m\u001B[0m\u001B[1;33m\u001B[0m\u001B[0m\n\u001B[0m\u001B[0;32m    136\u001B[0m \u001B[1;33m\u001B[0m\u001B[0m\n\u001B[0;32m    137\u001B[0m \u001B[1;33m\u001B[0m\u001B[0m\n",
      "\u001B[1;31mValueError\u001B[0m: Failed to save model, target file already exists: E:\\打工\\竞赛\\江苏大数据开发与应用大赛-智能制造赛道\\复赛\\model"
     ]
    }
   ],
   "source": [
    "# save the model for multiple times.\n",
    "# lstm.save(\"model\")\n",
    "from paddlets.models.model_loader import load\n",
    "# loaded_lstm = load(\"lstm\")"
   ],
   "metadata": {
    "collapsed": false,
    "pycharm": {
     "name": "#%%\n"
    }
   }
  },
  {
   "cell_type": "code",
   "execution_count": 12,
   "outputs": [
    {
     "name": "stderr",
     "output_type": "stream",
     "text": [
      "[2022-11-23 14:10:42,558] [paddlets.models.utils] [WARNING] Input `CO含量` contains np.inf or np.NaN, which may lead to unexpected results from the model.\n",
      "[2022-11-23 14:10:42,563] [paddlets.models.utils] [WARNING] Input `HCL含量` contains np.inf or np.NaN, which may lead to unexpected results from the model.\n",
      "[2022-11-23 14:10:42,563] [paddlets.models.utils] [WARNING] Input `NOx含量` contains np.inf or np.NaN, which may lead to unexpected results from the model.\n",
      "[2022-11-23 14:10:42,564] [paddlets.models.utils] [WARNING] Input `SO2含量` contains np.inf or np.NaN, which may lead to unexpected results from the model.\n",
      "[2022-11-23 14:10:42,564] [paddlets.models.utils] [WARNING] Input `二次风调门` contains np.inf or np.NaN, which may lead to unexpected results from the model.\n",
      "[2022-11-23 14:10:42,565] [paddlets.models.utils] [WARNING] Input `二次风量` contains np.inf or np.NaN, which may lead to unexpected results from the model.\n"
     ]
    }
   ],
   "source": [
    "# pred_test = lstm.predict(test_dataset_scaled)\n",
    "# pred_test = lstm.recursive_predict(test_dataset_scaled, predict_length=1800)\n",
    "# scaler.inverse_transform(val_dataset_scaled)['推料器自动指令']\n",
    "# 利用训练集往后预测1800条\n",
    "pred_test = lstm.recursive_predict(val_dataset_scaled, predict_length=1800)"
   ],
   "metadata": {
    "collapsed": false,
    "pycharm": {
     "name": "#%%\n"
    }
   }
  },
  {
   "cell_type": "code",
   "execution_count": 13,
   "outputs": [
    {
     "data": {
      "text/plain": "                       推料器自动指令\n2021-12-23 15:13:08  53.718010\n2021-12-23 15:13:09  54.384480\n2021-12-23 15:13:10  54.497398\n2021-12-23 15:13:11  54.268726\n2021-12-23 15:13:12  54.112034\n...                        ...\n2021-12-23 15:43:03  61.322609\n2021-12-23 15:43:04  61.055836\n2021-12-23 15:43:05  60.830479\n2021-12-23 15:43:06  61.615883\n2021-12-23 15:43:07  60.910683\n\n[1800 rows x 1 columns]"
     },
     "execution_count": 13,
     "metadata": {},
     "output_type": "execute_result"
    }
   ],
   "source": [
    "pred_test = scaler.inverse_transform(pred_test)\n",
    "pred_test"
   ],
   "metadata": {
    "collapsed": false,
    "pycharm": {
     "name": "#%%\n"
    }
   }
  },
  {
   "cell_type": "code",
   "execution_count": 14,
   "outputs": [
    {
     "data": {
      "text/plain": "                       推料器自动指令\n2021-12-23 15:13:08  53.718010\n2021-12-23 15:13:09  54.384480\n2021-12-23 15:13:10  54.497398\n2021-12-23 15:13:11  54.268726\n2021-12-23 15:13:12  54.112034\n...                        ...\n2021-12-23 15:43:03  61.322609\n2021-12-23 15:43:04  61.055836\n2021-12-23 15:43:05  60.830479\n2021-12-23 15:43:06  61.615883\n2021-12-23 15:43:07  60.910683\n\n[1800 rows x 1 columns]",
      "text/html": "<div>\n<style scoped>\n    .dataframe tbody tr th:only-of-type {\n        vertical-align: middle;\n    }\n\n    .dataframe tbody tr th {\n        vertical-align: top;\n    }\n\n    .dataframe thead th {\n        text-align: right;\n    }\n</style>\n<table border=\"1\" class=\"dataframe\">\n  <thead>\n    <tr style=\"text-align: right;\">\n      <th></th>\n      <th>推料器自动指令</th>\n    </tr>\n  </thead>\n  <tbody>\n    <tr>\n      <th>2021-12-23 15:13:08</th>\n      <td>53.718010</td>\n    </tr>\n    <tr>\n      <th>2021-12-23 15:13:09</th>\n      <td>54.384480</td>\n    </tr>\n    <tr>\n      <th>2021-12-23 15:13:10</th>\n      <td>54.497398</td>\n    </tr>\n    <tr>\n      <th>2021-12-23 15:13:11</th>\n      <td>54.268726</td>\n    </tr>\n    <tr>\n      <th>2021-12-23 15:13:12</th>\n      <td>54.112034</td>\n    </tr>\n    <tr>\n      <th>...</th>\n      <td>...</td>\n    </tr>\n    <tr>\n      <th>2021-12-23 15:43:03</th>\n      <td>61.322609</td>\n    </tr>\n    <tr>\n      <th>2021-12-23 15:43:04</th>\n      <td>61.055836</td>\n    </tr>\n    <tr>\n      <th>2021-12-23 15:43:05</th>\n      <td>60.830479</td>\n    </tr>\n    <tr>\n      <th>2021-12-23 15:43:06</th>\n      <td>61.615883</td>\n    </tr>\n    <tr>\n      <th>2021-12-23 15:43:07</th>\n      <td>60.910683</td>\n    </tr>\n  </tbody>\n</table>\n<p>1800 rows × 1 columns</p>\n</div>"
     },
     "execution_count": 14,
     "metadata": {},
     "output_type": "execute_result"
    }
   ],
   "source": [
    "pred_test = pred_test.to_dataframe()\n",
    "pred_test"
   ],
   "metadata": {
    "collapsed": false,
    "pycharm": {
     "name": "#%%\n"
    }
   }
  },
  {
   "cell_type": "code",
   "execution_count": 15,
   "outputs": [],
   "source": [
    "sub = pd.DataFrame()\n",
    "sub['ID'] = list(range(1,1801))\n",
    "sub['Time'] = test_df['时间']\n",
    "sub['Aps'] = test_df['推料器启停'].astype(bool)\n",
    "sub['Ai'] = pred_test['推料器自动指令'].values\n",
    "\n",
    "sub.to_csv('./lstm.csv', index=False)"
   ],
   "metadata": {
    "collapsed": false,
    "pycharm": {
     "name": "#%%\n"
    }
   }
  },
  {
   "cell_type": "code",
   "execution_count": null,
   "outputs": [],
   "source": [
    "# val_np = val_dataset_scaled.to_numpy()\n",
    "# val_pd = pd.DataFrame(val_np)\n",
    "# val_pd.columns = ['推料器自动指令','CO含量', 'HCL含量', 'NOx含量', 'SO2含量','二次风调门', '二次风量']\n",
    "# val_pd['时间'] = train_df['时间'][-len(val_pd):].values\n",
    "# val_pd.info()\n",
    "#\n",
    "# val_pd.head(5)"
   ],
   "metadata": {
    "collapsed": false,
    "pycharm": {
     "name": "#%%\n"
    }
   }
  },
  {
   "cell_type": "code",
   "execution_count": 48,
   "outputs": [
    {
     "name": "stdout",
     "output_type": "stream",
     "text": [
      "<class 'pandas.core.frame.DataFrame'>\n",
      "RangeIndex: 1800 entries, 0 to 1799\n",
      "Data columns (total 7 columns):\n",
      " #   Column  Non-Null Count  Dtype  \n",
      "---  ------  --------------  -----  \n",
      " 0   CO含量    1800 non-null   float64\n",
      " 1   HCL含量   1800 non-null   float64\n",
      " 2   NOx含量   1800 non-null   float64\n",
      " 3   SO2含量   1800 non-null   float64\n",
      " 4   二次风调门   1800 non-null   float64\n",
      " 5   二次风量    1800 non-null   float64\n",
      " 6   时间      1800 non-null   object \n",
      "dtypes: float64(6), object(1)\n",
      "memory usage: 98.6+ KB\n"
     ]
    },
    {
     "data": {
      "text/plain": "       CO含量     HCL含量     NOx含量     SO2含量     二次风调门      二次风量  \\\n0  0.418963  1.255305 -1.158377 -0.248295 -0.350331 -0.221616   \n1  0.416627  1.263673 -1.158377 -0.249517 -0.349849 -0.249391   \n2  0.417019  1.267827 -1.151519 -0.253188 -0.351909 -0.249391   \n3  0.419349  1.246936 -1.143519 -0.250744 -0.350698 -0.288766   \n4  0.429466  1.326374 -1.143519 -0.259308 -0.351547 -0.288766   \n\n                    时间  \n0  2021-12-23 15:13:20  \n1  2021-12-23 15:13:21  \n2  2021-12-23 15:13:22  \n3  2021-12-23 15:13:23  \n4  2021-12-23 15:13:24  ",
      "text/html": "<div>\n<style scoped>\n    .dataframe tbody tr th:only-of-type {\n        vertical-align: middle;\n    }\n\n    .dataframe tbody tr th {\n        vertical-align: top;\n    }\n\n    .dataframe thead th {\n        text-align: right;\n    }\n</style>\n<table border=\"1\" class=\"dataframe\">\n  <thead>\n    <tr style=\"text-align: right;\">\n      <th></th>\n      <th>CO含量</th>\n      <th>HCL含量</th>\n      <th>NOx含量</th>\n      <th>SO2含量</th>\n      <th>二次风调门</th>\n      <th>二次风量</th>\n      <th>时间</th>\n    </tr>\n  </thead>\n  <tbody>\n    <tr>\n      <th>0</th>\n      <td>0.418963</td>\n      <td>1.255305</td>\n      <td>-1.158377</td>\n      <td>-0.248295</td>\n      <td>-0.350331</td>\n      <td>-0.221616</td>\n      <td>2021-12-23 15:13:20</td>\n    </tr>\n    <tr>\n      <th>1</th>\n      <td>0.416627</td>\n      <td>1.263673</td>\n      <td>-1.158377</td>\n      <td>-0.249517</td>\n      <td>-0.349849</td>\n      <td>-0.249391</td>\n      <td>2021-12-23 15:13:21</td>\n    </tr>\n    <tr>\n      <th>2</th>\n      <td>0.417019</td>\n      <td>1.267827</td>\n      <td>-1.151519</td>\n      <td>-0.253188</td>\n      <td>-0.351909</td>\n      <td>-0.249391</td>\n      <td>2021-12-23 15:13:22</td>\n    </tr>\n    <tr>\n      <th>3</th>\n      <td>0.419349</td>\n      <td>1.246936</td>\n      <td>-1.143519</td>\n      <td>-0.250744</td>\n      <td>-0.350698</td>\n      <td>-0.288766</td>\n      <td>2021-12-23 15:13:23</td>\n    </tr>\n    <tr>\n      <th>4</th>\n      <td>0.429466</td>\n      <td>1.326374</td>\n      <td>-1.143519</td>\n      <td>-0.259308</td>\n      <td>-0.351547</td>\n      <td>-0.288766</td>\n      <td>2021-12-23 15:13:24</td>\n    </tr>\n  </tbody>\n</table>\n</div>"
     },
     "execution_count": 48,
     "metadata": {},
     "output_type": "execute_result"
    }
   ],
   "source": [
    "# test_np = test_dataset_scaled.to_numpy()\n",
    "# test_pd = pd.DataFrame(test_np)\n",
    "# test_pd.columns = ['CO含量', 'HCL含量', 'NOx含量', 'SO2含量','二次风调门', '二次风量']\n",
    "# test_pd['时间'] = test_df['时间']\n",
    "# test_pd.info()\n",
    "#\n",
    "# test_pd.head(5)"
   ],
   "metadata": {
    "collapsed": false,
    "pycharm": {
     "name": "#%%\n"
    }
   }
  },
  {
   "cell_type": "code",
   "execution_count": 49,
   "outputs": [
    {
     "name": "stdout",
     "output_type": "stream",
     "text": [
      "<class 'pandas.core.frame.DataFrame'>\n",
      "Int64Index: 44157 entries, 0 to 1799\n",
      "Data columns (total 8 columns):\n",
      " #   Column   Non-Null Count  Dtype  \n",
      "---  ------   --------------  -----  \n",
      " 0   推料器自动指令  42357 non-null  float32\n",
      " 1   CO含量     44157 non-null  float64\n",
      " 2   HCL含量    44157 non-null  float64\n",
      " 3   NOx含量    44157 non-null  float64\n",
      " 4   SO2含量    44157 non-null  float64\n",
      " 5   二次风调门    44157 non-null  float64\n",
      " 6   二次风量     44157 non-null  float64\n",
      " 7   时间       44157 non-null  object \n",
      "dtypes: float32(1), float64(6), object(1)\n",
      "memory usage: 2.9+ MB\n"
     ]
    },
    {
     "data": {
      "text/plain": "      推料器自动指令      CO含量     HCL含量     NOx含量     SO2含量     二次风调门      二次风量  \\\n1795      NaN -0.170016  0.052626 -0.321619 -0.322936 -0.327873 -0.221616   \n1796      NaN -0.172352  0.056810 -0.329619 -0.324569 -0.327873 -0.195115   \n1797      NaN -0.169630  0.060994 -0.319335 -0.325386 -0.328240 -0.221616   \n1798      NaN -0.175853  0.065178 -0.322761 -0.327835 -0.328963 -0.221616   \n1799      NaN -0.092603  0.154369 -0.283896 -0.343329 -0.329089 -0.195115   \n\n                       时间  \n1795  2021-12-23 15:43:15  \n1796  2021-12-23 15:43:16  \n1797  2021-12-23 15:43:17  \n1798  2021-12-23 15:43:18  \n1799  2021-12-23 15:43:19  ",
      "text/html": "<div>\n<style scoped>\n    .dataframe tbody tr th:only-of-type {\n        vertical-align: middle;\n    }\n\n    .dataframe tbody tr th {\n        vertical-align: top;\n    }\n\n    .dataframe thead th {\n        text-align: right;\n    }\n</style>\n<table border=\"1\" class=\"dataframe\">\n  <thead>\n    <tr style=\"text-align: right;\">\n      <th></th>\n      <th>推料器自动指令</th>\n      <th>CO含量</th>\n      <th>HCL含量</th>\n      <th>NOx含量</th>\n      <th>SO2含量</th>\n      <th>二次风调门</th>\n      <th>二次风量</th>\n      <th>时间</th>\n    </tr>\n  </thead>\n  <tbody>\n    <tr>\n      <th>1795</th>\n      <td>NaN</td>\n      <td>-0.170016</td>\n      <td>0.052626</td>\n      <td>-0.321619</td>\n      <td>-0.322936</td>\n      <td>-0.327873</td>\n      <td>-0.221616</td>\n      <td>2021-12-23 15:43:15</td>\n    </tr>\n    <tr>\n      <th>1796</th>\n      <td>NaN</td>\n      <td>-0.172352</td>\n      <td>0.056810</td>\n      <td>-0.329619</td>\n      <td>-0.324569</td>\n      <td>-0.327873</td>\n      <td>-0.195115</td>\n      <td>2021-12-23 15:43:16</td>\n    </tr>\n    <tr>\n      <th>1797</th>\n      <td>NaN</td>\n      <td>-0.169630</td>\n      <td>0.060994</td>\n      <td>-0.319335</td>\n      <td>-0.325386</td>\n      <td>-0.328240</td>\n      <td>-0.221616</td>\n      <td>2021-12-23 15:43:17</td>\n    </tr>\n    <tr>\n      <th>1798</th>\n      <td>NaN</td>\n      <td>-0.175853</td>\n      <td>0.065178</td>\n      <td>-0.322761</td>\n      <td>-0.327835</td>\n      <td>-0.328963</td>\n      <td>-0.221616</td>\n      <td>2021-12-23 15:43:18</td>\n    </tr>\n    <tr>\n      <th>1799</th>\n      <td>NaN</td>\n      <td>-0.092603</td>\n      <td>0.154369</td>\n      <td>-0.283896</td>\n      <td>-0.343329</td>\n      <td>-0.329089</td>\n      <td>-0.195115</td>\n      <td>2021-12-23 15:43:19</td>\n    </tr>\n  </tbody>\n</table>\n</div>"
     },
     "execution_count": 49,
     "metadata": {},
     "output_type": "execute_result"
    }
   ],
   "source": [
    "# val_test_pd = pd.concat([val_pd, test_pd])\n",
    "# val_test_pd.info()\n",
    "# val_test_pd.tail(5)"
   ],
   "metadata": {
    "collapsed": false,
    "pycharm": {
     "name": "#%%\n"
    }
   }
  },
  {
   "cell_type": "code",
   "execution_count": 50,
   "outputs": [],
   "source": [
    "# val_test_dataset = TSDataset.load_from_dataframe(\n",
    "#     val_test_pd,\n",
    "#     time_col='时间',\n",
    "#     target_cols='推料器自动指令',\n",
    "#     observed_cov_cols=['CO含量', 'HCL含量', 'NOx含量', 'SO2含量','二次风调门', '二次风量'],\n",
    "#     freq='1s',\n",
    "#     fill_missing_dates=True,\n",
    "#     fillna_method='pre'\n",
    "# )"
   ],
   "metadata": {
    "collapsed": false,
    "pycharm": {
     "name": "#%%\n"
    }
   }
  },
  {
   "cell_type": "code",
   "execution_count": 156,
   "outputs": [
    {
     "name": "stderr",
     "output_type": "stream",
     "text": [
      "[2022-11-22 15:03:47,069] [paddlets.models.utils] [WARNING] Input `CO含量` contains np.inf or np.NaN, which may lead to unexpected results from the model.\n",
      "[2022-11-22 15:03:47,071] [paddlets.models.utils] [WARNING] Input `HCL含量` contains np.inf or np.NaN, which may lead to unexpected results from the model.\n",
      "[2022-11-22 15:03:47,071] [paddlets.models.utils] [WARNING] Input `NOx含量` contains np.inf or np.NaN, which may lead to unexpected results from the model.\n",
      "[2022-11-22 15:03:47,072] [paddlets.models.utils] [WARNING] Input `SO2含量` contains np.inf or np.NaN, which may lead to unexpected results from the model.\n",
      "[2022-11-22 15:03:47,073] [paddlets.models.utils] [WARNING] Input `二次风调门` contains np.inf or np.NaN, which may lead to unexpected results from the model.\n",
      "[2022-11-22 15:03:47,073] [paddlets.models.utils] [WARNING] Input `二次风量` contains np.inf or np.NaN, which may lead to unexpected results from the model.\n",
      "[2022-11-22 15:03:47,157] [paddlets.models.utils] [WARNING] Input `CO含量` contains np.inf or np.NaN, which may lead to unexpected results from the model.\n",
      "[2022-11-22 15:03:47,158] [paddlets.models.utils] [WARNING] Input `HCL含量` contains np.inf or np.NaN, which may lead to unexpected results from the model.\n",
      "[2022-11-22 15:03:47,159] [paddlets.models.utils] [WARNING] Input `NOx含量` contains np.inf or np.NaN, which may lead to unexpected results from the model.\n",
      "[2022-11-22 15:03:47,160] [paddlets.models.utils] [WARNING] Input `SO2含量` contains np.inf or np.NaN, which may lead to unexpected results from the model.\n",
      "[2022-11-22 15:03:47,160] [paddlets.models.utils] [WARNING] Input `二次风调门` contains np.inf or np.NaN, which may lead to unexpected results from the model.\n",
      "[2022-11-22 15:03:47,161] [paddlets.models.utils] [WARNING] Input `二次风量` contains np.inf or np.NaN, which may lead to unexpected results from the model.\n",
      "[2022-11-22 15:03:47,222] [paddlets.models.utils] [WARNING] Input `CO含量` contains np.inf or np.NaN, which may lead to unexpected results from the model.\n",
      "[2022-11-22 15:03:47,223] [paddlets.models.utils] [WARNING] Input `HCL含量` contains np.inf or np.NaN, which may lead to unexpected results from the model.\n",
      "[2022-11-22 15:03:47,223] [paddlets.models.utils] [WARNING] Input `NOx含量` contains np.inf or np.NaN, which may lead to unexpected results from the model.\n",
      "[2022-11-22 15:03:47,224] [paddlets.models.utils] [WARNING] Input `SO2含量` contains np.inf or np.NaN, which may lead to unexpected results from the model.\n",
      "[2022-11-22 15:03:47,224] [paddlets.models.utils] [WARNING] Input `二次风调门` contains np.inf or np.NaN, which may lead to unexpected results from the model.\n",
      "[2022-11-22 15:03:47,225] [paddlets.models.utils] [WARNING] Input `二次风量` contains np.inf or np.NaN, which may lead to unexpected results from the model.\n",
      "[2022-11-22 15:03:47,291] [paddlets.models.utils] [WARNING] Input `CO含量` contains np.inf or np.NaN, which may lead to unexpected results from the model.\n",
      "[2022-11-22 15:03:47,292] [paddlets.models.utils] [WARNING] Input `HCL含量` contains np.inf or np.NaN, which may lead to unexpected results from the model.\n",
      "[2022-11-22 15:03:47,293] [paddlets.models.utils] [WARNING] Input `NOx含量` contains np.inf or np.NaN, which may lead to unexpected results from the model.\n",
      "[2022-11-22 15:03:47,294] [paddlets.models.utils] [WARNING] Input `SO2含量` contains np.inf or np.NaN, which may lead to unexpected results from the model.\n",
      "[2022-11-22 15:03:47,294] [paddlets.models.utils] [WARNING] Input `二次风调门` contains np.inf or np.NaN, which may lead to unexpected results from the model.\n",
      "[2022-11-22 15:03:47,295] [paddlets.models.utils] [WARNING] Input `二次风量` contains np.inf or np.NaN, which may lead to unexpected results from the model.\n",
      "[2022-11-22 15:03:47,359] [paddlets.models.utils] [WARNING] Input `CO含量` contains np.inf or np.NaN, which may lead to unexpected results from the model.\n",
      "[2022-11-22 15:03:47,360] [paddlets.models.utils] [WARNING] Input `HCL含量` contains np.inf or np.NaN, which may lead to unexpected results from the model.\n",
      "[2022-11-22 15:03:47,360] [paddlets.models.utils] [WARNING] Input `NOx含量` contains np.inf or np.NaN, which may lead to unexpected results from the model.\n",
      "[2022-11-22 15:03:47,361] [paddlets.models.utils] [WARNING] Input `SO2含量` contains np.inf or np.NaN, which may lead to unexpected results from the model.\n",
      "[2022-11-22 15:03:47,361] [paddlets.models.utils] [WARNING] Input `二次风调门` contains np.inf or np.NaN, which may lead to unexpected results from the model.\n",
      "[2022-11-22 15:03:47,362] [paddlets.models.utils] [WARNING] Input `二次风量` contains np.inf or np.NaN, which may lead to unexpected results from the model.\n",
      "[2022-11-22 15:03:47,425] [paddlets.models.utils] [WARNING] Input `CO含量` contains np.inf or np.NaN, which may lead to unexpected results from the model.\n",
      "[2022-11-22 15:03:47,426] [paddlets.models.utils] [WARNING] Input `HCL含量` contains np.inf or np.NaN, which may lead to unexpected results from the model.\n",
      "[2022-11-22 15:03:47,427] [paddlets.models.utils] [WARNING] Input `NOx含量` contains np.inf or np.NaN, which may lead to unexpected results from the model.\n",
      "[2022-11-22 15:03:47,427] [paddlets.models.utils] [WARNING] Input `SO2含量` contains np.inf or np.NaN, which may lead to unexpected results from the model.\n",
      "[2022-11-22 15:03:47,428] [paddlets.models.utils] [WARNING] Input `二次风调门` contains np.inf or np.NaN, which may lead to unexpected results from the model.\n",
      "[2022-11-22 15:03:47,428] [paddlets.models.utils] [WARNING] Input `二次风量` contains np.inf or np.NaN, which may lead to unexpected results from the model.\n",
      "[2022-11-22 15:03:47,488] [paddlets.models.utils] [WARNING] Input `CO含量` contains np.inf or np.NaN, which may lead to unexpected results from the model.\n",
      "[2022-11-22 15:03:47,489] [paddlets.models.utils] [WARNING] Input `HCL含量` contains np.inf or np.NaN, which may lead to unexpected results from the model.\n",
      "[2022-11-22 15:03:47,490] [paddlets.models.utils] [WARNING] Input `NOx含量` contains np.inf or np.NaN, which may lead to unexpected results from the model.\n",
      "[2022-11-22 15:03:47,490] [paddlets.models.utils] [WARNING] Input `SO2含量` contains np.inf or np.NaN, which may lead to unexpected results from the model.\n",
      "[2022-11-22 15:03:47,490] [paddlets.models.utils] [WARNING] Input `二次风调门` contains np.inf or np.NaN, which may lead to unexpected results from the model.\n",
      "[2022-11-22 15:03:47,491] [paddlets.models.utils] [WARNING] Input `二次风量` contains np.inf or np.NaN, which may lead to unexpected results from the model.\n",
      "[2022-11-22 15:03:47,550] [paddlets.models.utils] [WARNING] Input `CO含量` contains np.inf or np.NaN, which may lead to unexpected results from the model.\n",
      "[2022-11-22 15:03:47,551] [paddlets.models.utils] [WARNING] Input `HCL含量` contains np.inf or np.NaN, which may lead to unexpected results from the model.\n",
      "[2022-11-22 15:03:47,552] [paddlets.models.utils] [WARNING] Input `NOx含量` contains np.inf or np.NaN, which may lead to unexpected results from the model.\n",
      "[2022-11-22 15:03:47,552] [paddlets.models.utils] [WARNING] Input `SO2含量` contains np.inf or np.NaN, which may lead to unexpected results from the model.\n",
      "[2022-11-22 15:03:47,553] [paddlets.models.utils] [WARNING] Input `二次风调门` contains np.inf or np.NaN, which may lead to unexpected results from the model.\n",
      "[2022-11-22 15:03:47,554] [paddlets.models.utils] [WARNING] Input `二次风量` contains np.inf or np.NaN, which may lead to unexpected results from the model.\n",
      "[2022-11-22 15:03:47,615] [paddlets.models.utils] [WARNING] Input `CO含量` contains np.inf or np.NaN, which may lead to unexpected results from the model.\n",
      "[2022-11-22 15:03:47,616] [paddlets.models.utils] [WARNING] Input `HCL含量` contains np.inf or np.NaN, which may lead to unexpected results from the model.\n",
      "[2022-11-22 15:03:47,617] [paddlets.models.utils] [WARNING] Input `NOx含量` contains np.inf or np.NaN, which may lead to unexpected results from the model.\n",
      "[2022-11-22 15:03:47,618] [paddlets.models.utils] [WARNING] Input `SO2含量` contains np.inf or np.NaN, which may lead to unexpected results from the model.\n",
      "[2022-11-22 15:03:47,618] [paddlets.models.utils] [WARNING] Input `二次风调门` contains np.inf or np.NaN, which may lead to unexpected results from the model.\n",
      "[2022-11-22 15:03:47,619] [paddlets.models.utils] [WARNING] Input `二次风量` contains np.inf or np.NaN, which may lead to unexpected results from the model.\n",
      "[2022-11-22 15:03:47,686] [paddlets.models.utils] [WARNING] Input `CO含量` contains np.inf or np.NaN, which may lead to unexpected results from the model.\n",
      "[2022-11-22 15:03:47,687] [paddlets.models.utils] [WARNING] Input `HCL含量` contains np.inf or np.NaN, which may lead to unexpected results from the model.\n",
      "[2022-11-22 15:03:47,687] [paddlets.models.utils] [WARNING] Input `NOx含量` contains np.inf or np.NaN, which may lead to unexpected results from the model.\n",
      "[2022-11-22 15:03:47,688] [paddlets.models.utils] [WARNING] Input `SO2含量` contains np.inf or np.NaN, which may lead to unexpected results from the model.\n",
      "[2022-11-22 15:03:47,688] [paddlets.models.utils] [WARNING] Input `二次风调门` contains np.inf or np.NaN, which may lead to unexpected results from the model.\n",
      "[2022-11-22 15:03:47,689] [paddlets.models.utils] [WARNING] Input `二次风量` contains np.inf or np.NaN, which may lead to unexpected results from the model.\n",
      "[2022-11-22 15:03:47,759] [paddlets.models.utils] [WARNING] Input `CO含量` contains np.inf or np.NaN, which may lead to unexpected results from the model.\n",
      "[2022-11-22 15:03:47,760] [paddlets.models.utils] [WARNING] Input `HCL含量` contains np.inf or np.NaN, which may lead to unexpected results from the model.\n",
      "[2022-11-22 15:03:47,761] [paddlets.models.utils] [WARNING] Input `NOx含量` contains np.inf or np.NaN, which may lead to unexpected results from the model.\n",
      "[2022-11-22 15:03:47,762] [paddlets.models.utils] [WARNING] Input `SO2含量` contains np.inf or np.NaN, which may lead to unexpected results from the model.\n",
      "[2022-11-22 15:03:47,762] [paddlets.models.utils] [WARNING] Input `二次风调门` contains np.inf or np.NaN, which may lead to unexpected results from the model.\n",
      "[2022-11-22 15:03:47,763] [paddlets.models.utils] [WARNING] Input `二次风量` contains np.inf or np.NaN, which may lead to unexpected results from the model.\n",
      "[2022-11-22 15:03:47,823] [paddlets.models.utils] [WARNING] Input `CO含量` contains np.inf or np.NaN, which may lead to unexpected results from the model.\n",
      "[2022-11-22 15:03:47,824] [paddlets.models.utils] [WARNING] Input `HCL含量` contains np.inf or np.NaN, which may lead to unexpected results from the model.\n",
      "[2022-11-22 15:03:47,824] [paddlets.models.utils] [WARNING] Input `NOx含量` contains np.inf or np.NaN, which may lead to unexpected results from the model.\n",
      "[2022-11-22 15:03:47,825] [paddlets.models.utils] [WARNING] Input `SO2含量` contains np.inf or np.NaN, which may lead to unexpected results from the model.\n",
      "[2022-11-22 15:03:47,825] [paddlets.models.utils] [WARNING] Input `二次风调门` contains np.inf or np.NaN, which may lead to unexpected results from the model.\n",
      "[2022-11-22 15:03:47,825] [paddlets.models.utils] [WARNING] Input `二次风量` contains np.inf or np.NaN, which may lead to unexpected results from the model.\n",
      "[2022-11-22 15:03:47,886] [paddlets.models.utils] [WARNING] Input `CO含量` contains np.inf or np.NaN, which may lead to unexpected results from the model.\n",
      "[2022-11-22 15:03:47,887] [paddlets.models.utils] [WARNING] Input `HCL含量` contains np.inf or np.NaN, which may lead to unexpected results from the model.\n",
      "[2022-11-22 15:03:47,888] [paddlets.models.utils] [WARNING] Input `NOx含量` contains np.inf or np.NaN, which may lead to unexpected results from the model.\n",
      "[2022-11-22 15:03:47,888] [paddlets.models.utils] [WARNING] Input `SO2含量` contains np.inf or np.NaN, which may lead to unexpected results from the model.\n",
      "[2022-11-22 15:03:47,889] [paddlets.models.utils] [WARNING] Input `二次风调门` contains np.inf or np.NaN, which may lead to unexpected results from the model.\n",
      "[2022-11-22 15:03:47,889] [paddlets.models.utils] [WARNING] Input `二次风量` contains np.inf or np.NaN, which may lead to unexpected results from the model.\n",
      "[2022-11-22 15:03:47,951] [paddlets.models.utils] [WARNING] Input `CO含量` contains np.inf or np.NaN, which may lead to unexpected results from the model.\n",
      "[2022-11-22 15:03:47,952] [paddlets.models.utils] [WARNING] Input `HCL含量` contains np.inf or np.NaN, which may lead to unexpected results from the model.\n",
      "[2022-11-22 15:03:47,953] [paddlets.models.utils] [WARNING] Input `NOx含量` contains np.inf or np.NaN, which may lead to unexpected results from the model.\n",
      "[2022-11-22 15:03:47,953] [paddlets.models.utils] [WARNING] Input `SO2含量` contains np.inf or np.NaN, which may lead to unexpected results from the model.\n",
      "[2022-11-22 15:03:47,954] [paddlets.models.utils] [WARNING] Input `二次风调门` contains np.inf or np.NaN, which may lead to unexpected results from the model.\n",
      "[2022-11-22 15:03:47,954] [paddlets.models.utils] [WARNING] Input `二次风量` contains np.inf or np.NaN, which may lead to unexpected results from the model.\n",
      "[2022-11-22 15:03:48,031] [paddlets.models.utils] [WARNING] Input `CO含量` contains np.inf or np.NaN, which may lead to unexpected results from the model.\n",
      "[2022-11-22 15:03:48,033] [paddlets.models.utils] [WARNING] Input `HCL含量` contains np.inf or np.NaN, which may lead to unexpected results from the model.\n",
      "[2022-11-22 15:03:48,036] [paddlets.models.utils] [WARNING] Input `NOx含量` contains np.inf or np.NaN, which may lead to unexpected results from the model.\n",
      "[2022-11-22 15:03:48,037] [paddlets.models.utils] [WARNING] Input `SO2含量` contains np.inf or np.NaN, which may lead to unexpected results from the model.\n",
      "[2022-11-22 15:03:48,038] [paddlets.models.utils] [WARNING] Input `二次风调门` contains np.inf or np.NaN, which may lead to unexpected results from the model.\n",
      "[2022-11-22 15:03:48,038] [paddlets.models.utils] [WARNING] Input `二次风量` contains np.inf or np.NaN, which may lead to unexpected results from the model.\n",
      "[2022-11-22 15:03:48,100] [paddlets.models.utils] [WARNING] Input `CO含量` contains np.inf or np.NaN, which may lead to unexpected results from the model.\n",
      "[2022-11-22 15:03:48,101] [paddlets.models.utils] [WARNING] Input `HCL含量` contains np.inf or np.NaN, which may lead to unexpected results from the model.\n",
      "[2022-11-22 15:03:48,102] [paddlets.models.utils] [WARNING] Input `NOx含量` contains np.inf or np.NaN, which may lead to unexpected results from the model.\n",
      "[2022-11-22 15:03:48,102] [paddlets.models.utils] [WARNING] Input `SO2含量` contains np.inf or np.NaN, which may lead to unexpected results from the model.\n",
      "[2022-11-22 15:03:48,103] [paddlets.models.utils] [WARNING] Input `二次风调门` contains np.inf or np.NaN, which may lead to unexpected results from the model.\n",
      "[2022-11-22 15:03:48,103] [paddlets.models.utils] [WARNING] Input `二次风量` contains np.inf or np.NaN, which may lead to unexpected results from the model.\n",
      "[2022-11-22 15:03:48,166] [paddlets.models.utils] [WARNING] Input `CO含量` contains np.inf or np.NaN, which may lead to unexpected results from the model.\n",
      "[2022-11-22 15:03:48,166] [paddlets.models.utils] [WARNING] Input `HCL含量` contains np.inf or np.NaN, which may lead to unexpected results from the model.\n",
      "[2022-11-22 15:03:48,167] [paddlets.models.utils] [WARNING] Input `NOx含量` contains np.inf or np.NaN, which may lead to unexpected results from the model.\n",
      "[2022-11-22 15:03:48,168] [paddlets.models.utils] [WARNING] Input `SO2含量` contains np.inf or np.NaN, which may lead to unexpected results from the model.\n",
      "[2022-11-22 15:03:48,168] [paddlets.models.utils] [WARNING] Input `二次风调门` contains np.inf or np.NaN, which may lead to unexpected results from the model.\n",
      "[2022-11-22 15:03:48,168] [paddlets.models.utils] [WARNING] Input `二次风量` contains np.inf or np.NaN, which may lead to unexpected results from the model.\n",
      "[2022-11-22 15:03:48,228] [paddlets.models.utils] [WARNING] Input `CO含量` contains np.inf or np.NaN, which may lead to unexpected results from the model.\n",
      "[2022-11-22 15:03:48,229] [paddlets.models.utils] [WARNING] Input `HCL含量` contains np.inf or np.NaN, which may lead to unexpected results from the model.\n",
      "[2022-11-22 15:03:48,229] [paddlets.models.utils] [WARNING] Input `NOx含量` contains np.inf or np.NaN, which may lead to unexpected results from the model.\n",
      "[2022-11-22 15:03:48,230] [paddlets.models.utils] [WARNING] Input `SO2含量` contains np.inf or np.NaN, which may lead to unexpected results from the model.\n",
      "[2022-11-22 15:03:48,230] [paddlets.models.utils] [WARNING] Input `二次风调门` contains np.inf or np.NaN, which may lead to unexpected results from the model.\n",
      "[2022-11-22 15:03:48,230] [paddlets.models.utils] [WARNING] Input `二次风量` contains np.inf or np.NaN, which may lead to unexpected results from the model.\n",
      "[2022-11-22 15:03:48,297] [paddlets.models.utils] [WARNING] Input `CO含量` contains np.inf or np.NaN, which may lead to unexpected results from the model.\n",
      "[2022-11-22 15:03:48,298] [paddlets.models.utils] [WARNING] Input `HCL含量` contains np.inf or np.NaN, which may lead to unexpected results from the model.\n",
      "[2022-11-22 15:03:48,298] [paddlets.models.utils] [WARNING] Input `NOx含量` contains np.inf or np.NaN, which may lead to unexpected results from the model.\n",
      "[2022-11-22 15:03:48,299] [paddlets.models.utils] [WARNING] Input `SO2含量` contains np.inf or np.NaN, which may lead to unexpected results from the model.\n",
      "[2022-11-22 15:03:48,299] [paddlets.models.utils] [WARNING] Input `二次风调门` contains np.inf or np.NaN, which may lead to unexpected results from the model.\n",
      "[2022-11-22 15:03:48,299] [paddlets.models.utils] [WARNING] Input `二次风量` contains np.inf or np.NaN, which may lead to unexpected results from the model.\n",
      "[2022-11-22 15:03:48,367] [paddlets.models.utils] [WARNING] Input `CO含量` contains np.inf or np.NaN, which may lead to unexpected results from the model.\n",
      "[2022-11-22 15:03:48,367] [paddlets.models.utils] [WARNING] Input `HCL含量` contains np.inf or np.NaN, which may lead to unexpected results from the model.\n",
      "[2022-11-22 15:03:48,368] [paddlets.models.utils] [WARNING] Input `NOx含量` contains np.inf or np.NaN, which may lead to unexpected results from the model.\n",
      "[2022-11-22 15:03:48,369] [paddlets.models.utils] [WARNING] Input `SO2含量` contains np.inf or np.NaN, which may lead to unexpected results from the model.\n",
      "[2022-11-22 15:03:48,369] [paddlets.models.utils] [WARNING] Input `二次风调门` contains np.inf or np.NaN, which may lead to unexpected results from the model.\n",
      "[2022-11-22 15:03:48,370] [paddlets.models.utils] [WARNING] Input `二次风量` contains np.inf or np.NaN, which may lead to unexpected results from the model.\n",
      "[2022-11-22 15:03:48,434] [paddlets.models.utils] [WARNING] Input `CO含量` contains np.inf or np.NaN, which may lead to unexpected results from the model.\n",
      "[2022-11-22 15:03:48,435] [paddlets.models.utils] [WARNING] Input `HCL含量` contains np.inf or np.NaN, which may lead to unexpected results from the model.\n",
      "[2022-11-22 15:03:48,436] [paddlets.models.utils] [WARNING] Input `NOx含量` contains np.inf or np.NaN, which may lead to unexpected results from the model.\n",
      "[2022-11-22 15:03:48,437] [paddlets.models.utils] [WARNING] Input `SO2含量` contains np.inf or np.NaN, which may lead to unexpected results from the model.\n",
      "[2022-11-22 15:03:48,437] [paddlets.models.utils] [WARNING] Input `二次风调门` contains np.inf or np.NaN, which may lead to unexpected results from the model.\n",
      "[2022-11-22 15:03:48,438] [paddlets.models.utils] [WARNING] Input `二次风量` contains np.inf or np.NaN, which may lead to unexpected results from the model.\n",
      "[2022-11-22 15:03:48,499] [paddlets.models.utils] [WARNING] Input `CO含量` contains np.inf or np.NaN, which may lead to unexpected results from the model.\n",
      "[2022-11-22 15:03:48,500] [paddlets.models.utils] [WARNING] Input `HCL含量` contains np.inf or np.NaN, which may lead to unexpected results from the model.\n",
      "[2022-11-22 15:03:48,500] [paddlets.models.utils] [WARNING] Input `NOx含量` contains np.inf or np.NaN, which may lead to unexpected results from the model.\n",
      "[2022-11-22 15:03:48,501] [paddlets.models.utils] [WARNING] Input `SO2含量` contains np.inf or np.NaN, which may lead to unexpected results from the model.\n",
      "[2022-11-22 15:03:48,502] [paddlets.models.utils] [WARNING] Input `二次风调门` contains np.inf or np.NaN, which may lead to unexpected results from the model.\n",
      "[2022-11-22 15:03:48,502] [paddlets.models.utils] [WARNING] Input `二次风量` contains np.inf or np.NaN, which may lead to unexpected results from the model.\n",
      "[2022-11-22 15:03:48,563] [paddlets.models.utils] [WARNING] Input `CO含量` contains np.inf or np.NaN, which may lead to unexpected results from the model.\n",
      "[2022-11-22 15:03:48,563] [paddlets.models.utils] [WARNING] Input `HCL含量` contains np.inf or np.NaN, which may lead to unexpected results from the model.\n",
      "[2022-11-22 15:03:48,564] [paddlets.models.utils] [WARNING] Input `NOx含量` contains np.inf or np.NaN, which may lead to unexpected results from the model.\n",
      "[2022-11-22 15:03:48,564] [paddlets.models.utils] [WARNING] Input `SO2含量` contains np.inf or np.NaN, which may lead to unexpected results from the model.\n",
      "[2022-11-22 15:03:48,565] [paddlets.models.utils] [WARNING] Input `二次风调门` contains np.inf or np.NaN, which may lead to unexpected results from the model.\n",
      "[2022-11-22 15:03:48,566] [paddlets.models.utils] [WARNING] Input `二次风量` contains np.inf or np.NaN, which may lead to unexpected results from the model.\n",
      "[2022-11-22 15:03:48,625] [paddlets.models.utils] [WARNING] Input `CO含量` contains np.inf or np.NaN, which may lead to unexpected results from the model.\n",
      "[2022-11-22 15:03:48,626] [paddlets.models.utils] [WARNING] Input `HCL含量` contains np.inf or np.NaN, which may lead to unexpected results from the model.\n",
      "[2022-11-22 15:03:48,626] [paddlets.models.utils] [WARNING] Input `NOx含量` contains np.inf or np.NaN, which may lead to unexpected results from the model.\n",
      "[2022-11-22 15:03:48,627] [paddlets.models.utils] [WARNING] Input `SO2含量` contains np.inf or np.NaN, which may lead to unexpected results from the model.\n",
      "[2022-11-22 15:03:48,627] [paddlets.models.utils] [WARNING] Input `二次风调门` contains np.inf or np.NaN, which may lead to unexpected results from the model.\n",
      "[2022-11-22 15:03:48,628] [paddlets.models.utils] [WARNING] Input `二次风量` contains np.inf or np.NaN, which may lead to unexpected results from the model.\n",
      "[2022-11-22 15:03:48,696] [paddlets.models.utils] [WARNING] Input `CO含量` contains np.inf or np.NaN, which may lead to unexpected results from the model.\n",
      "[2022-11-22 15:03:48,697] [paddlets.models.utils] [WARNING] Input `HCL含量` contains np.inf or np.NaN, which may lead to unexpected results from the model.\n",
      "[2022-11-22 15:03:48,698] [paddlets.models.utils] [WARNING] Input `NOx含量` contains np.inf or np.NaN, which may lead to unexpected results from the model.\n",
      "[2022-11-22 15:03:48,698] [paddlets.models.utils] [WARNING] Input `SO2含量` contains np.inf or np.NaN, which may lead to unexpected results from the model.\n",
      "[2022-11-22 15:03:48,699] [paddlets.models.utils] [WARNING] Input `二次风调门` contains np.inf or np.NaN, which may lead to unexpected results from the model.\n",
      "[2022-11-22 15:03:48,699] [paddlets.models.utils] [WARNING] Input `二次风量` contains np.inf or np.NaN, which may lead to unexpected results from the model.\n"
     ]
    }
   ],
   "source": [
    "# pred_test = lstm.recursive_predict(val_test_dataset, predict_length=44157)"
   ],
   "metadata": {
    "collapsed": false,
    "pycharm": {
     "name": "#%%\n"
    }
   }
  },
  {
   "cell_type": "code",
   "execution_count": 148,
   "outputs": [],
   "source": [
    "# pred_test = scaler.inverse_transform(pred_test)"
   ],
   "metadata": {
    "collapsed": false,
    "pycharm": {
     "name": "#%%\n"
    }
   }
  },
  {
   "cell_type": "code",
   "execution_count": 149,
   "outputs": [
    {
     "name": "stdout",
     "output_type": "stream",
     "text": [
      "44157\n"
     ]
    }
   ],
   "source": [
    "# pred_test = pred_test.to_numpy().reshape((-1,)).tolist()\n",
    "# print(len(pred_test))"
   ],
   "metadata": {
    "collapsed": false,
    "pycharm": {
     "name": "#%%\n"
    }
   }
  },
  {
   "cell_type": "code",
   "execution_count": 150,
   "outputs": [],
   "source": [
    "# pred_test = pred_test[-1800:]"
   ],
   "metadata": {
    "collapsed": false,
    "pycharm": {
     "name": "#%%\n"
    }
   }
  },
  {
   "cell_type": "code",
   "execution_count": 151,
   "outputs": [
    {
     "name": "stdout",
     "output_type": "stream",
     "text": [
      "1800\n"
     ]
    }
   ],
   "source": [
    "# print(len(pred_test))"
   ],
   "metadata": {
    "collapsed": false,
    "pycharm": {
     "name": "#%%\n"
    }
   }
  },
  {
   "cell_type": "code",
   "execution_count": 152,
   "outputs": [
    {
     "data": {
      "text/plain": "[75.19662475585938,\n 75.356689453125,\n 75.31344604492188,\n 75.36109924316406,\n 75.36593627929688,\n 75.15899658203125,\n 75.2154312133789,\n 75.11009216308594,\n 75.01980590820312,\n 75.20703125,\n 75.18190002441406,\n 75.58802032470703,\n 75.8727798461914,\n 75.67240905761719,\n 75.53047943115234,\n 75.6817855834961,\n 75.46343994140625,\n 76.09027099609375,\n 75.79389953613281,\n 76.10359954833984,\n 75.83394622802734,\n 76.05439758300781,\n 76.2610092163086,\n 76.38572692871094,\n 75.78016662597656,\n 76.06388854980469,\n 76.10713195800781,\n 76.0942153930664,\n 76.04679870605469,\n 75.76520538330078,\n 75.83578491210938,\n 76.15200805664062,\n 75.92876434326172,\n 75.81303405761719,\n 75.59272003173828,\n 75.6584701538086,\n 75.75543212890625,\n 75.89460754394531,\n 76.06883239746094,\n 75.67975616455078,\n 75.65542602539062,\n 75.5116195678711,\n 75.6042251586914,\n 76.04434204101562,\n 75.76444244384766,\n 76.28569793701172,\n 76.1117935180664,\n 75.74425506591797,\n 76.24858093261719,\n 75.91956329345703,\n 75.99730682373047,\n 75.95083618164062,\n 75.71916198730469,\n 75.85093688964844,\n 76.07162475585938,\n 75.98838806152344,\n 76.1056137084961,\n 75.8260269165039,\n 76.14373016357422,\n 75.84236907958984,\n 76.04268646240234,\n 75.92764282226562,\n 76.08480072021484,\n 76.35064697265625,\n 76.09479522705078,\n 75.95465087890625,\n 75.9789810180664,\n 76.42896270751953,\n 76.48825073242188,\n 76.32588958740234,\n 76.08177947998047,\n 76.06692504882812,\n 76.26383972167969,\n 76.02543640136719,\n 76.3182373046875,\n 76.14437866210938,\n 76.34627532958984,\n 75.89496612548828,\n 76.50029754638672,\n 76.09638977050781,\n 76.32061004638672,\n 76.01384735107422,\n 76.31961059570312,\n 76.4862289428711,\n 76.05439758300781,\n 76.18572235107422,\n 76.24829864501953,\n 76.19406127929688,\n 76.17381286621094,\n 76.41354370117188,\n 76.14389038085938,\n 76.581298828125,\n 75.8363037109375,\n 76.34808349609375,\n 76.09805297851562,\n 76.15680694580078,\n 76.1982421875,\n 76.3255615234375,\n 76.18229675292969,\n 76.39359283447266,\n 75.79678344726562,\n 76.15298461914062,\n 76.24080657958984,\n 75.89662170410156,\n 75.95667266845703,\n 76.0298843383789,\n 76.32471466064453,\n 76.45201110839844,\n 76.3332748413086,\n 76.18122100830078,\n 76.1597671508789,\n 76.2869644165039,\n 76.35832214355469,\n 76.56412506103516,\n 76.65138244628906,\n 77.0010986328125,\n 76.69027709960938,\n 76.36317443847656,\n 76.5444107055664,\n 76.71321105957031,\n 76.27273559570312,\n 76.72801971435547,\n 76.89990997314453,\n 76.7243881225586,\n 76.93988037109375,\n 76.55474853515625,\n 76.67576599121094,\n 76.75493621826172,\n 76.70586395263672,\n 76.65110778808594,\n 76.5328598022461,\n 76.6315689086914,\n 76.61954498291016,\n 76.7215805053711,\n 77.01738739013672,\n 76.85614013671875,\n 76.81005859375,\n 76.53138732910156,\n 76.70589447021484,\n 76.67362213134766,\n 76.42147064208984,\n 76.4666748046875,\n 76.59095001220703,\n 76.4711685180664,\n 76.44440460205078,\n 76.48381042480469,\n 76.27207946777344,\n 76.463134765625,\n 76.82990264892578,\n 76.71073150634766,\n 76.75530242919922,\n 76.62586975097656,\n 76.62042999267578,\n 77.02460479736328,\n 76.99845886230469,\n 76.51517486572266,\n 76.7104263305664,\n 76.412109375,\n 76.72825622558594,\n 76.9990234375,\n 76.86629486083984,\n 76.85726165771484,\n 76.89325714111328,\n 76.5986328125,\n 76.69819641113281,\n 77.05590057373047,\n 76.79133605957031,\n 77.11375427246094,\n 76.94788360595703,\n 76.65499877929688,\n 76.71965026855469,\n 77.06739044189453,\n 76.65816497802734,\n 76.85186767578125,\n 77.11782836914062,\n 76.81538391113281,\n 76.38484191894531,\n 76.77577209472656,\n 76.60796356201172,\n 76.76874542236328,\n 76.59075927734375,\n 76.54072570800781,\n 76.77466583251953,\n 76.92526245117188,\n 76.79219818115234,\n 76.888671875,\n 76.59427642822266,\n 76.9779281616211,\n 76.64654541015625,\n 76.7278823852539,\n 76.76844787597656,\n 76.38117218017578,\n 77.16743469238281,\n 76.65998840332031,\n 76.41758728027344,\n 76.9693603515625,\n 76.755859375,\n 76.674560546875,\n 76.33851623535156,\n 76.59053802490234,\n 76.70852661132812,\n 76.95401000976562,\n 76.82886505126953,\n 77.24854278564453,\n 77.0302734375,\n 76.57809448242188,\n 76.8881607055664,\n 77.17808532714844,\n 77.20162200927734,\n 77.33927917480469,\n 77.08432006835938,\n 77.04835510253906,\n 77.30001831054688,\n 76.98186492919922,\n 76.92852020263672,\n 77.02153778076172,\n 77.05772399902344,\n 76.80106353759766,\n 77.3469467163086,\n 77.35601806640625,\n 77.35919189453125,\n 76.9871597290039,\n 77.42071533203125,\n 77.95511627197266,\n 77.55751037597656,\n 77.11517333984375,\n 77.46949768066406,\n 77.6549301147461,\n 77.375732421875,\n 77.69664001464844,\n 77.30265045166016,\n 77.5772933959961,\n 77.11058807373047,\n 76.99737548828125,\n 77.60235595703125,\n 77.29806518554688,\n 77.21709442138672,\n 77.54249572753906,\n 77.3836441040039,\n 77.1330337524414,\n 77.85516357421875,\n 77.02330017089844,\n 77.08555603027344,\n 77.33667755126953,\n 77.8364028930664,\n 77.2925796508789,\n 77.1604995727539,\n 77.56666564941406,\n 77.39754486083984,\n 77.6316909790039,\n 77.3387451171875,\n 77.18767547607422,\n 77.57630157470703,\n 77.21989440917969,\n 77.63069915771484,\n 77.63385772705078,\n 77.40079498291016,\n 77.24732971191406,\n 77.16143035888672,\n 77.13505554199219,\n 77.0347671508789,\n 77.17221069335938,\n 76.86383056640625,\n 76.6697769165039,\n 76.83900451660156,\n 77.17990112304688,\n 77.05198669433594,\n 76.81658172607422,\n 77.12136840820312,\n 77.0379409790039,\n 77.03360748291016,\n 77.00245666503906,\n 76.93365478515625,\n 76.98991394042969,\n 76.98101806640625,\n 76.87862396240234,\n 77.08438873291016,\n 76.76078033447266,\n 76.51129150390625,\n 76.94949340820312,\n 76.77827453613281,\n 76.5957260131836,\n 77.01384735107422,\n 76.50509643554688,\n 76.82471466064453,\n 76.81396484375,\n 76.69644165039062,\n 76.77210235595703,\n 76.9168472290039,\n 76.71717834472656,\n 77.0571060180664,\n 77.02733612060547,\n 76.79862213134766,\n 76.42240905761719,\n 76.74983978271484,\n 76.3226547241211,\n 76.27213287353516,\n 76.75865173339844,\n 76.57024383544922,\n 76.73881530761719,\n 76.86192321777344,\n 76.77999877929688,\n 76.62728881835938,\n 76.57564544677734,\n 76.91246795654297,\n 76.72108459472656,\n 76.82050323486328,\n 76.63262176513672,\n 76.46625518798828,\n 76.79369354248047,\n 76.31947326660156,\n 76.20899200439453,\n 76.21224975585938,\n 76.41792297363281,\n 76.3374252319336,\n 76.72542572021484,\n 76.79861450195312,\n 76.644775390625,\n 76.99991607666016,\n 77.24442291259766,\n 76.84663391113281,\n 77.02806091308594,\n 76.7923355102539,\n 76.895263671875,\n 76.57064056396484,\n 76.49771881103516,\n 76.6485366821289,\n 76.9146728515625,\n 76.44538116455078,\n 76.39200592041016,\n 76.58557891845703,\n 76.58747100830078,\n 77.0604476928711,\n 76.30978393554688,\n 76.55996704101562,\n 76.59473419189453,\n 76.36843872070312,\n 76.5685043334961,\n 76.96153259277344,\n 76.37621307373047,\n 76.73538970947266,\n 76.8348159790039,\n 76.5340576171875,\n 76.29267120361328,\n 76.37544250488281,\n 76.87088012695312,\n 76.52548217773438,\n 76.65850830078125,\n 76.68511962890625,\n 76.634033203125,\n 76.41991424560547,\n 76.47428131103516,\n 76.63861846923828,\n 76.50641632080078,\n 76.39238739013672,\n 76.49800109863281,\n 76.00286865234375,\n 75.99127960205078,\n 76.24386596679688,\n 76.10045623779297,\n 76.13810729980469,\n 76.2200927734375,\n 76.06865692138672,\n 76.33671569824219,\n 76.40087890625,\n 76.03660583496094,\n 76.06996154785156,\n 76.7022705078125,\n 76.50399017333984,\n 76.4092788696289,\n 76.49304962158203,\n 76.51789855957031,\n 76.4683837890625,\n 76.29112243652344,\n 76.59662628173828,\n 76.5816421508789,\n 76.7366714477539,\n 76.69863891601562,\n 76.2797622680664,\n 76.8325424194336,\n 76.80628204345703,\n 76.42167663574219,\n 76.70367431640625,\n 76.17343139648438,\n 76.55912780761719,\n 76.33971405029297,\n 76.76134490966797,\n 76.33448028564453,\n 76.92577362060547,\n 76.60848236083984,\n 76.1766586303711,\n 76.70182037353516,\n 76.37167358398438,\n 76.54136657714844,\n 76.04142761230469,\n 76.14852142333984,\n 76.12001037597656,\n 76.15380859375,\n 76.3736801147461,\n 76.54027557373047,\n 76.42135620117188,\n 76.0373764038086,\n 76.1530532836914,\n 76.7221908569336,\n 76.26780700683594,\n 76.2498550415039,\n 76.35624694824219,\n 76.31834411621094,\n 76.03766632080078,\n 76.10132598876953,\n 76.13347625732422,\n 75.87699127197266,\n 76.11213684082031,\n 76.0200424194336,\n 76.16395568847656,\n 76.0184326171875,\n 76.26885223388672,\n 76.03375244140625,\n 76.22154235839844,\n 75.85496520996094,\n 75.69648742675781,\n 75.39833068847656,\n 75.80695343017578,\n 75.48387908935547,\n 75.59382629394531,\n 75.45040130615234,\n 75.22538757324219,\n 75.45545196533203,\n 75.73905181884766,\n 75.23571014404297,\n 75.25114440917969,\n 75.46613311767578,\n 75.39065551757812,\n 75.73750305175781,\n 75.78474426269531,\n 75.97015380859375,\n 75.84929656982422,\n 75.50448608398438,\n 75.70877838134766,\n 75.57662200927734,\n 75.89373016357422,\n 75.72085571289062,\n 75.75023651123047,\n 75.83062744140625,\n 76.28379821777344,\n 75.8900375366211,\n 76.17930603027344,\n 76.13075256347656,\n 75.80035400390625,\n 75.89922332763672,\n 75.87373352050781,\n 75.95771789550781,\n 75.74079895019531,\n 75.45690155029297,\n 75.7523193359375,\n 76.18734741210938,\n 76.01227569580078,\n 76.32633972167969,\n 76.3092041015625,\n 76.38459014892578,\n 76.59603118896484,\n 75.6760482788086,\n 75.90388488769531,\n 75.9746322631836,\n 75.72469329833984,\n 76.0123519897461,\n 76.0955581665039,\n 76.2123031616211,\n 76.18790435791016,\n 76.14350128173828,\n 75.77789306640625,\n 76.28618621826172,\n 76.12306213378906,\n 76.14116668701172,\n 75.82891082763672,\n 75.86190032958984,\n 75.91650390625,\n 75.54663848876953,\n 75.66099548339844,\n 75.6965560913086,\n 75.62347412109375,\n 75.73316192626953,\n 75.7027359008789,\n 76.00005340576172,\n 75.77693176269531,\n 76.06663513183594,\n 75.98697662353516,\n 75.73978424072266,\n 75.8492431640625,\n 76.08136749267578,\n 76.0546875,\n 75.84614562988281,\n 75.94208526611328,\n 75.93701934814453,\n 76.3868408203125,\n 75.95661163330078,\n 75.74327087402344,\n 75.83499145507812,\n 75.9358901977539,\n 75.7568130493164,\n 75.84107971191406,\n 75.51918029785156,\n 75.87659454345703,\n 75.33256530761719,\n 76.01000213623047,\n 75.578857421875,\n 75.91053009033203,\n 75.66664123535156,\n 75.88504028320312,\n 75.78443145751953,\n 75.63421630859375,\n 76.0240707397461,\n 75.36627197265625,\n 75.0252456665039,\n 75.2271957397461,\n 75.00660705566406,\n 75.31102752685547,\n 74.9601821899414,\n 75.05892944335938,\n 75.29261016845703,\n 75.45372772216797,\n 75.4763412475586,\n 75.4092025756836,\n 75.072021484375,\n 75.13069915771484,\n 75.08318328857422,\n 75.23353576660156,\n 75.2098617553711,\n 75.11557006835938,\n 74.9637222290039,\n 74.6804428100586,\n 74.63709259033203,\n 74.77513885498047,\n 74.66255950927734,\n 74.85508728027344,\n 75.01915740966797,\n 74.87572479248047,\n 74.7679672241211,\n 74.57164764404297,\n 74.72708892822266,\n 74.97428131103516,\n 74.5032730102539,\n 74.58772277832031,\n 74.4309310913086,\n 74.50770568847656,\n 74.86686706542969,\n 74.46389770507812,\n 74.505615234375,\n 74.53002166748047,\n 74.43013000488281,\n 74.1117935180664,\n 73.91565704345703,\n 74.49225616455078,\n 74.5170669555664,\n 73.96659851074219,\n 74.43988037109375,\n 74.25566864013672,\n 74.41788482666016,\n 74.43283081054688,\n 74.28427124023438,\n 74.3622055053711,\n 74.06230163574219,\n 74.3177490234375,\n 74.15040588378906,\n 74.10430145263672,\n 74.27974700927734,\n 74.42918395996094,\n 74.20020294189453,\n 74.56208038330078,\n 73.9586181640625,\n 74.19908905029297,\n 74.3046875,\n 74.06643676757812,\n 74.40865325927734,\n 74.38218688964844,\n 74.3804702758789,\n 74.30120086669922,\n 74.64710235595703,\n 74.27928161621094,\n 74.43495178222656,\n 74.26935577392578,\n 74.11888885498047,\n 74.12276458740234,\n 73.85254669189453,\n 74.21271514892578,\n 74.22933197021484,\n 74.09700012207031,\n 74.1264877319336,\n 74.20968627929688,\n 74.15409851074219,\n 73.80996704101562,\n 73.70049285888672,\n 73.85359191894531,\n 73.7215805053711,\n 74.05561065673828,\n 73.6895523071289,\n 74.01142883300781,\n 73.71467590332031,\n 73.95933532714844,\n 74.01297760009766,\n 74.05905151367188,\n 73.83889770507812,\n 73.38900756835938,\n 73.80747985839844,\n 73.89737701416016,\n 74.01457214355469,\n 73.47406768798828,\n 73.63469696044922,\n 73.33251190185547,\n 73.91584014892578,\n 73.5587387084961,\n 73.69253540039062,\n 73.79212188720703,\n 73.63528442382812,\n 73.9739990234375,\n 74.2066421508789,\n 74.25377655029297,\n 74.42533874511719,\n 74.21592712402344,\n 74.15447235107422,\n 74.02159118652344,\n 74.37802124023438,\n 74.5445556640625,\n 74.33369445800781,\n 74.36504364013672,\n 74.52201843261719,\n 74.381103515625,\n 74.6780014038086,\n 74.55452728271484,\n 74.586181640625,\n 74.5241470336914,\n 74.68258666992188,\n 74.81698608398438,\n 74.55902099609375,\n 74.44357299804688,\n 74.52978515625,\n 74.75917053222656,\n 74.38479614257812,\n 74.64492797851562,\n 74.59805297851562,\n 74.87621307373047,\n 74.50962829589844,\n 74.3955307006836,\n 74.87960052490234,\n 74.48162841796875,\n 74.71914672851562,\n 74.74629974365234,\n 74.68983459472656,\n 74.17298889160156,\n 74.19203186035156,\n 74.04759979248047,\n 74.0294189453125,\n 74.06768035888672,\n 74.50015258789062,\n 74.34062957763672,\n 74.60658264160156,\n 73.96224212646484,\n 74.12004089355469,\n 74.48274993896484,\n 74.32982635498047,\n 74.35477447509766,\n 74.3211669921875,\n 74.29679870605469,\n 74.36564636230469,\n 73.92436981201172,\n 74.28482055664062,\n 74.55175018310547,\n 74.84251403808594,\n 74.37814331054688,\n 74.58570861816406,\n 74.40347290039062,\n 74.80965423583984,\n 74.36122131347656,\n 74.10868835449219,\n 74.2037353515625,\n 74.59873962402344,\n 74.19158172607422,\n 74.50120544433594,\n 74.3626937866211,\n 74.43913269042969,\n 74.19635009765625,\n 74.39153289794922,\n 74.33940887451172,\n 74.36841583251953,\n 74.75104522705078,\n 74.8402328491211,\n 74.4262466430664,\n 75.00675964355469,\n 74.61366271972656,\n 74.78076934814453,\n 74.9167709350586,\n 75.09764099121094,\n 75.04817199707031,\n 75.18122863769531,\n 74.96495819091797,\n 74.82902526855469,\n 74.70740509033203,\n 74.6094741821289,\n 74.7840805053711,\n 74.986572265625,\n 75.03900909423828,\n 75.4535140991211,\n 75.14606475830078,\n 74.68562316894531,\n 74.7027359008789,\n 75.0804443359375,\n 75.04327392578125,\n 74.92638397216797,\n 74.93746185302734,\n 74.88812255859375,\n 74.78997802734375,\n 74.99427795410156,\n 74.86906433105469,\n 75.0548095703125,\n 74.87085723876953,\n 74.72858428955078,\n 74.8733901977539,\n 74.63372802734375,\n 74.8341293334961,\n 74.895263671875,\n 74.43689727783203,\n 74.58657836914062,\n 74.74140167236328,\n 74.58428192138672,\n 74.74301147460938,\n 73.99585723876953,\n 74.51439666748047,\n 74.17089080810547,\n 74.16691589355469,\n 73.97917938232422,\n 74.0852279663086,\n 74.46295928955078,\n 74.54267120361328,\n 74.63046264648438,\n 74.40133666992188,\n 74.4665298461914,\n 74.39366912841797,\n 74.29351043701172,\n 74.71305084228516,\n 74.19084167480469,\n 74.2432632446289,\n 74.21086883544922,\n 74.45854187011719,\n 74.5087890625,\n 74.49114227294922,\n 74.06258392333984,\n 74.19125366210938,\n 73.85707092285156,\n 74.01294708251953,\n 74.36468505859375,\n 74.64857482910156,\n 74.13630676269531,\n 74.54178619384766,\n 73.88131713867188,\n 73.98341369628906,\n 74.20912170410156,\n 74.172119140625,\n 73.94041442871094,\n 74.16827392578125,\n 74.08125305175781,\n 74.04141235351562,\n 73.88385009765625,\n 73.69447326660156,\n 74.29056549072266,\n 74.06377410888672,\n 74.52438354492188,\n 74.18909454345703,\n 74.18731689453125,\n 74.12743377685547,\n 74.20957946777344,\n 74.22846984863281,\n 73.940185546875,\n 74.41961669921875,\n 74.52845764160156,\n 74.31739807128906,\n 74.2665786743164,\n 74.34037780761719,\n 74.0824966430664,\n 74.48017883300781,\n 74.7360610961914,\n 74.45953369140625,\n 74.45413208007812,\n 74.58141326904297,\n 74.82171630859375,\n 74.50688934326172,\n 74.56124877929688,\n 74.4559326171875,\n 74.77084350585938,\n 74.657958984375,\n 74.57823944091797,\n 74.50242614746094,\n 74.38377380371094,\n 74.30677032470703,\n 74.51602935791016,\n 74.60696411132812,\n 74.58447265625,\n 74.64002227783203,\n 74.30013275146484,\n 74.32467651367188,\n 74.53890228271484,\n 74.82685852050781,\n 74.4532241821289,\n 74.65385437011719,\n 75.03346252441406,\n 74.85153198242188,\n 74.8571548461914,\n 74.93507385253906,\n 74.35358428955078,\n 75.08171844482422,\n 74.8349380493164,\n 75.0804443359375,\n 74.7920150756836,\n 75.08446502685547,\n 74.72802734375,\n 74.83036804199219,\n 74.61388397216797,\n 75.0683822631836,\n 74.6845474243164,\n 74.98799133300781,\n 74.98966979980469,\n 74.89873504638672,\n 74.60417938232422,\n 74.72827911376953,\n 75.05900573730469,\n 74.70771026611328,\n 75.04154968261719,\n 74.8873519897461,\n 74.69632720947266,\n 74.91619873046875,\n 75.2431869506836,\n 75.2571792602539,\n 75.0703125,\n 75.08853912353516,\n 74.78506469726562,\n 75.0557861328125,\n 75.25603485107422,\n 75.22687530517578,\n 74.97708129882812,\n 75.03947448730469,\n 75.221923828125,\n 75.07977294921875,\n 75.18936920166016,\n 74.9863052368164,\n 77.46533966064453,\n 77.91775512695312,\n 77.80489349365234,\n 77.56412506103516,\n 77.6477279663086,\n 77.97679138183594,\n 77.70948028564453,\n 78.12549591064453,\n 77.69025421142578,\n 78.0042724609375,\n 78.10539245605469,\n 77.38642883300781,\n 77.41271209716797,\n 77.0300521850586,\n 77.69984436035156,\n 77.46537780761719,\n 77.44600677490234,\n 76.97648620605469,\n 77.19281005859375,\n 76.97639465332031,\n 77.02218627929688,\n 77.04750061035156,\n 77.02297973632812,\n 77.242919921875,\n 76.81137084960938,\n 76.323486328125,\n 76.17916107177734,\n 76.67898559570312,\n 76.25101470947266,\n 76.3554916381836,\n 76.15108489990234,\n 75.85933685302734,\n 76.2433090209961,\n 76.40279388427734,\n 76.47093963623047,\n 76.3697509765625,\n 75.77561950683594,\n 76.10047912597656,\n 75.96453857421875,\n 75.52369689941406,\n 75.59864044189453,\n 75.84674835205078,\n 76.03838348388672,\n 76.0429916381836,\n 76.29963684082031,\n 76.06566619873047,\n 76.13494873046875,\n 76.21258544921875,\n 76.40608978271484,\n 76.34368896484375,\n 76.11317443847656,\n 76.36328125,\n 76.51072692871094,\n 76.60065460205078,\n 76.6889419555664,\n 75.6341323852539,\n 75.97177124023438,\n 75.78106689453125,\n 76.05618286132812,\n 75.64179992675781,\n 75.76522064208984,\n 75.8333969116211,\n 76.06069946289062,\n 75.68421936035156,\n 75.97037506103516,\n 75.80848693847656,\n 76.12722778320312,\n 75.94783782958984,\n 75.90664672851562,\n 76.29116821289062,\n 75.97677612304688,\n 75.73392486572266,\n 76.08257293701172,\n 75.64021301269531,\n 75.86609649658203,\n 75.59574127197266,\n 75.9063949584961,\n 75.76661682128906,\n 76.04344177246094,\n 76.16532897949219,\n 76.056396484375,\n 75.92982482910156,\n 76.19552612304688,\n 75.84609985351562,\n 76.17060852050781,\n 75.9426498413086,\n 75.96223449707031,\n 75.91596221923828,\n 76.21611785888672,\n 75.86206817626953,\n 75.94112396240234,\n 75.73432159423828,\n 75.62890625,\n 75.8313980102539,\n 75.72470092773438,\n 75.82622528076172,\n 76.17977142333984,\n 75.59583282470703,\n 76.15142059326172,\n 75.83779907226562,\n 75.4644775390625,\n 75.71807861328125,\n 75.67384338378906,\n 75.92286682128906,\n 75.79147338867188,\n 75.4742660522461,\n 75.7920150756836,\n 75.88456726074219,\n 76.12023162841797,\n 76.26675415039062,\n 76.40067291259766,\n 76.23480987548828,\n 76.0395736694336,\n 76.34513092041016,\n 75.70603942871094,\n 76.05825805664062,\n 75.77803039550781,\n 75.80149841308594,\n 76.15422821044922,\n 75.8158950805664,\n 76.16663360595703,\n 76.2490005493164,\n 75.98133087158203,\n 76.20137786865234,\n 76.1536636352539,\n 76.0015869140625,\n 75.65690612792969,\n 75.72993469238281,\n 75.55367279052734,\n 75.8619613647461,\n 76.17188262939453,\n 75.86268615722656,\n 75.5798568725586,\n 75.73894500732422,\n 75.57559967041016,\n 75.84947967529297,\n 75.67144775390625,\n 75.84834289550781,\n 75.9089126586914,\n 75.49340057373047,\n 75.60568237304688,\n 75.53246307373047,\n 75.47884368896484,\n 75.71963500976562,\n 75.26520538330078,\n 75.39289855957031,\n 75.73526000976562,\n 75.59351348876953,\n 75.55892944335938,\n 75.389404296875,\n 75.51338195800781,\n 75.39623260498047,\n 75.31684875488281,\n 75.44002532958984,\n 75.5869369506836,\n 75.16155242919922,\n 75.41934967041016,\n ...]"
     },
     "execution_count": 152,
     "metadata": {},
     "output_type": "execute_result"
    }
   ],
   "source": [
    "# pred_test"
   ],
   "metadata": {
    "collapsed": false,
    "pycharm": {
     "name": "#%%\n"
    }
   }
  },
  {
   "cell_type": "code",
   "execution_count": 153,
   "outputs": [],
   "source": [
    "# val_dataset_scaled.plot(add_data=pred_test, labels=['pred'])\n",
    "#"
   ],
   "metadata": {
    "collapsed": false,
    "pycharm": {
     "name": "#%%\n"
    }
   }
  },
  {
   "cell_type": "code",
   "execution_count": 139,
   "outputs": [
    {
     "data": {
      "text/plain": "[<matplotlib.lines.Line2D at 0x17924cd7448>]"
     },
     "execution_count": 139,
     "metadata": {},
     "output_type": "execute_result"
    },
    {
     "data": {
      "text/plain": "<Figure size 432x288 with 1 Axes>",
      "image/png": "[encoded data removed]"
     },
     "metadata": {
      "needs_background": "light"
     },
     "output_type": "display_data"
    }
   ],
   "source": [
    "# plt.plot(range(len(pred_test['推料器自动指令'])), scaler.inverse_transform(pred_test)['推料器自动指令'])\n",
    "# plt.plot(range(len(val_dataset_scaled['推料器自动指令'])),scaler.inverse_transform(val_dataset_scaled)['推料器自动指令'])"
   ],
   "metadata": {
    "collapsed": false,
    "pycharm": {
     "name": "#%%\n"
    }
   }
  },
  {
   "cell_type": "code",
   "execution_count": 120,
   "outputs": [
    {
     "data": {
      "text/plain": "时间\n2021-12-23 03:27:11    0.957563\n2021-12-23 03:27:12    0.963121\n2021-12-23 03:27:13    0.968679\n2021-12-23 03:27:14    0.961671\n2021-12-23 03:27:15    0.966830\n                         ...   \n2021-12-23 15:13:03   -1.203948\n2021-12-23 15:13:04   -1.203948\n2021-12-23 15:13:05   -1.203948\n2021-12-23 15:13:06   -1.203948\n2021-12-23 15:13:07   -1.203948\nFreq: S, Name: 推料器自动指令, Length: 42357, dtype: float32"
     },
     "execution_count": 120,
     "metadata": {},
     "output_type": "execute_result"
    }
   ],
   "source": [
    "# val_dataset_scaled['推料器自动指令']\n",
    "#"
   ],
   "metadata": {
    "collapsed": false,
    "pycharm": {
     "name": "#%%\n"
    }
   }
  },
  {
   "cell_type": "code",
   "execution_count": 137,
   "outputs": [
    {
     "data": {
      "text/plain": "                       推料器自动指令\n2021-12-23 15:43:20  54.850666\n2021-12-23 15:43:21  54.229134\n2021-12-23 15:43:22  54.191116\n2021-12-23 15:43:23  54.197899\n2021-12-23 15:43:24  54.416603\n...                        ...\n2021-12-24 03:59:12  74.886421\n2021-12-24 03:59:13  74.645653\n2021-12-24 03:59:14  74.835297\n2021-12-24 03:59:15  75.349251\n2021-12-24 03:59:16  75.083321\n\n[44157 rows x 1 columns]"
     },
     "execution_count": 137,
     "metadata": {},
     "output_type": "execute_result"
    }
   ],
   "source": [
    "# scaler.inverse_transform(pred_test)\n",
    "#"
   ],
   "metadata": {
    "collapsed": false,
    "pycharm": {
     "name": "#%%\n"
    }
   }
  },
  {
   "cell_type": "code",
   "execution_count": 166,
   "outputs": [
    {
     "name": "stderr",
     "output_type": "stream",
     "text": [
      "[2022-11-22 15:07:31,743] [paddlets.models.utils] [WARNING] Input `CO含量` contains np.inf or np.NaN, which may lead to unexpected results from the model.\n",
      "[2022-11-22 15:07:31,744] [paddlets.models.utils] [WARNING] Input `HCL含量` contains np.inf or np.NaN, which may lead to unexpected results from the model.\n",
      "[2022-11-22 15:07:31,744] [paddlets.models.utils] [WARNING] Input `NOx含量` contains np.inf or np.NaN, which may lead to unexpected results from the model.\n",
      "[2022-11-22 15:07:31,745] [paddlets.models.utils] [WARNING] Input `SO2含量` contains np.inf or np.NaN, which may lead to unexpected results from the model.\n",
      "[2022-11-22 15:07:31,745] [paddlets.models.utils] [WARNING] Input `二次风调门` contains np.inf or np.NaN, which may lead to unexpected results from the model.\n",
      "[2022-11-22 15:07:31,745] [paddlets.models.utils] [WARNING] Input `二次风量` contains np.inf or np.NaN, which may lead to unexpected results from the model.\n"
     ]
    }
   ],
   "source": [],
   "metadata": {
    "collapsed": false,
    "pycharm": {
     "name": "#%%\n"
    }
   }
  },
  {
   "cell_type": "code",
   "execution_count": 162,
   "outputs": [
    {
     "data": {
      "text/plain": "                      推料器自动指令      CO含量     HCL含量     NOx含量     SO2含量  \\\n时间                                                                      \n2021-12-23 03:27:11  0.957563 -0.073148 -0.326444  0.017887 -0.250744   \n2021-12-23 03:27:12  0.963121 -0.072369 -0.329213  0.009887 -0.253188   \n2021-12-23 03:27:13  0.968679 -0.071204 -0.343150  0.006455 -0.247073   \n2021-12-23 03:27:14  0.961671 -0.073540 -0.338966  0.014461 -0.247073   \n2021-12-23 03:27:15  0.966830 -0.072369 -0.330598  0.006455 -0.249517   \n...                       ...       ...       ...       ...       ...   \n2021-12-23 15:13:03 -1.203948  0.420520  1.352834 -1.039495 -0.276030   \n2021-12-23 15:13:04 -1.203948  0.404958  1.336127 -1.041785 -0.260941   \n2021-12-23 15:13:05 -1.203948  0.404958  1.336127 -1.041785 -0.260941   \n2021-12-23 15:13:06 -1.203948  0.409624  1.326374 -1.047501 -0.259713   \n2021-12-23 15:13:07 -1.203948  0.408845  1.334743 -1.050927 -0.258086   \n\n                        二次风调门      二次风量  \n时间                                       \n2021-12-23 03:27:11 -0.310531 -0.195115  \n2021-12-23 03:27:12 -0.312958 -0.221616  \n2021-12-23 03:27:13 -0.308465 -0.195115  \n2021-12-23 03:27:14 -0.298153 -0.249391  \n2021-12-23 03:27:15 -0.294877 -0.249391  \n...                       ...       ...  \n2021-12-23 15:13:03 -0.351186 -0.221616  \n2021-12-23 15:13:04 -0.350090 -0.221616  \n2021-12-23 15:13:05 -0.350090 -0.221616  \n2021-12-23 15:13:06 -0.350698 -0.221616  \n2021-12-23 15:13:07 -0.349608 -0.249391  \n\n[42357 rows x 7 columns]"
     },
     "execution_count": 162,
     "metadata": {},
     "output_type": "execute_result"
    }
   ],
   "source": [],
   "metadata": {
    "collapsed": false,
    "pycharm": {
     "name": "#%%\n"
    }
   }
  },
  {
   "cell_type": "code",
   "execution_count": 0,
   "outputs": [],
   "source": [],
   "metadata": {
    "collapsed": false,
    "pycharm": {
     "name": "#%%\n"
    }
   }
  },
  {
   "cell_type": "code",
   "execution_count": null,
   "outputs": [],
   "source": [
    "\n"
   ],
   "metadata": {
    "collapsed": false,
    "pycharm": {
     "name": "#%%\n"
    }
   }
  }
 ],
 "metadata": {
  "kernelspec": {
   "display_name": "Python 3",
   "language": "python",
   "name": "python3"
  },
  "language_info": {
   "codemirror_mode": {
    "name": "ipython",
    "version": 2
   },
   "file_extension": ".py",
   "mimetype": "text/x-python",
   "name": "python",
   "nbconvert_exporter": "python",
   "pygments_lexer": "ipython2",
   "version": "2.7.6"
  }
 },
 "nbformat": 4,
 "nbformat_minor": 0
}