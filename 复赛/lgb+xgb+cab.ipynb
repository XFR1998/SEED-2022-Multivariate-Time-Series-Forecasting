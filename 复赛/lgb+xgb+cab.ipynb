{
 "cells": [
  {
   "cell_type": "code",
   "execution_count": 1,
   "outputs": [],
   "source": [
    "import os\n",
    "import pandas as pd\n",
    "import numpy as np\n",
    "import matplotlib.pyplot as plt\n",
    "import lightgbm as lgb\n",
    "from xgboost import XGBRegressor\n",
    "from catboost import CatBoostRegressor\n",
    "import math\n",
    "from sklearn.metrics import mean_squared_error as mse\n",
    "from sklearn.linear_model import LinearRegression\n",
    "import warnings\n",
    "import pdb\n",
    "warnings.filterwarnings('ignore')\n",
    "import random\n",
    "from tqdm import tqdm\n",
    "from sklearn.model_selection import StratifiedKFold, KFold"
   ],
   "metadata": {
    "collapsed": false,
    "pycharm": {
     "name": "#%%\n"
    }
   }
  },
  {
   "cell_type": "code",
   "execution_count": 2,
   "outputs": [],
   "source": [
    "def set_seed(seed):\n",
    "    random.seed(seed)\n",
    "    np.random.seed(seed)\n",
    "    os.environ['PYTHONHASHSEED'] = str(seed)  # 禁止hash随机化\n",
    "\n",
    "set_seed(42)\n"
   ],
   "metadata": {
    "collapsed": false,
    "pycharm": {
     "name": "#%%\n"
    }
   }
  },
  {
   "cell_type": "code",
   "execution_count": 3,
   "outputs": [],
   "source": [
    "# label: '推料器自动指令'\n",
    "# train_data_path = './data/train/'\n",
    "# test_data_path = './data/test/'\n",
    "#\n",
    "# train_cols = ['推料器自动指令', 'CO含量', 'HCL含量', 'NOx含量', 'SO2含量', '二次风调门', '二次风量', '给水流量',\n",
    "#         '炉排实际运行指令', '炉排自动投退信号', '汽包水位', '推料器启停', '推料器自动投退信号',\n",
    "#         '氧量设定值', '一次风调门', '一次风量', '引风机转速', '主蒸汽流量']\n",
    "#\n",
    "# test_cols = ['CO含量', 'HCL含量', 'NOx含量', 'SO2含量', '二次风调门', '二次风量', '给水流量',\n",
    "#         '炉排实际运行指令', '炉排自动投退信号', '汽包水位', '推料器启停', '推料器自动投退信号',\n",
    "#         '氧量设定值', '一次风调门', '一次风量', '引风机转速', '主蒸汽流量']\n",
    "#\n",
    "# print(len(train_cols))\n",
    "# print(len(test_cols))"
   ],
   "metadata": {
    "collapsed": false,
    "pycharm": {
     "name": "#%%\n"
    }
   }
  },
  {
   "cell_type": "code",
   "execution_count": 4,
   "outputs": [],
   "source": [
    "# train_df = pd.DataFrame()\n",
    "# train_df['时间'] = pd.read_csv(train_data_path+'CO含量.csv')['时间']\n",
    "#\n",
    "# for n in tqdm(train_cols):\n",
    "#     train_df[n] = pd.read_csv(train_data_path+f'{n}.csv')[n]\n",
    "#\n",
    "#"
   ],
   "metadata": {
    "collapsed": false,
    "pycharm": {
     "name": "#%%\n"
    }
   }
  },
  {
   "cell_type": "code",
   "execution_count": 5,
   "outputs": [],
   "source": [
    "# test_df = pd.DataFrame()\n",
    "# test_df['时间'] = pd.read_csv(test_data_path+'CO含量.csv')['时间']\n",
    "#\n",
    "# for n in tqdm(test_cols):\n",
    "#     test_df[n] = pd.read_csv(test_data_path+f'{n}.csv')[n]\n",
    "#\n",
    "#"
   ],
   "metadata": {
    "collapsed": false,
    "pycharm": {
     "name": "#%%\n"
    }
   }
  },
  {
   "cell_type": "code",
   "execution_count": 6,
   "outputs": [],
   "source": [
    "# # 有重复的行，需要去重\n",
    "# print('训练集中重复的行数：', train_df.duplicated().sum())\n",
    "# train_df = train_df.drop_duplicates()\n",
    "#\n",
    "# print('测试集中重复的行数：', test_df.duplicated().sum())\n",
    "# test_df = test_df.drop_duplicates()\n",
    "#\n",
    "#"
   ],
   "metadata": {
    "collapsed": false,
    "pycharm": {
     "name": "#%%\n"
    }
   }
  },
  {
   "cell_type": "code",
   "execution_count": 7,
   "outputs": [],
   "source": [
    "# train_df.to_csv('./data/train.csv', index=False)\n",
    "# test_df.to_csv('./data/test.csv', index=False)\n"
   ],
   "metadata": {
    "collapsed": false,
    "pycharm": {
     "name": "#%%\n"
    }
   }
  },
  {
   "cell_type": "code",
   "execution_count": 8,
   "outputs": [
    {
     "name": "stdout",
     "output_type": "stream",
     "text": [
      "<class 'pandas.core.frame.DataFrame'>\n",
      "Int64Index: 141188 entries, 0 to 141187\n",
      "Data columns (total 19 columns):\n",
      " #   Column     Non-Null Count   Dtype  \n",
      "---  ------     --------------   -----  \n",
      " 0   时间         141188 non-null  object \n",
      " 1   推料器自动指令    141188 non-null  float64\n",
      " 2   CO含量       141188 non-null  float64\n",
      " 3   HCL含量      141188 non-null  float64\n",
      " 4   NOx含量      141188 non-null  float64\n",
      " 5   SO2含量      141188 non-null  float64\n",
      " 6   二次风调门      141188 non-null  float64\n",
      " 7   二次风量       141188 non-null  float64\n",
      " 8   给水流量       141188 non-null  float64\n",
      " 9   炉排实际运行指令   141188 non-null  float64\n",
      " 10  炉排自动投退信号   141188 non-null  object \n",
      " 11  汽包水位       141188 non-null  float64\n",
      " 12  推料器启停      141188 non-null  object \n",
      " 13  推料器自动投退信号  141188 non-null  object \n",
      " 14  氧量设定值      141188 non-null  float64\n",
      " 15  一次风调门      141188 non-null  float64\n",
      " 16  一次风量       141188 non-null  float64\n",
      " 17  引风机转速      141188 non-null  float64\n",
      " 18  主蒸汽流量      141188 non-null  float64\n",
      "dtypes: float64(15), object(4)\n",
      "memory usage: 21.5+ MB\n",
      "<class 'pandas.core.frame.DataFrame'>\n",
      "RangeIndex: 1800 entries, 0 to 1799\n",
      "Data columns (total 18 columns):\n",
      " #   Column     Non-Null Count  Dtype  \n",
      "---  ------     --------------  -----  \n",
      " 0   时间         1800 non-null   object \n",
      " 1   CO含量       1800 non-null   float64\n",
      " 2   HCL含量      1800 non-null   float64\n",
      " 3   NOx含量      1800 non-null   float64\n",
      " 4   SO2含量      1800 non-null   float64\n",
      " 5   二次风调门      1800 non-null   float64\n",
      " 6   二次风量       1800 non-null   float64\n",
      " 7   给水流量       1800 non-null   float64\n",
      " 8   炉排实际运行指令   1800 non-null   float64\n",
      " 9   炉排自动投退信号   1800 non-null   bool   \n",
      " 10  汽包水位       1800 non-null   float64\n",
      " 11  推料器启停      1800 non-null   bool   \n",
      " 12  推料器自动投退信号  1800 non-null   bool   \n",
      " 13  氧量设定值      1800 non-null   float64\n",
      " 14  一次风调门      1800 non-null   float64\n",
      " 15  一次风量       1800 non-null   float64\n",
      " 16  引风机转速      1800 non-null   float64\n",
      " 17  主蒸汽流量      1800 non-null   float64\n",
      "dtypes: bool(3), float64(14), object(1)\n",
      "memory usage: 216.3+ KB\n"
     ]
    }
   ],
   "source": [
    "train_df = pd.read_csv('./data/train.csv')\n",
    "train_df = train_df.dropna()\n",
    "\n",
    "test_df = pd.read_csv('./data/test.csv')\n",
    "train_df.info()\n",
    "test_df.info()\n"
   ],
   "metadata": {
    "collapsed": false,
    "pycharm": {
     "name": "#%%\n"
    }
   }
  },
  {
   "cell_type": "code",
   "execution_count": 8,
   "outputs": [],
   "source": [],
   "metadata": {
    "collapsed": false,
    "pycharm": {
     "name": "#%%\n"
    }
   }
  },
  {
   "cell_type": "code",
   "execution_count": 9,
   "outputs": [
    {
     "name": "stdout",
     "output_type": "stream",
     "text": [
      "<class 'pandas.core.frame.DataFrame'>\n",
      "Int64Index: 142988 entries, 0 to 1799\n",
      "Data columns (total 19 columns):\n",
      " #   Column     Non-Null Count   Dtype  \n",
      "---  ------     --------------   -----  \n",
      " 0   时间         142988 non-null  object \n",
      " 1   推料器自动指令    141188 non-null  float64\n",
      " 2   CO含量       142988 non-null  float64\n",
      " 3   HCL含量      142988 non-null  float64\n",
      " 4   NOx含量      142988 non-null  float64\n",
      " 5   SO2含量      142988 non-null  float64\n",
      " 6   二次风调门      142988 non-null  float64\n",
      " 7   二次风量       142988 non-null  float64\n",
      " 8   给水流量       142988 non-null  float64\n",
      " 9   炉排实际运行指令   142988 non-null  float64\n",
      " 10  炉排自动投退信号   142988 non-null  object \n",
      " 11  汽包水位       142988 non-null  float64\n",
      " 12  推料器启停      142988 non-null  object \n",
      " 13  推料器自动投退信号  142988 non-null  object \n",
      " 14  氧量设定值      142988 non-null  float64\n",
      " 15  一次风调门      142988 non-null  float64\n",
      " 16  一次风量       142988 non-null  float64\n",
      " 17  引风机转速      142988 non-null  float64\n",
      " 18  主蒸汽流量      142988 non-null  float64\n",
      "dtypes: float64(15), object(4)\n",
      "memory usage: 21.8+ MB\n"
     ]
    }
   ],
   "source": [
    "data = pd.concat([train_df, test_df])\n",
    "\n",
    "data.info()"
   ],
   "metadata": {
    "collapsed": false,
    "pycharm": {
     "name": "#%%\n"
    }
   }
  },
  {
   "cell_type": "code",
   "execution_count": 10,
   "outputs": [
    {
     "data": {
      "text/plain": "True     102060\nFalse     40928\nName: 推料器启停, dtype: int64"
     },
     "execution_count": 10,
     "metadata": {},
     "output_type": "execute_result"
    }
   ],
   "source": [
    "data['推料器启停'].value_counts()"
   ],
   "metadata": {
    "collapsed": false,
    "pycharm": {
     "name": "#%%\n"
    }
   }
  },
  {
   "cell_type": "code",
   "execution_count": 11,
   "outputs": [],
   "source": [
    "data = data[data['推料器启停']==1]\n",
    "# data.info()"
   ],
   "metadata": {
    "collapsed": false,
    "pycharm": {
     "name": "#%%\n"
    }
   }
  },
  {
   "cell_type": "code",
   "execution_count": 12,
   "outputs": [
    {
     "name": "stdout",
     "output_type": "stream",
     "text": [
      "<class 'pandas.core.frame.DataFrame'>\n",
      "Int64Index: 102060 entries, 169 to 1799\n",
      "Data columns (total 18 columns):\n",
      " #   Column     Non-Null Count   Dtype  \n",
      "---  ------     --------------   -----  \n",
      " 0   时间         102060 non-null  object \n",
      " 1   推料器自动指令    100260 non-null  float64\n",
      " 2   CO含量       102060 non-null  float64\n",
      " 3   HCL含量      102060 non-null  float64\n",
      " 4   NOx含量      102060 non-null  float64\n",
      " 5   SO2含量      102060 non-null  float64\n",
      " 6   二次风调门      102060 non-null  float64\n",
      " 7   二次风量       102060 non-null  float64\n",
      " 8   给水流量       102060 non-null  float64\n",
      " 9   炉排实际运行指令   102060 non-null  float64\n",
      " 10  炉排自动投退信号   102060 non-null  object \n",
      " 11  汽包水位       102060 non-null  float64\n",
      " 12  推料器自动投退信号  102060 non-null  object \n",
      " 13  氧量设定值      102060 non-null  float64\n",
      " 14  一次风调门      102060 non-null  float64\n",
      " 15  一次风量       102060 non-null  float64\n",
      " 16  引风机转速      102060 non-null  float64\n",
      " 17  主蒸汽流量      102060 non-null  float64\n",
      "dtypes: float64(15), object(3)\n",
      "memory usage: 14.8+ MB\n"
     ]
    }
   ],
   "source": [
    "data = data.drop(columns=['推料器启停'])\n",
    "data.info()"
   ],
   "metadata": {
    "collapsed": false,
    "pycharm": {
     "name": "#%%\n"
    }
   }
  },
  {
   "cell_type": "code",
   "execution_count": 13,
   "outputs": [],
   "source": [
    "# data['gas'] = data['CO含量'] + data['HCL含量'] + data['NOx含量'] + data['SO2含量']\n",
    "# # feat_list = ['二次风调门', '二次风量', '给水流量', '炉排实际运行指令', '汽包水位', '氧量设定值', '一次风调门', '一次风量', '引风机转速', '主蒸汽流量']\n",
    "# feat_list = ['给水流量', '氧量设定值', '一次风量', '主蒸汽流量', '汽包水位' ]\n",
    "# for f in tqdm(feat_list):\n",
    "#     shift_f = []\n",
    "#     shift_d = []\n",
    "#     for i in range(200):\n",
    "#         colname = f + '_shift_{}'.format(i + 1)\n",
    "#         data[colname] = data[f].shift(i + 1)\n",
    "#         shift_f.append(colname)\n",
    "#\n",
    "#         # # 与上n分钟的变化比例特征\n",
    "#         # if i%60==0:\n",
    "#         #     temp_name = f+'_ratio_{}'.format(i)\n",
    "#         #     data[temp_name] = data[colname]/data[colname].shift(i+1)\n",
    "#\n",
    "#         # .diff用于计算一列中某元素与该列中前？个元素的差值（默认前一个元素）\n",
    "#         colname = f + '_diff_{}'.format(i + 1)\n",
    "#         data[colname] = data[f].diff(i + 1)\n",
    "#         colname = f + '_diff_{}'.format(-(i + 1))\n",
    "#         data[colname] = data[f].diff(-(i + 1))\n",
    "#\n",
    "#     # data[f+'_diff'] = data[f].diff(1)\n",
    "#     # 对每一行：shift_列的值取平均，即将前n天的值取平均，取最大值，最最小值，最标准差\n",
    "#\n",
    "#     data[f + '_fore_steps_mean'] = data[shift_f].mean(1)\n",
    "#     data[f + '_fore_steps_max'] = data[shift_f].max(1)\n",
    "#     data[f + '_fore_steps_min'] = data[shift_f].min(1)\n",
    "#     data[f + '_fore_steps_std'] = data[shift_f].std(1)\n",
    "#     data[f + '_fore_steps_std'] = data[shift_f].skew(1)\n",
    "#\n",
    "#     data.drop(shift_f, axis=1, inplace=True)"
   ],
   "metadata": {
    "collapsed": false,
    "pycharm": {
     "name": "#%%\n"
    }
   }
  },
  {
   "cell_type": "code",
   "execution_count": 14,
   "outputs": [],
   "source": [
    "#\n",
    "data['炉排自动投退信号'] = data['炉排自动投退信号'].map(int)\n",
    "# data['推料器启停'] = data['推料器启停'].map(int)\n",
    "data['推料器自动投退信号'] = data['推料器自动投退信号'].map(int)"
   ],
   "metadata": {
    "collapsed": false,
    "pycharm": {
     "name": "#%%\n"
    }
   }
  },
  {
   "cell_type": "code",
   "execution_count": 15,
   "outputs": [],
   "source": [
    "# groupby + shift(差值特征) + transform(count, mean, max, min, skew)\n",
    "\n",
    "# def get_shift_feats(data, gap_list=[1], gp_col=[], target_col=''):\n",
    "#     # gp_col可以是个列表进行多次分组，e.g. gp_col = [id1, id2]\n",
    "#     for gap in gap_list:\n",
    "#         # 后面减前面\n",
    "#         data[''.join(gp_col)+f'{target_col}next{gap}'] = data.groupby(gp_col)[target_col].shift(-gap)\n",
    "#         data[''.join(gp_col)+f'{target_col}next{gap}'] = data[''.join(gp_col)+f'{target_col}next{gap}'] - data[target_col]\n",
    "# \n",
    "#         # 前面减后面\n",
    "#         data[''.join(gp_col)+f'{target_col}prev{gap}'] = data.groupby(gp_col)[target_col].shift(+gap)\n",
    "#         data[''.join(gp_col)+f'{target_col}prev{gap}'] = data[''.join(gp_col)+f'{target_col}next{gap}'] - data[target_col]\n",
    "# \n",
    "# \n",
    "#         # 统计其不为nan的值\n",
    "#         data[''.join(gp_col)+f'{target_col}next{gap}count'] = data.groupby(gp_col)[''.join(gp_col)+f'{target_col}next{gap}'].transform('count')\n",
    "#         data[''.join(gp_col)+f'{target_col}prev{gap}count'] = data.groupby(gp_col)[''.join(gp_col)+f'{target_col}prev{gap}'].transform('count')\n",
    "# \n",
    "#         # 统计其平均值\n",
    "#         data[''.join(gp_col)+f'{target_col}next{gap}mean'] = data.groupby(gp_col)[''.join(gp_col)+f'{target_col}next{gap}'].transform('mean')\n",
    "#         data[''.join(gp_col)+f'{target_col}prev{gap}mean'] = data.groupby(gp_col)[''.join(gp_col)+f'{target_col}prev{gap}'].transform('mean')\n",
    "# \n",
    "#         # 统计其最大值\n",
    "#         data[''.join(gp_col)+f'{target_col}next{gap}max'] = data.groupby(gp_col)[''.join(gp_col)+f'{target_col}next{gap}'].transform('max')\n",
    "#         data[''.join(gp_col)+f'{target_col}prev{gap}max'] = data.groupby(gp_col)[''.join(gp_col)+f'{target_col}prev{gap}'].transform('max')\n",
    "# \n",
    "#         # 统计其最小值\n",
    "#         data[''.join(gp_col)+f'{target_col}next{gap}min'] = data.groupby(gp_col)[''.join(gp_col)+f'{target_col}next{gap}'].transform('min')\n",
    "#         data[''.join(gp_col)+f'{target_col}prev{gap}min'] = data.groupby(gp_col)[''.join(gp_col)+f'{target_col}prev{gap}'].transform('min')\n",
    "# \n",
    "#         # 统计其skew值\n",
    "#         data[''.join(gp_col)+f'{target_col}next{gap}skew'] = data.groupby(gp_col)[''.join(gp_col)+f'{target_col}next{gap}'].transform('skew')\n",
    "#         data[''.join(gp_col)+f'{target_col}prev{gap}skew'] = data.groupby(gp_col)[''.join(gp_col)+f'{target_col}prev{gap}'].transform('skew')\n",
    "# \n",
    "#     return data\n",
    "# "
   ],
   "metadata": {
    "collapsed": false,
    "pycharm": {
     "name": "#%%\n"
    }
   }
  },
  {
   "cell_type": "code",
   "execution_count": 16,
   "outputs": [],
   "source": [
    "\n",
    "# gp_tg_cols = [(['推料器启停'], '给水流量'),\n",
    "#               (['推料器启停'], '主蒸汽流量')]\n",
    "# \n",
    "# "
   ],
   "metadata": {
    "collapsed": false,
    "pycharm": {
     "name": "#%%\n"
    }
   }
  },
  {
   "cell_type": "code",
   "execution_count": 17,
   "outputs": [],
   "source": [
    "# for col in tqdm(gp_tg_cols):\n",
    "#     data = get_shift_feats(data, gap_list=list(range(1, 10)), gp_col=col[0], target_col=col[1])"
   ],
   "metadata": {
    "collapsed": false,
    "pycharm": {
     "name": "#%%\n"
    }
   }
  },
  {
   "cell_type": "code",
   "execution_count": 18,
   "outputs": [],
   "source": [
    "# data.columns = [str(i) for i in data.columns]\n",
    "# for i in data.columns:\n",
    "#     print(i)"
   ],
   "metadata": {
    "collapsed": false,
    "pycharm": {
     "name": "#%%\n"
    }
   }
  },
  {
   "cell_type": "code",
   "execution_count": 19,
   "outputs": [],
   "source": [
    "import featuretools as ft\n",
    "label = data['推料器自动指令'].to_list()\n",
    "\n",
    "data = data.drop(columns=['推料器自动指令'])"
   ],
   "metadata": {
    "collapsed": false,
    "pycharm": {
     "name": "#%%\n"
    }
   }
  },
  {
   "cell_type": "code",
   "execution_count": 20,
   "outputs": [
    {
     "data": {
      "text/plain": "         CO含量   HCL含量    NOx含量   SO2含量    二次风调门       二次风量     给水流量  炉排实际运行指令  \\\nindex                                                                           \n0      0.8819  2.0926  62.1852 -0.0276  19.6134  4062.0190  74.1088      60.0   \n1      1.3889  2.1111  62.1296  3.0000  19.6736  4062.0190  74.0785      60.0   \n2      1.4167  2.0833  62.2037  3.0417  19.6111  4062.0190  74.0368      60.0   \n3      1.4583  2.0417  62.1481  3.0833  19.6366  3774.9172  74.0325      60.0   \n4      1.4375  2.0509  62.0926  3.0903  19.5972  4062.0190  74.0034      60.0   \n\n       炉排自动投退信号    汽包水位  ...  氧量设定值 * 汽包水位  氧量设定值 * 炉排实际运行指令  \\\nindex                    ...                                   \n0             1  6.6555  ...       39.9330             360.0   \n1             1  6.5549  ...       39.3294             360.0   \n2             1  6.4923  ...       38.9538             360.0   \n3             1  6.5318  ...       39.1908             360.0   \n4             1  6.5143  ...       39.0858             360.0   \n\n       氧量设定值 * 炉排自动投退信号  氧量设定值 * 给水流量  汽包水位 * 炉排实际运行指令  汽包水位 * 炉排自动投退信号  \\\nindex                                                                     \n0                   6.0      444.6528          399.330           6.6555   \n1                   6.0      444.4710          393.294           6.5549   \n2                   6.0      444.2208          389.538           6.4923   \n3                   6.0      444.1950          391.908           6.5318   \n4                   6.0      444.0204          390.858           6.5143   \n\n       汽包水位 * 给水流量  炉排实际运行指令 * 炉排自动投退信号  炉排实际运行指令 * 给水流量  炉排自动投退信号 * 给水流量  \nindex                                                                      \n0       493.231118                 60.0         4446.528          74.1088  \n1       485.577160                 60.0         4444.710          74.0785  \n2       480.669117                 60.0         4442.208          74.0368  \n3       483.565483                 60.0         4441.950          74.0325  \n4       482.080349                 60.0         4440.204          74.0034  \n\n[5 rows x 256 columns]",
      "text/html": "<div>\n<style scoped>\n    .dataframe tbody tr th:only-of-type {\n        vertical-align: middle;\n    }\n\n    .dataframe tbody tr th {\n        vertical-align: top;\n    }\n\n    .dataframe thead th {\n        text-align: right;\n    }\n</style>\n<table border=\"1\" class=\"dataframe\">\n  <thead>\n    <tr style=\"text-align: right;\">\n      <th></th>\n      <th>CO含量</th>\n      <th>HCL含量</th>\n      <th>NOx含量</th>\n      <th>SO2含量</th>\n      <th>二次风调门</th>\n      <th>二次风量</th>\n      <th>给水流量</th>\n      <th>炉排实际运行指令</th>\n      <th>炉排自动投退信号</th>\n      <th>汽包水位</th>\n      <th>...</th>\n      <th>氧量设定值 * 汽包水位</th>\n      <th>氧量设定值 * 炉排实际运行指令</th>\n      <th>氧量设定值 * 炉排自动投退信号</th>\n      <th>氧量设定值 * 给水流量</th>\n      <th>汽包水位 * 炉排实际运行指令</th>\n      <th>汽包水位 * 炉排自动投退信号</th>\n      <th>汽包水位 * 给水流量</th>\n      <th>炉排实际运行指令 * 炉排自动投退信号</th>\n      <th>炉排实际运行指令 * 给水流量</th>\n      <th>炉排自动投退信号 * 给水流量</th>\n    </tr>\n    <tr>\n      <th>index</th>\n      <th></th>\n      <th></th>\n      <th></th>\n      <th></th>\n      <th></th>\n      <th></th>\n      <th></th>\n      <th></th>\n      <th></th>\n      <th></th>\n      <th></th>\n      <th></th>\n      <th></th>\n      <th></th>\n      <th></th>\n      <th></th>\n      <th></th>\n      <th></th>\n      <th></th>\n      <th></th>\n      <th></th>\n    </tr>\n  </thead>\n  <tbody>\n    <tr>\n      <th>0</th>\n      <td>0.8819</td>\n      <td>2.0926</td>\n      <td>62.1852</td>\n      <td>-0.0276</td>\n      <td>19.6134</td>\n      <td>4062.0190</td>\n      <td>74.1088</td>\n      <td>60.0</td>\n      <td>1</td>\n      <td>6.6555</td>\n      <td>...</td>\n      <td>39.9330</td>\n      <td>360.0</td>\n      <td>6.0</td>\n      <td>444.6528</td>\n      <td>399.330</td>\n      <td>6.6555</td>\n      <td>493.231118</td>\n      <td>60.0</td>\n      <td>4446.528</td>\n      <td>74.1088</td>\n    </tr>\n    <tr>\n      <th>1</th>\n      <td>1.3889</td>\n      <td>2.1111</td>\n      <td>62.1296</td>\n      <td>3.0000</td>\n      <td>19.6736</td>\n      <td>4062.0190</td>\n      <td>74.0785</td>\n      <td>60.0</td>\n      <td>1</td>\n      <td>6.5549</td>\n      <td>...</td>\n      <td>39.3294</td>\n      <td>360.0</td>\n      <td>6.0</td>\n      <td>444.4710</td>\n      <td>393.294</td>\n      <td>6.5549</td>\n      <td>485.577160</td>\n      <td>60.0</td>\n      <td>4444.710</td>\n      <td>74.0785</td>\n    </tr>\n    <tr>\n      <th>2</th>\n      <td>1.4167</td>\n      <td>2.0833</td>\n      <td>62.2037</td>\n      <td>3.0417</td>\n      <td>19.6111</td>\n      <td>4062.0190</td>\n      <td>74.0368</td>\n      <td>60.0</td>\n      <td>1</td>\n      <td>6.4923</td>\n      <td>...</td>\n      <td>38.9538</td>\n      <td>360.0</td>\n      <td>6.0</td>\n      <td>444.2208</td>\n      <td>389.538</td>\n      <td>6.4923</td>\n      <td>480.669117</td>\n      <td>60.0</td>\n      <td>4442.208</td>\n      <td>74.0368</td>\n    </tr>\n    <tr>\n      <th>3</th>\n      <td>1.4583</td>\n      <td>2.0417</td>\n      <td>62.1481</td>\n      <td>3.0833</td>\n      <td>19.6366</td>\n      <td>3774.9172</td>\n      <td>74.0325</td>\n      <td>60.0</td>\n      <td>1</td>\n      <td>6.5318</td>\n      <td>...</td>\n      <td>39.1908</td>\n      <td>360.0</td>\n      <td>6.0</td>\n      <td>444.1950</td>\n      <td>391.908</td>\n      <td>6.5318</td>\n      <td>483.565483</td>\n      <td>60.0</td>\n      <td>4441.950</td>\n      <td>74.0325</td>\n    </tr>\n    <tr>\n      <th>4</th>\n      <td>1.4375</td>\n      <td>2.0509</td>\n      <td>62.0926</td>\n      <td>3.0903</td>\n      <td>19.5972</td>\n      <td>4062.0190</td>\n      <td>74.0034</td>\n      <td>60.0</td>\n      <td>1</td>\n      <td>6.5143</td>\n      <td>...</td>\n      <td>39.0858</td>\n      <td>360.0</td>\n      <td>6.0</td>\n      <td>444.0204</td>\n      <td>390.858</td>\n      <td>6.5143</td>\n      <td>482.080349</td>\n      <td>60.0</td>\n      <td>4440.204</td>\n      <td>74.0034</td>\n    </tr>\n  </tbody>\n</table>\n<p>5 rows × 256 columns</p>\n</div>"
     },
     "execution_count": 20,
     "metadata": {},
     "output_type": "execute_result"
    }
   ],
   "source": [
    "# Make an entityset and add the entity\n",
    "es = ft.EntitySet(id = 'lj')\n",
    "es.add_dataframe(dataframe_name = 'data', dataframe = data,\n",
    "                         make_index = True, index = 'index')\n",
    "\n",
    "# Run deep feature synthesis with transformation primitives\n",
    "feature_matrix, feature_defs = ft.dfs(entityset = es, target_dataframe_name = 'data',\n",
    "                                      trans_primitives = ['add_numeric', 'multiply_numeric'])\n",
    "\n",
    "feature_matrix.head()\n"
   ],
   "metadata": {
    "collapsed": false,
    "pycharm": {
     "name": "#%%\n"
    }
   }
  },
  {
   "cell_type": "code",
   "execution_count": 21,
   "outputs": [
    {
     "data": {
      "text/plain": "[<Feature: CO含量>,\n <Feature: HCL含量>,\n <Feature: NOx含量>,\n <Feature: SO2含量>,\n <Feature: 二次风调门>,\n <Feature: 二次风量>,\n <Feature: 给水流量>,\n <Feature: 炉排实际运行指令>,\n <Feature: 炉排自动投退信号>,\n <Feature: 汽包水位>,\n <Feature: 推料器自动投退信号>,\n <Feature: 氧量设定值>,\n <Feature: 一次风调门>,\n <Feature: 一次风量>,\n <Feature: 引风机转速>,\n <Feature: 主蒸汽流量>,\n <Feature: CO含量 + HCL含量>,\n <Feature: CO含量 + NOx含量>,\n <Feature: CO含量 + SO2含量>,\n <Feature: CO含量 + 一次风调门>,\n <Feature: CO含量 + 一次风量>,\n <Feature: CO含量 + 主蒸汽流量>,\n <Feature: CO含量 + 二次风调门>,\n <Feature: CO含量 + 二次风量>,\n <Feature: CO含量 + 引风机转速>,\n <Feature: CO含量 + 推料器自动投退信号>,\n <Feature: CO含量 + 氧量设定值>,\n <Feature: CO含量 + 汽包水位>,\n <Feature: CO含量 + 炉排实际运行指令>,\n <Feature: CO含量 + 炉排自动投退信号>,\n <Feature: CO含量 + 给水流量>,\n <Feature: HCL含量 + NOx含量>,\n <Feature: HCL含量 + SO2含量>,\n <Feature: HCL含量 + 一次风调门>,\n <Feature: HCL含量 + 一次风量>,\n <Feature: HCL含量 + 主蒸汽流量>,\n <Feature: HCL含量 + 二次风调门>,\n <Feature: HCL含量 + 二次风量>,\n <Feature: HCL含量 + 引风机转速>,\n <Feature: HCL含量 + 推料器自动投退信号>,\n <Feature: HCL含量 + 氧量设定值>,\n <Feature: HCL含量 + 汽包水位>,\n <Feature: HCL含量 + 炉排实际运行指令>,\n <Feature: HCL含量 + 炉排自动投退信号>,\n <Feature: HCL含量 + 给水流量>,\n <Feature: NOx含量 + SO2含量>,\n <Feature: NOx含量 + 一次风调门>,\n <Feature: NOx含量 + 一次风量>,\n <Feature: NOx含量 + 主蒸汽流量>,\n <Feature: NOx含量 + 二次风调门>,\n <Feature: NOx含量 + 二次风量>,\n <Feature: NOx含量 + 引风机转速>,\n <Feature: NOx含量 + 推料器自动投退信号>,\n <Feature: NOx含量 + 氧量设定值>,\n <Feature: NOx含量 + 汽包水位>,\n <Feature: NOx含量 + 炉排实际运行指令>,\n <Feature: NOx含量 + 炉排自动投退信号>,\n <Feature: NOx含量 + 给水流量>,\n <Feature: SO2含量 + 一次风调门>,\n <Feature: SO2含量 + 一次风量>,\n <Feature: SO2含量 + 主蒸汽流量>,\n <Feature: SO2含量 + 二次风调门>,\n <Feature: SO2含量 + 二次风量>,\n <Feature: SO2含量 + 引风机转速>,\n <Feature: SO2含量 + 推料器自动投退信号>,\n <Feature: SO2含量 + 氧量设定值>,\n <Feature: SO2含量 + 汽包水位>,\n <Feature: SO2含量 + 炉排实际运行指令>,\n <Feature: SO2含量 + 炉排自动投退信号>,\n <Feature: SO2含量 + 给水流量>,\n <Feature: 一次风调门 + 一次风量>,\n <Feature: 一次风调门 + 主蒸汽流量>,\n <Feature: 一次风调门 + 二次风调门>,\n <Feature: 一次风调门 + 二次风量>,\n <Feature: 一次风调门 + 引风机转速>,\n <Feature: 一次风调门 + 推料器自动投退信号>,\n <Feature: 一次风调门 + 氧量设定值>,\n <Feature: 一次风调门 + 汽包水位>,\n <Feature: 一次风调门 + 炉排实际运行指令>,\n <Feature: 一次风调门 + 炉排自动投退信号>,\n <Feature: 一次风调门 + 给水流量>,\n <Feature: 一次风量 + 主蒸汽流量>,\n <Feature: 一次风量 + 二次风调门>,\n <Feature: 一次风量 + 二次风量>,\n <Feature: 一次风量 + 引风机转速>,\n <Feature: 一次风量 + 推料器自动投退信号>,\n <Feature: 一次风量 + 氧量设定值>,\n <Feature: 一次风量 + 汽包水位>,\n <Feature: 一次风量 + 炉排实际运行指令>,\n <Feature: 一次风量 + 炉排自动投退信号>,\n <Feature: 一次风量 + 给水流量>,\n <Feature: 主蒸汽流量 + 二次风调门>,\n <Feature: 主蒸汽流量 + 二次风量>,\n <Feature: 主蒸汽流量 + 引风机转速>,\n <Feature: 主蒸汽流量 + 推料器自动投退信号>,\n <Feature: 主蒸汽流量 + 氧量设定值>,\n <Feature: 主蒸汽流量 + 汽包水位>,\n <Feature: 主蒸汽流量 + 炉排实际运行指令>,\n <Feature: 主蒸汽流量 + 炉排自动投退信号>,\n <Feature: 主蒸汽流量 + 给水流量>,\n <Feature: 二次风调门 + 二次风量>,\n <Feature: 二次风调门 + 引风机转速>,\n <Feature: 二次风调门 + 推料器自动投退信号>,\n <Feature: 二次风调门 + 氧量设定值>,\n <Feature: 二次风调门 + 汽包水位>,\n <Feature: 二次风调门 + 炉排实际运行指令>,\n <Feature: 二次风调门 + 炉排自动投退信号>,\n <Feature: 二次风调门 + 给水流量>,\n <Feature: 二次风量 + 引风机转速>,\n <Feature: 二次风量 + 推料器自动投退信号>,\n <Feature: 二次风量 + 氧量设定值>,\n <Feature: 二次风量 + 汽包水位>,\n <Feature: 二次风量 + 炉排实际运行指令>,\n <Feature: 二次风量 + 炉排自动投退信号>,\n <Feature: 二次风量 + 给水流量>,\n <Feature: 引风机转速 + 推料器自动投退信号>,\n <Feature: 引风机转速 + 氧量设定值>,\n <Feature: 引风机转速 + 汽包水位>,\n <Feature: 引风机转速 + 炉排实际运行指令>,\n <Feature: 引风机转速 + 炉排自动投退信号>,\n <Feature: 引风机转速 + 给水流量>,\n <Feature: 推料器自动投退信号 + 氧量设定值>,\n <Feature: 推料器自动投退信号 + 汽包水位>,\n <Feature: 推料器自动投退信号 + 炉排实际运行指令>,\n <Feature: 推料器自动投退信号 + 炉排自动投退信号>,\n <Feature: 推料器自动投退信号 + 给水流量>,\n <Feature: 氧量设定值 + 汽包水位>,\n <Feature: 氧量设定值 + 炉排实际运行指令>,\n <Feature: 氧量设定值 + 炉排自动投退信号>,\n <Feature: 氧量设定值 + 给水流量>,\n <Feature: 汽包水位 + 炉排实际运行指令>,\n <Feature: 汽包水位 + 炉排自动投退信号>,\n <Feature: 汽包水位 + 给水流量>,\n <Feature: 炉排实际运行指令 + 炉排自动投退信号>,\n <Feature: 炉排实际运行指令 + 给水流量>,\n <Feature: 炉排自动投退信号 + 给水流量>,\n <Feature: CO含量 * HCL含量>,\n <Feature: CO含量 * NOx含量>,\n <Feature: CO含量 * SO2含量>,\n <Feature: CO含量 * 一次风调门>,\n <Feature: CO含量 * 一次风量>,\n <Feature: CO含量 * 主蒸汽流量>,\n <Feature: CO含量 * 二次风调门>,\n <Feature: CO含量 * 二次风量>,\n <Feature: CO含量 * 引风机转速>,\n <Feature: CO含量 * 推料器自动投退信号>,\n <Feature: CO含量 * 氧量设定值>,\n <Feature: CO含量 * 汽包水位>,\n <Feature: CO含量 * 炉排实际运行指令>,\n <Feature: CO含量 * 炉排自动投退信号>,\n <Feature: CO含量 * 给水流量>,\n <Feature: HCL含量 * NOx含量>,\n <Feature: HCL含量 * SO2含量>,\n <Feature: HCL含量 * 一次风调门>,\n <Feature: HCL含量 * 一次风量>,\n <Feature: HCL含量 * 主蒸汽流量>,\n <Feature: HCL含量 * 二次风调门>,\n <Feature: HCL含量 * 二次风量>,\n <Feature: HCL含量 * 引风机转速>,\n <Feature: HCL含量 * 推料器自动投退信号>,\n <Feature: HCL含量 * 氧量设定值>,\n <Feature: HCL含量 * 汽包水位>,\n <Feature: HCL含量 * 炉排实际运行指令>,\n <Feature: HCL含量 * 炉排自动投退信号>,\n <Feature: HCL含量 * 给水流量>,\n <Feature: NOx含量 * SO2含量>,\n <Feature: NOx含量 * 一次风调门>,\n <Feature: NOx含量 * 一次风量>,\n <Feature: NOx含量 * 主蒸汽流量>,\n <Feature: NOx含量 * 二次风调门>,\n <Feature: NOx含量 * 二次风量>,\n <Feature: NOx含量 * 引风机转速>,\n <Feature: NOx含量 * 推料器自动投退信号>,\n <Feature: NOx含量 * 氧量设定值>,\n <Feature: NOx含量 * 汽包水位>,\n <Feature: NOx含量 * 炉排实际运行指令>,\n <Feature: NOx含量 * 炉排自动投退信号>,\n <Feature: NOx含量 * 给水流量>,\n <Feature: SO2含量 * 一次风调门>,\n <Feature: SO2含量 * 一次风量>,\n <Feature: SO2含量 * 主蒸汽流量>,\n <Feature: SO2含量 * 二次风调门>,\n <Feature: SO2含量 * 二次风量>,\n <Feature: SO2含量 * 引风机转速>,\n <Feature: SO2含量 * 推料器自动投退信号>,\n <Feature: SO2含量 * 氧量设定值>,\n <Feature: SO2含量 * 汽包水位>,\n <Feature: SO2含量 * 炉排实际运行指令>,\n <Feature: SO2含量 * 炉排自动投退信号>,\n <Feature: SO2含量 * 给水流量>,\n <Feature: 一次风调门 * 一次风量>,\n <Feature: 一次风调门 * 主蒸汽流量>,\n <Feature: 一次风调门 * 二次风调门>,\n <Feature: 一次风调门 * 二次风量>,\n <Feature: 一次风调门 * 引风机转速>,\n <Feature: 一次风调门 * 推料器自动投退信号>,\n <Feature: 一次风调门 * 氧量设定值>,\n <Feature: 一次风调门 * 汽包水位>,\n <Feature: 一次风调门 * 炉排实际运行指令>,\n <Feature: 一次风调门 * 炉排自动投退信号>,\n <Feature: 一次风调门 * 给水流量>,\n <Feature: 一次风量 * 主蒸汽流量>,\n <Feature: 一次风量 * 二次风调门>,\n <Feature: 一次风量 * 二次风量>,\n <Feature: 一次风量 * 引风机转速>,\n <Feature: 一次风量 * 推料器自动投退信号>,\n <Feature: 一次风量 * 氧量设定值>,\n <Feature: 一次风量 * 汽包水位>,\n <Feature: 一次风量 * 炉排实际运行指令>,\n <Feature: 一次风量 * 炉排自动投退信号>,\n <Feature: 一次风量 * 给水流量>,\n <Feature: 主蒸汽流量 * 二次风调门>,\n <Feature: 主蒸汽流量 * 二次风量>,\n <Feature: 主蒸汽流量 * 引风机转速>,\n <Feature: 主蒸汽流量 * 推料器自动投退信号>,\n <Feature: 主蒸汽流量 * 氧量设定值>,\n <Feature: 主蒸汽流量 * 汽包水位>,\n <Feature: 主蒸汽流量 * 炉排实际运行指令>,\n <Feature: 主蒸汽流量 * 炉排自动投退信号>,\n <Feature: 主蒸汽流量 * 给水流量>,\n <Feature: 二次风调门 * 二次风量>,\n <Feature: 二次风调门 * 引风机转速>,\n <Feature: 二次风调门 * 推料器自动投退信号>,\n <Feature: 二次风调门 * 氧量设定值>,\n <Feature: 二次风调门 * 汽包水位>,\n <Feature: 二次风调门 * 炉排实际运行指令>,\n <Feature: 二次风调门 * 炉排自动投退信号>,\n <Feature: 二次风调门 * 给水流量>,\n <Feature: 二次风量 * 引风机转速>,\n <Feature: 二次风量 * 推料器自动投退信号>,\n <Feature: 二次风量 * 氧量设定值>,\n <Feature: 二次风量 * 汽包水位>,\n <Feature: 二次风量 * 炉排实际运行指令>,\n <Feature: 二次风量 * 炉排自动投退信号>,\n <Feature: 二次风量 * 给水流量>,\n <Feature: 引风机转速 * 推料器自动投退信号>,\n <Feature: 引风机转速 * 氧量设定值>,\n <Feature: 引风机转速 * 汽包水位>,\n <Feature: 引风机转速 * 炉排实际运行指令>,\n <Feature: 引风机转速 * 炉排自动投退信号>,\n <Feature: 引风机转速 * 给水流量>,\n <Feature: 推料器自动投退信号 * 氧量设定值>,\n <Feature: 推料器自动投退信号 * 汽包水位>,\n <Feature: 推料器自动投退信号 * 炉排实际运行指令>,\n <Feature: 推料器自动投退信号 * 炉排自动投退信号>,\n <Feature: 推料器自动投退信号 * 给水流量>,\n <Feature: 氧量设定值 * 汽包水位>,\n <Feature: 氧量设定值 * 炉排实际运行指令>,\n <Feature: 氧量设定值 * 炉排自动投退信号>,\n <Feature: 氧量设定值 * 给水流量>,\n <Feature: 汽包水位 * 炉排实际运行指令>,\n <Feature: 汽包水位 * 炉排自动投退信号>,\n <Feature: 汽包水位 * 给水流量>,\n <Feature: 炉排实际运行指令 * 炉排自动投退信号>,\n <Feature: 炉排实际运行指令 * 给水流量>,\n <Feature: 炉排自动投退信号 * 给水流量>]"
     },
     "execution_count": 21,
     "metadata": {},
     "output_type": "execute_result"
    }
   ],
   "source": [
    "feature_defs"
   ],
   "metadata": {
    "collapsed": false,
    "pycharm": {
     "name": "#%%\n"
    }
   }
  },
  {
   "cell_type": "code",
   "execution_count": 22,
   "outputs": [],
   "source": [
    "feature_matrix['推料器自动指令']  = label"
   ],
   "metadata": {
    "collapsed": false,
    "pycharm": {
     "name": "#%%\n"
    }
   }
  },
  {
   "cell_type": "code",
   "execution_count": 22,
   "outputs": [],
   "source": [],
   "metadata": {
    "collapsed": false,
    "pycharm": {
     "name": "#%%\n"
    }
   }
  },
  {
   "cell_type": "code",
   "execution_count": 23,
   "outputs": [
    {
     "data": {
      "text/plain": "         CO含量   HCL含量    NOx含量   SO2含量    二次风调门       二次风量     给水流量  炉排实际运行指令  \\\nindex                                                                           \n0      0.8819  2.0926  62.1852 -0.0276  19.6134  4062.0190  74.1088      60.0   \n1      1.3889  2.1111  62.1296  3.0000  19.6736  4062.0190  74.0785      60.0   \n2      1.4167  2.0833  62.2037  3.0417  19.6111  4062.0190  74.0368      60.0   \n3      1.4583  2.0417  62.1481  3.0833  19.6366  3774.9172  74.0325      60.0   \n4      1.4375  2.0509  62.0926  3.0903  19.5972  4062.0190  74.0034      60.0   \n\n       炉排自动投退信号    汽包水位  ...  氧量设定值 * 炉排实际运行指令  氧量设定值 * 炉排自动投退信号  \\\nindex                    ...                                       \n0             1  6.6555  ...             360.0               6.0   \n1             1  6.5549  ...             360.0               6.0   \n2             1  6.4923  ...             360.0               6.0   \n3             1  6.5318  ...             360.0               6.0   \n4             1  6.5143  ...             360.0               6.0   \n\n       氧量设定值 * 给水流量  汽包水位 * 炉排实际运行指令  汽包水位 * 炉排自动投退信号  汽包水位 * 给水流量  \\\nindex                                                                \n0          444.6528          399.330           6.6555   493.231118   \n1          444.4710          393.294           6.5549   485.577160   \n2          444.2208          389.538           6.4923   480.669117   \n3          444.1950          391.908           6.5318   483.565483   \n4          444.0204          390.858           6.5143   482.080349   \n\n       炉排实际运行指令 * 炉排自动投退信号  炉排实际运行指令 * 给水流量  炉排自动投退信号 * 给水流量  推料器自动指令  \nindex                                                                  \n0                     60.0         4446.528          74.1088     60.0  \n1                     60.0         4444.710          74.0785     60.0  \n2                     60.0         4442.208          74.0368     60.0  \n3                     60.0         4441.950          74.0325     60.0  \n4                     60.0         4440.204          74.0034     60.0  \n\n[5 rows x 257 columns]",
      "text/html": "<div>\n<style scoped>\n    .dataframe tbody tr th:only-of-type {\n        vertical-align: middle;\n    }\n\n    .dataframe tbody tr th {\n        vertical-align: top;\n    }\n\n    .dataframe thead th {\n        text-align: right;\n    }\n</style>\n<table border=\"1\" class=\"dataframe\">\n  <thead>\n    <tr style=\"text-align: right;\">\n      <th></th>\n      <th>CO含量</th>\n      <th>HCL含量</th>\n      <th>NOx含量</th>\n      <th>SO2含量</th>\n      <th>二次风调门</th>\n      <th>二次风量</th>\n      <th>给水流量</th>\n      <th>炉排实际运行指令</th>\n      <th>炉排自动投退信号</th>\n      <th>汽包水位</th>\n      <th>...</th>\n      <th>氧量设定值 * 炉排实际运行指令</th>\n      <th>氧量设定值 * 炉排自动投退信号</th>\n      <th>氧量设定值 * 给水流量</th>\n      <th>汽包水位 * 炉排实际运行指令</th>\n      <th>汽包水位 * 炉排自动投退信号</th>\n      <th>汽包水位 * 给水流量</th>\n      <th>炉排实际运行指令 * 炉排自动投退信号</th>\n      <th>炉排实际运行指令 * 给水流量</th>\n      <th>炉排自动投退信号 * 给水流量</th>\n      <th>推料器自动指令</th>\n    </tr>\n    <tr>\n      <th>index</th>\n      <th></th>\n      <th></th>\n      <th></th>\n      <th></th>\n      <th></th>\n      <th></th>\n      <th></th>\n      <th></th>\n      <th></th>\n      <th></th>\n      <th></th>\n      <th></th>\n      <th></th>\n      <th></th>\n      <th></th>\n      <th></th>\n      <th></th>\n      <th></th>\n      <th></th>\n      <th></th>\n      <th></th>\n    </tr>\n  </thead>\n  <tbody>\n    <tr>\n      <th>0</th>\n      <td>0.8819</td>\n      <td>2.0926</td>\n      <td>62.1852</td>\n      <td>-0.0276</td>\n      <td>19.6134</td>\n      <td>4062.0190</td>\n      <td>74.1088</td>\n      <td>60.0</td>\n      <td>1</td>\n      <td>6.6555</td>\n      <td>...</td>\n      <td>360.0</td>\n      <td>6.0</td>\n      <td>444.6528</td>\n      <td>399.330</td>\n      <td>6.6555</td>\n      <td>493.231118</td>\n      <td>60.0</td>\n      <td>4446.528</td>\n      <td>74.1088</td>\n      <td>60.0</td>\n    </tr>\n    <tr>\n      <th>1</th>\n      <td>1.3889</td>\n      <td>2.1111</td>\n      <td>62.1296</td>\n      <td>3.0000</td>\n      <td>19.6736</td>\n      <td>4062.0190</td>\n      <td>74.0785</td>\n      <td>60.0</td>\n      <td>1</td>\n      <td>6.5549</td>\n      <td>...</td>\n      <td>360.0</td>\n      <td>6.0</td>\n      <td>444.4710</td>\n      <td>393.294</td>\n      <td>6.5549</td>\n      <td>485.577160</td>\n      <td>60.0</td>\n      <td>4444.710</td>\n      <td>74.0785</td>\n      <td>60.0</td>\n    </tr>\n    <tr>\n      <th>2</th>\n      <td>1.4167</td>\n      <td>2.0833</td>\n      <td>62.2037</td>\n      <td>3.0417</td>\n      <td>19.6111</td>\n      <td>4062.0190</td>\n      <td>74.0368</td>\n      <td>60.0</td>\n      <td>1</td>\n      <td>6.4923</td>\n      <td>...</td>\n      <td>360.0</td>\n      <td>6.0</td>\n      <td>444.2208</td>\n      <td>389.538</td>\n      <td>6.4923</td>\n      <td>480.669117</td>\n      <td>60.0</td>\n      <td>4442.208</td>\n      <td>74.0368</td>\n      <td>60.0</td>\n    </tr>\n    <tr>\n      <th>3</th>\n      <td>1.4583</td>\n      <td>2.0417</td>\n      <td>62.1481</td>\n      <td>3.0833</td>\n      <td>19.6366</td>\n      <td>3774.9172</td>\n      <td>74.0325</td>\n      <td>60.0</td>\n      <td>1</td>\n      <td>6.5318</td>\n      <td>...</td>\n      <td>360.0</td>\n      <td>6.0</td>\n      <td>444.1950</td>\n      <td>391.908</td>\n      <td>6.5318</td>\n      <td>483.565483</td>\n      <td>60.0</td>\n      <td>4441.950</td>\n      <td>74.0325</td>\n      <td>60.0</td>\n    </tr>\n    <tr>\n      <th>4</th>\n      <td>1.4375</td>\n      <td>2.0509</td>\n      <td>62.0926</td>\n      <td>3.0903</td>\n      <td>19.5972</td>\n      <td>4062.0190</td>\n      <td>74.0034</td>\n      <td>60.0</td>\n      <td>1</td>\n      <td>6.5143</td>\n      <td>...</td>\n      <td>360.0</td>\n      <td>6.0</td>\n      <td>444.0204</td>\n      <td>390.858</td>\n      <td>6.5143</td>\n      <td>482.080349</td>\n      <td>60.0</td>\n      <td>4440.204</td>\n      <td>74.0034</td>\n      <td>60.0</td>\n    </tr>\n  </tbody>\n</table>\n<p>5 rows × 257 columns</p>\n</div>"
     },
     "execution_count": 23,
     "metadata": {},
     "output_type": "execute_result"
    }
   ],
   "source": [
    "# feature_matrix['推料器自动指令']\n",
    "data = feature_matrix\n",
    "data.head(5)"
   ],
   "metadata": {
    "collapsed": false,
    "pycharm": {
     "name": "#%%\n"
    }
   }
  },
  {
   "cell_type": "code",
   "execution_count": 24,
   "outputs": [
    {
     "name": "stderr",
     "output_type": "stream",
     "text": [
      "100%|██████████| 257/257 [00:08<00:00, 32.10it/s] \n"
     ]
    },
    {
     "name": "stdout",
     "output_type": "stream",
     "text": [
      "Mem. usage decreased to 59.18 Mb (70.5% reduction)\n"
     ]
    }
   ],
   "source": [
    "# # 内存压缩\n",
    "def reduce_mem_usage(df, verbose=True):\n",
    "    numerics = ['int16', 'int32', 'int64', 'float16', 'float32', 'float64']\n",
    "    start_mem = df.memory_usage().sum() / 1024 ** 2\n",
    "    for col in tqdm(df.columns):\n",
    "        col_type = df[col].dtypes\n",
    "        if col_type in numerics:\n",
    "            c_min = df[col].min()\n",
    "            c_max = df[col].max()\n",
    "            if str(col_type)[:3] == 'int':\n",
    "                if c_min > np.iinfo(np.int8).min and c_max < np.iinfo(np.int8).max:\n",
    "                    df[col] = df[col].astype(np.int8)\n",
    "                elif c_min > np.iinfo(np.int16).min and c_max < np.iinfo(np.int16).max:\n",
    "                    df[col] = df[col].astype(np.int16)\n",
    "                elif c_min > np.iinfo(np.int32).min and c_max < np.iinfo(np.int32).max:\n",
    "                    df[col] = df[col].astype(np.int32)\n",
    "                elif c_min > np.iinfo(np.int64).min and c_max < np.iinfo(np.int64).max:\n",
    "                    df[col] = df[col].astype(np.int64)\n",
    "            else:\n",
    "                if c_min > np.finfo(np.float16).min and c_max < np.finfo(np.float16).max:\n",
    "                    df[col] = df[col].astype(np.float16)\n",
    "                elif c_min > np.finfo(np.float32).min and c_max < np.finfo(np.float32).max:\n",
    "                    df[col] = df[col].astype(np.float32)\n",
    "                else:\n",
    "                    df[col] = df[col].astype(np.float64)\n",
    "    end_mem = df.memory_usage().sum() / 1024 ** 2\n",
    "    if verbose: print('Mem. usage decreased to {:5.2f} Mb ({:.1f}% reduction)'.format(end_mem, 100 * (\n",
    "                start_mem - end_mem) / start_mem))\n",
    "    return df\n",
    "\n",
    "# 压缩使用内存\n",
    "# 由于数据比较大，所以合理的压缩内存节省空间尤为的重要\n",
    "# 使用reduce_mem_usage函数可以压缩近70%的内存占有。\n",
    "data = reduce_mem_usage(data)"
   ],
   "metadata": {
    "collapsed": false,
    "pycharm": {
     "name": "#%%\n"
    }
   }
  },
  {
   "cell_type": "code",
   "execution_count": 24,
   "outputs": [],
   "source": [],
   "metadata": {
    "collapsed": false,
    "pycharm": {
     "name": "#%%\n"
    }
   }
  },
  {
   "cell_type": "code",
   "execution_count": 25,
   "outputs": [
    {
     "name": "stdout",
     "output_type": "stream",
     "text": [
      "nums features:  257\n"
     ]
    }
   ],
   "source": [
    "print('nums features: ', len(data.columns))"
   ],
   "metadata": {
    "collapsed": false,
    "pycharm": {
     "name": "#%%\n"
    }
   }
  },
  {
   "cell_type": "code",
   "execution_count": 26,
   "outputs": [],
   "source": [
    "label = '推料器自动指令'\n",
    "test_data = data.tail(1800)\n",
    "train = data.iloc[:-1800, :]\n",
    "train.reset_index(drop=True, inplace=True)\n",
    "# features = train.columns.drop(['时间', label]).tolist()\n",
    "features = train.columns.drop([label]).tolist()\n",
    "train_x, train_y = train[features], train[label]"
   ],
   "metadata": {
    "collapsed": false,
    "pycharm": {
     "name": "#%%\n"
    }
   }
  },
  {
   "cell_type": "code",
   "execution_count": 27,
   "outputs": [],
   "source": [
    "# train"
   ],
   "metadata": {
    "collapsed": false,
    "pycharm": {
     "name": "#%%\n"
    }
   }
  },
  {
   "cell_type": "code",
   "execution_count": 28,
   "outputs": [
    {
     "name": "stdout",
     "output_type": "stream",
     "text": [
      "************************************  1 fold************************************\n",
      "[LightGBM] [Warning] Found whitespace in feature_names, replace with underlines\n",
      "[LightGBM] [Warning] Auto-choosing col-wise multi-threading, the overhead of testing was 0.034765 seconds.\n",
      "You can set `force_col_wise=true` to remove the overhead.\n",
      "[LightGBM] [Info] Total Bins 62193\n",
      "[LightGBM] [Info] Number of data points in the train set: 80208, number of used features: 256\n",
      "[LightGBM] [Warning] Found whitespace in feature_names, replace with underlines\n",
      "[LightGBM] [Info] Start training from score 70.000000\n",
      "Training until validation scores don't improve for 1000 rounds\n",
      "[200]\ttraining's rmse: 5.01915\tvalid_1's rmse: 4.96969\n",
      "[400]\ttraining's rmse: 4.51974\tvalid_1's rmse: 4.47068\n",
      "[600]\ttraining's rmse: 3.70375\tvalid_1's rmse: 3.65898\n",
      "[800]\ttraining's rmse: 3.1455\tvalid_1's rmse: 3.14431\n",
      "[1000]\ttraining's rmse: 2.8246\tvalid_1's rmse: 2.86111\n",
      "[1200]\ttraining's rmse: 2.65679\tvalid_1's rmse: 2.69711\n",
      "[1400]\ttraining's rmse: 2.50068\tvalid_1's rmse: 2.53875\n",
      "[1600]\ttraining's rmse: 2.26411\tvalid_1's rmse: 2.2922\n",
      "[1800]\ttraining's rmse: 2.13531\tvalid_1's rmse: 2.16211\n",
      "[2000]\ttraining's rmse: 1.97109\tvalid_1's rmse: 2.01287\n",
      "[2200]\ttraining's rmse: 1.81199\tvalid_1's rmse: 1.86189\n",
      "[2400]\ttraining's rmse: 1.73097\tvalid_1's rmse: 1.782\n",
      "[2600]\ttraining's rmse: 1.68458\tvalid_1's rmse: 1.73862\n",
      "[2800]\ttraining's rmse: 1.63313\tvalid_1's rmse: 1.69139\n",
      "[3000]\ttraining's rmse: 1.59566\tvalid_1's rmse: 1.65565\n",
      "[3200]\ttraining's rmse: 1.5503\tvalid_1's rmse: 1.61256\n",
      "[3400]\ttraining's rmse: 1.44818\tvalid_1's rmse: 1.51037\n",
      "[3600]\ttraining's rmse: 1.41243\tvalid_1's rmse: 1.47367\n",
      "[3800]\ttraining's rmse: 1.39093\tvalid_1's rmse: 1.45367\n",
      "[4000]\ttraining's rmse: 1.37002\tvalid_1's rmse: 1.43377\n",
      "[4200]\ttraining's rmse: 1.35385\tvalid_1's rmse: 1.41893\n",
      "[4400]\ttraining's rmse: 1.33955\tvalid_1's rmse: 1.40565\n",
      "[4600]\ttraining's rmse: 1.32574\tvalid_1's rmse: 1.39303\n",
      "[4800]\ttraining's rmse: 1.31339\tvalid_1's rmse: 1.38101\n",
      "[5000]\ttraining's rmse: 1.30309\tvalid_1's rmse: 1.37153\n",
      "[5200]\ttraining's rmse: 1.29404\tvalid_1's rmse: 1.36346\n",
      "[5400]\ttraining's rmse: 1.28156\tvalid_1's rmse: 1.35228\n",
      "[5600]\ttraining's rmse: 1.27178\tvalid_1's rmse: 1.3434\n",
      "[5800]\ttraining's rmse: 1.2656\tvalid_1's rmse: 1.33793\n",
      "[6000]\ttraining's rmse: 1.26017\tvalid_1's rmse: 1.3328\n",
      "[6200]\ttraining's rmse: 1.2537\tvalid_1's rmse: 1.32709\n",
      "[6400]\ttraining's rmse: 1.24512\tvalid_1's rmse: 1.31969\n",
      "[6600]\ttraining's rmse: 1.23878\tvalid_1's rmse: 1.31401\n",
      "[6800]\ttraining's rmse: 1.23104\tvalid_1's rmse: 1.30707\n",
      "[7000]\ttraining's rmse: 1.22533\tvalid_1's rmse: 1.30209\n",
      "[7200]\ttraining's rmse: 1.21943\tvalid_1's rmse: 1.29714\n",
      "[7400]\ttraining's rmse: 1.21223\tvalid_1's rmse: 1.29081\n",
      "[7600]\ttraining's rmse: 1.20664\tvalid_1's rmse: 1.28527\n",
      "[7800]\ttraining's rmse: 1.20126\tvalid_1's rmse: 1.28096\n",
      "[8000]\ttraining's rmse: 1.19547\tvalid_1's rmse: 1.27533\n",
      "[8200]\ttraining's rmse: 1.18848\tvalid_1's rmse: 1.26823\n",
      "[8400]\ttraining's rmse: 1.18376\tvalid_1's rmse: 1.26394\n",
      "[8600]\ttraining's rmse: 1.17889\tvalid_1's rmse: 1.25929\n",
      "[8800]\ttraining's rmse: 1.17294\tvalid_1's rmse: 1.2535\n",
      "[9000]\ttraining's rmse: 1.16753\tvalid_1's rmse: 1.24826\n",
      "[9200]\ttraining's rmse: 1.16243\tvalid_1's rmse: 1.24376\n",
      "[9400]\ttraining's rmse: 1.15761\tvalid_1's rmse: 1.23908\n",
      "[9600]\ttraining's rmse: 1.15412\tvalid_1's rmse: 1.23581\n",
      "[9800]\ttraining's rmse: 1.15006\tvalid_1's rmse: 1.23172\n",
      "[10000]\ttraining's rmse: 1.14704\tvalid_1's rmse: 1.22893\n",
      "Did not meet early stopping. Best iteration is:\n",
      "[10000]\ttraining's rmse: 1.14704\tvalid_1's rmse: 1.22893\n",
      "************************************  2 fold************************************\n",
      "[LightGBM] [Warning] Found whitespace in feature_names, replace with underlines\n",
      "[LightGBM] [Warning] Auto-choosing col-wise multi-threading, the overhead of testing was 0.036398 seconds.\n",
      "You can set `force_col_wise=true` to remove the overhead.\n",
      "[LightGBM] [Info] Total Bins 62215\n",
      "[LightGBM] [Info] Number of data points in the train set: 80208, number of used features: 256\n",
      "[LightGBM] [Warning] Found whitespace in feature_names, replace with underlines\n",
      "[LightGBM] [Info] Start training from score 70.000000\n",
      "Training until validation scores don't improve for 1000 rounds\n",
      "[200]\ttraining's rmse: 5.09008\tvalid_1's rmse: 5.09024\n",
      "[400]\ttraining's rmse: 4.38947\tvalid_1's rmse: 4.4081\n",
      "[600]\ttraining's rmse: 3.78272\tvalid_1's rmse: 3.84792\n",
      "[800]\ttraining's rmse: 3.48412\tvalid_1's rmse: 3.5382\n",
      "[1000]\ttraining's rmse: 3.0274\tvalid_1's rmse: 3.03279\n",
      "[1200]\ttraining's rmse: 2.67648\tvalid_1's rmse: 2.71395\n",
      "[1400]\ttraining's rmse: 2.36067\tvalid_1's rmse: 2.44805\n",
      "[1600]\ttraining's rmse: 2.21617\tvalid_1's rmse: 2.31019\n",
      "[1800]\ttraining's rmse: 2.12191\tvalid_1's rmse: 2.21967\n",
      "[2000]\ttraining's rmse: 1.98876\tvalid_1's rmse: 2.08619\n",
      "[2200]\ttraining's rmse: 1.92227\tvalid_1's rmse: 2.01757\n",
      "[2400]\ttraining's rmse: 1.86376\tvalid_1's rmse: 1.96221\n",
      "[2600]\ttraining's rmse: 1.78814\tvalid_1's rmse: 1.89362\n",
      "[2800]\ttraining's rmse: 1.70866\tvalid_1's rmse: 1.81782\n",
      "[3000]\ttraining's rmse: 1.67154\tvalid_1's rmse: 1.78147\n",
      "[3200]\ttraining's rmse: 1.63156\tvalid_1's rmse: 1.74625\n",
      "[3400]\ttraining's rmse: 1.54362\tvalid_1's rmse: 1.66807\n",
      "[3600]\ttraining's rmse: 1.4805\tvalid_1's rmse: 1.61248\n",
      "[3800]\ttraining's rmse: 1.45959\tvalid_1's rmse: 1.59321\n",
      "[4000]\ttraining's rmse: 1.44337\tvalid_1's rmse: 1.57776\n",
      "[4200]\ttraining's rmse: 1.42841\tvalid_1's rmse: 1.5641\n",
      "[4400]\ttraining's rmse: 1.41505\tvalid_1's rmse: 1.55162\n",
      "[4600]\ttraining's rmse: 1.40227\tvalid_1's rmse: 1.54037\n",
      "[4800]\ttraining's rmse: 1.38976\tvalid_1's rmse: 1.52851\n",
      "[5000]\ttraining's rmse: 1.37862\tvalid_1's rmse: 1.51856\n",
      "[5200]\ttraining's rmse: 1.36748\tvalid_1's rmse: 1.50833\n",
      "[5400]\ttraining's rmse: 1.35649\tvalid_1's rmse: 1.49831\n",
      "[5600]\ttraining's rmse: 1.34395\tvalid_1's rmse: 1.488\n",
      "[5800]\ttraining's rmse: 1.33426\tvalid_1's rmse: 1.47946\n",
      "[6000]\ttraining's rmse: 1.32437\tvalid_1's rmse: 1.47019\n",
      "[6200]\ttraining's rmse: 1.31356\tvalid_1's rmse: 1.4608\n",
      "[6400]\ttraining's rmse: 1.30668\tvalid_1's rmse: 1.45445\n",
      "[6600]\ttraining's rmse: 1.30033\tvalid_1's rmse: 1.44868\n",
      "[6800]\ttraining's rmse: 1.29408\tvalid_1's rmse: 1.44291\n",
      "[7000]\ttraining's rmse: 1.28411\tvalid_1's rmse: 1.43352\n",
      "[7200]\ttraining's rmse: 1.27505\tvalid_1's rmse: 1.42482\n",
      "[7400]\ttraining's rmse: 1.26705\tvalid_1's rmse: 1.41717\n",
      "[7600]\ttraining's rmse: 1.25993\tvalid_1's rmse: 1.41094\n",
      "[7800]\ttraining's rmse: 1.25319\tvalid_1's rmse: 1.40535\n",
      "[8000]\ttraining's rmse: 1.24665\tvalid_1's rmse: 1.39934\n",
      "[8200]\ttraining's rmse: 1.24221\tvalid_1's rmse: 1.39533\n",
      "[8400]\ttraining's rmse: 1.23759\tvalid_1's rmse: 1.3913\n",
      "[8600]\ttraining's rmse: 1.23184\tvalid_1's rmse: 1.38595\n",
      "[8800]\ttraining's rmse: 1.22575\tvalid_1's rmse: 1.38043\n",
      "[9000]\ttraining's rmse: 1.21937\tvalid_1's rmse: 1.37454\n",
      "[9200]\ttraining's rmse: 1.2141\tvalid_1's rmse: 1.36944\n",
      "[9400]\ttraining's rmse: 1.20853\tvalid_1's rmse: 1.36497\n",
      "[9600]\ttraining's rmse: 1.20274\tvalid_1's rmse: 1.35937\n",
      "[9800]\ttraining's rmse: 1.19664\tvalid_1's rmse: 1.35399\n",
      "[10000]\ttraining's rmse: 1.19094\tvalid_1's rmse: 1.34888\n",
      "Did not meet early stopping. Best iteration is:\n",
      "[10000]\ttraining's rmse: 1.19094\tvalid_1's rmse: 1.34888\n",
      "************************************  3 fold************************************\n",
      "[LightGBM] [Warning] Found whitespace in feature_names, replace with underlines\n",
      "[LightGBM] [Warning] Auto-choosing col-wise multi-threading, the overhead of testing was 0.038455 seconds.\n",
      "You can set `force_col_wise=true` to remove the overhead.\n",
      "[LightGBM] [Info] Total Bins 62202\n",
      "[LightGBM] [Info] Number of data points in the train set: 80208, number of used features: 256\n",
      "[LightGBM] [Warning] Found whitespace in feature_names, replace with underlines\n",
      "[LightGBM] [Info] Start training from score 70.000000\n",
      "Training until validation scores don't improve for 1000 rounds\n",
      "[200]\ttraining's rmse: 4.94391\tvalid_1's rmse: 5.00553\n",
      "[400]\ttraining's rmse: 4.36659\tvalid_1's rmse: 4.42337\n",
      "[600]\ttraining's rmse: 3.78369\tvalid_1's rmse: 3.79669\n",
      "[800]\ttraining's rmse: 3.45564\tvalid_1's rmse: 3.46372\n",
      "[1000]\ttraining's rmse: 2.9756\tvalid_1's rmse: 3.03595\n",
      "[1200]\ttraining's rmse: 2.6322\tvalid_1's rmse: 2.71973\n",
      "[1400]\ttraining's rmse: 2.46617\tvalid_1's rmse: 2.57715\n",
      "[1600]\ttraining's rmse: 2.35942\tvalid_1's rmse: 2.47452\n",
      "[1800]\ttraining's rmse: 2.10109\tvalid_1's rmse: 2.1873\n",
      "[2000]\ttraining's rmse: 1.87332\tvalid_1's rmse: 1.94497\n",
      "[2200]\ttraining's rmse: 1.80042\tvalid_1's rmse: 1.87144\n",
      "[2400]\ttraining's rmse: 1.72883\tvalid_1's rmse: 1.80289\n",
      "[2600]\ttraining's rmse: 1.68234\tvalid_1's rmse: 1.75779\n",
      "[2800]\ttraining's rmse: 1.6284\tvalid_1's rmse: 1.70443\n",
      "[3000]\ttraining's rmse: 1.57183\tvalid_1's rmse: 1.64767\n",
      "[3200]\ttraining's rmse: 1.51002\tvalid_1's rmse: 1.58347\n",
      "[3400]\ttraining's rmse: 1.45484\tvalid_1's rmse: 1.52245\n",
      "[3600]\ttraining's rmse: 1.42105\tvalid_1's rmse: 1.48945\n",
      "[3800]\ttraining's rmse: 1.40465\tvalid_1's rmse: 1.47514\n",
      "[4000]\ttraining's rmse: 1.38633\tvalid_1's rmse: 1.45849\n",
      "[4200]\ttraining's rmse: 1.37229\tvalid_1's rmse: 1.44546\n",
      "[4400]\ttraining's rmse: 1.35985\tvalid_1's rmse: 1.43447\n",
      "[4600]\ttraining's rmse: 1.34751\tvalid_1's rmse: 1.42274\n",
      "[4800]\ttraining's rmse: 1.33382\tvalid_1's rmse: 1.41091\n",
      "[5000]\ttraining's rmse: 1.32523\tvalid_1's rmse: 1.40335\n",
      "[5200]\ttraining's rmse: 1.31571\tvalid_1's rmse: 1.39505\n",
      "[5400]\ttraining's rmse: 1.30443\tvalid_1's rmse: 1.38522\n",
      "[5600]\ttraining's rmse: 1.29501\tvalid_1's rmse: 1.37691\n",
      "[5800]\ttraining's rmse: 1.28689\tvalid_1's rmse: 1.37034\n",
      "[6000]\ttraining's rmse: 1.2783\tvalid_1's rmse: 1.36243\n",
      "[6200]\ttraining's rmse: 1.26937\tvalid_1's rmse: 1.35441\n",
      "[6400]\ttraining's rmse: 1.26248\tvalid_1's rmse: 1.34813\n",
      "[6600]\ttraining's rmse: 1.25294\tvalid_1's rmse: 1.33922\n",
      "[6800]\ttraining's rmse: 1.24741\tvalid_1's rmse: 1.33377\n",
      "[7000]\ttraining's rmse: 1.23979\tvalid_1's rmse: 1.32699\n",
      "[7200]\ttraining's rmse: 1.23299\tvalid_1's rmse: 1.32103\n",
      "[7400]\ttraining's rmse: 1.22474\tvalid_1's rmse: 1.31358\n",
      "[7600]\ttraining's rmse: 1.218\tvalid_1's rmse: 1.30716\n",
      "[7800]\ttraining's rmse: 1.21233\tvalid_1's rmse: 1.302\n",
      "[8000]\ttraining's rmse: 1.20757\tvalid_1's rmse: 1.29746\n",
      "[8200]\ttraining's rmse: 1.20141\tvalid_1's rmse: 1.29189\n",
      "[8400]\ttraining's rmse: 1.19534\tvalid_1's rmse: 1.28636\n",
      "[8600]\ttraining's rmse: 1.18896\tvalid_1's rmse: 1.28058\n",
      "[8800]\ttraining's rmse: 1.18426\tvalid_1's rmse: 1.27587\n",
      "[9000]\ttraining's rmse: 1.17979\tvalid_1's rmse: 1.27197\n",
      "[9200]\ttraining's rmse: 1.1747\tvalid_1's rmse: 1.2675\n",
      "[9400]\ttraining's rmse: 1.17041\tvalid_1's rmse: 1.26365\n",
      "[9600]\ttraining's rmse: 1.16412\tvalid_1's rmse: 1.2579\n",
      "[9800]\ttraining's rmse: 1.15897\tvalid_1's rmse: 1.25328\n",
      "[10000]\ttraining's rmse: 1.15344\tvalid_1's rmse: 1.24822\n",
      "Did not meet early stopping. Best iteration is:\n",
      "[10000]\ttraining's rmse: 1.15344\tvalid_1's rmse: 1.24822\n",
      "************************************  4 fold************************************\n",
      "[LightGBM] [Warning] Found whitespace in feature_names, replace with underlines\n",
      "[LightGBM] [Warning] Auto-choosing col-wise multi-threading, the overhead of testing was 0.036834 seconds.\n",
      "You can set `force_col_wise=true` to remove the overhead.\n",
      "[LightGBM] [Info] Total Bins 62207\n",
      "[LightGBM] [Info] Number of data points in the train set: 80208, number of used features: 256\n",
      "[LightGBM] [Warning] Found whitespace in feature_names, replace with underlines\n",
      "[LightGBM] [Info] Start training from score 70.000000\n",
      "Training until validation scores don't improve for 1000 rounds\n",
      "[200]\ttraining's rmse: 5.18584\tvalid_1's rmse: 5.21611\n",
      "[400]\ttraining's rmse: 4.5066\tvalid_1's rmse: 4.53784\n",
      "[600]\ttraining's rmse: 3.74746\tvalid_1's rmse: 3.77836\n",
      "[800]\ttraining's rmse: 3.21085\tvalid_1's rmse: 3.25666\n",
      "[1000]\ttraining's rmse: 2.84825\tvalid_1's rmse: 2.88912\n",
      "[1200]\ttraining's rmse: 2.66001\tvalid_1's rmse: 2.70579\n",
      "[1400]\ttraining's rmse: 2.45431\tvalid_1's rmse: 2.50272\n",
      "[1600]\ttraining's rmse: 2.29154\tvalid_1's rmse: 2.34642\n",
      "[1800]\ttraining's rmse: 2.12561\tvalid_1's rmse: 2.18185\n",
      "[2000]\ttraining's rmse: 1.94283\tvalid_1's rmse: 2.00192\n",
      "[2200]\ttraining's rmse: 1.78774\tvalid_1's rmse: 1.86663\n",
      "[2400]\ttraining's rmse: 1.66973\tvalid_1's rmse: 1.76428\n",
      "[2600]\ttraining's rmse: 1.61001\tvalid_1's rmse: 1.70897\n",
      "[2800]\ttraining's rmse: 1.55984\tvalid_1's rmse: 1.66111\n",
      "[3000]\ttraining's rmse: 1.50947\tvalid_1's rmse: 1.61204\n",
      "[3200]\ttraining's rmse: 1.47058\tvalid_1's rmse: 1.57487\n",
      "[3400]\ttraining's rmse: 1.431\tvalid_1's rmse: 1.53865\n",
      "[3600]\ttraining's rmse: 1.40611\tvalid_1's rmse: 1.51564\n",
      "[3800]\ttraining's rmse: 1.38504\tvalid_1's rmse: 1.49604\n",
      "[4000]\ttraining's rmse: 1.37061\tvalid_1's rmse: 1.48207\n",
      "[4200]\ttraining's rmse: 1.35648\tvalid_1's rmse: 1.4686\n",
      "[4400]\ttraining's rmse: 1.34333\tvalid_1's rmse: 1.4567\n",
      "[4600]\ttraining's rmse: 1.33307\tvalid_1's rmse: 1.44577\n",
      "[4800]\ttraining's rmse: 1.32294\tvalid_1's rmse: 1.43607\n",
      "[5000]\ttraining's rmse: 1.31219\tvalid_1's rmse: 1.42634\n",
      "[5200]\ttraining's rmse: 1.3007\tvalid_1's rmse: 1.4156\n",
      "[5400]\ttraining's rmse: 1.29015\tvalid_1's rmse: 1.40556\n",
      "[5600]\ttraining's rmse: 1.27969\tvalid_1's rmse: 1.39613\n",
      "[5800]\ttraining's rmse: 1.27009\tvalid_1's rmse: 1.38679\n",
      "[6000]\ttraining's rmse: 1.26216\tvalid_1's rmse: 1.37869\n",
      "[6200]\ttraining's rmse: 1.25483\tvalid_1's rmse: 1.37172\n",
      "[6400]\ttraining's rmse: 1.24426\tvalid_1's rmse: 1.36114\n",
      "[6600]\ttraining's rmse: 1.2373\tvalid_1's rmse: 1.35423\n",
      "[6800]\ttraining's rmse: 1.22919\tvalid_1's rmse: 1.34648\n",
      "[7000]\ttraining's rmse: 1.22337\tvalid_1's rmse: 1.34082\n",
      "[7200]\ttraining's rmse: 1.2172\tvalid_1's rmse: 1.33514\n",
      "[7400]\ttraining's rmse: 1.21031\tvalid_1's rmse: 1.32851\n",
      "[7600]\ttraining's rmse: 1.2014\tvalid_1's rmse: 1.32086\n",
      "[7800]\ttraining's rmse: 1.19217\tvalid_1's rmse: 1.31241\n",
      "[8000]\ttraining's rmse: 1.18503\tvalid_1's rmse: 1.30584\n",
      "[8200]\ttraining's rmse: 1.17559\tvalid_1's rmse: 1.29747\n",
      "[8400]\ttraining's rmse: 1.1656\tvalid_1's rmse: 1.28842\n",
      "[8600]\ttraining's rmse: 1.15996\tvalid_1's rmse: 1.28375\n",
      "[8800]\ttraining's rmse: 1.15419\tvalid_1's rmse: 1.27813\n",
      "[9000]\ttraining's rmse: 1.14971\tvalid_1's rmse: 1.27413\n",
      "[9200]\ttraining's rmse: 1.14606\tvalid_1's rmse: 1.27083\n",
      "[9400]\ttraining's rmse: 1.14086\tvalid_1's rmse: 1.26605\n",
      "[9600]\ttraining's rmse: 1.13649\tvalid_1's rmse: 1.26208\n",
      "[9800]\ttraining's rmse: 1.13228\tvalid_1's rmse: 1.25838\n",
      "[10000]\ttraining's rmse: 1.12817\tvalid_1's rmse: 1.25477\n",
      "Did not meet early stopping. Best iteration is:\n",
      "[10000]\ttraining's rmse: 1.12817\tvalid_1's rmse: 1.25477\n",
      "************************************  5 fold************************************\n",
      "[LightGBM] [Warning] Found whitespace in feature_names, replace with underlines\n",
      "[LightGBM] [Warning] Auto-choosing col-wise multi-threading, the overhead of testing was 0.046655 seconds.\n",
      "You can set `force_col_wise=true` to remove the overhead.\n",
      "[LightGBM] [Info] Total Bins 62222\n",
      "[LightGBM] [Info] Number of data points in the train set: 80208, number of used features: 256\n",
      "[LightGBM] [Warning] Found whitespace in feature_names, replace with underlines\n",
      "[LightGBM] [Info] Start training from score 70.000000\n",
      "Training until validation scores don't improve for 1000 rounds\n",
      "[200]\ttraining's rmse: 5.15921\tvalid_1's rmse: 5.17702\n",
      "[400]\ttraining's rmse: 4.69829\tvalid_1's rmse: 4.71957\n",
      "[600]\ttraining's rmse: 3.96689\tvalid_1's rmse: 4.03131\n",
      "[800]\ttraining's rmse: 3.29726\tvalid_1's rmse: 3.37503\n",
      "[1000]\ttraining's rmse: 2.94245\tvalid_1's rmse: 3.01511\n",
      "[1200]\ttraining's rmse: 2.75039\tvalid_1's rmse: 2.81462\n",
      "[1400]\ttraining's rmse: 2.55527\tvalid_1's rmse: 2.61068\n",
      "[1600]\ttraining's rmse: 2.34546\tvalid_1's rmse: 2.38803\n",
      "[1800]\ttraining's rmse: 2.17792\tvalid_1's rmse: 2.22241\n",
      "[2000]\ttraining's rmse: 2.02541\tvalid_1's rmse: 2.07041\n",
      "[2200]\ttraining's rmse: 1.85291\tvalid_1's rmse: 1.89084\n",
      "[2400]\ttraining's rmse: 1.75606\tvalid_1's rmse: 1.80117\n",
      "[2600]\ttraining's rmse: 1.69536\tvalid_1's rmse: 1.74232\n",
      "[2800]\ttraining's rmse: 1.64923\tvalid_1's rmse: 1.69668\n",
      "[3000]\ttraining's rmse: 1.59874\tvalid_1's rmse: 1.64663\n",
      "[3200]\ttraining's rmse: 1.54971\tvalid_1's rmse: 1.59622\n",
      "[3400]\ttraining's rmse: 1.50285\tvalid_1's rmse: 1.5479\n",
      "[3600]\ttraining's rmse: 1.46768\tvalid_1's rmse: 1.51032\n",
      "[3800]\ttraining's rmse: 1.42954\tvalid_1's rmse: 1.46834\n",
      "[4000]\ttraining's rmse: 1.40427\tvalid_1's rmse: 1.44405\n",
      "[4200]\ttraining's rmse: 1.38671\tvalid_1's rmse: 1.4267\n",
      "[4400]\ttraining's rmse: 1.37253\tvalid_1's rmse: 1.41238\n",
      "[4600]\ttraining's rmse: 1.35941\tvalid_1's rmse: 1.39932\n",
      "[4800]\ttraining's rmse: 1.34799\tvalid_1's rmse: 1.38853\n",
      "[5000]\ttraining's rmse: 1.33773\tvalid_1's rmse: 1.37871\n",
      "[5200]\ttraining's rmse: 1.3263\tvalid_1's rmse: 1.36667\n",
      "[5400]\ttraining's rmse: 1.31714\tvalid_1's rmse: 1.35779\n",
      "[5600]\ttraining's rmse: 1.30406\tvalid_1's rmse: 1.34551\n",
      "[5800]\ttraining's rmse: 1.28979\tvalid_1's rmse: 1.33173\n",
      "[6000]\ttraining's rmse: 1.28214\tvalid_1's rmse: 1.32434\n",
      "[6200]\ttraining's rmse: 1.27486\tvalid_1's rmse: 1.31758\n",
      "[6400]\ttraining's rmse: 1.26762\tvalid_1's rmse: 1.31086\n",
      "[6600]\ttraining's rmse: 1.25685\tvalid_1's rmse: 1.30073\n",
      "[6800]\ttraining's rmse: 1.24863\tvalid_1's rmse: 1.29278\n",
      "[7000]\ttraining's rmse: 1.24283\tvalid_1's rmse: 1.28733\n",
      "[7200]\ttraining's rmse: 1.23772\tvalid_1's rmse: 1.28267\n",
      "[7400]\ttraining's rmse: 1.23207\tvalid_1's rmse: 1.27748\n",
      "[7600]\ttraining's rmse: 1.22535\tvalid_1's rmse: 1.27147\n",
      "[7800]\ttraining's rmse: 1.2187\tvalid_1's rmse: 1.26509\n",
      "[8000]\ttraining's rmse: 1.21321\tvalid_1's rmse: 1.26\n",
      "[8200]\ttraining's rmse: 1.20864\tvalid_1's rmse: 1.25581\n",
      "[8400]\ttraining's rmse: 1.19887\tvalid_1's rmse: 1.24635\n",
      "[8600]\ttraining's rmse: 1.18879\tvalid_1's rmse: 1.23763\n",
      "[8800]\ttraining's rmse: 1.18276\tvalid_1's rmse: 1.23245\n",
      "[9000]\ttraining's rmse: 1.17591\tvalid_1's rmse: 1.22726\n",
      "[9200]\ttraining's rmse: 1.17169\tvalid_1's rmse: 1.22358\n",
      "[9400]\ttraining's rmse: 1.16574\tvalid_1's rmse: 1.218\n",
      "[9600]\ttraining's rmse: 1.161\tvalid_1's rmse: 1.21351\n",
      "[9800]\ttraining's rmse: 1.15652\tvalid_1's rmse: 1.20962\n",
      "[10000]\ttraining's rmse: 1.15215\tvalid_1's rmse: 1.20574\n",
      "Did not meet early stopping. Best iteration is:\n",
      "[10000]\ttraining's rmse: 1.15215\tvalid_1's rmse: 1.20574\n"
     ]
    }
   ],
   "source": [
    "# 交叉验证所使用的第三方库\n",
    "\n",
    "\n",
    "kf = KFold(n_splits=5, shuffle=True, random_state=42)\n",
    "test_x = test_data[features]\n",
    "test_lgb = np.zeros(test_x.shape[0])\n",
    "\n",
    "\n",
    "\n",
    "for i, (train_index, valid_index) in enumerate(kf.split(train_x, train_y)):\n",
    "    print('************************************  {} fold************************************'.format(str(i + 1)))\n",
    "    trn_x, trn_y, val_x, val_y = train_x.iloc[train_index], train_y[train_index], \\\n",
    "                                 train_x.iloc[valid_index], train_y[valid_index]\n",
    "\n",
    "    dtrain = lgb.Dataset(trn_x, label=trn_y)\n",
    "    dvalid = lgb.Dataset(val_x, label=val_y)\n",
    "\n",
    "    watchlist = [dtrain, dvalid]\n",
    "\n",
    "    params = {\n",
    "        'boosting_type': 'gbdt',\n",
    "        'objective': 'regression_l1',\n",
    "        'metric': 'l2_root',\n",
    "        'learning_rate': 0.01,\n",
    "        'reg_alpha': 0.7,\n",
    "        'reg_lambda': 35,\n",
    "        'bagging_fraction': 0.7,\n",
    "        'bagging_freq': 5,\n",
    "        'feature_fraction': 0.7,\n",
    "        \"random_seed\": 1,\n",
    "    }\n",
    "    model = lgb.train(params, train_set=dtrain, num_boost_round=10000, early_stopping_rounds=1000, valid_sets=watchlist,\n",
    "                      verbose_eval=200)\n",
    "\n",
    "    test_pred = model.predict(test_x)\n",
    "    test_lgb += test_pred / kf.n_splits"
   ],
   "metadata": {
    "collapsed": false,
    "pycharm": {
     "name": "#%%\n"
    }
   }
  },
  {
   "cell_type": "code",
   "execution_count": 28,
   "outputs": [],
   "source": [],
   "metadata": {
    "collapsed": false,
    "pycharm": {
     "name": "#%%\n"
    }
   }
  },
  {
   "cell_type": "code",
   "execution_count": 29,
   "outputs": [
    {
     "name": "stdout",
     "output_type": "stream",
     "text": [
      "************************************  1 fold************************************\n",
      "[12:35:53] WARNING: C:/Users/Administrator/workspace/xgboost-win64_release_1.4.0/src/learner.cc:573: \n",
      "Parameters: { \"randam_state\" } might not be used.\n",
      "\n",
      "  This may not be accurate due to some parameters are only used in language bindings but\n",
      "  passed down to XGBoost core.  Or some parameters are not used but slip through this\n",
      "  verification. Please open an issue if you find above cases.\n",
      "\n",
      "\n",
      "[0]\tvalidation_0-rmse:48.40872\n",
      "[10]\tvalidation_0-rmse:2.69273\n",
      "[20]\tvalidation_0-rmse:1.74103\n",
      "[30]\tvalidation_0-rmse:1.48096\n",
      "[40]\tvalidation_0-rmse:1.32283\n",
      "[50]\tvalidation_0-rmse:1.21991\n",
      "[60]\tvalidation_0-rmse:1.14819\n",
      "[70]\tvalidation_0-rmse:1.10462\n",
      "[80]\tvalidation_0-rmse:1.05896\n",
      "[90]\tvalidation_0-rmse:1.02864\n",
      "[99]\tvalidation_0-rmse:1.00648\n",
      "************************************  2 fold************************************\n",
      "[12:36:10] WARNING: C:/Users/Administrator/workspace/xgboost-win64_release_1.4.0/src/learner.cc:573: \n",
      "Parameters: { \"randam_state\" } might not be used.\n",
      "\n",
      "  This may not be accurate due to some parameters are only used in language bindings but\n",
      "  passed down to XGBoost core.  Or some parameters are not used but slip through this\n",
      "  verification. Please open an issue if you find above cases.\n",
      "\n",
      "\n",
      "[0]\tvalidation_0-rmse:48.33749\n",
      "[10]\tvalidation_0-rmse:2.68239\n",
      "[20]\tvalidation_0-rmse:1.83431\n",
      "[30]\tvalidation_0-rmse:1.54110\n",
      "[40]\tvalidation_0-rmse:1.36200\n",
      "[50]\tvalidation_0-rmse:1.24180\n",
      "[60]\tvalidation_0-rmse:1.15534\n",
      "[70]\tvalidation_0-rmse:1.10360\n",
      "[80]\tvalidation_0-rmse:1.06097\n",
      "[90]\tvalidation_0-rmse:1.03277\n",
      "[99]\tvalidation_0-rmse:1.00188\n",
      "************************************  3 fold************************************\n",
      "[12:36:27] WARNING: C:/Users/Administrator/workspace/xgboost-win64_release_1.4.0/src/learner.cc:573: \n",
      "Parameters: { \"randam_state\" } might not be used.\n",
      "\n",
      "  This may not be accurate due to some parameters are only used in language bindings but\n",
      "  passed down to XGBoost core.  Or some parameters are not used but slip through this\n",
      "  verification. Please open an issue if you find above cases.\n",
      "\n",
      "\n",
      "[0]\tvalidation_0-rmse:48.35423\n",
      "[10]\tvalidation_0-rmse:2.65404\n",
      "[20]\tvalidation_0-rmse:1.70916\n",
      "[30]\tvalidation_0-rmse:1.43364\n",
      "[40]\tvalidation_0-rmse:1.23779\n",
      "[50]\tvalidation_0-rmse:1.12934\n",
      "[60]\tvalidation_0-rmse:1.05678\n",
      "[70]\tvalidation_0-rmse:1.01504\n",
      "[80]\tvalidation_0-rmse:0.97904\n",
      "[90]\tvalidation_0-rmse:0.94483\n",
      "[99]\tvalidation_0-rmse:0.92106\n",
      "************************************  4 fold************************************\n",
      "[12:36:43] WARNING: C:/Users/Administrator/workspace/xgboost-win64_release_1.4.0/src/learner.cc:573: \n",
      "Parameters: { \"randam_state\" } might not be used.\n",
      "\n",
      "  This may not be accurate due to some parameters are only used in language bindings but\n",
      "  passed down to XGBoost core.  Or some parameters are not used but slip through this\n",
      "  verification. Please open an issue if you find above cases.\n",
      "\n",
      "\n",
      "[0]\tvalidation_0-rmse:48.42322\n",
      "[10]\tvalidation_0-rmse:2.65268\n",
      "[20]\tvalidation_0-rmse:1.76103\n",
      "[30]\tvalidation_0-rmse:1.45205\n",
      "[40]\tvalidation_0-rmse:1.27370\n",
      "[50]\tvalidation_0-rmse:1.16895\n",
      "[60]\tvalidation_0-rmse:1.12468\n",
      "[70]\tvalidation_0-rmse:1.06649\n",
      "[80]\tvalidation_0-rmse:1.02645\n",
      "[90]\tvalidation_0-rmse:0.99802\n",
      "[99]\tvalidation_0-rmse:0.97090\n",
      "************************************  5 fold************************************\n",
      "[12:37:00] WARNING: C:/Users/Administrator/workspace/xgboost-win64_release_1.4.0/src/learner.cc:573: \n",
      "Parameters: { \"randam_state\" } might not be used.\n",
      "\n",
      "  This may not be accurate due to some parameters are only used in language bindings but\n",
      "  passed down to XGBoost core.  Or some parameters are not used but slip through this\n",
      "  verification. Please open an issue if you find above cases.\n",
      "\n",
      "\n",
      "[0]\tvalidation_0-rmse:48.35082\n",
      "[10]\tvalidation_0-rmse:2.53530\n",
      "[20]\tvalidation_0-rmse:1.59803\n",
      "[30]\tvalidation_0-rmse:1.36310\n",
      "[40]\tvalidation_0-rmse:1.25042\n",
      "[50]\tvalidation_0-rmse:1.14179\n",
      "[60]\tvalidation_0-rmse:1.09038\n",
      "[70]\tvalidation_0-rmse:1.05461\n",
      "[80]\tvalidation_0-rmse:1.01706\n",
      "[90]\tvalidation_0-rmse:0.99821\n",
      "[99]\tvalidation_0-rmse:0.97386\n"
     ]
    }
   ],
   "source": [
    "kf = KFold(n_splits=5, shuffle=True, random_state=42)\n",
    "test_x = test_data[features]\n",
    "test_xgb = np.zeros(test_x.shape[0])\n",
    "\n",
    "\n",
    "\n",
    "for i, (train_index, valid_index) in enumerate(kf.split(train_x, train_y)):\n",
    "    print('************************************  {} fold************************************'.format(str(i + 1)))\n",
    "    trn_x, trn_y, val_x, val_y = train_x.iloc[train_index], train_y[train_index], \\\n",
    "                                 train_x.iloc[valid_index], train_y[valid_index]\n",
    "    # max_depth=6,learning_rate=0.05,n_estimators=100,\n",
    "    model = XGBRegressor(randam_state=42)\n",
    "    model.fit(trn_x, trn_y,\n",
    "          eval_set=[(val_x, val_y)],\n",
    "          verbose=10, eval_metric='rmse')\n",
    "\n",
    "\n",
    "    test_pred = model.predict(test_x)\n",
    "    test_xgb += test_pred / kf.n_splits"
   ],
   "metadata": {
    "collapsed": false,
    "pycharm": {
     "name": "#%%\n"
    }
   }
  },
  {
   "cell_type": "code",
   "execution_count": 30,
   "outputs": [
    {
     "name": "stdout",
     "output_type": "stream",
     "text": [
      "************************************  1 fold************************************\n",
      "Learning rate set to 0.101358\n",
      "0:\tlearn: 10.2587328\ttest: 10.2232464\tbest: 10.2232464 (0)\ttotal: 195ms\tremaining: 3m 14s\n",
      "200:\tlearn: 1.7102993\ttest: 1.7637921\tbest: 1.7637921 (200)\ttotal: 5s\tremaining: 19.9s\n",
      "400:\tlearn: 1.1242875\ttest: 1.2498927\tbest: 1.2498927 (400)\ttotal: 9.89s\tremaining: 14.8s\n",
      "600:\tlearn: 0.9041441\ttest: 1.0592025\tbest: 1.0592025 (600)\ttotal: 14.7s\tremaining: 9.77s\n",
      "800:\tlearn: 0.7761361\ttest: 0.9577105\tbest: 0.9577105 (800)\ttotal: 19.6s\tremaining: 4.86s\n",
      "999:\tlearn: 0.6902430\ttest: 0.8883395\tbest: 0.8883395 (999)\ttotal: 24.6s\tremaining: 0us\n",
      "\n",
      "bestTest = 0.888339496\n",
      "bestIteration = 999\n",
      "\n",
      "************************************  2 fold************************************\n",
      "Learning rate set to 0.101358\n",
      "0:\tlearn: 10.2484442\ttest: 10.2640336\tbest: 10.2640336 (0)\ttotal: 28.2ms\tremaining: 28.2s\n",
      "200:\tlearn: 1.7020533\ttest: 1.8129807\tbest: 1.8129807 (200)\ttotal: 5.16s\tremaining: 20.5s\n",
      "400:\tlearn: 1.1485184\ttest: 1.2890391\tbest: 1.2890391 (400)\ttotal: 10s\tremaining: 14.9s\n",
      "600:\tlearn: 0.9173118\ttest: 1.0802116\tbest: 1.0802116 (600)\ttotal: 14.9s\tremaining: 9.9s\n",
      "800:\tlearn: 0.7785990\ttest: 0.9667203\tbest: 0.9667203 (800)\ttotal: 19.9s\tremaining: 4.93s\n",
      "999:\tlearn: 0.6882562\ttest: 0.8993168\tbest: 0.8993168 (999)\ttotal: 25s\tremaining: 0us\n",
      "\n",
      "bestTest = 0.8993168128\n",
      "bestIteration = 999\n",
      "\n",
      "************************************  3 fold************************************\n",
      "Learning rate set to 0.101358\n",
      "0:\tlearn: 10.2404757\ttest: 10.2920189\tbest: 10.2920189 (0)\ttotal: 30.8ms\tremaining: 30.8s\n",
      "200:\tlearn: 1.6545071\ttest: 1.7267409\tbest: 1.7267409 (200)\ttotal: 5.05s\tremaining: 20.1s\n",
      "400:\tlearn: 1.0995032\ttest: 1.2048554\tbest: 1.2048554 (400)\ttotal: 9.91s\tremaining: 14.8s\n",
      "600:\tlearn: 0.8822771\ttest: 1.0088194\tbest: 1.0088194 (600)\ttotal: 14.7s\tremaining: 9.79s\n",
      "800:\tlearn: 0.7537553\ttest: 0.9014959\tbest: 0.9014959 (800)\ttotal: 19.6s\tremaining: 4.88s\n",
      "999:\tlearn: 0.6695502\ttest: 0.8337284\tbest: 0.8337284 (999)\ttotal: 24.7s\tremaining: 0us\n",
      "\n",
      "bestTest = 0.8337283578\n",
      "bestIteration = 999\n",
      "\n",
      "************************************  4 fold************************************\n",
      "Learning rate set to 0.101358\n",
      "0:\tlearn: 10.2536668\ttest: 10.2345594\tbest: 10.2345594 (0)\ttotal: 39.8ms\tremaining: 39.7s\n",
      "200:\tlearn: 1.6702073\ttest: 1.7735393\tbest: 1.7735393 (200)\ttotal: 5.06s\tremaining: 20.1s\n",
      "400:\tlearn: 1.1247765\ttest: 1.2723573\tbest: 1.2723573 (400)\ttotal: 9.91s\tremaining: 14.8s\n",
      "600:\tlearn: 0.8972732\ttest: 1.0681080\tbest: 1.0681080 (600)\ttotal: 14.8s\tremaining: 9.8s\n",
      "800:\tlearn: 0.7689722\ttest: 0.9620143\tbest: 0.9620143 (800)\ttotal: 19.5s\tremaining: 4.85s\n",
      "999:\tlearn: 0.6839706\ttest: 0.9019074\tbest: 0.9019074 (999)\ttotal: 24.6s\tremaining: 0us\n",
      "\n",
      "bestTest = 0.9019073604\n",
      "bestIteration = 999\n",
      "\n",
      "************************************  5 fold************************************\n",
      "Learning rate set to 0.101358\n",
      "0:\tlearn: 10.2532567\ttest: 10.2412856\tbest: 10.2412856 (0)\ttotal: 125ms\tremaining: 2m 5s\n",
      "200:\tlearn: 1.6728377\ttest: 1.7307009\tbest: 1.7307009 (200)\ttotal: 5.04s\tremaining: 20s\n",
      "400:\tlearn: 1.1159509\ttest: 1.2405774\tbest: 1.2405774 (400)\ttotal: 9.82s\tremaining: 14.7s\n",
      "600:\tlearn: 0.8911252\ttest: 1.0592657\tbest: 1.0592657 (600)\ttotal: 14.6s\tremaining: 9.69s\n",
      "800:\tlearn: 0.7590599\ttest: 0.9607889\tbest: 0.9607889 (800)\ttotal: 19.4s\tremaining: 4.83s\n",
      "999:\tlearn: 0.6731861\ttest: 0.8935282\tbest: 0.8935282 (999)\ttotal: 24.4s\tremaining: 0us\n",
      "\n",
      "bestTest = 0.8935282068\n",
      "bestIteration = 999\n",
      "\n"
     ]
    }
   ],
   "source": [
    "kf = KFold(n_splits=5, shuffle=True, random_state=42)\n",
    "test_x = test_data[features]\n",
    "test_cab = np.zeros(test_x.shape[0])\n",
    "\n",
    "\n",
    "\n",
    "for i, (train_index, valid_index) in enumerate(kf.split(train_x, train_y)):\n",
    "    print('************************************  {} fold************************************'.format(str(i + 1)))\n",
    "    trn_x, trn_y, val_x, val_y = train_x.iloc[train_index], train_y[train_index], \\\n",
    "                                 train_x.iloc[valid_index], train_y[valid_index]\n",
    "\n",
    "\n",
    "    model = CatBoostRegressor(eval_metric='RMSE')\n",
    "    model.fit(trn_x, trn_y, eval_set=(val_x, val_y),\n",
    "              metric_period=200,\n",
    "              cat_features=[],\n",
    "              use_best_model=True,\n",
    "              verbose=1)\n",
    "\n",
    "\n",
    "\n",
    "    test_pred = model.predict(test_x)\n",
    "    test_cab += test_pred / kf.n_splits"
   ],
   "metadata": {
    "collapsed": false,
    "pycharm": {
     "name": "#%%\n"
    }
   }
  },
  {
   "cell_type": "code",
   "execution_count": 30,
   "outputs": [],
   "source": [],
   "metadata": {
    "collapsed": false,
    "pycharm": {
     "name": "#%%\n"
    }
   }
  },
  {
   "cell_type": "code",
   "execution_count": 30,
   "outputs": [],
   "source": [],
   "metadata": {
    "collapsed": false,
    "pycharm": {
     "name": "#%%\n"
    }
   }
  },
  {
   "cell_type": "code",
   "execution_count": 30,
   "outputs": [],
   "source": [],
   "metadata": {
    "collapsed": false,
    "pycharm": {
     "name": "#%%\n"
    }
   }
  },
  {
   "cell_type": "code",
   "execution_count": 30,
   "outputs": [],
   "source": [],
   "metadata": {
    "collapsed": false,
    "pycharm": {
     "name": "#%%\n"
    }
   }
  },
  {
   "cell_type": "code",
   "execution_count": 30,
   "outputs": [],
   "source": [],
   "metadata": {
    "collapsed": false,
    "pycharm": {
     "name": "#%%\n"
    }
   }
  },
  {
   "cell_type": "code",
   "execution_count": 30,
   "outputs": [],
   "source": [],
   "metadata": {
    "collapsed": false,
    "pycharm": {
     "name": "#%%\n"
    }
   }
  },
  {
   "cell_type": "code",
   "execution_count": 31,
   "outputs": [
    {
     "data": {
      "text/plain": "count    1800.000000\nmean       60.998414\nstd         5.295495\nmin        55.222541\n25%        56.662194\n50%        58.882301\n75%        64.712533\nmax        78.536112\ndtype: float64"
     },
     "execution_count": 31,
     "metadata": {},
     "output_type": "execute_result"
    }
   ],
   "source": [
    "pd.Series(test_lgb).describe()"
   ],
   "metadata": {
    "collapsed": false,
    "pycharm": {
     "name": "#%%\n"
    }
   }
  },
  {
   "cell_type": "code",
   "execution_count": 32,
   "outputs": [
    {
     "data": {
      "text/plain": "count    1800.000000\nmean       59.825250\nstd         4.733616\nmin        53.930469\n25%        56.869467\n50%        58.162006\n75%        61.598067\nmax        80.009094\ndtype: float64"
     },
     "execution_count": 32,
     "metadata": {},
     "output_type": "execute_result"
    }
   ],
   "source": [
    "pd.Series(test_xgb).describe()"
   ],
   "metadata": {
    "collapsed": false,
    "pycharm": {
     "name": "#%%\n"
    }
   }
  },
  {
   "cell_type": "code",
   "execution_count": 33,
   "outputs": [
    {
     "data": {
      "text/plain": "count    1800.000000\nmean       60.631621\nstd         3.896469\nmin        55.942671\n25%        57.845264\n50%        58.666008\n75%        63.428359\nmax        76.913838\ndtype: float64"
     },
     "execution_count": 33,
     "metadata": {},
     "output_type": "execute_result"
    }
   ],
   "source": [
    "pd.Series(test_cab).describe()"
   ],
   "metadata": {
    "collapsed": false,
    "pycharm": {
     "name": "#%%\n"
    }
   }
  },
  {
   "cell_type": "code",
   "execution_count": 33,
   "outputs": [],
   "source": [],
   "metadata": {
    "collapsed": false,
    "pycharm": {
     "name": "#%%\n"
    }
   }
  },
  {
   "cell_type": "code",
   "execution_count": 33,
   "outputs": [],
   "source": [],
   "metadata": {
    "collapsed": false,
    "pycharm": {
     "name": "#%%\n"
    }
   }
  },
  {
   "cell_type": "code",
   "execution_count": 33,
   "outputs": [],
   "source": [],
   "metadata": {
    "collapsed": false,
    "pycharm": {
     "name": "#%%\n"
    }
   }
  },
  {
   "cell_type": "code",
   "execution_count": 33,
   "outputs": [],
   "source": [],
   "metadata": {
    "collapsed": false,
    "pycharm": {
     "name": "#%%\n"
    }
   }
  },
  {
   "cell_type": "code",
   "execution_count": 34,
   "outputs": [],
   "source": [
    "test_lxc = (test_lgb+test_xgb+test_cab)/3"
   ],
   "metadata": {
    "collapsed": false,
    "pycharm": {
     "name": "#%%\n"
    }
   }
  },
  {
   "cell_type": "code",
   "execution_count": 35,
   "outputs": [
    {
     "data": {
      "text/plain": "count    1800.000000\nmean       60.485095\nstd         4.549022\nmin        55.589250\n25%        57.187316\n50%        58.556414\n75%        63.180976\nmax        78.311607\ndtype: float64"
     },
     "execution_count": 35,
     "metadata": {},
     "output_type": "execute_result"
    }
   ],
   "source": [
    "pd.Series(test_lxc).describe()"
   ],
   "metadata": {
    "collapsed": false,
    "pycharm": {
     "name": "#%%\n"
    }
   }
  },
  {
   "cell_type": "code",
   "execution_count": 37,
   "outputs": [],
   "source": [
    "\n",
    "# sub = test_data[['时间','推料器启停']]\n",
    "# sub['lgb' + label] = test_lgb\n",
    "# sub.reset_index(inplace=True)\n",
    "# sub.columns = ['ID', 'Time', 'Aps', 'Ai']\n",
    "\n",
    "\n",
    "\n",
    "sub = pd.DataFrame()\n",
    "sub['ID'] = list(range(1,1801))\n",
    "sub['Time'] = test_df['时间']\n",
    "sub['Aps'] = test_df['推料器启停'].astype(bool)\n",
    "sub['Ai'] = test_lxc\n",
    "\n",
    "sub.to_csv('./lgb+xgb+cab.csv', index=False)"
   ],
   "metadata": {
    "collapsed": false,
    "pycharm": {
     "name": "#%%\n"
    }
   }
  },
  {
   "cell_type": "code",
   "execution_count": null,
   "outputs": [],
   "source": [],
   "metadata": {
    "collapsed": false,
    "pycharm": {
     "name": "#%%\n"
    }
   }
  },
  {
   "cell_type": "code",
   "execution_count": 0,
   "outputs": [],
   "source": [
    "\n"
   ],
   "metadata": {
    "collapsed": false,
    "pycharm": {
     "name": "#%%\n"
    }
   }
  },
  {
   "cell_type": "code",
   "execution_count": 0,
   "outputs": [],
   "source": [],
   "metadata": {
    "collapsed": false,
    "pycharm": {
     "name": "#%%\n"
    }
   }
  },
  {
   "cell_type": "code",
   "execution_count": 0,
   "outputs": [],
   "source": [],
   "metadata": {
    "collapsed": false,
    "pycharm": {
     "name": "#%%\n"
    }
   }
  },
  {
   "cell_type": "code",
   "execution_count": 0,
   "outputs": [],
   "source": [],
   "metadata": {
    "collapsed": false,
    "pycharm": {
     "name": "#%%\n"
    }
   }
  },
  {
   "cell_type": "code",
   "execution_count": 0,
   "outputs": [],
   "source": [],
   "metadata": {
    "collapsed": false,
    "pycharm": {
     "name": "#%%\n"
    }
   }
  },
  {
   "cell_type": "code",
   "execution_count": 0,
   "outputs": [],
   "source": [],
   "metadata": {
    "collapsed": false,
    "pycharm": {
     "name": "#%%\n"
    }
   }
  },
  {
   "cell_type": "code",
   "execution_count": 0,
   "outputs": [],
   "source": [],
   "metadata": {
    "collapsed": false,
    "pycharm": {
     "name": "#%%\n"
    }
   }
  },
  {
   "cell_type": "code",
   "execution_count": 0,
   "outputs": [],
   "source": [],
   "metadata": {
    "collapsed": false,
    "pycharm": {
     "name": "#%%\n"
    }
   }
  },
  {
   "cell_type": "code",
   "execution_count": 0,
   "outputs": [],
   "source": [
    "\n"
   ],
   "metadata": {
    "collapsed": false,
    "pycharm": {
     "name": "#%%\n"
    }
   }
  }
 ],
 "metadata": {
  "kernelspec": {
   "display_name": "Python 3",
   "language": "python",
   "name": "python3"
  },
  "language_info": {
   "codemirror_mode": {
    "name": "ipython",
    "version": 2
   },
   "file_extension": ".py",
   "mimetype": "text/x-python",
   "name": "python",
   "nbconvert_exporter": "python",
   "pygments_lexer": "ipython2",
   "version": "2.7.6"
  }
 },
 "nbformat": 4,
 "nbformat_minor": 0
}