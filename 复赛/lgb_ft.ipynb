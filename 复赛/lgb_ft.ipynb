{
 "cells": [
  {
   "cell_type": "code",
   "execution_count": 1,
   "outputs": [],
   "source": [
    "import os\n",
    "import pandas as pd\n",
    "import numpy as np\n",
    "import matplotlib.pyplot as plt\n",
    "import lightgbm as lgb\n",
    "import math\n",
    "from sklearn.metrics import mean_squared_error as mse\n",
    "from sklearn.linear_model import LinearRegression\n",
    "import warnings\n",
    "import pdb\n",
    "warnings.filterwarnings('ignore')\n",
    "import random\n",
    "from tqdm import tqdm\n",
    "from sklearn.model_selection import StratifiedKFold, KFold"
   ],
   "metadata": {
    "collapsed": false,
    "pycharm": {
     "name": "#%%\n"
    }
   }
  },
  {
   "cell_type": "code",
   "execution_count": 2,
   "outputs": [],
   "source": [
    "def set_seed(seed):\n",
    "    random.seed(seed)\n",
    "    np.random.seed(seed)\n",
    "    os.environ['PYTHONHASHSEED'] = str(seed)  # 禁止hash随机化\n",
    "\n",
    "set_seed(42)\n"
   ],
   "metadata": {
    "collapsed": false,
    "pycharm": {
     "name": "#%%\n"
    }
   }
  },
  {
   "cell_type": "code",
   "execution_count": 3,
   "outputs": [],
   "source": [
    "# label: '推料器自动指令'\n",
    "# train_data_path = './data/train/'\n",
    "# test_data_path = './data/test/'\n",
    "#\n",
    "# train_cols = ['推料器自动指令', 'CO含量', 'HCL含量', 'NOx含量', 'SO2含量', '二次风调门', '二次风量', '给水流量',\n",
    "#         '炉排实际运行指令', '炉排自动投退信号', '汽包水位', '推料器启停', '推料器自动投退信号',\n",
    "#         '氧量设定值', '一次风调门', '一次风量', '引风机转速', '主蒸汽流量']\n",
    "#\n",
    "# test_cols = ['CO含量', 'HCL含量', 'NOx含量', 'SO2含量', '二次风调门', '二次风量', '给水流量',\n",
    "#         '炉排实际运行指令', '炉排自动投退信号', '汽包水位', '推料器启停', '推料器自动投退信号',\n",
    "#         '氧量设定值', '一次风调门', '一次风量', '引风机转速', '主蒸汽流量']\n",
    "#\n",
    "# print(len(train_cols))\n",
    "# print(len(test_cols))"
   ],
   "metadata": {
    "collapsed": false,
    "pycharm": {
     "name": "#%%\n"
    }
   }
  },
  {
   "cell_type": "code",
   "execution_count": 4,
   "outputs": [],
   "source": [
    "# train_df = pd.DataFrame()\n",
    "# train_df['时间'] = pd.read_csv(train_data_path+'CO含量.csv')['时间']\n",
    "#\n",
    "# for n in tqdm(train_cols):\n",
    "#     train_df[n] = pd.read_csv(train_data_path+f'{n}.csv')[n]\n",
    "#\n",
    "#"
   ],
   "metadata": {
    "collapsed": false,
    "pycharm": {
     "name": "#%%\n"
    }
   }
  },
  {
   "cell_type": "code",
   "execution_count": 5,
   "outputs": [],
   "source": [
    "# test_df = pd.DataFrame()\n",
    "# test_df['时间'] = pd.read_csv(test_data_path+'CO含量.csv')['时间']\n",
    "#\n",
    "# for n in tqdm(test_cols):\n",
    "#     test_df[n] = pd.read_csv(test_data_path+f'{n}.csv')[n]\n",
    "#\n",
    "#"
   ],
   "metadata": {
    "collapsed": false,
    "pycharm": {
     "name": "#%%\n"
    }
   }
  },
  {
   "cell_type": "code",
   "execution_count": 6,
   "outputs": [],
   "source": [
    "# # 有重复的行，需要去重\n",
    "# print('训练集中重复的行数：', train_df.duplicated().sum())\n",
    "# train_df = train_df.drop_duplicates()\n",
    "#\n",
    "# print('测试集中重复的行数：', test_df.duplicated().sum())\n",
    "# test_df = test_df.drop_duplicates()\n",
    "#\n",
    "#"
   ],
   "metadata": {
    "collapsed": false,
    "pycharm": {
     "name": "#%%\n"
    }
   }
  },
  {
   "cell_type": "code",
   "execution_count": 7,
   "outputs": [],
   "source": [
    "# train_df.to_csv('./data/train.csv', index=False)\n",
    "# test_df.to_csv('./data/test.csv', index=False)\n"
   ],
   "metadata": {
    "collapsed": false,
    "pycharm": {
     "name": "#%%\n"
    }
   }
  },
  {
   "cell_type": "code",
   "execution_count": 8,
   "outputs": [
    {
     "name": "stdout",
     "output_type": "stream",
     "text": [
      "<class 'pandas.core.frame.DataFrame'>\n",
      "Int64Index: 141188 entries, 0 to 141187\n",
      "Data columns (total 19 columns):\n",
      " #   Column     Non-Null Count   Dtype  \n",
      "---  ------     --------------   -----  \n",
      " 0   时间         141188 non-null  object \n",
      " 1   推料器自动指令    141188 non-null  float64\n",
      " 2   CO含量       141188 non-null  float64\n",
      " 3   HCL含量      141188 non-null  float64\n",
      " 4   NOx含量      141188 non-null  float64\n",
      " 5   SO2含量      141188 non-null  float64\n",
      " 6   二次风调门      141188 non-null  float64\n",
      " 7   二次风量       141188 non-null  float64\n",
      " 8   给水流量       141188 non-null  float64\n",
      " 9   炉排实际运行指令   141188 non-null  float64\n",
      " 10  炉排自动投退信号   141188 non-null  object \n",
      " 11  汽包水位       141188 non-null  float64\n",
      " 12  推料器启停      141188 non-null  object \n",
      " 13  推料器自动投退信号  141188 non-null  object \n",
      " 14  氧量设定值      141188 non-null  float64\n",
      " 15  一次风调门      141188 non-null  float64\n",
      " 16  一次风量       141188 non-null  float64\n",
      " 17  引风机转速      141188 non-null  float64\n",
      " 18  主蒸汽流量      141188 non-null  float64\n",
      "dtypes: float64(15), object(4)\n",
      "memory usage: 21.5+ MB\n",
      "<class 'pandas.core.frame.DataFrame'>\n",
      "RangeIndex: 1800 entries, 0 to 1799\n",
      "Data columns (total 18 columns):\n",
      " #   Column     Non-Null Count  Dtype  \n",
      "---  ------     --------------  -----  \n",
      " 0   时间         1800 non-null   object \n",
      " 1   CO含量       1800 non-null   float64\n",
      " 2   HCL含量      1800 non-null   float64\n",
      " 3   NOx含量      1800 non-null   float64\n",
      " 4   SO2含量      1800 non-null   float64\n",
      " 5   二次风调门      1800 non-null   float64\n",
      " 6   二次风量       1800 non-null   float64\n",
      " 7   给水流量       1800 non-null   float64\n",
      " 8   炉排实际运行指令   1800 non-null   float64\n",
      " 9   炉排自动投退信号   1800 non-null   bool   \n",
      " 10  汽包水位       1800 non-null   float64\n",
      " 11  推料器启停      1800 non-null   bool   \n",
      " 12  推料器自动投退信号  1800 non-null   bool   \n",
      " 13  氧量设定值      1800 non-null   float64\n",
      " 14  一次风调门      1800 non-null   float64\n",
      " 15  一次风量       1800 non-null   float64\n",
      " 16  引风机转速      1800 non-null   float64\n",
      " 17  主蒸汽流量      1800 non-null   float64\n",
      "dtypes: bool(3), float64(14), object(1)\n",
      "memory usage: 216.3+ KB\n"
     ]
    }
   ],
   "source": [
    "train_df = pd.read_csv('./data/train.csv')\n",
    "train_df = train_df.dropna()\n",
    "\n",
    "test_df = pd.read_csv('./data/test.csv')\n",
    "train_df.info()\n",
    "test_df.info()\n"
   ],
   "metadata": {
    "collapsed": false,
    "pycharm": {
     "name": "#%%\n"
    }
   }
  },
  {
   "cell_type": "code",
   "execution_count": 8,
   "outputs": [],
   "source": [],
   "metadata": {
    "collapsed": false,
    "pycharm": {
     "name": "#%%\n"
    }
   }
  },
  {
   "cell_type": "code",
   "execution_count": 9,
   "outputs": [
    {
     "name": "stdout",
     "output_type": "stream",
     "text": [
      "<class 'pandas.core.frame.DataFrame'>\n",
      "Int64Index: 142988 entries, 0 to 1799\n",
      "Data columns (total 19 columns):\n",
      " #   Column     Non-Null Count   Dtype  \n",
      "---  ------     --------------   -----  \n",
      " 0   时间         142988 non-null  object \n",
      " 1   推料器自动指令    141188 non-null  float64\n",
      " 2   CO含量       142988 non-null  float64\n",
      " 3   HCL含量      142988 non-null  float64\n",
      " 4   NOx含量      142988 non-null  float64\n",
      " 5   SO2含量      142988 non-null  float64\n",
      " 6   二次风调门      142988 non-null  float64\n",
      " 7   二次风量       142988 non-null  float64\n",
      " 8   给水流量       142988 non-null  float64\n",
      " 9   炉排实际运行指令   142988 non-null  float64\n",
      " 10  炉排自动投退信号   142988 non-null  object \n",
      " 11  汽包水位       142988 non-null  float64\n",
      " 12  推料器启停      142988 non-null  object \n",
      " 13  推料器自动投退信号  142988 non-null  object \n",
      " 14  氧量设定值      142988 non-null  float64\n",
      " 15  一次风调门      142988 non-null  float64\n",
      " 16  一次风量       142988 non-null  float64\n",
      " 17  引风机转速      142988 non-null  float64\n",
      " 18  主蒸汽流量      142988 non-null  float64\n",
      "dtypes: float64(15), object(4)\n",
      "memory usage: 21.8+ MB\n"
     ]
    }
   ],
   "source": [
    "data = pd.concat([train_df, test_df])\n",
    "\n",
    "data.info()"
   ],
   "metadata": {
    "collapsed": false,
    "pycharm": {
     "name": "#%%\n"
    }
   }
  },
  {
   "cell_type": "code",
   "execution_count": 10,
   "outputs": [
    {
     "data": {
      "text/plain": "True     102060\nFalse     40928\nName: 推料器启停, dtype: int64"
     },
     "execution_count": 10,
     "metadata": {},
     "output_type": "execute_result"
    }
   ],
   "source": [
    "data['推料器启停'].value_counts()"
   ],
   "metadata": {
    "collapsed": false,
    "pycharm": {
     "name": "#%%\n"
    }
   }
  },
  {
   "cell_type": "code",
   "execution_count": 11,
   "outputs": [],
   "source": [
    "data = data[data['推料器启停']==1]\n",
    "# data.info()"
   ],
   "metadata": {
    "collapsed": false,
    "pycharm": {
     "name": "#%%\n"
    }
   }
  },
  {
   "cell_type": "code",
   "execution_count": 12,
   "outputs": [
    {
     "name": "stdout",
     "output_type": "stream",
     "text": [
      "<class 'pandas.core.frame.DataFrame'>\n",
      "Int64Index: 102060 entries, 169 to 1799\n",
      "Data columns (total 18 columns):\n",
      " #   Column     Non-Null Count   Dtype  \n",
      "---  ------     --------------   -----  \n",
      " 0   时间         102060 non-null  object \n",
      " 1   推料器自动指令    100260 non-null  float64\n",
      " 2   CO含量       102060 non-null  float64\n",
      " 3   HCL含量      102060 non-null  float64\n",
      " 4   NOx含量      102060 non-null  float64\n",
      " 5   SO2含量      102060 non-null  float64\n",
      " 6   二次风调门      102060 non-null  float64\n",
      " 7   二次风量       102060 non-null  float64\n",
      " 8   给水流量       102060 non-null  float64\n",
      " 9   炉排实际运行指令   102060 non-null  float64\n",
      " 10  炉排自动投退信号   102060 non-null  object \n",
      " 11  汽包水位       102060 non-null  float64\n",
      " 12  推料器自动投退信号  102060 non-null  object \n",
      " 13  氧量设定值      102060 non-null  float64\n",
      " 14  一次风调门      102060 non-null  float64\n",
      " 15  一次风量       102060 non-null  float64\n",
      " 16  引风机转速      102060 non-null  float64\n",
      " 17  主蒸汽流量      102060 non-null  float64\n",
      "dtypes: float64(15), object(3)\n",
      "memory usage: 14.8+ MB\n"
     ]
    }
   ],
   "source": [
    "data = data.drop(columns=['推料器启停'])\n",
    "data.info()"
   ],
   "metadata": {
    "collapsed": false,
    "pycharm": {
     "name": "#%%\n"
    }
   }
  },
  {
   "cell_type": "code",
   "execution_count": 12,
   "outputs": [],
   "source": [],
   "metadata": {
    "collapsed": false,
    "pycharm": {
     "name": "#%%\n"
    }
   }
  },
  {
   "cell_type": "code",
   "execution_count": 13,
   "outputs": [],
   "source": [
    "# ------------------------------时间特征构造----------------------------------------\n",
    "# time = pd.to_datetime(data['时间'])\n",
    "# data['Day'] = time.apply(lambda x: x.day)\n",
    "# data['Hour'] = time.apply(lambda x: x.hour)\n",
    "# data['Minute'] = time.apply(lambda x: x.minute)\n",
    "# # --------------------------------end--------------------------------------------\n"
   ],
   "metadata": {
    "collapsed": false,
    "pycharm": {
     "name": "#%%\n"
    }
   }
  },
  {
   "cell_type": "code",
   "execution_count": 13,
   "outputs": [],
   "source": [],
   "metadata": {
    "collapsed": false,
    "pycharm": {
     "name": "#%%\n"
    }
   }
  },
  {
   "cell_type": "code",
   "execution_count": 13,
   "outputs": [],
   "source": [],
   "metadata": {
    "collapsed": false,
    "pycharm": {
     "name": "#%%\n"
    }
   }
  },
  {
   "cell_type": "code",
   "execution_count": 13,
   "outputs": [],
   "source": [],
   "metadata": {
    "collapsed": false,
    "pycharm": {
     "name": "#%%\n"
    }
   }
  },
  {
   "cell_type": "code",
   "execution_count": 13,
   "outputs": [],
   "source": [],
   "metadata": {
    "collapsed": false,
    "pycharm": {
     "name": "#%%\n"
    }
   }
  },
  {
   "cell_type": "code",
   "execution_count": 14,
   "outputs": [],
   "source": [
    "data['gas'] = data['CO含量'] + data['HCL含量'] + data['NOx含量'] + data['SO2含量']\n",
    "# # feat_list = ['二次风调门', '二次风量', '给水流量', '炉排实际运行指令', '汽包水位', '氧量设定值', '一次风调门', '一次风量', '引风机转速', '主蒸汽流量']\n",
    "# feat_list = ['给水流量', '氧量设定值', '一次风量', '主蒸汽流量', '汽包水位']\n",
    "# for f in tqdm(feat_list):\n",
    "#     shift_f = []\n",
    "#     shift_d = []\n",
    "#     for i in range(10):\n",
    "#         colname = f + '_shift_{}'.format(i + 1)\n",
    "#         data[colname] = data[f].shift(i + 1)\n",
    "#         shift_f.append(colname)\n",
    "# \n",
    "#         colname = f + '_lshift_{}'.format(-(i + 1))\n",
    "#         data[colname] = data[f].shift(-(i + 1))\n",
    "#         shift_f.append(colname)\n",
    "#         # # 与上n分钟的变化比例特征\n",
    "#         # if i%60==0:\n",
    "#         #     temp_name = f+'_ratio_{}'.format(i)\n",
    "#         #     data[temp_name] = data[colname]/data[colname].shift(i+1)\n",
    "# \n",
    "#         # .diff用于计算一列中某元素与该列中前？个元素的差值（默认前一个元素）\n",
    "#         colname = f + '_diff_{}'.format(i + 1)\n",
    "#         data[colname] = data[f].diff(i + 1)\n",
    "#         colname = f + '_diff_{}'.format(-(i + 1))\n",
    "#         data[colname] = data[f].diff(-(i + 1))\n",
    "# \n",
    "#     # data[f+'_diff'] = data[f].diff(1)\n",
    "#     # 对每一行：shift_列的值取平均，即将前n天的值取平均，取最大值，最最小值，最标准差\n",
    "# \n",
    "#     data[f + '_fore_steps_mean'] = data[shift_f].mean(1)\n",
    "#     data[f + '_fore_steps_max'] = data[shift_f].max(1)\n",
    "#     data[f + '_fore_steps_min'] = data[shift_f].min(1)\n",
    "#     data[f + '_fore_steps_std'] = data[shift_f].std(1)\n",
    "#     data[f + '_fore_steps_std'] = data[shift_f].skew(1)\n",
    "# \n",
    "#     data.drop(shift_f, axis=1, inplace=True)"
   ],
   "metadata": {
    "collapsed": false,
    "pycharm": {
     "name": "#%%\n"
    }
   }
  },
  {
   "cell_type": "code",
   "execution_count": 15,
   "outputs": [],
   "source": [
    "#\n",
    "data['炉排自动投退信号'] = data['炉排自动投退信号'].map(int)\n",
    "# data['推料器启停'] = data['推料器启停'].map(int)\n",
    "data['推料器自动投退信号'] = data['推料器自动投退信号'].map(int)"
   ],
   "metadata": {
    "collapsed": false,
    "pycharm": {
     "name": "#%%\n"
    }
   }
  },
  {
   "cell_type": "code",
   "execution_count": 15,
   "outputs": [],
   "source": [],
   "metadata": {
    "collapsed": false,
    "pycharm": {
     "name": "#%%\n"
    }
   }
  },
  {
   "cell_type": "code",
   "execution_count": 16,
   "outputs": [],
   "source": [
    "import featuretools as ft"
   ],
   "metadata": {
    "collapsed": false,
    "pycharm": {
     "name": "#%%\n"
    }
   }
  },
  {
   "cell_type": "code",
   "execution_count": 16,
   "outputs": [],
   "source": [],
   "metadata": {
    "collapsed": false,
    "pycharm": {
     "name": "#%%\n"
    }
   }
  },
  {
   "cell_type": "code",
   "execution_count": 16,
   "outputs": [],
   "source": [],
   "metadata": {
    "collapsed": false,
    "pycharm": {
     "name": "#%%\n"
    }
   }
  },
  {
   "cell_type": "code",
   "execution_count": 17,
   "outputs": [],
   "source": [
    "# from sklearn.datasets import load_iris\n",
    "# import pandas as pd\n",
    "# import featuretools as ft\n",
    "#\n",
    "# # Load data and put into dataframe\n",
    "# iris = load_iris()\n",
    "# df = pd.DataFrame(iris.data, columns = iris.feature_names)\n",
    "# df['species'] = iris.target\n",
    "# df['species'] = df['species'].map({0: 'setosa', 1: 'versicolor', 2: 'virginica'})"
   ],
   "metadata": {
    "collapsed": false,
    "pycharm": {
     "name": "#%%\n"
    }
   }
  },
  {
   "cell_type": "code",
   "execution_count": 17,
   "outputs": [],
   "source": [],
   "metadata": {
    "collapsed": false,
    "pycharm": {
     "name": "#%%\n"
    }
   }
  },
  {
   "cell_type": "code",
   "execution_count": 18,
   "outputs": [],
   "source": [
    "# # Make an entityset and add the entity\n",
    "# es = ft.EntitySet(id = 'iris')\n",
    "# es.add_dataframe(dataframe_name = 'data', dataframe = df,\n",
    "#                          make_index = True, index = 'index')\n",
    "#\n",
    "# # Run deep feature synthesis with transformation primitives\n",
    "# feature_matrix, feature_defs = ft.dfs(entityset = es, target_dataframe_name = 'data',\n",
    "#                                       trans_primitives = ['add_numeric', 'multiply_numeric'])\n",
    "#\n",
    "# feature_matrix.head()\n"
   ],
   "metadata": {
    "collapsed": false,
    "pycharm": {
     "name": "#%%\n"
    }
   }
  },
  {
   "cell_type": "code",
   "execution_count": 19,
   "outputs": [],
   "source": [
    "label = data['推料器自动指令'].to_list()\n",
    "\n",
    "data = data.drop(columns=['推料器自动指令'])"
   ],
   "metadata": {
    "collapsed": false,
    "pycharm": {
     "name": "#%%\n"
    }
   }
  },
  {
   "cell_type": "code",
   "execution_count": 20,
   "outputs": [
    {
     "data": {
      "text/plain": "         CO含量   HCL含量    NOx含量   SO2含量    二次风调门       二次风量     给水流量  炉排实际运行指令  \\\nindex                                                                           \n0      0.8819  2.0926  62.1852 -0.0276  19.6134  4062.0190  74.1088      60.0   \n1      1.3889  2.1111  62.1296  3.0000  19.6736  4062.0190  74.0785      60.0   \n2      1.4167  2.0833  62.2037  3.0417  19.6111  4062.0190  74.0368      60.0   \n3      1.4583  2.0417  62.1481  3.0833  19.6366  3774.9172  74.0325      60.0   \n4      1.4375  2.0509  62.0926  3.0903  19.5972  4062.0190  74.0034      60.0   \n\n       炉排自动投退信号    汽包水位  ...  氧量设定值 * 汽包水位  氧量设定值 * 炉排实际运行指令  \\\nindex                    ...                                   \n0             1  6.6555  ...       39.9330             360.0   \n1             1  6.5549  ...       39.3294             360.0   \n2             1  6.4923  ...       38.9538             360.0   \n3             1  6.5318  ...       39.1908             360.0   \n4             1  6.5143  ...       39.0858             360.0   \n\n       氧量设定值 * 炉排自动投退信号  氧量设定值 * 给水流量  汽包水位 * 炉排实际运行指令  汽包水位 * 炉排自动投退信号  \\\nindex                                                                     \n0                   6.0      444.6528          399.330           6.6555   \n1                   6.0      444.4710          393.294           6.5549   \n2                   6.0      444.2208          389.538           6.4923   \n3                   6.0      444.1950          391.908           6.5318   \n4                   6.0      444.0204          390.858           6.5143   \n\n       汽包水位 * 给水流量  炉排实际运行指令 * 炉排自动投退信号  炉排实际运行指令 * 给水流量  炉排自动投退信号 * 给水流量  \nindex                                                                      \n0       493.231118                 60.0         4446.528          74.1088  \n1       485.577160                 60.0         4444.710          74.0785  \n2       480.669117                 60.0         4442.208          74.0368  \n3       483.565483                 60.0         4441.950          74.0325  \n4       482.080349                 60.0         4440.204          74.0034  \n\n[5 rows x 289 columns]",
      "text/html": "<div>\n<style scoped>\n    .dataframe tbody tr th:only-of-type {\n        vertical-align: middle;\n    }\n\n    .dataframe tbody tr th {\n        vertical-align: top;\n    }\n\n    .dataframe thead th {\n        text-align: right;\n    }\n</style>\n<table border=\"1\" class=\"dataframe\">\n  <thead>\n    <tr style=\"text-align: right;\">\n      <th></th>\n      <th>CO含量</th>\n      <th>HCL含量</th>\n      <th>NOx含量</th>\n      <th>SO2含量</th>\n      <th>二次风调门</th>\n      <th>二次风量</th>\n      <th>给水流量</th>\n      <th>炉排实际运行指令</th>\n      <th>炉排自动投退信号</th>\n      <th>汽包水位</th>\n      <th>...</th>\n      <th>氧量设定值 * 汽包水位</th>\n      <th>氧量设定值 * 炉排实际运行指令</th>\n      <th>氧量设定值 * 炉排自动投退信号</th>\n      <th>氧量设定值 * 给水流量</th>\n      <th>汽包水位 * 炉排实际运行指令</th>\n      <th>汽包水位 * 炉排自动投退信号</th>\n      <th>汽包水位 * 给水流量</th>\n      <th>炉排实际运行指令 * 炉排自动投退信号</th>\n      <th>炉排实际运行指令 * 给水流量</th>\n      <th>炉排自动投退信号 * 给水流量</th>\n    </tr>\n    <tr>\n      <th>index</th>\n      <th></th>\n      <th></th>\n      <th></th>\n      <th></th>\n      <th></th>\n      <th></th>\n      <th></th>\n      <th></th>\n      <th></th>\n      <th></th>\n      <th></th>\n      <th></th>\n      <th></th>\n      <th></th>\n      <th></th>\n      <th></th>\n      <th></th>\n      <th></th>\n      <th></th>\n      <th></th>\n      <th></th>\n    </tr>\n  </thead>\n  <tbody>\n    <tr>\n      <th>0</th>\n      <td>0.8819</td>\n      <td>2.0926</td>\n      <td>62.1852</td>\n      <td>-0.0276</td>\n      <td>19.6134</td>\n      <td>4062.0190</td>\n      <td>74.1088</td>\n      <td>60.0</td>\n      <td>1</td>\n      <td>6.6555</td>\n      <td>...</td>\n      <td>39.9330</td>\n      <td>360.0</td>\n      <td>6.0</td>\n      <td>444.6528</td>\n      <td>399.330</td>\n      <td>6.6555</td>\n      <td>493.231118</td>\n      <td>60.0</td>\n      <td>4446.528</td>\n      <td>74.1088</td>\n    </tr>\n    <tr>\n      <th>1</th>\n      <td>1.3889</td>\n      <td>2.1111</td>\n      <td>62.1296</td>\n      <td>3.0000</td>\n      <td>19.6736</td>\n      <td>4062.0190</td>\n      <td>74.0785</td>\n      <td>60.0</td>\n      <td>1</td>\n      <td>6.5549</td>\n      <td>...</td>\n      <td>39.3294</td>\n      <td>360.0</td>\n      <td>6.0</td>\n      <td>444.4710</td>\n      <td>393.294</td>\n      <td>6.5549</td>\n      <td>485.577160</td>\n      <td>60.0</td>\n      <td>4444.710</td>\n      <td>74.0785</td>\n    </tr>\n    <tr>\n      <th>2</th>\n      <td>1.4167</td>\n      <td>2.0833</td>\n      <td>62.2037</td>\n      <td>3.0417</td>\n      <td>19.6111</td>\n      <td>4062.0190</td>\n      <td>74.0368</td>\n      <td>60.0</td>\n      <td>1</td>\n      <td>6.4923</td>\n      <td>...</td>\n      <td>38.9538</td>\n      <td>360.0</td>\n      <td>6.0</td>\n      <td>444.2208</td>\n      <td>389.538</td>\n      <td>6.4923</td>\n      <td>480.669117</td>\n      <td>60.0</td>\n      <td>4442.208</td>\n      <td>74.0368</td>\n    </tr>\n    <tr>\n      <th>3</th>\n      <td>1.4583</td>\n      <td>2.0417</td>\n      <td>62.1481</td>\n      <td>3.0833</td>\n      <td>19.6366</td>\n      <td>3774.9172</td>\n      <td>74.0325</td>\n      <td>60.0</td>\n      <td>1</td>\n      <td>6.5318</td>\n      <td>...</td>\n      <td>39.1908</td>\n      <td>360.0</td>\n      <td>6.0</td>\n      <td>444.1950</td>\n      <td>391.908</td>\n      <td>6.5318</td>\n      <td>483.565483</td>\n      <td>60.0</td>\n      <td>4441.950</td>\n      <td>74.0325</td>\n    </tr>\n    <tr>\n      <th>4</th>\n      <td>1.4375</td>\n      <td>2.0509</td>\n      <td>62.0926</td>\n      <td>3.0903</td>\n      <td>19.5972</td>\n      <td>4062.0190</td>\n      <td>74.0034</td>\n      <td>60.0</td>\n      <td>1</td>\n      <td>6.5143</td>\n      <td>...</td>\n      <td>39.0858</td>\n      <td>360.0</td>\n      <td>6.0</td>\n      <td>444.0204</td>\n      <td>390.858</td>\n      <td>6.5143</td>\n      <td>482.080349</td>\n      <td>60.0</td>\n      <td>4440.204</td>\n      <td>74.0034</td>\n    </tr>\n  </tbody>\n</table>\n<p>5 rows × 289 columns</p>\n</div>"
     },
     "execution_count": 20,
     "metadata": {},
     "output_type": "execute_result"
    }
   ],
   "source": [
    "# agg_primitives (list[str or AggregationPrimitive], optional): List of Aggregation\n",
    "#             Feature types to apply.\n",
    "#\n",
    "#                 Default: [\"sum\", \"std\", \"max\", \"skew\", \"min\", \"mean\", \"count\", \"percent_true\", \"num_unique\", \"mode\"]\n",
    "#\n",
    "#         trans_primitives (list[str or TransformPrimitive], optional):\n",
    "#             List of Transform Feature functions to apply.\n",
    "#\n",
    "#                 Default: [\"day\", \"year\", \"month\", \"weekday\", \"haversine\", \"num_words\", \"num_characters\"]\n",
    "#\n",
    "#         groupby_trans_primitives (list[str or TransformPrimitive], optional):\n",
    "#             list of Transform primitives to make GroupByTransformFeatures with\n",
    "# Make an entityset and add the entity\n",
    "es = ft.EntitySet(id = 'lj')\n",
    "es.add_dataframe(dataframe_name = 'data', dataframe = data,\n",
    "                         make_index = True, index = 'index')\n",
    "\n",
    "# Run deep feature synthesis with transformation primitives\n",
    "feature_matrix, feature_defs = ft.dfs(entityset = es, target_dataframe_name = 'data',\n",
    "                                      trans_primitives = ['add_numeric', 'multiply_numeric'])\n",
    "\n",
    "feature_matrix.head()"
   ],
   "metadata": {
    "collapsed": false,
    "pycharm": {
     "name": "#%%\n"
    }
   }
  },
  {
   "cell_type": "code",
   "execution_count": 21,
   "outputs": [
    {
     "data": {
      "text/plain": "['num_true',\n 'max',\n 'std',\n 'percent_true',\n 'last',\n 'first',\n 'mean',\n 'n_most_common',\n 'time_since_last',\n 'avg_time_between',\n 'all',\n 'sum',\n 'min',\n 'entropy',\n 'time_since_first',\n 'any',\n 'skew',\n 'median',\n 'mode',\n 'count',\n 'num_unique',\n 'trend',\n 'percentile',\n 'quarter',\n 'add_numeric',\n 'cosine',\n 'time_since_previous',\n 'is_leap_year',\n 'less_than_scalar',\n 'url_to_protocol',\n 'square_root',\n 'divide_numeric_scalar',\n 'month',\n 'not_equal',\n 'cityblock_distance',\n 'divide_by_feature',\n 'not_equal_scalar',\n 'add_numeric_scalar',\n 'rolling_std',\n 'is_free_email_domain',\n 'geomidpoint',\n 'minute',\n 'modulo_numeric',\n 'subtract_numeric_scalar',\n 'sine',\n 'is_federal_holiday',\n 'time_since',\n 'days_in_month',\n 'divide_numeric',\n 'haversine',\n 'is_quarter_end',\n 'modulo_by_feature',\n 'greater_than_scalar',\n 'num_characters',\n 'rolling_max',\n 'day',\n 'greater_than_equal_to',\n 'is_in_geobox',\n 'day_of_year',\n 'less_than_equal_to',\n 'latitude',\n 'or',\n 'greater_than',\n 'isin',\n 'rolling_mean',\n 'and',\n 'url_to_tld',\n 'week',\n 'is_month_end',\n 'less_than_equal_to_scalar',\n 'multiply_numeric_scalar',\n 'natural_logarithm',\n 'part_of_day',\n 'cum_count',\n 'diff',\n 'rolling_count',\n 'less_than',\n 'year',\n 'is_quarter_start',\n 'cum_sum',\n 'subtract_numeric',\n 'multiply_boolean',\n 'num_words',\n 'second',\n 'cum_min',\n 'not',\n 'rolling_min',\n 'is_month_start',\n 'cum_mean',\n 'equal_scalar',\n 'is_year_end',\n 'hour',\n 'multiply_numeric',\n 'url_to_domain',\n 'weekday',\n 'cum_max',\n 'tangent',\n 'is_null',\n 'age',\n 'is_weekend',\n 'modulo_numeric_scalar',\n 'scalar_subtract_numeric_feature',\n 'greater_than_equal_to_scalar',\n 'numeric_lag',\n 'is_year_start',\n 'multiply_numeric_boolean',\n 'equal',\n 'email_address_to_domain',\n 'longitude',\n 'date_to_holiday',\n 'negate',\n 'absolute',\n 'distance_to_holiday']"
     },
     "execution_count": 21,
     "metadata": {},
     "output_type": "execute_result"
    }
   ],
   "source": [
    "ft.primitives.list_primitives()['name'].to_list()"
   ],
   "metadata": {
    "collapsed": false,
    "pycharm": {
     "name": "#%%\n"
    }
   }
  },
  {
   "cell_type": "code",
   "execution_count": 22,
   "outputs": [
    {
     "data": {
      "text/plain": "[<Feature: CO含量>,\n <Feature: HCL含量>,\n <Feature: NOx含量>,\n <Feature: SO2含量>,\n <Feature: 二次风调门>,\n <Feature: 二次风量>,\n <Feature: 给水流量>,\n <Feature: 炉排实际运行指令>,\n <Feature: 炉排自动投退信号>,\n <Feature: 汽包水位>,\n <Feature: 推料器自动投退信号>,\n <Feature: 氧量设定值>,\n <Feature: 一次风调门>,\n <Feature: 一次风量>,\n <Feature: 引风机转速>,\n <Feature: 主蒸汽流量>,\n <Feature: gas>,\n <Feature: CO含量 + HCL含量>,\n <Feature: CO含量 + NOx含量>,\n <Feature: CO含量 + SO2含量>,\n <Feature: CO含量 + gas>,\n <Feature: CO含量 + 一次风调门>,\n <Feature: CO含量 + 一次风量>,\n <Feature: CO含量 + 主蒸汽流量>,\n <Feature: CO含量 + 二次风调门>,\n <Feature: CO含量 + 二次风量>,\n <Feature: CO含量 + 引风机转速>,\n <Feature: CO含量 + 推料器自动投退信号>,\n <Feature: CO含量 + 氧量设定值>,\n <Feature: CO含量 + 汽包水位>,\n <Feature: CO含量 + 炉排实际运行指令>,\n <Feature: CO含量 + 炉排自动投退信号>,\n <Feature: CO含量 + 给水流量>,\n <Feature: HCL含量 + NOx含量>,\n <Feature: HCL含量 + SO2含量>,\n <Feature: HCL含量 + 一次风调门>,\n <Feature: HCL含量 + 一次风量>,\n <Feature: HCL含量 + 主蒸汽流量>,\n <Feature: HCL含量 + 二次风调门>,\n <Feature: HCL含量 + 二次风量>,\n <Feature: HCL含量 + 引风机转速>,\n <Feature: HCL含量 + 推料器自动投退信号>,\n <Feature: HCL含量 + 氧量设定值>,\n <Feature: HCL含量 + 汽包水位>,\n <Feature: HCL含量 + 炉排实际运行指令>,\n <Feature: HCL含量 + 炉排自动投退信号>,\n <Feature: HCL含量 + 给水流量>,\n <Feature: NOx含量 + SO2含量>,\n <Feature: NOx含量 + 一次风调门>,\n <Feature: NOx含量 + 一次风量>,\n <Feature: NOx含量 + 主蒸汽流量>,\n <Feature: NOx含量 + 二次风调门>,\n <Feature: NOx含量 + 二次风量>,\n <Feature: NOx含量 + 引风机转速>,\n <Feature: NOx含量 + 推料器自动投退信号>,\n <Feature: NOx含量 + 氧量设定值>,\n <Feature: NOx含量 + 汽包水位>,\n <Feature: NOx含量 + 炉排实际运行指令>,\n <Feature: NOx含量 + 炉排自动投退信号>,\n <Feature: NOx含量 + 给水流量>,\n <Feature: SO2含量 + 一次风调门>,\n <Feature: SO2含量 + 一次风量>,\n <Feature: SO2含量 + 主蒸汽流量>,\n <Feature: SO2含量 + 二次风调门>,\n <Feature: SO2含量 + 二次风量>,\n <Feature: SO2含量 + 引风机转速>,\n <Feature: SO2含量 + 推料器自动投退信号>,\n <Feature: SO2含量 + 氧量设定值>,\n <Feature: SO2含量 + 汽包水位>,\n <Feature: SO2含量 + 炉排实际运行指令>,\n <Feature: SO2含量 + 炉排自动投退信号>,\n <Feature: SO2含量 + 给水流量>,\n <Feature: gas + HCL含量>,\n <Feature: gas + NOx含量>,\n <Feature: gas + SO2含量>,\n <Feature: gas + 一次风调门>,\n <Feature: gas + 一次风量>,\n <Feature: gas + 主蒸汽流量>,\n <Feature: gas + 二次风调门>,\n <Feature: gas + 二次风量>,\n <Feature: gas + 引风机转速>,\n <Feature: gas + 推料器自动投退信号>,\n <Feature: gas + 氧量设定值>,\n <Feature: gas + 汽包水位>,\n <Feature: gas + 炉排实际运行指令>,\n <Feature: gas + 炉排自动投退信号>,\n <Feature: gas + 给水流量>,\n <Feature: 一次风调门 + 一次风量>,\n <Feature: 一次风调门 + 主蒸汽流量>,\n <Feature: 一次风调门 + 二次风调门>,\n <Feature: 一次风调门 + 二次风量>,\n <Feature: 一次风调门 + 引风机转速>,\n <Feature: 一次风调门 + 推料器自动投退信号>,\n <Feature: 一次风调门 + 氧量设定值>,\n <Feature: 一次风调门 + 汽包水位>,\n <Feature: 一次风调门 + 炉排实际运行指令>,\n <Feature: 一次风调门 + 炉排自动投退信号>,\n <Feature: 一次风调门 + 给水流量>,\n <Feature: 一次风量 + 主蒸汽流量>,\n <Feature: 一次风量 + 二次风调门>,\n <Feature: 一次风量 + 二次风量>,\n <Feature: 一次风量 + 引风机转速>,\n <Feature: 一次风量 + 推料器自动投退信号>,\n <Feature: 一次风量 + 氧量设定值>,\n <Feature: 一次风量 + 汽包水位>,\n <Feature: 一次风量 + 炉排实际运行指令>,\n <Feature: 一次风量 + 炉排自动投退信号>,\n <Feature: 一次风量 + 给水流量>,\n <Feature: 主蒸汽流量 + 二次风调门>,\n <Feature: 主蒸汽流量 + 二次风量>,\n <Feature: 主蒸汽流量 + 引风机转速>,\n <Feature: 主蒸汽流量 + 推料器自动投退信号>,\n <Feature: 主蒸汽流量 + 氧量设定值>,\n <Feature: 主蒸汽流量 + 汽包水位>,\n <Feature: 主蒸汽流量 + 炉排实际运行指令>,\n <Feature: 主蒸汽流量 + 炉排自动投退信号>,\n <Feature: 主蒸汽流量 + 给水流量>,\n <Feature: 二次风调门 + 二次风量>,\n <Feature: 二次风调门 + 引风机转速>,\n <Feature: 二次风调门 + 推料器自动投退信号>,\n <Feature: 二次风调门 + 氧量设定值>,\n <Feature: 二次风调门 + 汽包水位>,\n <Feature: 二次风调门 + 炉排实际运行指令>,\n <Feature: 二次风调门 + 炉排自动投退信号>,\n <Feature: 二次风调门 + 给水流量>,\n <Feature: 二次风量 + 引风机转速>,\n <Feature: 二次风量 + 推料器自动投退信号>,\n <Feature: 二次风量 + 氧量设定值>,\n <Feature: 二次风量 + 汽包水位>,\n <Feature: 二次风量 + 炉排实际运行指令>,\n <Feature: 二次风量 + 炉排自动投退信号>,\n <Feature: 二次风量 + 给水流量>,\n <Feature: 引风机转速 + 推料器自动投退信号>,\n <Feature: 引风机转速 + 氧量设定值>,\n <Feature: 引风机转速 + 汽包水位>,\n <Feature: 引风机转速 + 炉排实际运行指令>,\n <Feature: 引风机转速 + 炉排自动投退信号>,\n <Feature: 引风机转速 + 给水流量>,\n <Feature: 推料器自动投退信号 + 氧量设定值>,\n <Feature: 推料器自动投退信号 + 汽包水位>,\n <Feature: 推料器自动投退信号 + 炉排实际运行指令>,\n <Feature: 推料器自动投退信号 + 炉排自动投退信号>,\n <Feature: 推料器自动投退信号 + 给水流量>,\n <Feature: 氧量设定值 + 汽包水位>,\n <Feature: 氧量设定值 + 炉排实际运行指令>,\n <Feature: 氧量设定值 + 炉排自动投退信号>,\n <Feature: 氧量设定值 + 给水流量>,\n <Feature: 汽包水位 + 炉排实际运行指令>,\n <Feature: 汽包水位 + 炉排自动投退信号>,\n <Feature: 汽包水位 + 给水流量>,\n <Feature: 炉排实际运行指令 + 炉排自动投退信号>,\n <Feature: 炉排实际运行指令 + 给水流量>,\n <Feature: 炉排自动投退信号 + 给水流量>,\n <Feature: CO含量 * HCL含量>,\n <Feature: CO含量 * NOx含量>,\n <Feature: CO含量 * SO2含量>,\n <Feature: CO含量 * gas>,\n <Feature: CO含量 * 一次风调门>,\n <Feature: CO含量 * 一次风量>,\n <Feature: CO含量 * 主蒸汽流量>,\n <Feature: CO含量 * 二次风调门>,\n <Feature: CO含量 * 二次风量>,\n <Feature: CO含量 * 引风机转速>,\n <Feature: CO含量 * 推料器自动投退信号>,\n <Feature: CO含量 * 氧量设定值>,\n <Feature: CO含量 * 汽包水位>,\n <Feature: CO含量 * 炉排实际运行指令>,\n <Feature: CO含量 * 炉排自动投退信号>,\n <Feature: CO含量 * 给水流量>,\n <Feature: HCL含量 * NOx含量>,\n <Feature: HCL含量 * SO2含量>,\n <Feature: HCL含量 * 一次风调门>,\n <Feature: HCL含量 * 一次风量>,\n <Feature: HCL含量 * 主蒸汽流量>,\n <Feature: HCL含量 * 二次风调门>,\n <Feature: HCL含量 * 二次风量>,\n <Feature: HCL含量 * 引风机转速>,\n <Feature: HCL含量 * 推料器自动投退信号>,\n <Feature: HCL含量 * 氧量设定值>,\n <Feature: HCL含量 * 汽包水位>,\n <Feature: HCL含量 * 炉排实际运行指令>,\n <Feature: HCL含量 * 炉排自动投退信号>,\n <Feature: HCL含量 * 给水流量>,\n <Feature: NOx含量 * SO2含量>,\n <Feature: NOx含量 * 一次风调门>,\n <Feature: NOx含量 * 一次风量>,\n <Feature: NOx含量 * 主蒸汽流量>,\n <Feature: NOx含量 * 二次风调门>,\n <Feature: NOx含量 * 二次风量>,\n <Feature: NOx含量 * 引风机转速>,\n <Feature: NOx含量 * 推料器自动投退信号>,\n <Feature: NOx含量 * 氧量设定值>,\n <Feature: NOx含量 * 汽包水位>,\n <Feature: NOx含量 * 炉排实际运行指令>,\n <Feature: NOx含量 * 炉排自动投退信号>,\n <Feature: NOx含量 * 给水流量>,\n <Feature: SO2含量 * 一次风调门>,\n <Feature: SO2含量 * 一次风量>,\n <Feature: SO2含量 * 主蒸汽流量>,\n <Feature: SO2含量 * 二次风调门>,\n <Feature: SO2含量 * 二次风量>,\n <Feature: SO2含量 * 引风机转速>,\n <Feature: SO2含量 * 推料器自动投退信号>,\n <Feature: SO2含量 * 氧量设定值>,\n <Feature: SO2含量 * 汽包水位>,\n <Feature: SO2含量 * 炉排实际运行指令>,\n <Feature: SO2含量 * 炉排自动投退信号>,\n <Feature: SO2含量 * 给水流量>,\n <Feature: gas * HCL含量>,\n <Feature: gas * NOx含量>,\n <Feature: gas * SO2含量>,\n <Feature: gas * 一次风调门>,\n <Feature: gas * 一次风量>,\n <Feature: gas * 主蒸汽流量>,\n <Feature: gas * 二次风调门>,\n <Feature: gas * 二次风量>,\n <Feature: gas * 引风机转速>,\n <Feature: gas * 推料器自动投退信号>,\n <Feature: gas * 氧量设定值>,\n <Feature: gas * 汽包水位>,\n <Feature: gas * 炉排实际运行指令>,\n <Feature: gas * 炉排自动投退信号>,\n <Feature: gas * 给水流量>,\n <Feature: 一次风调门 * 一次风量>,\n <Feature: 一次风调门 * 主蒸汽流量>,\n <Feature: 一次风调门 * 二次风调门>,\n <Feature: 一次风调门 * 二次风量>,\n <Feature: 一次风调门 * 引风机转速>,\n <Feature: 一次风调门 * 推料器自动投退信号>,\n <Feature: 一次风调门 * 氧量设定值>,\n <Feature: 一次风调门 * 汽包水位>,\n <Feature: 一次风调门 * 炉排实际运行指令>,\n <Feature: 一次风调门 * 炉排自动投退信号>,\n <Feature: 一次风调门 * 给水流量>,\n <Feature: 一次风量 * 主蒸汽流量>,\n <Feature: 一次风量 * 二次风调门>,\n <Feature: 一次风量 * 二次风量>,\n <Feature: 一次风量 * 引风机转速>,\n <Feature: 一次风量 * 推料器自动投退信号>,\n <Feature: 一次风量 * 氧量设定值>,\n <Feature: 一次风量 * 汽包水位>,\n <Feature: 一次风量 * 炉排实际运行指令>,\n <Feature: 一次风量 * 炉排自动投退信号>,\n <Feature: 一次风量 * 给水流量>,\n <Feature: 主蒸汽流量 * 二次风调门>,\n <Feature: 主蒸汽流量 * 二次风量>,\n <Feature: 主蒸汽流量 * 引风机转速>,\n <Feature: 主蒸汽流量 * 推料器自动投退信号>,\n <Feature: 主蒸汽流量 * 氧量设定值>,\n <Feature: 主蒸汽流量 * 汽包水位>,\n <Feature: 主蒸汽流量 * 炉排实际运行指令>,\n <Feature: 主蒸汽流量 * 炉排自动投退信号>,\n <Feature: 主蒸汽流量 * 给水流量>,\n <Feature: 二次风调门 * 二次风量>,\n <Feature: 二次风调门 * 引风机转速>,\n <Feature: 二次风调门 * 推料器自动投退信号>,\n <Feature: 二次风调门 * 氧量设定值>,\n <Feature: 二次风调门 * 汽包水位>,\n <Feature: 二次风调门 * 炉排实际运行指令>,\n <Feature: 二次风调门 * 炉排自动投退信号>,\n <Feature: 二次风调门 * 给水流量>,\n <Feature: 二次风量 * 引风机转速>,\n <Feature: 二次风量 * 推料器自动投退信号>,\n <Feature: 二次风量 * 氧量设定值>,\n <Feature: 二次风量 * 汽包水位>,\n <Feature: 二次风量 * 炉排实际运行指令>,\n <Feature: 二次风量 * 炉排自动投退信号>,\n <Feature: 二次风量 * 给水流量>,\n <Feature: 引风机转速 * 推料器自动投退信号>,\n <Feature: 引风机转速 * 氧量设定值>,\n <Feature: 引风机转速 * 汽包水位>,\n <Feature: 引风机转速 * 炉排实际运行指令>,\n <Feature: 引风机转速 * 炉排自动投退信号>,\n <Feature: 引风机转速 * 给水流量>,\n <Feature: 推料器自动投退信号 * 氧量设定值>,\n <Feature: 推料器自动投退信号 * 汽包水位>,\n <Feature: 推料器自动投退信号 * 炉排实际运行指令>,\n <Feature: 推料器自动投退信号 * 炉排自动投退信号>,\n <Feature: 推料器自动投退信号 * 给水流量>,\n <Feature: 氧量设定值 * 汽包水位>,\n <Feature: 氧量设定值 * 炉排实际运行指令>,\n <Feature: 氧量设定值 * 炉排自动投退信号>,\n <Feature: 氧量设定值 * 给水流量>,\n <Feature: 汽包水位 * 炉排实际运行指令>,\n <Feature: 汽包水位 * 炉排自动投退信号>,\n <Feature: 汽包水位 * 给水流量>,\n <Feature: 炉排实际运行指令 * 炉排自动投退信号>,\n <Feature: 炉排实际运行指令 * 给水流量>,\n <Feature: 炉排自动投退信号 * 给水流量>]"
     },
     "execution_count": 22,
     "metadata": {},
     "output_type": "execute_result"
    }
   ],
   "source": [
    "feature_defs"
   ],
   "metadata": {
    "collapsed": false,
    "pycharm": {
     "name": "#%%\n"
    }
   }
  },
  {
   "cell_type": "code",
   "execution_count": 23,
   "outputs": [],
   "source": [
    "feature_matrix['推料器自动指令']  = label"
   ],
   "metadata": {
    "collapsed": false,
    "pycharm": {
     "name": "#%%\n"
    }
   }
  },
  {
   "cell_type": "code",
   "execution_count": 24,
   "outputs": [
    {
     "data": {
      "text/plain": "         index                  时间    CO含量   HCL含量    NOx含量   SO2含量    二次风调门  \\\n0            0 2021-12-22 00:02:49  0.8819  2.0926  62.1852 -0.0276  19.6134   \n1            1 2021-12-22 00:02:50  1.3889  2.1111  62.1296  3.0000  19.6736   \n2            2 2021-12-22 00:02:51  1.4167  2.0833  62.2037  3.0417  19.6111   \n3            3 2021-12-22 00:02:52  1.4583  2.0417  62.1481  3.0833  19.6366   \n4            4 2021-12-22 00:02:53  1.4375  2.0509  62.0926  3.0903  19.5972   \n...        ...                 ...     ...     ...      ...     ...      ...   \n102055  102055 2021-12-23 15:43:15  0.5625  4.8287  63.9074  4.0278  19.6553   \n102056  102056 2021-12-23 15:43:16  0.5208  4.8426  63.7778  4.0000  19.6553   \n102057  102057 2021-12-23 15:43:17  0.5694  4.8565  63.9444  3.9861  19.6483   \n102058  102058 2021-12-23 15:43:18  0.4583  4.8704  63.8889  3.9444  19.6345   \n102059  102059 2021-12-23 15:43:19  1.9444  5.1667  64.5185  3.6806  19.6321   \n\n             二次风量     给水流量  炉排实际运行指令  炉排自动投退信号     汽包水位  推料器自动投退信号  氧量设定值  \\\n0       4062.0190  74.1088   60.0000         1   6.6555          1    6.0   \n1       4062.0190  74.0785   60.0000         1   6.5549          1    6.0   \n2       4062.0190  74.0368   60.0000         1   6.4923          1    6.0   \n3       3774.9172  74.0325   60.0000         1   6.5318          1    6.0   \n4       4062.0190  74.0034   60.0000         1   6.5143          1    6.0   \n...           ...      ...       ...       ...      ...        ...    ...   \n102055  4898.9800  67.4968   43.3579         1  15.8682          1    5.0   \n102056  5123.4751  67.4586   43.3725         1  15.7955          1    5.0   \n102057  4898.9800  67.5599   43.3870         1  15.7673          1    5.0   \n102058  4898.9800  67.6658   43.4015         1  15.7454          1    5.0   \n102059  5123.4751  67.7795   43.4161         1  15.5613          1    5.0   \n\n          一次风调门        一次风量    引风机转速    主蒸汽流量      gas  \n0       61.1319  69360.4219  62.1019  60.3507  65.1321  \n1       61.1389  68914.7891  62.1273  60.6582  68.6296  \n2       61.1273  68088.8438  62.1620  60.5052  68.7454  \n3       60.7269  67336.0000  62.1481  60.2181  68.7314  \n4       60.4282  66431.4453  62.0787  60.3194  68.6713  \n...         ...         ...      ...      ...      ...  \n102055  68.4537  71170.1641  71.7662  54.9827  73.3264  \n102056  68.5463  71460.8047  71.7269  54.9245  73.1412  \n102057  68.6782  71460.8047  71.7731  54.8809  73.3564  \n102058  68.7662  71405.9063  71.7801  54.9170  73.1620  \n102059  68.7755  70894.1484  71.7593  55.0111  75.3102  \n\n[102060 rows x 19 columns]",
      "text/html": "<div>\n<style scoped>\n    .dataframe tbody tr th:only-of-type {\n        vertical-align: middle;\n    }\n\n    .dataframe tbody tr th {\n        vertical-align: top;\n    }\n\n    .dataframe thead th {\n        text-align: right;\n    }\n</style>\n<table border=\"1\" class=\"dataframe\">\n  <thead>\n    <tr style=\"text-align: right;\">\n      <th></th>\n      <th>index</th>\n      <th>时间</th>\n      <th>CO含量</th>\n      <th>HCL含量</th>\n      <th>NOx含量</th>\n      <th>SO2含量</th>\n      <th>二次风调门</th>\n      <th>二次风量</th>\n      <th>给水流量</th>\n      <th>炉排实际运行指令</th>\n      <th>炉排自动投退信号</th>\n      <th>汽包水位</th>\n      <th>推料器自动投退信号</th>\n      <th>氧量设定值</th>\n      <th>一次风调门</th>\n      <th>一次风量</th>\n      <th>引风机转速</th>\n      <th>主蒸汽流量</th>\n      <th>gas</th>\n    </tr>\n  </thead>\n  <tbody>\n    <tr>\n      <th>0</th>\n      <td>0</td>\n      <td>2021-12-22 00:02:49</td>\n      <td>0.8819</td>\n      <td>2.0926</td>\n      <td>62.1852</td>\n      <td>-0.0276</td>\n      <td>19.6134</td>\n      <td>4062.0190</td>\n      <td>74.1088</td>\n      <td>60.0000</td>\n      <td>1</td>\n      <td>6.6555</td>\n      <td>1</td>\n      <td>6.0</td>\n      <td>61.1319</td>\n      <td>69360.4219</td>\n      <td>62.1019</td>\n      <td>60.3507</td>\n      <td>65.1321</td>\n    </tr>\n    <tr>\n      <th>1</th>\n      <td>1</td>\n      <td>2021-12-22 00:02:50</td>\n      <td>1.3889</td>\n      <td>2.1111</td>\n      <td>62.1296</td>\n      <td>3.0000</td>\n      <td>19.6736</td>\n      <td>4062.0190</td>\n      <td>74.0785</td>\n      <td>60.0000</td>\n      <td>1</td>\n      <td>6.5549</td>\n      <td>1</td>\n      <td>6.0</td>\n      <td>61.1389</td>\n      <td>68914.7891</td>\n      <td>62.1273</td>\n      <td>60.6582</td>\n      <td>68.6296</td>\n    </tr>\n    <tr>\n      <th>2</th>\n      <td>2</td>\n      <td>2021-12-22 00:02:51</td>\n      <td>1.4167</td>\n      <td>2.0833</td>\n      <td>62.2037</td>\n      <td>3.0417</td>\n      <td>19.6111</td>\n      <td>4062.0190</td>\n      <td>74.0368</td>\n      <td>60.0000</td>\n      <td>1</td>\n      <td>6.4923</td>\n      <td>1</td>\n      <td>6.0</td>\n      <td>61.1273</td>\n      <td>68088.8438</td>\n      <td>62.1620</td>\n      <td>60.5052</td>\n      <td>68.7454</td>\n    </tr>\n    <tr>\n      <th>3</th>\n      <td>3</td>\n      <td>2021-12-22 00:02:52</td>\n      <td>1.4583</td>\n      <td>2.0417</td>\n      <td>62.1481</td>\n      <td>3.0833</td>\n      <td>19.6366</td>\n      <td>3774.9172</td>\n      <td>74.0325</td>\n      <td>60.0000</td>\n      <td>1</td>\n      <td>6.5318</td>\n      <td>1</td>\n      <td>6.0</td>\n      <td>60.7269</td>\n      <td>67336.0000</td>\n      <td>62.1481</td>\n      <td>60.2181</td>\n      <td>68.7314</td>\n    </tr>\n    <tr>\n      <th>4</th>\n      <td>4</td>\n      <td>2021-12-22 00:02:53</td>\n      <td>1.4375</td>\n      <td>2.0509</td>\n      <td>62.0926</td>\n      <td>3.0903</td>\n      <td>19.5972</td>\n      <td>4062.0190</td>\n      <td>74.0034</td>\n      <td>60.0000</td>\n      <td>1</td>\n      <td>6.5143</td>\n      <td>1</td>\n      <td>6.0</td>\n      <td>60.4282</td>\n      <td>66431.4453</td>\n      <td>62.0787</td>\n      <td>60.3194</td>\n      <td>68.6713</td>\n    </tr>\n    <tr>\n      <th>...</th>\n      <td>...</td>\n      <td>...</td>\n      <td>...</td>\n      <td>...</td>\n      <td>...</td>\n      <td>...</td>\n      <td>...</td>\n      <td>...</td>\n      <td>...</td>\n      <td>...</td>\n      <td>...</td>\n      <td>...</td>\n      <td>...</td>\n      <td>...</td>\n      <td>...</td>\n      <td>...</td>\n      <td>...</td>\n      <td>...</td>\n      <td>...</td>\n    </tr>\n    <tr>\n      <th>102055</th>\n      <td>102055</td>\n      <td>2021-12-23 15:43:15</td>\n      <td>0.5625</td>\n      <td>4.8287</td>\n      <td>63.9074</td>\n      <td>4.0278</td>\n      <td>19.6553</td>\n      <td>4898.9800</td>\n      <td>67.4968</td>\n      <td>43.3579</td>\n      <td>1</td>\n      <td>15.8682</td>\n      <td>1</td>\n      <td>5.0</td>\n      <td>68.4537</td>\n      <td>71170.1641</td>\n      <td>71.7662</td>\n      <td>54.9827</td>\n      <td>73.3264</td>\n    </tr>\n    <tr>\n      <th>102056</th>\n      <td>102056</td>\n      <td>2021-12-23 15:43:16</td>\n      <td>0.5208</td>\n      <td>4.8426</td>\n      <td>63.7778</td>\n      <td>4.0000</td>\n      <td>19.6553</td>\n      <td>5123.4751</td>\n      <td>67.4586</td>\n      <td>43.3725</td>\n      <td>1</td>\n      <td>15.7955</td>\n      <td>1</td>\n      <td>5.0</td>\n      <td>68.5463</td>\n      <td>71460.8047</td>\n      <td>71.7269</td>\n      <td>54.9245</td>\n      <td>73.1412</td>\n    </tr>\n    <tr>\n      <th>102057</th>\n      <td>102057</td>\n      <td>2021-12-23 15:43:17</td>\n      <td>0.5694</td>\n      <td>4.8565</td>\n      <td>63.9444</td>\n      <td>3.9861</td>\n      <td>19.6483</td>\n      <td>4898.9800</td>\n      <td>67.5599</td>\n      <td>43.3870</td>\n      <td>1</td>\n      <td>15.7673</td>\n      <td>1</td>\n      <td>5.0</td>\n      <td>68.6782</td>\n      <td>71460.8047</td>\n      <td>71.7731</td>\n      <td>54.8809</td>\n      <td>73.3564</td>\n    </tr>\n    <tr>\n      <th>102058</th>\n      <td>102058</td>\n      <td>2021-12-23 15:43:18</td>\n      <td>0.4583</td>\n      <td>4.8704</td>\n      <td>63.8889</td>\n      <td>3.9444</td>\n      <td>19.6345</td>\n      <td>4898.9800</td>\n      <td>67.6658</td>\n      <td>43.4015</td>\n      <td>1</td>\n      <td>15.7454</td>\n      <td>1</td>\n      <td>5.0</td>\n      <td>68.7662</td>\n      <td>71405.9063</td>\n      <td>71.7801</td>\n      <td>54.9170</td>\n      <td>73.1620</td>\n    </tr>\n    <tr>\n      <th>102059</th>\n      <td>102059</td>\n      <td>2021-12-23 15:43:19</td>\n      <td>1.9444</td>\n      <td>5.1667</td>\n      <td>64.5185</td>\n      <td>3.6806</td>\n      <td>19.6321</td>\n      <td>5123.4751</td>\n      <td>67.7795</td>\n      <td>43.4161</td>\n      <td>1</td>\n      <td>15.5613</td>\n      <td>1</td>\n      <td>5.0</td>\n      <td>68.7755</td>\n      <td>70894.1484</td>\n      <td>71.7593</td>\n      <td>55.0111</td>\n      <td>75.3102</td>\n    </tr>\n  </tbody>\n</table>\n<p>102060 rows × 19 columns</p>\n</div>"
     },
     "execution_count": 24,
     "metadata": {},
     "output_type": "execute_result"
    }
   ],
   "source": [
    "data"
   ],
   "metadata": {
    "collapsed": false,
    "pycharm": {
     "name": "#%%\n"
    }
   }
  },
  {
   "cell_type": "code",
   "execution_count": 25,
   "outputs": [
    {
     "data": {
      "text/plain": "         CO含量   HCL含量    NOx含量   SO2含量    二次风调门       二次风量     给水流量  炉排实际运行指令  \\\nindex                                                                           \n0      0.8819  2.0926  62.1852 -0.0276  19.6134  4062.0190  74.1088      60.0   \n1      1.3889  2.1111  62.1296  3.0000  19.6736  4062.0190  74.0785      60.0   \n2      1.4167  2.0833  62.2037  3.0417  19.6111  4062.0190  74.0368      60.0   \n3      1.4583  2.0417  62.1481  3.0833  19.6366  3774.9172  74.0325      60.0   \n4      1.4375  2.0509  62.0926  3.0903  19.5972  4062.0190  74.0034      60.0   \n\n       炉排自动投退信号    汽包水位  ...  氧量设定值 * 炉排实际运行指令  氧量设定值 * 炉排自动投退信号  \\\nindex                    ...                                       \n0             1  6.6555  ...             360.0               6.0   \n1             1  6.5549  ...             360.0               6.0   \n2             1  6.4923  ...             360.0               6.0   \n3             1  6.5318  ...             360.0               6.0   \n4             1  6.5143  ...             360.0               6.0   \n\n       氧量设定值 * 给水流量  汽包水位 * 炉排实际运行指令  汽包水位 * 炉排自动投退信号  汽包水位 * 给水流量  \\\nindex                                                                \n0          444.6528          399.330           6.6555   493.231118   \n1          444.4710          393.294           6.5549   485.577160   \n2          444.2208          389.538           6.4923   480.669117   \n3          444.1950          391.908           6.5318   483.565483   \n4          444.0204          390.858           6.5143   482.080349   \n\n       炉排实际运行指令 * 炉排自动投退信号  炉排实际运行指令 * 给水流量  炉排自动投退信号 * 给水流量  推料器自动指令  \nindex                                                                  \n0                     60.0         4446.528          74.1088     60.0  \n1                     60.0         4444.710          74.0785     60.0  \n2                     60.0         4442.208          74.0368     60.0  \n3                     60.0         4441.950          74.0325     60.0  \n4                     60.0         4440.204          74.0034     60.0  \n\n[5 rows x 290 columns]",
      "text/html": "<div>\n<style scoped>\n    .dataframe tbody tr th:only-of-type {\n        vertical-align: middle;\n    }\n\n    .dataframe tbody tr th {\n        vertical-align: top;\n    }\n\n    .dataframe thead th {\n        text-align: right;\n    }\n</style>\n<table border=\"1\" class=\"dataframe\">\n  <thead>\n    <tr style=\"text-align: right;\">\n      <th></th>\n      <th>CO含量</th>\n      <th>HCL含量</th>\n      <th>NOx含量</th>\n      <th>SO2含量</th>\n      <th>二次风调门</th>\n      <th>二次风量</th>\n      <th>给水流量</th>\n      <th>炉排实际运行指令</th>\n      <th>炉排自动投退信号</th>\n      <th>汽包水位</th>\n      <th>...</th>\n      <th>氧量设定值 * 炉排实际运行指令</th>\n      <th>氧量设定值 * 炉排自动投退信号</th>\n      <th>氧量设定值 * 给水流量</th>\n      <th>汽包水位 * 炉排实际运行指令</th>\n      <th>汽包水位 * 炉排自动投退信号</th>\n      <th>汽包水位 * 给水流量</th>\n      <th>炉排实际运行指令 * 炉排自动投退信号</th>\n      <th>炉排实际运行指令 * 给水流量</th>\n      <th>炉排自动投退信号 * 给水流量</th>\n      <th>推料器自动指令</th>\n    </tr>\n    <tr>\n      <th>index</th>\n      <th></th>\n      <th></th>\n      <th></th>\n      <th></th>\n      <th></th>\n      <th></th>\n      <th></th>\n      <th></th>\n      <th></th>\n      <th></th>\n      <th></th>\n      <th></th>\n      <th></th>\n      <th></th>\n      <th></th>\n      <th></th>\n      <th></th>\n      <th></th>\n      <th></th>\n      <th></th>\n      <th></th>\n    </tr>\n  </thead>\n  <tbody>\n    <tr>\n      <th>0</th>\n      <td>0.8819</td>\n      <td>2.0926</td>\n      <td>62.1852</td>\n      <td>-0.0276</td>\n      <td>19.6134</td>\n      <td>4062.0190</td>\n      <td>74.1088</td>\n      <td>60.0</td>\n      <td>1</td>\n      <td>6.6555</td>\n      <td>...</td>\n      <td>360.0</td>\n      <td>6.0</td>\n      <td>444.6528</td>\n      <td>399.330</td>\n      <td>6.6555</td>\n      <td>493.231118</td>\n      <td>60.0</td>\n      <td>4446.528</td>\n      <td>74.1088</td>\n      <td>60.0</td>\n    </tr>\n    <tr>\n      <th>1</th>\n      <td>1.3889</td>\n      <td>2.1111</td>\n      <td>62.1296</td>\n      <td>3.0000</td>\n      <td>19.6736</td>\n      <td>4062.0190</td>\n      <td>74.0785</td>\n      <td>60.0</td>\n      <td>1</td>\n      <td>6.5549</td>\n      <td>...</td>\n      <td>360.0</td>\n      <td>6.0</td>\n      <td>444.4710</td>\n      <td>393.294</td>\n      <td>6.5549</td>\n      <td>485.577160</td>\n      <td>60.0</td>\n      <td>4444.710</td>\n      <td>74.0785</td>\n      <td>60.0</td>\n    </tr>\n    <tr>\n      <th>2</th>\n      <td>1.4167</td>\n      <td>2.0833</td>\n      <td>62.2037</td>\n      <td>3.0417</td>\n      <td>19.6111</td>\n      <td>4062.0190</td>\n      <td>74.0368</td>\n      <td>60.0</td>\n      <td>1</td>\n      <td>6.4923</td>\n      <td>...</td>\n      <td>360.0</td>\n      <td>6.0</td>\n      <td>444.2208</td>\n      <td>389.538</td>\n      <td>6.4923</td>\n      <td>480.669117</td>\n      <td>60.0</td>\n      <td>4442.208</td>\n      <td>74.0368</td>\n      <td>60.0</td>\n    </tr>\n    <tr>\n      <th>3</th>\n      <td>1.4583</td>\n      <td>2.0417</td>\n      <td>62.1481</td>\n      <td>3.0833</td>\n      <td>19.6366</td>\n      <td>3774.9172</td>\n      <td>74.0325</td>\n      <td>60.0</td>\n      <td>1</td>\n      <td>6.5318</td>\n      <td>...</td>\n      <td>360.0</td>\n      <td>6.0</td>\n      <td>444.1950</td>\n      <td>391.908</td>\n      <td>6.5318</td>\n      <td>483.565483</td>\n      <td>60.0</td>\n      <td>4441.950</td>\n      <td>74.0325</td>\n      <td>60.0</td>\n    </tr>\n    <tr>\n      <th>4</th>\n      <td>1.4375</td>\n      <td>2.0509</td>\n      <td>62.0926</td>\n      <td>3.0903</td>\n      <td>19.5972</td>\n      <td>4062.0190</td>\n      <td>74.0034</td>\n      <td>60.0</td>\n      <td>1</td>\n      <td>6.5143</td>\n      <td>...</td>\n      <td>360.0</td>\n      <td>6.0</td>\n      <td>444.0204</td>\n      <td>390.858</td>\n      <td>6.5143</td>\n      <td>482.080349</td>\n      <td>60.0</td>\n      <td>4440.204</td>\n      <td>74.0034</td>\n      <td>60.0</td>\n    </tr>\n  </tbody>\n</table>\n<p>5 rows × 290 columns</p>\n</div>"
     },
     "execution_count": 25,
     "metadata": {},
     "output_type": "execute_result"
    }
   ],
   "source": [
    "# feature_matrix['推料器自动指令']\n",
    "data = feature_matrix\n",
    "data.head(5)"
   ],
   "metadata": {
    "collapsed": false,
    "pycharm": {
     "name": "#%%\n"
    }
   }
  },
  {
   "cell_type": "code",
   "execution_count": 26,
   "outputs": [],
   "source": [
    "# groupby + shift(差值特征) + transform(count, mean, max, min, skew)\n",
    "\n",
    "# def get_shift_feats(data, gap_list=[1], gp_col=[], target_col=''):\n",
    "#     # gp_col可以是个列表进行多次分组，e.g. gp_col = [id1, id2]\n",
    "#     for gap in gap_list:\n",
    "#         # 后面减前面\n",
    "#         data[''.join(gp_col)+f'{target_col}next{gap}'] = data.groupby(gp_col)[target_col].shift(-gap)\n",
    "#         data[''.join(gp_col)+f'{target_col}next{gap}'] = data[''.join(gp_col)+f'{target_col}next{gap}'] - data[target_col]\n",
    "# \n",
    "#         # 前面减后面\n",
    "#         data[''.join(gp_col)+f'{target_col}prev{gap}'] = data.groupby(gp_col)[target_col].shift(+gap)\n",
    "#         data[''.join(gp_col)+f'{target_col}prev{gap}'] = data[''.join(gp_col)+f'{target_col}next{gap}'] - data[target_col]\n",
    "# \n",
    "# \n",
    "#         # 统计其不为nan的值\n",
    "#         data[''.join(gp_col)+f'{target_col}next{gap}count'] = data.groupby(gp_col)[''.join(gp_col)+f'{target_col}next{gap}'].transform('count')\n",
    "#         data[''.join(gp_col)+f'{target_col}prev{gap}count'] = data.groupby(gp_col)[''.join(gp_col)+f'{target_col}prev{gap}'].transform('count')\n",
    "# \n",
    "#         # 统计其平均值\n",
    "#         data[''.join(gp_col)+f'{target_col}next{gap}mean'] = data.groupby(gp_col)[''.join(gp_col)+f'{target_col}next{gap}'].transform('mean')\n",
    "#         data[''.join(gp_col)+f'{target_col}prev{gap}mean'] = data.groupby(gp_col)[''.join(gp_col)+f'{target_col}prev{gap}'].transform('mean')\n",
    "# \n",
    "#         # 统计其最大值\n",
    "#         data[''.join(gp_col)+f'{target_col}next{gap}max'] = data.groupby(gp_col)[''.join(gp_col)+f'{target_col}next{gap}'].transform('max')\n",
    "#         data[''.join(gp_col)+f'{target_col}prev{gap}max'] = data.groupby(gp_col)[''.join(gp_col)+f'{target_col}prev{gap}'].transform('max')\n",
    "# \n",
    "#         # 统计其最小值\n",
    "#         data[''.join(gp_col)+f'{target_col}next{gap}min'] = data.groupby(gp_col)[''.join(gp_col)+f'{target_col}next{gap}'].transform('min')\n",
    "#         data[''.join(gp_col)+f'{target_col}prev{gap}min'] = data.groupby(gp_col)[''.join(gp_col)+f'{target_col}prev{gap}'].transform('min')\n",
    "# \n",
    "#         # 统计其skew值\n",
    "#         data[''.join(gp_col)+f'{target_col}next{gap}skew'] = data.groupby(gp_col)[''.join(gp_col)+f'{target_col}next{gap}'].transform('skew')\n",
    "#         data[''.join(gp_col)+f'{target_col}prev{gap}skew'] = data.groupby(gp_col)[''.join(gp_col)+f'{target_col}prev{gap}'].transform('skew')\n",
    "# \n",
    "#     return data\n",
    "# "
   ],
   "metadata": {
    "collapsed": false,
    "pycharm": {
     "name": "#%%\n"
    }
   }
  },
  {
   "cell_type": "code",
   "execution_count": 27,
   "outputs": [],
   "source": [
    "\n",
    "# gp_tg_cols = [(['推料器启停'], '给水流量'),\n",
    "#               (['推料器启停'], '主蒸汽流量')]\n",
    "# \n",
    "# "
   ],
   "metadata": {
    "collapsed": false,
    "pycharm": {
     "name": "#%%\n"
    }
   }
  },
  {
   "cell_type": "code",
   "execution_count": 28,
   "outputs": [],
   "source": [
    "# for col in tqdm(gp_tg_cols):\n",
    "#     data = get_shift_feats(data, gap_list=list(range(1, 10)), gp_col=col[0], target_col=col[1])"
   ],
   "metadata": {
    "collapsed": false,
    "pycharm": {
     "name": "#%%\n"
    }
   }
  },
  {
   "cell_type": "code",
   "execution_count": 29,
   "outputs": [],
   "source": [
    "# data.columns = [str(i) for i in data.columns]\n",
    "# for i in data.columns:\n",
    "#     print(i)"
   ],
   "metadata": {
    "collapsed": false,
    "pycharm": {
     "name": "#%%\n"
    }
   }
  },
  {
   "cell_type": "code",
   "execution_count": 30,
   "outputs": [
    {
     "name": "stderr",
     "output_type": "stream",
     "text": [
      "100%|██████████| 290/290 [00:11<00:00, 26.21it/s] \n"
     ]
    },
    {
     "name": "stdout",
     "output_type": "stream",
     "text": [
      "Mem. usage decreased to 66.77 Mb (70.5% reduction)\n"
     ]
    }
   ],
   "source": [
    "# # 内存压缩\n",
    "def reduce_mem_usage(df, verbose=True):\n",
    "    numerics = ['int16', 'int32', 'int64', 'float16', 'float32', 'float64']\n",
    "    start_mem = df.memory_usage().sum() / 1024 ** 2\n",
    "    for col in tqdm(df.columns):\n",
    "        col_type = df[col].dtypes\n",
    "        if col_type in numerics:\n",
    "            c_min = df[col].min()\n",
    "            c_max = df[col].max()\n",
    "            if str(col_type)[:3] == 'int':\n",
    "                if c_min > np.iinfo(np.int8).min and c_max < np.iinfo(np.int8).max:\n",
    "                    df[col] = df[col].astype(np.int8)\n",
    "                elif c_min > np.iinfo(np.int16).min and c_max < np.iinfo(np.int16).max:\n",
    "                    df[col] = df[col].astype(np.int16)\n",
    "                elif c_min > np.iinfo(np.int32).min and c_max < np.iinfo(np.int32).max:\n",
    "                    df[col] = df[col].astype(np.int32)\n",
    "                elif c_min > np.iinfo(np.int64).min and c_max < np.iinfo(np.int64).max:\n",
    "                    df[col] = df[col].astype(np.int64)\n",
    "            else:\n",
    "                if c_min > np.finfo(np.float16).min and c_max < np.finfo(np.float16).max:\n",
    "                    df[col] = df[col].astype(np.float16)\n",
    "                elif c_min > np.finfo(np.float32).min and c_max < np.finfo(np.float32).max:\n",
    "                    df[col] = df[col].astype(np.float32)\n",
    "                else:\n",
    "                    df[col] = df[col].astype(np.float64)\n",
    "    end_mem = df.memory_usage().sum() / 1024 ** 2\n",
    "    if verbose: print('Mem. usage decreased to {:5.2f} Mb ({:.1f}% reduction)'.format(end_mem, 100 * (\n",
    "                start_mem - end_mem) / start_mem))\n",
    "    return df\n",
    "\n",
    "# 压缩使用内存\n",
    "# 由于数据比较大，所以合理的压缩内存节省空间尤为的重要\n",
    "# 使用reduce_mem_usage函数可以压缩近70%的内存占有。\n",
    "data = reduce_mem_usage(data)"
   ],
   "metadata": {
    "collapsed": false,
    "pycharm": {
     "name": "#%%\n"
    }
   }
  },
  {
   "cell_type": "code",
   "execution_count": 30,
   "outputs": [],
   "source": [],
   "metadata": {
    "collapsed": false,
    "pycharm": {
     "name": "#%%\n"
    }
   }
  },
  {
   "cell_type": "code",
   "execution_count": 31,
   "outputs": [
    {
     "name": "stdout",
     "output_type": "stream",
     "text": [
      "nums features:  290\n"
     ]
    }
   ],
   "source": [
    "print('nums features: ', len(data.columns))"
   ],
   "metadata": {
    "collapsed": false,
    "pycharm": {
     "name": "#%%\n"
    }
   }
  },
  {
   "cell_type": "code",
   "execution_count": 32,
   "outputs": [],
   "source": [
    "label = '推料器自动指令'\n",
    "test_data = data.tail(1800)\n",
    "train = data.iloc[:-1800, :]\n",
    "train.reset_index(drop=True, inplace=True)\n",
    "# features = train.columns.drop(['时间', label]).tolist()\n",
    "features = train.columns.drop([label]).tolist()\n",
    "train_x, train_y = train[features], train[label]"
   ],
   "metadata": {
    "collapsed": false,
    "pycharm": {
     "name": "#%%\n"
    }
   }
  },
  {
   "cell_type": "code",
   "execution_count": 33,
   "outputs": [],
   "source": [
    "# train"
   ],
   "metadata": {
    "collapsed": false,
    "pycharm": {
     "name": "#%%\n"
    }
   }
  },
  {
   "cell_type": "code",
   "execution_count": 34,
   "outputs": [
    {
     "name": "stdout",
     "output_type": "stream",
     "text": [
      "************************************  1 fold************************************\n",
      "[LightGBM] [Warning] Found whitespace in feature_names, replace with underlines\n",
      "[LightGBM] [Warning] Auto-choosing col-wise multi-threading, the overhead of testing was 0.054995 seconds.\n",
      "You can set `force_col_wise=true` to remove the overhead.\n",
      "[LightGBM] [Info] Total Bins 70630\n",
      "[LightGBM] [Info] Number of data points in the train set: 90234, number of used features: 289\n",
      "[LightGBM] [Warning] Found whitespace in feature_names, replace with underlines\n",
      "[LightGBM] [Info] Start training from score 70.000000\n",
      "Training until validation scores don't improve for 1000 rounds\n",
      "[200]\ttraining's rmse: 5.14726\tvalid_1's rmse: 5.0895\n",
      "[400]\ttraining's rmse: 4.70206\tvalid_1's rmse: 4.65312\n",
      "[600]\ttraining's rmse: 4.00682\tvalid_1's rmse: 3.98002\n",
      "[800]\ttraining's rmse: 3.29028\tvalid_1's rmse: 3.28848\n",
      "[1000]\ttraining's rmse: 2.91364\tvalid_1's rmse: 2.93155\n",
      "[1200]\ttraining's rmse: 2.52989\tvalid_1's rmse: 2.59839\n",
      "[1400]\ttraining's rmse: 2.33503\tvalid_1's rmse: 2.41347\n",
      "[1600]\ttraining's rmse: 2.20174\tvalid_1's rmse: 2.29235\n",
      "[1800]\ttraining's rmse: 1.98757\tvalid_1's rmse: 2.0929\n",
      "[2000]\ttraining's rmse: 1.8544\tvalid_1's rmse: 1.97459\n",
      "[2200]\ttraining's rmse: 1.76857\tvalid_1's rmse: 1.89477\n",
      "[2400]\ttraining's rmse: 1.68583\tvalid_1's rmse: 1.81651\n",
      "[2600]\ttraining's rmse: 1.63156\tvalid_1's rmse: 1.76887\n",
      "[2800]\ttraining's rmse: 1.59023\tvalid_1's rmse: 1.73141\n",
      "[3000]\ttraining's rmse: 1.50906\tvalid_1's rmse: 1.64987\n",
      "[3200]\ttraining's rmse: 1.40561\tvalid_1's rmse: 1.54027\n",
      "[3400]\ttraining's rmse: 1.37499\tvalid_1's rmse: 1.50791\n",
      "[3600]\ttraining's rmse: 1.35461\tvalid_1's rmse: 1.48912\n",
      "[3800]\ttraining's rmse: 1.33889\tvalid_1's rmse: 1.47445\n",
      "[4000]\ttraining's rmse: 1.32589\tvalid_1's rmse: 1.46184\n",
      "[4200]\ttraining's rmse: 1.31331\tvalid_1's rmse: 1.45064\n",
      "[4400]\ttraining's rmse: 1.29603\tvalid_1's rmse: 1.43574\n",
      "[4600]\ttraining's rmse: 1.282\tvalid_1's rmse: 1.42373\n",
      "[4800]\ttraining's rmse: 1.27082\tvalid_1's rmse: 1.4148\n",
      "[5000]\ttraining's rmse: 1.26252\tvalid_1's rmse: 1.40758\n",
      "[5200]\ttraining's rmse: 1.25365\tvalid_1's rmse: 1.3999\n",
      "[5400]\ttraining's rmse: 1.24517\tvalid_1's rmse: 1.39219\n",
      "[5600]\ttraining's rmse: 1.2376\tvalid_1's rmse: 1.38519\n",
      "[5800]\ttraining's rmse: 1.22878\tvalid_1's rmse: 1.37679\n",
      "[6000]\ttraining's rmse: 1.22226\tvalid_1's rmse: 1.36987\n",
      "[6200]\ttraining's rmse: 1.21567\tvalid_1's rmse: 1.36466\n",
      "[6400]\ttraining's rmse: 1.20715\tvalid_1's rmse: 1.35621\n",
      "[6600]\ttraining's rmse: 1.20042\tvalid_1's rmse: 1.34897\n",
      "[6800]\ttraining's rmse: 1.19401\tvalid_1's rmse: 1.34271\n",
      "[7000]\ttraining's rmse: 1.18575\tvalid_1's rmse: 1.33183\n",
      "[7200]\ttraining's rmse: 1.17765\tvalid_1's rmse: 1.32357\n",
      "[7400]\ttraining's rmse: 1.17058\tvalid_1's rmse: 1.31845\n",
      "[7600]\ttraining's rmse: 1.16475\tvalid_1's rmse: 1.31288\n",
      "[7800]\ttraining's rmse: 1.15796\tvalid_1's rmse: 1.30438\n",
      "[8000]\ttraining's rmse: 1.15264\tvalid_1's rmse: 1.29881\n",
      "[8200]\ttraining's rmse: 1.14697\tvalid_1's rmse: 1.29152\n",
      "[8400]\ttraining's rmse: 1.14083\tvalid_1's rmse: 1.28469\n",
      "[8600]\ttraining's rmse: 1.13511\tvalid_1's rmse: 1.27775\n",
      "[8800]\ttraining's rmse: 1.13042\tvalid_1's rmse: 1.2731\n",
      "[9000]\ttraining's rmse: 1.12477\tvalid_1's rmse: 1.26739\n",
      "[9200]\ttraining's rmse: 1.12064\tvalid_1's rmse: 1.26365\n",
      "[9400]\ttraining's rmse: 1.11499\tvalid_1's rmse: 1.25578\n",
      "[9600]\ttraining's rmse: 1.11103\tvalid_1's rmse: 1.25186\n",
      "[9800]\ttraining's rmse: 1.10694\tvalid_1's rmse: 1.24726\n",
      "[10000]\ttraining's rmse: 1.10344\tvalid_1's rmse: 1.24369\n",
      "Did not meet early stopping. Best iteration is:\n",
      "[10000]\ttraining's rmse: 1.10344\tvalid_1's rmse: 1.24369\n",
      "Features importance...\n",
      "Top 50 features:\n",
      "                   feature  split       gain\n",
      "276  推料器自动投退信号_*_炉排实际运行指令   2262  12.537848\n",
      "145      氧量设定值_+_炉排自动投退信号    342   9.032370\n",
      "286   炉排实际运行指令_*_炉排自动投退信号   1626   7.184667\n",
      "280      氧量设定值_*_炉排实际运行指令   2017   4.008132\n",
      "138     推料器自动投退信号_+_氧量设定值    168   3.373290\n",
      "144      氧量设定值_+_炉排实际运行指令   1668   3.213231\n",
      "7                炉排实际运行指令   1998   2.583410\n",
      "172          HCL含量_*_一次风量   2140   2.434271\n",
      "271      引风机转速_*_炉排实际运行指令   1854   1.487711\n",
      "140  推料器自动投退信号_+_炉排实际运行指令   1058   1.317663\n",
      "153          CO含量_*_HCL含量   3277   1.241167\n",
      "30        CO含量_+_炉排实际运行指令   2513   1.231705\n",
      "114      主蒸汽流量_+_炉排实际运行指令   2738   0.939250\n",
      "37          HCL含量_+_主蒸汽流量   2597   0.882935\n",
      "171         HCL含量_*_一次风调门   1255   0.865866\n",
      "44       HCL含量_+_炉排实际运行指令   2738   0.826191\n",
      "246         主蒸汽流量_*_引风机转速   2528   0.681695\n",
      "17           CO含量_+_HCL含量   2540   0.660166\n",
      "35          HCL含量_+_一次风调门   2382   0.651993\n",
      "234          一次风量_*_主蒸汽流量   2469   0.615186\n",
      "269         引风机转速_*_氧量设定值   1969   0.611935\n",
      "84         gas_+_炉排实际运行指令   1590   0.562682\n",
      "23           CO含量_+_主蒸汽流量   2261   0.549455\n",
      "251      主蒸汽流量_*_炉排自动投退信号   1148   0.534419\n",
      "108         主蒸汽流量_+_二次风调门   1549   0.533284\n",
      "110         主蒸汽流量_+_引风机转速   2204   0.520821\n",
      "248         主蒸汽流量_*_氧量设定值   2165   0.518047\n",
      "250      主蒸汽流量_*_炉排实际运行指令   2099   0.514270\n",
      "243           一次风量_*_给水流量   2115   0.512924\n",
      "180      HCL含量_*_炉排实际运行指令   1621   0.511869\n",
      "176         HCL含量_*_引风机转速   1383   0.500764\n",
      "182          HCL含量_*_给水流量   1535   0.490659\n",
      "88          一次风调门_+_主蒸汽流量   1986   0.484214\n",
      "169         HCL含量_*_NOx含量   2143   0.479975\n",
      "220        gas_*_炉排实际运行指令   1602   0.474901\n",
      "282          氧量设定值_*_给水流量   2331   0.465368\n",
      "241       一次风量_*_炉排实际运行指令   1985   0.464533\n",
      "224         一次风调门_*_主蒸汽流量   1971   0.462522\n",
      "247     主蒸汽流量_*_推料器自动投退信号   1525   0.461520\n",
      "163      CO含量_*_推料器自动投退信号    478   0.449952\n",
      "40          HCL含量_+_引风机转速   2077   0.447723\n",
      "150   炉排实际运行指令_+_炉排自动投退信号    442   0.445826\n",
      "287       炉排实际运行指令_*_给水流量   2210   0.435464\n",
      "69       SO2含量_+_炉排实际运行指令   1923   0.421492\n",
      "151       炉排实际运行指令_+_给水流量   2733   0.420440\n",
      "122      二次风调门_+_炉排实际运行指令   1195   0.409692\n",
      "21           CO含量_+_一次风调门   1563   0.404671\n",
      "1                   HCL含量    779   0.397524\n",
      "173         HCL含量_*_主蒸汽流量   1469   0.382561\n",
      "28           CO含量_+_氧量设定值   1575   0.381342\n",
      "************************************  2 fold************************************\n",
      "[LightGBM] [Warning] Found whitespace in feature_names, replace with underlines\n",
      "[LightGBM] [Warning] Auto-choosing col-wise multi-threading, the overhead of testing was 0.054568 seconds.\n",
      "You can set `force_col_wise=true` to remove the overhead.\n",
      "[LightGBM] [Info] Total Bins 70630\n",
      "[LightGBM] [Info] Number of data points in the train set: 90234, number of used features: 289\n",
      "[LightGBM] [Warning] Found whitespace in feature_names, replace with underlines\n",
      "[LightGBM] [Info] Start training from score 70.000000\n",
      "Training until validation scores don't improve for 1000 rounds\n",
      "[200]\ttraining's rmse: 5.0781\tvalid_1's rmse: 5.02937\n",
      "[400]\ttraining's rmse: 4.53097\tvalid_1's rmse: 4.47865\n",
      "[600]\ttraining's rmse: 3.66775\tvalid_1's rmse: 3.68194\n",
      "[800]\ttraining's rmse: 3.26275\tvalid_1's rmse: 3.29144\n",
      "[1000]\ttraining's rmse: 3.01633\tvalid_1's rmse: 3.07349\n",
      "[1200]\ttraining's rmse: 2.66317\tvalid_1's rmse: 2.75157\n",
      "[1400]\ttraining's rmse: 2.34448\tvalid_1's rmse: 2.42166\n",
      "[1600]\ttraining's rmse: 2.19598\tvalid_1's rmse: 2.27356\n",
      "[1800]\ttraining's rmse: 2.08298\tvalid_1's rmse: 2.15821\n",
      "[2000]\ttraining's rmse: 1.97062\tvalid_1's rmse: 2.04967\n",
      "[2200]\ttraining's rmse: 1.76361\tvalid_1's rmse: 1.85608\n",
      "[2400]\ttraining's rmse: 1.65649\tvalid_1's rmse: 1.76182\n",
      "[2600]\ttraining's rmse: 1.59612\tvalid_1's rmse: 1.71426\n",
      "[2800]\ttraining's rmse: 1.54502\tvalid_1's rmse: 1.66545\n",
      "[3000]\ttraining's rmse: 1.5055\tvalid_1's rmse: 1.62778\n",
      "[3200]\ttraining's rmse: 1.468\tvalid_1's rmse: 1.59201\n",
      "[3400]\ttraining's rmse: 1.44687\tvalid_1's rmse: 1.57207\n",
      "[3600]\ttraining's rmse: 1.42705\tvalid_1's rmse: 1.55042\n",
      "[3800]\ttraining's rmse: 1.40706\tvalid_1's rmse: 1.52832\n",
      "[4000]\ttraining's rmse: 1.39186\tvalid_1's rmse: 1.51252\n",
      "[4200]\ttraining's rmse: 1.37799\tvalid_1's rmse: 1.49822\n",
      "[4400]\ttraining's rmse: 1.36511\tvalid_1's rmse: 1.48563\n",
      "[4600]\ttraining's rmse: 1.35259\tvalid_1's rmse: 1.47254\n",
      "[4800]\ttraining's rmse: 1.34267\tvalid_1's rmse: 1.46335\n",
      "[5000]\ttraining's rmse: 1.33143\tvalid_1's rmse: 1.45188\n",
      "[5200]\ttraining's rmse: 1.32025\tvalid_1's rmse: 1.43984\n",
      "[5400]\ttraining's rmse: 1.30652\tvalid_1's rmse: 1.42451\n",
      "[5600]\ttraining's rmse: 1.29692\tvalid_1's rmse: 1.41349\n",
      "[5800]\ttraining's rmse: 1.28334\tvalid_1's rmse: 1.39446\n",
      "[6000]\ttraining's rmse: 1.27566\tvalid_1's rmse: 1.38765\n",
      "[6200]\ttraining's rmse: 1.26929\tvalid_1's rmse: 1.38151\n",
      "[6400]\ttraining's rmse: 1.26087\tvalid_1's rmse: 1.37359\n",
      "[6600]\ttraining's rmse: 1.25234\tvalid_1's rmse: 1.36506\n",
      "[6800]\ttraining's rmse: 1.24474\tvalid_1's rmse: 1.3562\n",
      "[7000]\ttraining's rmse: 1.23717\tvalid_1's rmse: 1.34886\n",
      "[7200]\ttraining's rmse: 1.22733\tvalid_1's rmse: 1.33982\n",
      "[7400]\ttraining's rmse: 1.22009\tvalid_1's rmse: 1.33085\n",
      "[7600]\ttraining's rmse: 1.21354\tvalid_1's rmse: 1.32443\n",
      "[7800]\ttraining's rmse: 1.2052\tvalid_1's rmse: 1.31672\n",
      "[8000]\ttraining's rmse: 1.19645\tvalid_1's rmse: 1.30749\n",
      "[8200]\ttraining's rmse: 1.1901\tvalid_1's rmse: 1.30111\n",
      "[8400]\ttraining's rmse: 1.18423\tvalid_1's rmse: 1.29578\n",
      "[8600]\ttraining's rmse: 1.17877\tvalid_1's rmse: 1.29049\n",
      "[8800]\ttraining's rmse: 1.17282\tvalid_1's rmse: 1.28443\n",
      "[9000]\ttraining's rmse: 1.16321\tvalid_1's rmse: 1.27405\n",
      "[9200]\ttraining's rmse: 1.15739\tvalid_1's rmse: 1.26823\n",
      "[9400]\ttraining's rmse: 1.15041\tvalid_1's rmse: 1.26158\n",
      "[9600]\ttraining's rmse: 1.1433\tvalid_1's rmse: 1.25306\n",
      "[9800]\ttraining's rmse: 1.13851\tvalid_1's rmse: 1.24801\n",
      "[10000]\ttraining's rmse: 1.13213\tvalid_1's rmse: 1.24036\n",
      "Did not meet early stopping. Best iteration is:\n",
      "[10000]\ttraining's rmse: 1.13213\tvalid_1's rmse: 1.24036\n",
      "Features importance...\n",
      "Top 50 features:\n",
      "                   feature  split       gain\n",
      "276  推料器自动投退信号_*_炉排实际运行指令   2640  15.150129\n",
      "145      氧量设定值_+_炉排自动投退信号    399   7.326493\n",
      "286   炉排实际运行指令_*_炉排自动投退信号   1331   5.733361\n",
      "280      氧量设定值_*_炉排实际运行指令   2432   5.179350\n",
      "138     推料器自动投退信号_+_氧量设定值    227   3.922745\n",
      "144      氧量设定值_+_炉排实际运行指令   1395   2.853228\n",
      "172          HCL含量_*_一次风量   2093   2.364058\n",
      "7                炉排实际运行指令   2044   2.316266\n",
      "153          CO含量_*_HCL含量   3231   1.627843\n",
      "271      引风机转速_*_炉排实际运行指令   1652   1.550119\n",
      "30        CO含量_+_炉排实际运行指令   2581   1.411815\n",
      "140  推料器自动投退信号_+_炉排实际运行指令    997   1.155641\n",
      "44       HCL含量_+_炉排实际运行指令   2656   0.926842\n",
      "17           CO含量_+_HCL含量   2505   0.903616\n",
      "114      主蒸汽流量_+_炉排实际运行指令   2585   0.873634\n",
      "37          HCL含量_+_主蒸汽流量   2774   0.870356\n",
      "171         HCL含量_*_一次风调门   1460   0.849965\n",
      "182          HCL含量_*_给水流量   1679   0.743293\n",
      "234          一次风量_*_主蒸汽流量   2339   0.723188\n",
      "248         主蒸汽流量_*_氧量设定值   2303   0.658475\n",
      "250      主蒸汽流量_*_炉排实际运行指令   2047   0.573135\n",
      "269         引风机转速_*_氧量设定值   1914   0.562749\n",
      "23           CO含量_+_主蒸汽流量   2431   0.555971\n",
      "150   炉排实际运行指令_+_炉排自动投退信号    477   0.555587\n",
      "287       炉排实际运行指令_*_给水流量   2325   0.543065\n",
      "35          HCL含量_+_一次风调门   2262   0.542477\n",
      "108         主蒸汽流量_+_二次风调门   1529   0.527469\n",
      "231      一次风调门_*_炉排实际运行指令   1185   0.497954\n",
      "282          氧量设定值_*_给水流量   2381   0.497285\n",
      "151       炉排实际运行指令_+_给水流量   2806   0.496709\n",
      "214           gas_*_二次风调门    809   0.495990\n",
      "251      主蒸汽流量_*_炉排自动投退信号    998   0.492035\n",
      "247     主蒸汽流量_*_推料器自动投退信号   1599   0.489071\n",
      "88          一次风调门_+_主蒸汽流量   1854   0.489019\n",
      "246         主蒸汽流量_*_引风机转速   2321   0.486144\n",
      "163      CO含量_*_推料器自动投退信号    458   0.447575\n",
      "173         HCL含量_*_主蒸汽流量   1502   0.443401\n",
      "21           CO含量_+_一次风调门   1693   0.438689\n",
      "40          HCL含量_+_引风机转速   1931   0.437323\n",
      "38          HCL含量_+_二次风调门   1254   0.432968\n",
      "224         一次风调门_*_主蒸汽流量   1746   0.428903\n",
      "180      HCL含量_*_炉排实际运行指令   1741   0.426801\n",
      "241       一次风量_*_炉排实际运行指令   1770   0.423483\n",
      "220        gas_*_炉排实际运行指令   1650   0.412859\n",
      "122      二次风调门_+_炉排实际运行指令   1195   0.412371\n",
      "69       SO2含量_+_炉排实际运行指令   1738   0.405689\n",
      "84         gas_+_炉排实际运行指令   1544   0.392703\n",
      "176         HCL含量_*_引风机转速   1440   0.387580\n",
      "97           一次风调门_+_给水流量   2237   0.375868\n",
      "191         NOx含量_*_氧量设定值   1344   0.371609\n",
      "************************************  3 fold************************************\n",
      "[LightGBM] [Warning] Found whitespace in feature_names, replace with underlines\n",
      "[LightGBM] [Warning] Auto-choosing col-wise multi-threading, the overhead of testing was 0.047547 seconds.\n",
      "You can set `force_col_wise=true` to remove the overhead.\n",
      "[LightGBM] [Info] Total Bins 70621\n",
      "[LightGBM] [Info] Number of data points in the train set: 90234, number of used features: 289\n",
      "[LightGBM] [Warning] Found whitespace in feature_names, replace with underlines\n",
      "[LightGBM] [Info] Start training from score 70.000000\n",
      "Training until validation scores don't improve for 1000 rounds\n",
      "[200]\ttraining's rmse: 4.90219\tvalid_1's rmse: 4.85713\n",
      "[400]\ttraining's rmse: 4.41909\tvalid_1's rmse: 4.37154\n",
      "[600]\ttraining's rmse: 3.81538\tvalid_1's rmse: 3.78038\n",
      "[800]\ttraining's rmse: 3.43576\tvalid_1's rmse: 3.39289\n",
      "[1000]\ttraining's rmse: 3.02495\tvalid_1's rmse: 2.9676\n",
      "[1200]\ttraining's rmse: 2.72603\tvalid_1's rmse: 2.65867\n",
      "[1400]\ttraining's rmse: 2.54374\tvalid_1's rmse: 2.47552\n",
      "[1600]\ttraining's rmse: 2.34399\tvalid_1's rmse: 2.32206\n",
      "[1800]\ttraining's rmse: 2.19885\tvalid_1's rmse: 2.20521\n",
      "[2000]\ttraining's rmse: 2.03269\tvalid_1's rmse: 2.06079\n",
      "[2200]\ttraining's rmse: 1.9183\tvalid_1's rmse: 1.94712\n",
      "[2400]\ttraining's rmse: 1.83234\tvalid_1's rmse: 1.86027\n",
      "[2600]\ttraining's rmse: 1.72301\tvalid_1's rmse: 1.75401\n",
      "[2800]\ttraining's rmse: 1.6589\tvalid_1's rmse: 1.69308\n",
      "[3000]\ttraining's rmse: 1.59786\tvalid_1's rmse: 1.6345\n",
      "[3200]\ttraining's rmse: 1.54613\tvalid_1's rmse: 1.58477\n",
      "[3400]\ttraining's rmse: 1.48879\tvalid_1's rmse: 1.52871\n",
      "[3600]\ttraining's rmse: 1.45195\tvalid_1's rmse: 1.4938\n",
      "[3800]\ttraining's rmse: 1.42384\tvalid_1's rmse: 1.46837\n",
      "[4000]\ttraining's rmse: 1.40276\tvalid_1's rmse: 1.44804\n",
      "[4200]\ttraining's rmse: 1.37265\tvalid_1's rmse: 1.42194\n",
      "[4400]\ttraining's rmse: 1.35168\tvalid_1's rmse: 1.40317\n",
      "[4600]\ttraining's rmse: 1.32099\tvalid_1's rmse: 1.37791\n",
      "[4800]\ttraining's rmse: 1.30977\tvalid_1's rmse: 1.36812\n",
      "[5000]\ttraining's rmse: 1.30106\tvalid_1's rmse: 1.36063\n",
      "[5200]\ttraining's rmse: 1.29129\tvalid_1's rmse: 1.3518\n",
      "[5400]\ttraining's rmse: 1.28072\tvalid_1's rmse: 1.34308\n",
      "[5600]\ttraining's rmse: 1.273\tvalid_1's rmse: 1.33662\n",
      "[5800]\ttraining's rmse: 1.26492\tvalid_1's rmse: 1.32912\n",
      "[6000]\ttraining's rmse: 1.25806\tvalid_1's rmse: 1.32308\n",
      "[6200]\ttraining's rmse: 1.24942\tvalid_1's rmse: 1.3158\n",
      "[6400]\ttraining's rmse: 1.24156\tvalid_1's rmse: 1.30885\n",
      "[6600]\ttraining's rmse: 1.23589\tvalid_1's rmse: 1.30398\n",
      "[6800]\ttraining's rmse: 1.22901\tvalid_1's rmse: 1.29833\n",
      "[7000]\ttraining's rmse: 1.21946\tvalid_1's rmse: 1.29051\n",
      "[7200]\ttraining's rmse: 1.2111\tvalid_1's rmse: 1.28377\n",
      "[7400]\ttraining's rmse: 1.2023\tvalid_1's rmse: 1.27696\n",
      "[7600]\ttraining's rmse: 1.19609\tvalid_1's rmse: 1.27237\n",
      "[7800]\ttraining's rmse: 1.1906\tvalid_1's rmse: 1.26843\n",
      "[8000]\ttraining's rmse: 1.18466\tvalid_1's rmse: 1.26353\n",
      "[8200]\ttraining's rmse: 1.17678\tvalid_1's rmse: 1.25686\n",
      "[8400]\ttraining's rmse: 1.17009\tvalid_1's rmse: 1.2511\n",
      "[8600]\ttraining's rmse: 1.16329\tvalid_1's rmse: 1.24525\n",
      "[8800]\ttraining's rmse: 1.15762\tvalid_1's rmse: 1.2403\n",
      "[9000]\ttraining's rmse: 1.15136\tvalid_1's rmse: 1.23473\n",
      "[9200]\ttraining's rmse: 1.14694\tvalid_1's rmse: 1.23111\n",
      "[9400]\ttraining's rmse: 1.14256\tvalid_1's rmse: 1.2273\n",
      "[9600]\ttraining's rmse: 1.13589\tvalid_1's rmse: 1.22181\n",
      "[9800]\ttraining's rmse: 1.13026\tvalid_1's rmse: 1.21662\n",
      "[10000]\ttraining's rmse: 1.12497\tvalid_1's rmse: 1.21195\n",
      "Did not meet early stopping. Best iteration is:\n",
      "[10000]\ttraining's rmse: 1.12497\tvalid_1's rmse: 1.21195\n",
      "Features importance...\n",
      "Top 50 features:\n",
      "                   feature  split       gain\n",
      "276  推料器自动投退信号_*_炉排实际运行指令   2335  13.190558\n",
      "286   炉排实际运行指令_*_炉排自动投退信号   1509   7.206444\n",
      "145      氧量设定值_+_炉排自动投退信号    254   5.386513\n",
      "280      氧量设定值_*_炉排实际运行指令   2365   4.074717\n",
      "138     推料器自动投退信号_+_氧量设定值    182   3.592689\n",
      "144      氧量设定值_+_炉排实际运行指令   1474   2.816618\n",
      "153          CO含量_*_HCL含量   4177   2.726218\n",
      "172          HCL含量_*_一次风量   2055   2.417077\n",
      "7                炉排实际运行指令   2093   2.317212\n",
      "30        CO含量_+_炉排实际运行指令   3303   2.066458\n",
      "129       二次风量_+_炉排实际运行指令    618   1.519614\n",
      "271      引风机转速_*_炉排实际运行指令   1876   1.473093\n",
      "140  推料器自动投退信号_+_炉排实际运行指令    990   1.249307\n",
      "17           CO含量_+_HCL含量   2271   1.068950\n",
      "114      主蒸汽流量_+_炉排实际运行指令   2661   0.907736\n",
      "37          HCL含量_+_主蒸汽流量   2603   0.907625\n",
      "44       HCL含量_+_炉排实际运行指令   2777   0.846466\n",
      "250      主蒸汽流量_*_炉排实际运行指令   2728   0.818788\n",
      "234          一次风量_*_主蒸汽流量   2456   0.766782\n",
      "258      二次风调门_*_炉排实际运行指令   1188   0.760977\n",
      "269         引风机转速_*_氧量设定值   2138   0.634671\n",
      "35          HCL含量_+_一次风调门   2214   0.603551\n",
      "108         主蒸汽流量_+_二次风调门   1582   0.573330\n",
      "176         HCL含量_*_引风机转速   1300   0.569326\n",
      "171         HCL含量_*_一次风调门   1260   0.554308\n",
      "88          一次风调门_+_主蒸汽流量   1972   0.548902\n",
      "182          HCL含量_*_给水流量   1584   0.546936\n",
      "246         主蒸汽流量_*_引风机转速   2434   0.516003\n",
      "248         主蒸汽流量_*_氧量设定值   2118   0.511181\n",
      "224         一次风调门_*_主蒸汽流量   1797   0.509348\n",
      "40          HCL含量_+_引风机转速   2010   0.504307\n",
      "173         HCL含量_*_主蒸汽流量   1287   0.485223\n",
      "151       炉排实际运行指令_+_给水流量   2567   0.442943\n",
      "150   炉排实际运行指令_+_炉排自动投退信号    373   0.441402\n",
      "247     主蒸汽流量_*_推料器自动投退信号   1486   0.432722\n",
      "241       一次风量_*_炉排实际运行指令   1779   0.430182\n",
      "163      CO含量_*_推料器自动投退信号    444   0.428989\n",
      "69       SO2含量_+_炉排实际运行指令   1684   0.424666\n",
      "110         主蒸汽流量_+_引风机转速   2171   0.419035\n",
      "59           NOx含量_+_给水流量   1770   0.410316\n",
      "169         HCL含量_*_NOx含量   2078   0.409383\n",
      "251      主蒸汽流量_*_炉排自动投退信号   1030   0.407767\n",
      "23           CO含量_+_主蒸汽流量   2332   0.407439\n",
      "122      二次风调门_+_炉排实际运行指令   1199   0.405894\n",
      "282          氧量设定值_*_给水流量   2398   0.405214\n",
      "191         NOx含量_*_氧量设定值   1346   0.377706\n",
      "239          一次风量_*_氧量设定值   1661   0.375631\n",
      "156            CO含量_*_gas   1627   0.373871\n",
      "97           一次风调门_+_给水流量   2020   0.371162\n",
      "75            gas_+_一次风调门   1235   0.365485\n",
      "************************************  4 fold************************************\n",
      "[LightGBM] [Warning] Found whitespace in feature_names, replace with underlines\n",
      "[LightGBM] [Warning] Auto-choosing col-wise multi-threading, the overhead of testing was 0.048139 seconds.\n",
      "You can set `force_col_wise=true` to remove the overhead.\n",
      "[LightGBM] [Info] Total Bins 70652\n",
      "[LightGBM] [Info] Number of data points in the train set: 90234, number of used features: 289\n",
      "[LightGBM] [Warning] Found whitespace in feature_names, replace with underlines\n",
      "[LightGBM] [Info] Start training from score 70.000000\n",
      "Training until validation scores don't improve for 1000 rounds\n",
      "[200]\ttraining's rmse: 5.09322\tvalid_1's rmse: 5.21533\n",
      "[400]\ttraining's rmse: 4.5382\tvalid_1's rmse: 4.64608\n",
      "[600]\ttraining's rmse: 3.7984\tvalid_1's rmse: 3.92238\n",
      "[800]\ttraining's rmse: 3.26877\tvalid_1's rmse: 3.37152\n",
      "[1000]\ttraining's rmse: 2.92125\tvalid_1's rmse: 3.00867\n",
      "[1200]\ttraining's rmse: 2.58988\tvalid_1's rmse: 2.69814\n",
      "[1400]\ttraining's rmse: 2.34586\tvalid_1's rmse: 2.47512\n",
      "[1600]\ttraining's rmse: 2.23563\tvalid_1's rmse: 2.37316\n",
      "[1800]\ttraining's rmse: 2.09461\tvalid_1's rmse: 2.22804\n",
      "[2000]\ttraining's rmse: 1.93536\tvalid_1's rmse: 2.04887\n",
      "[2200]\ttraining's rmse: 1.85662\tvalid_1's rmse: 1.96593\n",
      "[2400]\ttraining's rmse: 1.75725\tvalid_1's rmse: 1.88104\n",
      "[2600]\ttraining's rmse: 1.60511\tvalid_1's rmse: 1.76425\n",
      "[2800]\ttraining's rmse: 1.49489\tvalid_1's rmse: 1.67789\n",
      "[3000]\ttraining's rmse: 1.45474\tvalid_1's rmse: 1.64467\n",
      "[3200]\ttraining's rmse: 1.4251\tvalid_1's rmse: 1.61685\n",
      "[3400]\ttraining's rmse: 1.39433\tvalid_1's rmse: 1.5871\n",
      "[3600]\ttraining's rmse: 1.37078\tvalid_1's rmse: 1.56542\n",
      "[3800]\ttraining's rmse: 1.35012\tvalid_1's rmse: 1.54606\n",
      "[4000]\ttraining's rmse: 1.33119\tvalid_1's rmse: 1.52528\n",
      "[4200]\ttraining's rmse: 1.31831\tvalid_1's rmse: 1.51317\n",
      "[4400]\ttraining's rmse: 1.30145\tvalid_1's rmse: 1.49701\n",
      "[4600]\ttraining's rmse: 1.28768\tvalid_1's rmse: 1.48525\n",
      "[4800]\ttraining's rmse: 1.27354\tvalid_1's rmse: 1.47267\n",
      "[5000]\ttraining's rmse: 1.26189\tvalid_1's rmse: 1.46221\n",
      "[5200]\ttraining's rmse: 1.2516\tvalid_1's rmse: 1.45275\n",
      "[5400]\ttraining's rmse: 1.24229\tvalid_1's rmse: 1.44379\n",
      "[5600]\ttraining's rmse: 1.23309\tvalid_1's rmse: 1.43586\n",
      "[5800]\ttraining's rmse: 1.22402\tvalid_1's rmse: 1.42834\n",
      "[6000]\ttraining's rmse: 1.21723\tvalid_1's rmse: 1.42255\n",
      "[6200]\ttraining's rmse: 1.20966\tvalid_1's rmse: 1.41558\n",
      "[6400]\ttraining's rmse: 1.20194\tvalid_1's rmse: 1.40867\n",
      "[6600]\ttraining's rmse: 1.19451\tvalid_1's rmse: 1.40268\n",
      "[6800]\ttraining's rmse: 1.18893\tvalid_1's rmse: 1.39815\n",
      "[7000]\ttraining's rmse: 1.18264\tvalid_1's rmse: 1.39267\n",
      "[7200]\ttraining's rmse: 1.17669\tvalid_1's rmse: 1.38745\n",
      "[7400]\ttraining's rmse: 1.17093\tvalid_1's rmse: 1.38214\n",
      "[7600]\ttraining's rmse: 1.16581\tvalid_1's rmse: 1.3768\n",
      "[7800]\ttraining's rmse: 1.15965\tvalid_1's rmse: 1.37126\n",
      "[8000]\ttraining's rmse: 1.15529\tvalid_1's rmse: 1.36737\n",
      "[8200]\ttraining's rmse: 1.1495\tvalid_1's rmse: 1.3624\n",
      "[8400]\ttraining's rmse: 1.14412\tvalid_1's rmse: 1.3576\n",
      "[8600]\ttraining's rmse: 1.13746\tvalid_1's rmse: 1.35116\n",
      "[8800]\ttraining's rmse: 1.13322\tvalid_1's rmse: 1.34694\n",
      "[9000]\ttraining's rmse: 1.12729\tvalid_1's rmse: 1.34173\n",
      "[9200]\ttraining's rmse: 1.12385\tvalid_1's rmse: 1.3385\n",
      "[9400]\ttraining's rmse: 1.11807\tvalid_1's rmse: 1.33314\n",
      "[9600]\ttraining's rmse: 1.11384\tvalid_1's rmse: 1.32946\n",
      "[9800]\ttraining's rmse: 1.10878\tvalid_1's rmse: 1.32484\n",
      "[10000]\ttraining's rmse: 1.10263\tvalid_1's rmse: 1.31897\n",
      "Did not meet early stopping. Best iteration is:\n",
      "[10000]\ttraining's rmse: 1.10263\tvalid_1's rmse: 1.31897\n",
      "Features importance...\n",
      "Top 50 features:\n",
      "                   feature  split       gain\n",
      "276  推料器自动投退信号_*_炉排实际运行指令   2443  16.778337\n",
      "286   炉排实际运行指令_*_炉排自动投退信号   1465   6.946913\n",
      "145      氧量设定值_+_炉排自动投退信号    351   5.864499\n",
      "280      氧量设定值_*_炉排实际运行指令   2077   4.191519\n",
      "144      氧量设定值_+_炉排实际运行指令   1449   3.057569\n",
      "7                炉排实际运行指令   2009   2.535362\n",
      "138     推料器自动投退信号_+_氧量设定值    175   2.480791\n",
      "172          HCL含量_*_一次风量   2004   2.204406\n",
      "271      引风机转速_*_炉排实际运行指令   2156   1.642406\n",
      "140  推料器自动投退信号_+_炉排实际运行指令    931   1.627955\n",
      "153          CO含量_*_HCL含量   2738   1.295609\n",
      "176         HCL含量_*_引风机转速   1581   1.241315\n",
      "30        CO含量_+_炉排实际运行指令   2574   1.225142\n",
      "44       HCL含量_+_炉排实际运行指令   2808   1.001907\n",
      "17           CO含量_+_HCL含量   2367   0.980076\n",
      "150   炉排实际运行指令_+_炉排自动投退信号    445   0.836351\n",
      "37          HCL含量_+_主蒸汽流量   2453   0.792280\n",
      "114      主蒸汽流量_+_炉排实际运行指令   2535   0.787787\n",
      "129       二次风量_+_炉排实际运行指令    395   0.769641\n",
      "269         引风机转速_*_氧量设定值   2064   0.759655\n",
      "234          一次风量_*_主蒸汽流量   2533   0.717491\n",
      "182          HCL含量_*_给水流量   1694   0.656681\n",
      "35          HCL含量_+_一次风调门   2402   0.653387\n",
      "246         主蒸汽流量_*_引风机转速   2470   0.611517\n",
      "151       炉排实际运行指令_+_给水流量   2719   0.598763\n",
      "171         HCL含量_*_一次风调门   1502   0.576919\n",
      "248         主蒸汽流量_*_氧量设定值   2246   0.562444\n",
      "173         HCL含量_*_主蒸汽流量   1466   0.512688\n",
      "69       SO2含量_+_炉排实际运行指令   1812   0.511246\n",
      "88          一次风调门_+_主蒸汽流量   2141   0.492351\n",
      "224         一次风调门_*_主蒸汽流量   1853   0.487981\n",
      "250      主蒸汽流量_*_炉排实际运行指令   2169   0.479710\n",
      "108         主蒸汽流量_+_二次风调门   1408   0.478385\n",
      "287       炉排实际运行指令_*_给水流量   2223   0.476544\n",
      "251      主蒸汽流量_*_炉排自动投退信号   1140   0.473700\n",
      "40          HCL含量_+_引风机转速   2000   0.471382\n",
      "231      一次风调门_*_炉排实际运行指令   1210   0.458914\n",
      "282          氧量设定值_*_给水流量   2488   0.438602\n",
      "122      二次风调门_+_炉排实际运行指令   1212   0.434631\n",
      "258      二次风调门_*_炉排实际运行指令   1098   0.419421\n",
      "1                   HCL含量    902   0.415627\n",
      "75            gas_+_一次风调门   1103   0.414411\n",
      "97           一次风调门_+_给水流量   2067   0.392732\n",
      "38          HCL含量_+_二次风调门   1212   0.389585\n",
      "149           汽包水位_+_给水流量   3248   0.385383\n",
      "191         NOx含量_*_氧量设定值   1493   0.370835\n",
      "110         主蒸汽流量_+_引风机转速   2087   0.368734\n",
      "71           SO2含量_+_给水流量   2305   0.362812\n",
      "59           NOx含量_+_给水流量   1782   0.361823\n",
      "46           HCL含量_+_给水流量   2256   0.361083\n",
      "************************************  5 fold************************************\n",
      "[LightGBM] [Warning] Found whitespace in feature_names, replace with underlines\n",
      "[LightGBM] [Warning] Auto-choosing col-wise multi-threading, the overhead of testing was 0.060189 seconds.\n",
      "You can set `force_col_wise=true` to remove the overhead.\n",
      "[LightGBM] [Info] Total Bins 70646\n",
      "[LightGBM] [Info] Number of data points in the train set: 90234, number of used features: 289\n",
      "[LightGBM] [Warning] Found whitespace in feature_names, replace with underlines\n",
      "[LightGBM] [Info] Start training from score 70.000000\n",
      "Training until validation scores don't improve for 1000 rounds\n",
      "[200]\ttraining's rmse: 5.00709\tvalid_1's rmse: 5.05561\n",
      "[400]\ttraining's rmse: 4.53877\tvalid_1's rmse: 4.58145\n",
      "[600]\ttraining's rmse: 3.75657\tvalid_1's rmse: 3.79272\n",
      "[800]\ttraining's rmse: 3.28658\tvalid_1's rmse: 3.3346\n",
      "[1000]\ttraining's rmse: 3.03166\tvalid_1's rmse: 3.10233\n",
      "[1200]\ttraining's rmse: 2.68368\tvalid_1's rmse: 2.6983\n",
      "[1400]\ttraining's rmse: 2.46743\tvalid_1's rmse: 2.49652\n",
      "[1600]\ttraining's rmse: 2.37461\tvalid_1's rmse: 2.41668\n",
      "[1800]\ttraining's rmse: 2.22733\tvalid_1's rmse: 2.27771\n",
      "[2000]\ttraining's rmse: 2.14234\tvalid_1's rmse: 2.20298\n",
      "[2200]\ttraining's rmse: 2.01118\tvalid_1's rmse: 2.08891\n",
      "[2400]\ttraining's rmse: 1.8637\tvalid_1's rmse: 1.96357\n",
      "[2600]\ttraining's rmse: 1.73887\tvalid_1's rmse: 1.85947\n",
      "[2800]\ttraining's rmse: 1.68295\tvalid_1's rmse: 1.80864\n",
      "[3000]\ttraining's rmse: 1.63925\tvalid_1's rmse: 1.76731\n",
      "[3200]\ttraining's rmse: 1.59359\tvalid_1's rmse: 1.72591\n",
      "[3400]\ttraining's rmse: 1.57001\tvalid_1's rmse: 1.70365\n",
      "[3600]\ttraining's rmse: 1.54205\tvalid_1's rmse: 1.67862\n",
      "[3800]\ttraining's rmse: 1.51312\tvalid_1's rmse: 1.6492\n",
      "[4000]\ttraining's rmse: 1.46925\tvalid_1's rmse: 1.60936\n",
      "[4200]\ttraining's rmse: 1.43805\tvalid_1's rmse: 1.58153\n",
      "[4400]\ttraining's rmse: 1.41232\tvalid_1's rmse: 1.55878\n",
      "[4600]\ttraining's rmse: 1.39125\tvalid_1's rmse: 1.5391\n",
      "[4800]\ttraining's rmse: 1.37533\tvalid_1's rmse: 1.52455\n",
      "[5000]\ttraining's rmse: 1.35789\tvalid_1's rmse: 1.50831\n",
      "[5200]\ttraining's rmse: 1.34492\tvalid_1's rmse: 1.49629\n",
      "[5400]\ttraining's rmse: 1.33276\tvalid_1's rmse: 1.48417\n",
      "[5600]\ttraining's rmse: 1.32397\tvalid_1's rmse: 1.47673\n",
      "[5800]\ttraining's rmse: 1.31168\tvalid_1's rmse: 1.46637\n",
      "[6000]\ttraining's rmse: 1.29836\tvalid_1's rmse: 1.45469\n",
      "[6200]\ttraining's rmse: 1.2873\tvalid_1's rmse: 1.44554\n",
      "[6400]\ttraining's rmse: 1.27768\tvalid_1's rmse: 1.43687\n",
      "[6600]\ttraining's rmse: 1.27099\tvalid_1's rmse: 1.43108\n",
      "[6800]\ttraining's rmse: 1.26163\tvalid_1's rmse: 1.42361\n",
      "[7000]\ttraining's rmse: 1.25282\tvalid_1's rmse: 1.41562\n",
      "[7200]\ttraining's rmse: 1.24513\tvalid_1's rmse: 1.40863\n",
      "[7400]\ttraining's rmse: 1.2383\tvalid_1's rmse: 1.40209\n",
      "[7600]\ttraining's rmse: 1.2326\tvalid_1's rmse: 1.39711\n",
      "[7800]\ttraining's rmse: 1.22772\tvalid_1's rmse: 1.3926\n",
      "[8000]\ttraining's rmse: 1.22154\tvalid_1's rmse: 1.38658\n",
      "[8200]\ttraining's rmse: 1.21439\tvalid_1's rmse: 1.37985\n",
      "[8400]\ttraining's rmse: 1.20861\tvalid_1's rmse: 1.37434\n",
      "[8600]\ttraining's rmse: 1.20302\tvalid_1's rmse: 1.36926\n",
      "[8800]\ttraining's rmse: 1.19724\tvalid_1's rmse: 1.36389\n",
      "[9000]\ttraining's rmse: 1.19065\tvalid_1's rmse: 1.35788\n",
      "[9200]\ttraining's rmse: 1.1841\tvalid_1's rmse: 1.35177\n",
      "[9400]\ttraining's rmse: 1.17276\tvalid_1's rmse: 1.34097\n",
      "[9600]\ttraining's rmse: 1.16557\tvalid_1's rmse: 1.33367\n",
      "[9800]\ttraining's rmse: 1.15875\tvalid_1's rmse: 1.32684\n",
      "[10000]\ttraining's rmse: 1.1538\tvalid_1's rmse: 1.32234\n",
      "Did not meet early stopping. Best iteration is:\n",
      "[10000]\ttraining's rmse: 1.1538\tvalid_1's rmse: 1.32234\n",
      "Features importance...\n",
      "Top 50 features:\n",
      "                   feature  split       gain\n",
      "276  推料器自动投退信号_*_炉排实际运行指令   3380  17.049427\n",
      "286   炉排实际运行指令_*_炉排自动投退信号   2246   9.084348\n",
      "145      氧量设定值_+_炉排自动投退信号    340   6.343013\n",
      "280      氧量设定值_*_炉排实际运行指令   1991   3.560029\n",
      "138     推料器自动投退信号_+_氧量设定值    202   3.067252\n",
      "144      氧量设定值_+_炉排实际运行指令   1475   2.895352\n",
      "7                炉排实际运行指令   2169   2.368074\n",
      "172          HCL含量_*_一次风量   2267   2.274496\n",
      "271      引风机转速_*_炉排实际运行指令   1715   1.502279\n",
      "153          CO含量_*_HCL含量   3205   1.477464\n",
      "30        CO含量_+_炉排实际运行指令   2946   1.380372\n",
      "140  推料器自动投退信号_+_炉排实际运行指令   1142   1.358613\n",
      "224         一次风调门_*_主蒸汽流量   2146   1.118087\n",
      "44       HCL含量_+_炉排实际运行指令   2655   0.831566\n",
      "114      主蒸汽流量_+_炉排实际运行指令   2573   0.763002\n",
      "97           一次风调门_+_给水流量   2286   0.741444\n",
      "171         HCL含量_*_一次风调门   1608   0.722860\n",
      "35          HCL含量_+_一次风调门   2593   0.678122\n",
      "176         HCL含量_*_引风机转速   1370   0.655222\n",
      "234          一次风量_*_主蒸汽流量   2288   0.650204\n",
      "88          一次风调门_+_主蒸汽流量   2046   0.646327\n",
      "37          HCL含量_+_主蒸汽流量   2280   0.643106\n",
      "269         引风机转速_*_氧量设定值   2016   0.633006\n",
      "137          引风机转速_+_给水流量   2457   0.611286\n",
      "40          HCL含量_+_引风机转速   1908   0.576972\n",
      "233          一次风调门_*_给水流量   1802   0.563772\n",
      "150   炉排实际运行指令_+_炉排自动投退信号    482   0.563222\n",
      "1                   HCL含量   1368   0.527690\n",
      "246         主蒸汽流量_*_引风机转速   2352   0.524226\n",
      "17           CO含量_+_HCL含量   2201   0.522646\n",
      "182          HCL含量_*_给水流量   1629   0.483336\n",
      "151       炉排实际运行指令_+_给水流量   2787   0.472746\n",
      "248         主蒸汽流量_*_氧量设定值   2285   0.472088\n",
      "108         主蒸汽流量_+_二次风调门   1629   0.462439\n",
      "251      主蒸汽流量_*_炉排自动投退信号   1039   0.457641\n",
      "23           CO含量_+_主蒸汽流量   2530   0.450989\n",
      "247     主蒸汽流量_*_推料器自动投退信号   1701   0.439688\n",
      "250      主蒸汽流量_*_炉排实际运行指令   2211   0.433254\n",
      "21           CO含量_+_一次风调门   1852   0.422898\n",
      "169         HCL含量_*_NOx含量   2238   0.410643\n",
      "177     HCL含量_*_推料器自动投退信号   1272   0.387204\n",
      "163      CO含量_*_推料器自动投退信号    412   0.382416\n",
      "95       一次风调门_+_炉排实际运行指令   1232   0.377715\n",
      "241       一次风量_*_炉排实际运行指令   2015   0.376889\n",
      "287       炉排实际运行指令_*_给水流量   2034   0.375132\n",
      "173         HCL含量_*_主蒸汽流量   1496   0.361964\n",
      "32            CO含量_+_给水流量   2579   0.361963\n",
      "122      二次风调门_+_炉排实际运行指令   1081   0.360441\n",
      "75            gas_+_一次风调门   1161   0.355559\n",
      "282          氧量设定值_*_给水流量   2174   0.350403\n",
      "************************************  6 fold************************************\n",
      "[LightGBM] [Warning] Found whitespace in feature_names, replace with underlines\n",
      "[LightGBM] [Warning] Auto-choosing col-wise multi-threading, the overhead of testing was 0.045493 seconds.\n",
      "You can set `force_col_wise=true` to remove the overhead.\n",
      "[LightGBM] [Info] Total Bins 70642\n",
      "[LightGBM] [Info] Number of data points in the train set: 90234, number of used features: 289\n",
      "[LightGBM] [Warning] Found whitespace in feature_names, replace with underlines\n",
      "[LightGBM] [Info] Start training from score 70.000000\n",
      "Training until validation scores don't improve for 1000 rounds\n",
      "[200]\ttraining's rmse: 5.05738\tvalid_1's rmse: 5.11358\n",
      "[400]\ttraining's rmse: 4.57126\tvalid_1's rmse: 4.63228\n",
      "[600]\ttraining's rmse: 3.86602\tvalid_1's rmse: 3.93881\n",
      "[800]\ttraining's rmse: 3.2081\tvalid_1's rmse: 3.26869\n",
      "[1000]\ttraining's rmse: 2.89093\tvalid_1's rmse: 2.93225\n",
      "[1200]\ttraining's rmse: 2.65771\tvalid_1's rmse: 2.65542\n",
      "[1400]\ttraining's rmse: 2.37031\tvalid_1's rmse: 2.36983\n",
      "[1600]\ttraining's rmse: 2.20658\tvalid_1's rmse: 2.23116\n",
      "[1800]\ttraining's rmse: 2.14038\tvalid_1's rmse: 2.1725\n",
      "[2000]\ttraining's rmse: 1.98658\tvalid_1's rmse: 2.04299\n",
      "[2200]\ttraining's rmse: 1.90771\tvalid_1's rmse: 1.97628\n",
      "[2400]\ttraining's rmse: 1.84888\tvalid_1's rmse: 1.92003\n",
      "[2600]\ttraining's rmse: 1.77373\tvalid_1's rmse: 1.84426\n",
      "[2800]\ttraining's rmse: 1.68382\tvalid_1's rmse: 1.74691\n",
      "[3000]\ttraining's rmse: 1.6251\tvalid_1's rmse: 1.68279\n",
      "[3200]\ttraining's rmse: 1.59149\tvalid_1's rmse: 1.64894\n",
      "[3400]\ttraining's rmse: 1.56641\tvalid_1's rmse: 1.62613\n",
      "[3600]\ttraining's rmse: 1.54403\tvalid_1's rmse: 1.60488\n",
      "[3800]\ttraining's rmse: 1.52708\tvalid_1's rmse: 1.58702\n",
      "[4000]\ttraining's rmse: 1.50387\tvalid_1's rmse: 1.5621\n",
      "[4200]\ttraining's rmse: 1.48605\tvalid_1's rmse: 1.54328\n",
      "[4400]\ttraining's rmse: 1.47257\tvalid_1's rmse: 1.52908\n",
      "[4600]\ttraining's rmse: 1.43394\tvalid_1's rmse: 1.48137\n",
      "[4800]\ttraining's rmse: 1.37566\tvalid_1's rmse: 1.40189\n",
      "[5000]\ttraining's rmse: 1.35869\tvalid_1's rmse: 1.38413\n",
      "[5200]\ttraining's rmse: 1.34603\tvalid_1's rmse: 1.37234\n",
      "[5400]\ttraining's rmse: 1.33522\tvalid_1's rmse: 1.36199\n",
      "[5600]\ttraining's rmse: 1.32343\tvalid_1's rmse: 1.35156\n",
      "[5800]\ttraining's rmse: 1.31505\tvalid_1's rmse: 1.34372\n",
      "[6000]\ttraining's rmse: 1.3072\tvalid_1's rmse: 1.33628\n",
      "[6200]\ttraining's rmse: 1.29804\tvalid_1's rmse: 1.32811\n",
      "[6400]\ttraining's rmse: 1.28778\tvalid_1's rmse: 1.31845\n",
      "[6600]\ttraining's rmse: 1.27847\tvalid_1's rmse: 1.31086\n",
      "[6800]\ttraining's rmse: 1.27188\tvalid_1's rmse: 1.30436\n",
      "[7000]\ttraining's rmse: 1.26282\tvalid_1's rmse: 1.29626\n",
      "[7200]\ttraining's rmse: 1.25478\tvalid_1's rmse: 1.28847\n",
      "[7400]\ttraining's rmse: 1.24695\tvalid_1's rmse: 1.28159\n",
      "[7600]\ttraining's rmse: 1.24072\tvalid_1's rmse: 1.2758\n",
      "[7800]\ttraining's rmse: 1.23122\tvalid_1's rmse: 1.26705\n",
      "[8000]\ttraining's rmse: 1.22317\tvalid_1's rmse: 1.25971\n",
      "[8200]\ttraining's rmse: 1.21614\tvalid_1's rmse: 1.25337\n",
      "[8400]\ttraining's rmse: 1.20615\tvalid_1's rmse: 1.24482\n",
      "[8600]\ttraining's rmse: 1.20076\tvalid_1's rmse: 1.24011\n",
      "[8800]\ttraining's rmse: 1.19524\tvalid_1's rmse: 1.23525\n",
      "[9000]\ttraining's rmse: 1.18455\tvalid_1's rmse: 1.22708\n",
      "[9200]\ttraining's rmse: 1.17912\tvalid_1's rmse: 1.22219\n",
      "[9400]\ttraining's rmse: 1.17385\tvalid_1's rmse: 1.21709\n",
      "[9600]\ttraining's rmse: 1.16938\tvalid_1's rmse: 1.21333\n",
      "[9800]\ttraining's rmse: 1.16467\tvalid_1's rmse: 1.20865\n",
      "[10000]\ttraining's rmse: 1.16069\tvalid_1's rmse: 1.20523\n",
      "Did not meet early stopping. Best iteration is:\n",
      "[10000]\ttraining's rmse: 1.16069\tvalid_1's rmse: 1.20523\n",
      "Features importance...\n",
      "Top 50 features:\n",
      "                   feature  split       gain\n",
      "276  推料器自动投退信号_*_炉排实际运行指令   3391  15.991541\n",
      "286   炉排实际运行指令_*_炉排自动投退信号   3247  11.278281\n",
      "7                炉排实际运行指令   5710   8.597157\n",
      "145      氧量设定值_+_炉排自动投退信号    306   3.386838\n",
      "280      氧量设定值_*_炉排实际运行指令   2037   2.997897\n",
      "129       二次风量_+_炉排实际运行指令   1396   2.705143\n",
      "144      氧量设定值_+_炉排实际运行指令   1480   2.005023\n",
      "140  推料器自动投退信号_+_炉排实际运行指令   1525   1.938053\n",
      "138     推料器自动投退信号_+_氧量设定值    162   1.613959\n",
      "172          HCL含量_*_一次风量   1884   1.597630\n",
      "258      二次风调门_*_炉排实际运行指令   1653   1.556301\n",
      "30        CO含量_+_炉排实际运行指令   2728   1.290885\n",
      "153          CO含量_*_HCL含量   2914   1.134975\n",
      "271      引风机转速_*_炉排实际运行指令   1698   1.104952\n",
      "17           CO含量_+_HCL含量   2366   1.065981\n",
      "44       HCL含量_+_炉排实际运行指令   2977   0.917246\n",
      "192          NOx含量_*_汽包水位   2700   0.836163\n",
      "35          HCL含量_+_一次风调门   3265   0.766905\n",
      "176         HCL含量_*_引风机转速   1158   0.695474\n",
      "219            gas_*_汽包水位   2180   0.650167\n",
      "37          HCL含量_+_主蒸汽流量   2455   0.611747\n",
      "234          一次风量_*_主蒸汽流量   2523   0.606016\n",
      "1                   HCL含量   1756   0.583543\n",
      "122      二次风调门_+_炉排实际运行指令   1887   0.541430\n",
      "269         引风机转速_*_氧量设定值   1833   0.541010\n",
      "150   炉排实际运行指令_+_炉排自动投退信号    508   0.528524\n",
      "182          HCL含量_*_给水流量   1474   0.523368\n",
      "173         HCL含量_*_主蒸汽流量   1647   0.501030\n",
      "171         HCL含量_*_一次风调门   1182   0.486081\n",
      "95       一次风调门_+_炉排实际运行指令   1665   0.468699\n",
      "114      主蒸汽流量_+_炉排实际运行指令   2132   0.441784\n",
      "246         主蒸汽流量_*_引风机转速   2370   0.413947\n",
      "147       汽包水位_+_炉排实际运行指令   3235   0.399460\n",
      "108         主蒸汽流量_+_二次风调门   1494   0.387396\n",
      "224         一次风调门_*_主蒸汽流量   1784   0.366149\n",
      "88          一次风调门_+_主蒸汽流量   2001   0.365919\n",
      "40          HCL含量_+_引风机转速   1893   0.364775\n",
      "250      主蒸汽流量_*_炉排实际运行指令   1804   0.361926\n",
      "248         主蒸汽流量_*_氧量设定值   1872   0.361035\n",
      "282          氧量设定值_*_给水流量   2369   0.352485\n",
      "191         NOx含量_*_氧量设定值   1357   0.350481\n",
      "228     一次风调门_*_推料器自动投退信号    698   0.349454\n",
      "41      HCL含量_+_推料器自动投退信号   1855   0.346810\n",
      "251      主蒸汽流量_*_炉排自动投退信号   1059   0.341731\n",
      "69       SO2含量_+_炉排实际运行指令   1733   0.337940\n",
      "241       一次风量_*_炉排实际运行指令   2000   0.334967\n",
      "110         主蒸汽流量_+_引风机转速   2052   0.332811\n",
      "247     主蒸汽流量_*_推料器自动投退信号   1493   0.317000\n",
      "113          主蒸汽流量_+_汽包水位   2685   0.302948\n",
      "23           CO含量_+_主蒸汽流量   2266   0.302213\n",
      "************************************  7 fold************************************\n",
      "[LightGBM] [Warning] Found whitespace in feature_names, replace with underlines\n",
      "[LightGBM] [Warning] Auto-choosing col-wise multi-threading, the overhead of testing was 0.052513 seconds.\n",
      "You can set `force_col_wise=true` to remove the overhead.\n",
      "[LightGBM] [Info] Total Bins 70648\n",
      "[LightGBM] [Info] Number of data points in the train set: 90234, number of used features: 289\n",
      "[LightGBM] [Warning] Found whitespace in feature_names, replace with underlines\n",
      "[LightGBM] [Info] Start training from score 70.000000\n",
      "Training until validation scores don't improve for 1000 rounds\n",
      "[200]\ttraining's rmse: 4.84252\tvalid_1's rmse: 4.72327\n",
      "[400]\ttraining's rmse: 4.22873\tvalid_1's rmse: 4.1056\n",
      "[600]\ttraining's rmse: 3.70204\tvalid_1's rmse: 3.60617\n",
      "[800]\ttraining's rmse: 3.26455\tvalid_1's rmse: 3.19378\n",
      "[1000]\ttraining's rmse: 2.88894\tvalid_1's rmse: 2.84206\n",
      "[1200]\ttraining's rmse: 2.67001\tvalid_1's rmse: 2.64694\n",
      "[1400]\ttraining's rmse: 2.46431\tvalid_1's rmse: 2.45539\n",
      "[1600]\ttraining's rmse: 2.33858\tvalid_1's rmse: 2.33978\n",
      "[1800]\ttraining's rmse: 2.08839\tvalid_1's rmse: 2.10346\n",
      "[2000]\ttraining's rmse: 1.87299\tvalid_1's rmse: 1.89745\n",
      "[2200]\ttraining's rmse: 1.7466\tvalid_1's rmse: 1.78638\n",
      "[2400]\ttraining's rmse: 1.67995\tvalid_1's rmse: 1.72492\n",
      "[2600]\ttraining's rmse: 1.60911\tvalid_1's rmse: 1.66449\n",
      "[2800]\ttraining's rmse: 1.5726\tvalid_1's rmse: 1.62832\n",
      "[3000]\ttraining's rmse: 1.54018\tvalid_1's rmse: 1.59758\n",
      "[3200]\ttraining's rmse: 1.51332\tvalid_1's rmse: 1.56961\n",
      "[3400]\ttraining's rmse: 1.47511\tvalid_1's rmse: 1.52994\n",
      "[3600]\ttraining's rmse: 1.42033\tvalid_1's rmse: 1.47747\n",
      "[3800]\ttraining's rmse: 1.37238\tvalid_1's rmse: 1.42886\n",
      "[4000]\ttraining's rmse: 1.35289\tvalid_1's rmse: 1.40952\n",
      "[4200]\ttraining's rmse: 1.33852\tvalid_1's rmse: 1.39566\n",
      "[4400]\ttraining's rmse: 1.32516\tvalid_1's rmse: 1.38164\n",
      "[4600]\ttraining's rmse: 1.31009\tvalid_1's rmse: 1.36551\n",
      "[4800]\ttraining's rmse: 1.29501\tvalid_1's rmse: 1.35089\n",
      "[5000]\ttraining's rmse: 1.28338\tvalid_1's rmse: 1.33859\n",
      "[5200]\ttraining's rmse: 1.27506\tvalid_1's rmse: 1.33075\n",
      "[5400]\ttraining's rmse: 1.26394\tvalid_1's rmse: 1.32011\n",
      "[5600]\ttraining's rmse: 1.25303\tvalid_1's rmse: 1.30971\n",
      "[5800]\ttraining's rmse: 1.24347\tvalid_1's rmse: 1.30069\n",
      "[6000]\ttraining's rmse: 1.23489\tvalid_1's rmse: 1.29268\n",
      "[6200]\ttraining's rmse: 1.229\tvalid_1's rmse: 1.28664\n",
      "[6400]\ttraining's rmse: 1.22115\tvalid_1's rmse: 1.27843\n",
      "[6600]\ttraining's rmse: 1.21347\tvalid_1's rmse: 1.2711\n",
      "[6800]\ttraining's rmse: 1.20757\tvalid_1's rmse: 1.26524\n",
      "[7000]\ttraining's rmse: 1.20087\tvalid_1's rmse: 1.25905\n",
      "[7200]\ttraining's rmse: 1.19522\tvalid_1's rmse: 1.25221\n",
      "[7400]\ttraining's rmse: 1.18789\tvalid_1's rmse: 1.24503\n",
      "[7600]\ttraining's rmse: 1.18094\tvalid_1's rmse: 1.23847\n",
      "[7800]\ttraining's rmse: 1.17483\tvalid_1's rmse: 1.23265\n",
      "[8000]\ttraining's rmse: 1.16989\tvalid_1's rmse: 1.22721\n",
      "[8200]\ttraining's rmse: 1.1643\tvalid_1's rmse: 1.22167\n",
      "[8400]\ttraining's rmse: 1.15864\tvalid_1's rmse: 1.21609\n",
      "[8600]\ttraining's rmse: 1.15243\tvalid_1's rmse: 1.20974\n",
      "[8800]\ttraining's rmse: 1.14624\tvalid_1's rmse: 1.20322\n",
      "[9000]\ttraining's rmse: 1.14042\tvalid_1's rmse: 1.19661\n",
      "[9200]\ttraining's rmse: 1.13553\tvalid_1's rmse: 1.1919\n",
      "[9400]\ttraining's rmse: 1.12826\tvalid_1's rmse: 1.18335\n",
      "[9600]\ttraining's rmse: 1.1229\tvalid_1's rmse: 1.17828\n",
      "[9800]\ttraining's rmse: 1.11841\tvalid_1's rmse: 1.17381\n",
      "[10000]\ttraining's rmse: 1.11405\tvalid_1's rmse: 1.16944\n",
      "Did not meet early stopping. Best iteration is:\n",
      "[10000]\ttraining's rmse: 1.11405\tvalid_1's rmse: 1.16944\n",
      "Features importance...\n",
      "Top 50 features:\n",
      "                   feature  split       gain\n",
      "276  推料器自动投退信号_*_炉排实际运行指令   2081  12.753247\n",
      "286   炉排实际运行指令_*_炉排自动投退信号   1472   7.585456\n",
      "138     推料器自动投退信号_+_氧量设定值    293   6.778932\n",
      "145      氧量设定值_+_炉排自动投退信号    329   5.069607\n",
      "144      氧量设定值_+_炉排实际运行指令   1640   4.018891\n",
      "280      氧量设定值_*_炉排实际运行指令   1906   3.818323\n",
      "7                炉排实际运行指令   2105   3.253867\n",
      "30        CO含量_+_炉排实际运行指令   2805   2.139792\n",
      "172          HCL含量_*_一次风量   2100   1.772793\n",
      "140  推料器自动投退信号_+_炉排实际运行指令    965   1.157860\n",
      "153          CO含量_*_HCL含量   2638   1.115130\n",
      "17           CO含量_+_HCL含量   2631   0.912150\n",
      "114      主蒸汽流量_+_炉排实际运行指令   2706   0.896271\n",
      "37          HCL含量_+_主蒸汽流量   2656   0.852100\n",
      "234          一次风量_*_主蒸汽流量   2340   0.822639\n",
      "271      引风机转速_*_炉排实际运行指令   1699   0.821039\n",
      "241       一次风量_*_炉排实际运行指令   2103   0.789211\n",
      "269         引风机转速_*_氧量设定值   2265   0.670768\n",
      "44       HCL含量_+_炉排实际运行指令   2715   0.651133\n",
      "35          HCL含量_+_一次风调门   2446   0.633009\n",
      "163      CO含量_*_推料器自动投退信号    417   0.629854\n",
      "40          HCL含量_+_引风机转速   2125   0.629400\n",
      "180      HCL含量_*_炉排实际运行指令   1682   0.608657\n",
      "129       二次风量_+_炉排实际运行指令    303   0.581456\n",
      "248         主蒸汽流量_*_氧量设定值   2322   0.564729\n",
      "246         主蒸汽流量_*_引风机转速   2356   0.546755\n",
      "108         主蒸汽流量_+_二次风调门   1605   0.533848\n",
      "182          HCL含量_*_给水流量   1591   0.524791\n",
      "169         HCL含量_*_NOx含量   1998   0.515304\n",
      "251      主蒸汽流量_*_炉排自动投退信号   1266   0.507365\n",
      "110         主蒸汽流量_+_引风机转速   2097   0.499962\n",
      "150   炉排实际运行指令_+_炉排自动投退信号    369   0.486820\n",
      "88          一次风调门_+_主蒸汽流量   2045   0.475430\n",
      "171         HCL含量_*_一次风调门   1371   0.473961\n",
      "173         HCL含量_*_主蒸汽流量   1347   0.470172\n",
      "23           CO含量_+_主蒸汽流量   2359   0.461609\n",
      "247     主蒸汽流量_*_推料器自动投退信号   1472   0.461574\n",
      "75            gas_+_一次风调门   1227   0.457954\n",
      "21           CO含量_+_一次风调门   1660   0.454115\n",
      "69       SO2含量_+_炉排实际运行指令   1862   0.437644\n",
      "250      主蒸汽流量_*_炉排实际运行指令   1915   0.421461\n",
      "122      二次风调门_+_炉排实际运行指令   1171   0.415041\n",
      "282          氧量设定值_*_给水流量   2206   0.410356\n",
      "151       炉排实际运行指令_+_给水流量   2591   0.409583\n",
      "191         NOx含量_*_氧量设定值   1481   0.406215\n",
      "287       炉排实际运行指令_*_给水流量   1998   0.396725\n",
      "224         一次风调门_*_主蒸汽流量   1774   0.393100\n",
      "95       一次风调门_+_炉排实际运行指令   1308   0.392173\n",
      "71           SO2含量_+_给水流量   2397   0.391039\n",
      "229         一次风调门_*_氧量设定值   1148   0.376477\n",
      "************************************  8 fold************************************\n",
      "[LightGBM] [Warning] Found whitespace in feature_names, replace with underlines\n",
      "[LightGBM] [Warning] Auto-choosing col-wise multi-threading, the overhead of testing was 0.049734 seconds.\n",
      "You can set `force_col_wise=true` to remove the overhead.\n",
      "[LightGBM] [Info] Total Bins 70646\n",
      "[LightGBM] [Info] Number of data points in the train set: 90234, number of used features: 289\n",
      "[LightGBM] [Warning] Found whitespace in feature_names, replace with underlines\n",
      "[LightGBM] [Info] Start training from score 70.000000\n",
      "Training until validation scores don't improve for 1000 rounds\n",
      "[200]\ttraining's rmse: 4.92295\tvalid_1's rmse: 5.09118\n",
      "[400]\ttraining's rmse: 4.20115\tvalid_1's rmse: 4.37538\n",
      "[600]\ttraining's rmse: 3.52513\tvalid_1's rmse: 3.69936\n",
      "[800]\ttraining's rmse: 3.27296\tvalid_1's rmse: 3.44614\n",
      "[1000]\ttraining's rmse: 2.94642\tvalid_1's rmse: 3.09004\n",
      "[1200]\ttraining's rmse: 2.68589\tvalid_1's rmse: 2.8092\n",
      "[1400]\ttraining's rmse: 2.49961\tvalid_1's rmse: 2.60571\n",
      "[1600]\ttraining's rmse: 2.23157\tvalid_1's rmse: 2.30464\n",
      "[1800]\ttraining's rmse: 2.12338\tvalid_1's rmse: 2.18701\n",
      "[2000]\ttraining's rmse: 1.98753\tvalid_1's rmse: 2.03652\n",
      "[2200]\ttraining's rmse: 1.92136\tvalid_1's rmse: 1.96292\n",
      "[2400]\ttraining's rmse: 1.84982\tvalid_1's rmse: 1.89483\n",
      "[2600]\ttraining's rmse: 1.76037\tvalid_1's rmse: 1.81246\n",
      "[2800]\ttraining's rmse: 1.66115\tvalid_1's rmse: 1.72139\n",
      "[3000]\ttraining's rmse: 1.53798\tvalid_1's rmse: 1.61755\n",
      "[3200]\ttraining's rmse: 1.48006\tvalid_1's rmse: 1.56556\n",
      "[3400]\ttraining's rmse: 1.45178\tvalid_1's rmse: 1.53783\n",
      "[3600]\ttraining's rmse: 1.42213\tvalid_1's rmse: 1.50998\n",
      "[3800]\ttraining's rmse: 1.39912\tvalid_1's rmse: 1.48759\n",
      "[4000]\ttraining's rmse: 1.38297\tvalid_1's rmse: 1.472\n",
      "[4200]\ttraining's rmse: 1.36831\tvalid_1's rmse: 1.45803\n",
      "[4400]\ttraining's rmse: 1.3551\tvalid_1's rmse: 1.44642\n",
      "[4600]\ttraining's rmse: 1.34178\tvalid_1's rmse: 1.43352\n",
      "[4800]\ttraining's rmse: 1.32739\tvalid_1's rmse: 1.421\n",
      "[5000]\ttraining's rmse: 1.31372\tvalid_1's rmse: 1.40864\n",
      "[5200]\ttraining's rmse: 1.30493\tvalid_1's rmse: 1.40057\n",
      "[5400]\ttraining's rmse: 1.2948\tvalid_1's rmse: 1.39102\n",
      "[5600]\ttraining's rmse: 1.28628\tvalid_1's rmse: 1.38366\n",
      "[5800]\ttraining's rmse: 1.27597\tvalid_1's rmse: 1.37404\n",
      "[6000]\ttraining's rmse: 1.26325\tvalid_1's rmse: 1.36153\n",
      "[6200]\ttraining's rmse: 1.25039\tvalid_1's rmse: 1.34988\n",
      "[6400]\ttraining's rmse: 1.23619\tvalid_1's rmse: 1.3365\n",
      "[6600]\ttraining's rmse: 1.22794\tvalid_1's rmse: 1.32906\n",
      "[6800]\ttraining's rmse: 1.21813\tvalid_1's rmse: 1.32161\n",
      "[7000]\ttraining's rmse: 1.20884\tvalid_1's rmse: 1.31319\n",
      "[7200]\ttraining's rmse: 1.20289\tvalid_1's rmse: 1.30826\n",
      "[7400]\ttraining's rmse: 1.19556\tvalid_1's rmse: 1.30181\n",
      "[7600]\ttraining's rmse: 1.18766\tvalid_1's rmse: 1.29517\n",
      "[7800]\ttraining's rmse: 1.18288\tvalid_1's rmse: 1.29119\n",
      "[8000]\ttraining's rmse: 1.17602\tvalid_1's rmse: 1.28481\n",
      "[8200]\ttraining's rmse: 1.16944\tvalid_1's rmse: 1.27977\n",
      "[8400]\ttraining's rmse: 1.16328\tvalid_1's rmse: 1.27433\n",
      "[8600]\ttraining's rmse: 1.15752\tvalid_1's rmse: 1.26927\n",
      "[8800]\ttraining's rmse: 1.15253\tvalid_1's rmse: 1.26486\n",
      "[9000]\ttraining's rmse: 1.14811\tvalid_1's rmse: 1.26067\n",
      "[9200]\ttraining's rmse: 1.14345\tvalid_1's rmse: 1.25642\n",
      "[9400]\ttraining's rmse: 1.13861\tvalid_1's rmse: 1.2521\n",
      "[9600]\ttraining's rmse: 1.13354\tvalid_1's rmse: 1.24727\n",
      "[9800]\ttraining's rmse: 1.12766\tvalid_1's rmse: 1.24291\n",
      "[10000]\ttraining's rmse: 1.12221\tvalid_1's rmse: 1.23832\n",
      "Did not meet early stopping. Best iteration is:\n",
      "[10000]\ttraining's rmse: 1.12221\tvalid_1's rmse: 1.23832\n",
      "Features importance...\n",
      "Top 50 features:\n",
      "                   feature  split       gain\n",
      "276  推料器自动投退信号_*_炉排实际运行指令   2200  16.542993\n",
      "286   炉排实际运行指令_*_炉排自动投退信号   1476   7.585121\n",
      "145      氧量设定值_+_炉排自动投退信号    316   4.877591\n",
      "280      氧量设定值_*_炉排实际运行指令   1872   3.106267\n",
      "7                炉排实际运行指令   1988   2.687824\n",
      "144      氧量设定值_+_炉排实际运行指令   1326   2.420205\n",
      "172          HCL含量_*_一次风量   2538   2.398583\n",
      "138     推料器自动投退信号_+_氧量设定值    184   2.116250\n",
      "271      引风机转速_*_炉排实际运行指令   1860   1.896384\n",
      "153          CO含量_*_HCL含量   3241   1.844446\n",
      "30        CO含量_+_炉排实际运行指令   2602   1.634137\n",
      "129       二次风量_+_炉排实际运行指令    573   1.554890\n",
      "140  推料器自动投退信号_+_炉排实际运行指令    954   1.371446\n",
      "44       HCL含量_+_炉排实际运行指令   2822   0.965178\n",
      "37          HCL含量_+_主蒸汽流量   2613   0.964890\n",
      "114      主蒸汽流量_+_炉排实际运行指令   2660   0.868246\n",
      "171         HCL含量_*_一次风调门   1614   0.852590\n",
      "234          一次风量_*_主蒸汽流量   2523   0.816296\n",
      "248         主蒸汽流量_*_氧量设定值   2288   0.755998\n",
      "182          HCL含量_*_给水流量   1626   0.703432\n",
      "17           CO含量_+_HCL含量   2320   0.666244\n",
      "258      二次风调门_*_炉排实际运行指令   1117   0.649451\n",
      "269         引风机转速_*_氧量设定值   1949   0.598749\n",
      "176         HCL含量_*_引风机转速   1193   0.555001\n",
      "35          HCL含量_+_一次风调门   2200   0.551621\n",
      "251      主蒸汽流量_*_炉排自动投退信号   1057   0.542351\n",
      "250      主蒸汽流量_*_炉排实际运行指令   2145   0.533003\n",
      "188          NOx含量_*_二次风量   1101   0.527649\n",
      "40          HCL含量_+_引风机转速   2047   0.526418\n",
      "88          一次风调门_+_主蒸汽流量   2120   0.507530\n",
      "69       SO2含量_+_炉排实际运行指令   2025   0.507419\n",
      "163      CO含量_*_推料器自动投退信号    462   0.505779\n",
      "95       一次风调门_+_炉排实际运行指令   1309   0.486964\n",
      "173         HCL含量_*_主蒸汽流量   1555   0.470430\n",
      "246         主蒸汽流量_*_引风机转速   2216   0.451462\n",
      "46           HCL含量_+_给水流量   2400   0.447675\n",
      "241       一次风量_*_炉排实际运行指令   1932   0.443684\n",
      "122      二次风调门_+_炉排实际运行指令   1159   0.440109\n",
      "282          氧量设定值_*_给水流量   2123   0.439391\n",
      "108         主蒸汽流量_+_二次风调门   1395   0.435088\n",
      "23           CO含量_+_主蒸汽流量   2346   0.428970\n",
      "224         一次风调门_*_主蒸汽流量   1781   0.427961\n",
      "15                  主蒸汽流量   1564   0.427405\n",
      "1                   HCL含量    958   0.426649\n",
      "247     主蒸汽流量_*_推料器自动投退信号   1513   0.425869\n",
      "169         HCL含量_*_NOx含量   2225   0.422939\n",
      "135      引风机转速_+_炉排实际运行指令   2193   0.418886\n",
      "229         一次风调门_*_氧量设定值    963   0.406010\n",
      "110         主蒸汽流量_+_引风机转速   1978   0.387390\n",
      "21           CO含量_+_一次风调门   1537   0.370914\n",
      "************************************  9 fold************************************\n",
      "[LightGBM] [Warning] Found whitespace in feature_names, replace with underlines\n",
      "[LightGBM] [Warning] Auto-choosing col-wise multi-threading, the overhead of testing was 0.052417 seconds.\n",
      "You can set `force_col_wise=true` to remove the overhead.\n",
      "[LightGBM] [Info] Total Bins 70638\n",
      "[LightGBM] [Info] Number of data points in the train set: 90234, number of used features: 289\n",
      "[LightGBM] [Warning] Found whitespace in feature_names, replace with underlines\n",
      "[LightGBM] [Info] Start training from score 70.000000\n",
      "Training until validation scores don't improve for 1000 rounds\n",
      "[200]\ttraining's rmse: 4.92586\tvalid_1's rmse: 4.92113\n",
      "[400]\ttraining's rmse: 4.40902\tvalid_1's rmse: 4.41463\n",
      "[600]\ttraining's rmse: 3.81441\tvalid_1's rmse: 3.85551\n",
      "[800]\ttraining's rmse: 3.38669\tvalid_1's rmse: 3.43935\n",
      "[1000]\ttraining's rmse: 2.93581\tvalid_1's rmse: 2.99891\n",
      "[1200]\ttraining's rmse: 2.44532\tvalid_1's rmse: 2.519\n",
      "[1400]\ttraining's rmse: 2.26145\tvalid_1's rmse: 2.31801\n",
      "[1600]\ttraining's rmse: 2.17284\tvalid_1's rmse: 2.22845\n",
      "[1800]\ttraining's rmse: 2.05937\tvalid_1's rmse: 2.10352\n",
      "[2000]\ttraining's rmse: 1.97139\tvalid_1's rmse: 2.00525\n",
      "[2200]\ttraining's rmse: 1.86766\tvalid_1's rmse: 1.88341\n",
      "[2400]\ttraining's rmse: 1.79834\tvalid_1's rmse: 1.81577\n",
      "[2600]\ttraining's rmse: 1.68075\tvalid_1's rmse: 1.66824\n",
      "[2800]\ttraining's rmse: 1.61831\tvalid_1's rmse: 1.59546\n",
      "[3000]\ttraining's rmse: 1.55236\tvalid_1's rmse: 1.51369\n",
      "[3200]\ttraining's rmse: 1.4988\tvalid_1's rmse: 1.4509\n",
      "[3400]\ttraining's rmse: 1.44645\tvalid_1's rmse: 1.3894\n",
      "[3600]\ttraining's rmse: 1.41406\tvalid_1's rmse: 1.35466\n",
      "[3800]\ttraining's rmse: 1.38994\tvalid_1's rmse: 1.3291\n",
      "[4000]\ttraining's rmse: 1.36327\tvalid_1's rmse: 1.29797\n",
      "[4200]\ttraining's rmse: 1.34375\tvalid_1's rmse: 1.27675\n",
      "[4400]\ttraining's rmse: 1.32961\tvalid_1's rmse: 1.25949\n",
      "[4600]\ttraining's rmse: 1.31377\tvalid_1's rmse: 1.24082\n",
      "[4800]\ttraining's rmse: 1.29641\tvalid_1's rmse: 1.22096\n",
      "[5000]\ttraining's rmse: 1.28261\tvalid_1's rmse: 1.20769\n",
      "[5200]\ttraining's rmse: 1.2719\tvalid_1's rmse: 1.19675\n",
      "[5400]\ttraining's rmse: 1.26355\tvalid_1's rmse: 1.18824\n",
      "[5600]\ttraining's rmse: 1.2536\tvalid_1's rmse: 1.17863\n",
      "[5800]\ttraining's rmse: 1.24459\tvalid_1's rmse: 1.16893\n",
      "[6000]\ttraining's rmse: 1.23484\tvalid_1's rmse: 1.15981\n",
      "[6200]\ttraining's rmse: 1.22812\tvalid_1's rmse: 1.15299\n",
      "[6400]\ttraining's rmse: 1.22015\tvalid_1's rmse: 1.14552\n",
      "[6600]\ttraining's rmse: 1.21088\tvalid_1's rmse: 1.13663\n",
      "[6800]\ttraining's rmse: 1.20423\tvalid_1's rmse: 1.12897\n",
      "[7000]\ttraining's rmse: 1.19714\tvalid_1's rmse: 1.12273\n",
      "[7200]\ttraining's rmse: 1.19008\tvalid_1's rmse: 1.11633\n",
      "[7400]\ttraining's rmse: 1.18258\tvalid_1's rmse: 1.10977\n",
      "[7600]\ttraining's rmse: 1.17588\tvalid_1's rmse: 1.10319\n",
      "[7800]\ttraining's rmse: 1.16833\tvalid_1's rmse: 1.09568\n",
      "[8000]\ttraining's rmse: 1.16346\tvalid_1's rmse: 1.09083\n",
      "[8200]\ttraining's rmse: 1.15719\tvalid_1's rmse: 1.08463\n",
      "[8400]\ttraining's rmse: 1.15224\tvalid_1's rmse: 1.07974\n",
      "[8600]\ttraining's rmse: 1.14658\tvalid_1's rmse: 1.07457\n",
      "[8800]\ttraining's rmse: 1.1403\tvalid_1's rmse: 1.06792\n",
      "[9000]\ttraining's rmse: 1.13548\tvalid_1's rmse: 1.06362\n",
      "[9200]\ttraining's rmse: 1.13201\tvalid_1's rmse: 1.06035\n",
      "[9400]\ttraining's rmse: 1.12673\tvalid_1's rmse: 1.05516\n",
      "[9600]\ttraining's rmse: 1.12269\tvalid_1's rmse: 1.05075\n",
      "[9800]\ttraining's rmse: 1.11841\tvalid_1's rmse: 1.04654\n",
      "[10000]\ttraining's rmse: 1.11383\tvalid_1's rmse: 1.04253\n",
      "Did not meet early stopping. Best iteration is:\n",
      "[10000]\ttraining's rmse: 1.11383\tvalid_1's rmse: 1.04253\n",
      "Features importance...\n",
      "Top 50 features:\n",
      "                   feature  split       gain\n",
      "276  推料器自动投退信号_*_炉排实际运行指令   2220  12.980065\n",
      "145      氧量设定值_+_炉排自动投退信号    327   6.942715\n",
      "286   炉排实际运行指令_*_炉排自动投退信号   1293   6.486136\n",
      "138     推料器自动投退信号_+_氧量设定值    210   4.442794\n",
      "280      氧量设定值_*_炉排实际运行指令   2034   4.416065\n",
      "144      氧量设定值_+_炉排实际运行指令   1420   3.020781\n",
      "7                炉排实际运行指令   1922   2.286558\n",
      "172          HCL含量_*_一次风量   2103   2.081083\n",
      "153          CO含量_*_HCL含量   3205   1.500035\n",
      "271      引风机转速_*_炉排实际运行指令   1791   1.391555\n",
      "114      主蒸汽流量_+_炉排实际运行指令   2748   1.179121\n",
      "30        CO含量_+_炉排实际运行指令   2609   1.106601\n",
      "140  推料器自动投退信号_+_炉排实际运行指令    816   1.095987\n",
      "122      二次风调门_+_炉排实际运行指令   1284   1.012639\n",
      "246         主蒸汽流量_*_引风机转速   2664   0.849765\n",
      "44       HCL含量_+_炉排实际运行指令   2806   0.823467\n",
      "37          HCL含量_+_主蒸汽流量   2424   0.783580\n",
      "234          一次风量_*_主蒸汽流量   2128   0.772205\n",
      "17           CO含量_+_HCL含量   2891   0.766317\n",
      "88          一次风调门_+_主蒸汽流量   1931   0.651199\n",
      "231      一次风调门_*_炉排实际运行指令   1120   0.650563\n",
      "171         HCL含量_*_一次风调门   1455   0.646631\n",
      "250      主蒸汽流量_*_炉排实际运行指令   2064   0.643927\n",
      "224         一次风调门_*_主蒸汽流量   1820   0.640818\n",
      "110         主蒸汽流量_+_引风机转速   2261   0.603816\n",
      "248         主蒸汽流量_*_氧量设定值   2241   0.593582\n",
      "269         引风机转速_*_氧量设定值   2014   0.571484\n",
      "173         HCL含量_*_主蒸汽流量   1418   0.552989\n",
      "150   炉排实际运行指令_+_炉排自动投退信号    400   0.527300\n",
      "108         主蒸汽流量_+_二次风调门   1492   0.523632\n",
      "247     主蒸汽流量_*_推料器自动投退信号   1566   0.519621\n",
      "163      CO含量_*_推料器自动投退信号    406   0.505888\n",
      "169         HCL含量_*_NOx含量   2096   0.500096\n",
      "40          HCL含量_+_引风机转速   1939   0.495770\n",
      "176         HCL含量_*_引风机转速   1377   0.484152\n",
      "251      主蒸汽流量_*_炉排自动投退信号   1037   0.471037\n",
      "35          HCL含量_+_一次风调门   1990   0.470836\n",
      "241       一次风量_*_炉排实际运行指令   1800   0.461040\n",
      "149           汽包水位_+_给水流量   3510   0.459366\n",
      "151       炉排实际运行指令_+_给水流量   2604   0.450692\n",
      "21           CO含量_+_一次风调门   1506   0.441341\n",
      "182          HCL含量_*_给水流量   1519   0.441038\n",
      "191         NOx含量_*_氧量设定值   1507   0.434267\n",
      "23           CO含量_+_主蒸汽流量   2250   0.425385\n",
      "287       炉排实际运行指令_*_给水流量   2274   0.418177\n",
      "69       SO2含量_+_炉排实际运行指令   1727   0.417389\n",
      "32            CO含量_+_给水流量   2261   0.414612\n",
      "84         gas_+_炉排实际运行指令   1392   0.411284\n",
      "282          氧量设定值_*_给水流量   2252   0.411058\n",
      "46           HCL含量_+_给水流量   2339   0.406233\n",
      "************************************  10 fold************************************\n",
      "[LightGBM] [Warning] Found whitespace in feature_names, replace with underlines\n",
      "[LightGBM] [Warning] Auto-choosing col-wise multi-threading, the overhead of testing was 0.048656 seconds.\n",
      "You can set `force_col_wise=true` to remove the overhead.\n",
      "[LightGBM] [Info] Total Bins 70638\n",
      "[LightGBM] [Info] Number of data points in the train set: 90234, number of used features: 289\n",
      "[LightGBM] [Warning] Found whitespace in feature_names, replace with underlines\n",
      "[LightGBM] [Info] Start training from score 70.000000\n",
      "Training until validation scores don't improve for 1000 rounds\n",
      "[200]\ttraining's rmse: 4.89174\tvalid_1's rmse: 4.98181\n",
      "[400]\ttraining's rmse: 4.41148\tvalid_1's rmse: 4.50242\n",
      "[600]\ttraining's rmse: 3.84631\tvalid_1's rmse: 3.91688\n",
      "[800]\ttraining's rmse: 3.15453\tvalid_1's rmse: 3.24153\n",
      "[1000]\ttraining's rmse: 2.90544\tvalid_1's rmse: 2.98468\n",
      "[1200]\ttraining's rmse: 2.6722\tvalid_1's rmse: 2.72666\n",
      "[1400]\ttraining's rmse: 2.44197\tvalid_1's rmse: 2.4989\n",
      "[1600]\ttraining's rmse: 2.20642\tvalid_1's rmse: 2.26381\n",
      "[1800]\ttraining's rmse: 2.07831\tvalid_1's rmse: 2.14673\n",
      "[2000]\ttraining's rmse: 1.94337\tvalid_1's rmse: 2.02388\n",
      "[2200]\ttraining's rmse: 1.79552\tvalid_1's rmse: 1.8908\n",
      "[2400]\ttraining's rmse: 1.66271\tvalid_1's rmse: 1.7895\n",
      "[2600]\ttraining's rmse: 1.6124\tvalid_1's rmse: 1.75008\n",
      "[2800]\ttraining's rmse: 1.55551\tvalid_1's rmse: 1.70025\n",
      "[3000]\ttraining's rmse: 1.5023\tvalid_1's rmse: 1.65646\n",
      "[3200]\ttraining's rmse: 1.47149\tvalid_1's rmse: 1.62981\n",
      "[3400]\ttraining's rmse: 1.44228\tvalid_1's rmse: 1.60459\n",
      "[3600]\ttraining's rmse: 1.41214\tvalid_1's rmse: 1.57948\n",
      "[3800]\ttraining's rmse: 1.38242\tvalid_1's rmse: 1.55572\n",
      "[4000]\ttraining's rmse: 1.36266\tvalid_1's rmse: 1.53894\n",
      "[4200]\ttraining's rmse: 1.34498\tvalid_1's rmse: 1.52445\n",
      "[4400]\ttraining's rmse: 1.3305\tvalid_1's rmse: 1.51188\n",
      "[4600]\ttraining's rmse: 1.31734\tvalid_1's rmse: 1.50085\n",
      "[4800]\ttraining's rmse: 1.30143\tvalid_1's rmse: 1.48984\n",
      "[5000]\ttraining's rmse: 1.28757\tvalid_1's rmse: 1.47917\n",
      "[5200]\ttraining's rmse: 1.27765\tvalid_1's rmse: 1.47065\n",
      "[5400]\ttraining's rmse: 1.26873\tvalid_1's rmse: 1.4628\n",
      "[5600]\ttraining's rmse: 1.25784\tvalid_1's rmse: 1.45367\n",
      "[5800]\ttraining's rmse: 1.25133\tvalid_1's rmse: 1.44852\n",
      "[6000]\ttraining's rmse: 1.24357\tvalid_1's rmse: 1.44217\n",
      "[6200]\ttraining's rmse: 1.23516\tvalid_1's rmse: 1.43492\n",
      "[6400]\ttraining's rmse: 1.22718\tvalid_1's rmse: 1.42786\n",
      "[6600]\ttraining's rmse: 1.21828\tvalid_1's rmse: 1.42052\n",
      "[6800]\ttraining's rmse: 1.21037\tvalid_1's rmse: 1.41439\n",
      "[7000]\ttraining's rmse: 1.20433\tvalid_1's rmse: 1.40979\n",
      "[7200]\ttraining's rmse: 1.19808\tvalid_1's rmse: 1.40432\n",
      "[7400]\ttraining's rmse: 1.19146\tvalid_1's rmse: 1.39923\n",
      "[7600]\ttraining's rmse: 1.18556\tvalid_1's rmse: 1.39464\n",
      "[7800]\ttraining's rmse: 1.17924\tvalid_1's rmse: 1.38993\n",
      "[8000]\ttraining's rmse: 1.17221\tvalid_1's rmse: 1.38487\n",
      "[8200]\ttraining's rmse: 1.167\tvalid_1's rmse: 1.38076\n",
      "[8400]\ttraining's rmse: 1.16218\tvalid_1's rmse: 1.37704\n",
      "[8600]\ttraining's rmse: 1.15741\tvalid_1's rmse: 1.37335\n",
      "[8800]\ttraining's rmse: 1.15077\tvalid_1's rmse: 1.3684\n",
      "[9000]\ttraining's rmse: 1.14543\tvalid_1's rmse: 1.36391\n",
      "[9200]\ttraining's rmse: 1.14038\tvalid_1's rmse: 1.36004\n",
      "[9400]\ttraining's rmse: 1.13594\tvalid_1's rmse: 1.35632\n",
      "[9600]\ttraining's rmse: 1.1308\tvalid_1's rmse: 1.35208\n",
      "[9800]\ttraining's rmse: 1.12676\tvalid_1's rmse: 1.34875\n",
      "[10000]\ttraining's rmse: 1.12246\tvalid_1's rmse: 1.34594\n",
      "Did not meet early stopping. Best iteration is:\n",
      "[10000]\ttraining's rmse: 1.12246\tvalid_1's rmse: 1.34594\n",
      "Features importance...\n",
      "Top 50 features:\n",
      "                   feature  split       gain\n",
      "276  推料器自动投退信号_*_炉排实际运行指令   2149  15.264280\n",
      "286   炉排实际运行指令_*_炉排自动投退信号   1522   7.180780\n",
      "145      氧量设定值_+_炉排自动投退信号    277   5.398346\n",
      "280      氧量设定值_*_炉排实际运行指令   2071   3.524630\n",
      "7                炉排实际运行指令   1929   2.419837\n",
      "138     推料器自动投退信号_+_氧量设定值    135   2.385604\n",
      "144      氧量设定值_+_炉排实际运行指令   1395   2.247522\n",
      "172          HCL含量_*_一次风量   2128   2.162327\n",
      "271      引风机转速_*_炉排实际运行指令   1765   1.596885\n",
      "129       二次风量_+_炉排实际运行指令    555   1.569359\n",
      "140  推料器自动投退信号_+_炉排实际运行指令    976   1.359418\n",
      "258      二次风调门_*_炉排实际运行指令   1363   1.325755\n",
      "30        CO含量_+_炉排实际运行指令   2620   1.300999\n",
      "153          CO含量_*_HCL含量   2941   1.259913\n",
      "114      主蒸汽流量_+_炉排实际运行指令   2814   1.082932\n",
      "37          HCL含量_+_主蒸汽流量   2710   0.981342\n",
      "234          一次风量_*_主蒸汽流量   2589   0.887358\n",
      "44       HCL含量_+_炉排实际运行指令   3022   0.808900\n",
      "248         主蒸汽流量_*_氧量设定值   2292   0.773664\n",
      "176         HCL含量_*_引风机转速   1266   0.751339\n",
      "171         HCL含量_*_一次风调门   1352   0.728019\n",
      "182          HCL含量_*_给水流量   1549   0.691503\n",
      "250      主蒸汽流量_*_炉排实际运行指令   2201   0.667787\n",
      "17           CO含量_+_HCL含量   2348   0.657577\n",
      "246         主蒸汽流量_*_引风机转速   2425   0.647448\n",
      "150   炉排实际运行指令_+_炉排自动投退信号    404   0.569386\n",
      "269         引风机转速_*_氧量设定值   1988   0.566193\n",
      "108         主蒸汽流量_+_二次风调门   1578   0.563028\n",
      "40          HCL含量_+_引风机转速   2049   0.561804\n",
      "173         HCL含量_*_主蒸汽流量   1742   0.546992\n",
      "88          一次风调门_+_主蒸汽流量   1986   0.546642\n",
      "163      CO含量_*_推料器自动投退信号    418   0.545024\n",
      "35          HCL含量_+_一次风调门   2281   0.531187\n",
      "287       炉排实际运行指令_*_给水流量   2345   0.522362\n",
      "282          氧量设定值_*_给水流量   2326   0.503834\n",
      "149           汽包水位_+_给水流量   3682   0.499049\n",
      "69       SO2含量_+_炉排实际运行指令   2028   0.495689\n",
      "224         一次风调门_*_主蒸汽流量   1959   0.494851\n",
      "251      主蒸汽流量_*_炉排自动投退信号    997   0.494041\n",
      "151       炉排实际运行指令_+_给水流量   2654   0.462622\n",
      "122      二次风调门_+_炉排实际运行指令   1184   0.454727\n",
      "21           CO含量_+_一次风调门   1607   0.453638\n",
      "23           CO含量_+_主蒸汽流量   2335   0.451422\n",
      "247     主蒸汽流量_*_推料器自动投退信号   1407   0.436950\n",
      "241       一次风量_*_炉排实际运行指令   1942   0.431077\n",
      "1                   HCL含量    864   0.422994\n",
      "169         HCL含量_*_NOx含量   2300   0.419999\n",
      "191         NOx含量_*_氧量设定值   1466   0.416006\n",
      "231      一次风调门_*_炉排实际运行指令   1232   0.404797\n",
      "46           HCL含量_+_给水流量   2309   0.403755\n"
     ]
    }
   ],
   "source": [
    "# 交叉验证所使用的第三方库\n",
    "\n",
    "\n",
    "kf = KFold(n_splits=10, shuffle=True, random_state=42)\n",
    "test_x = test_data[features]\n",
    "test_lgb = np.zeros(test_x.shape[0])\n",
    "\n",
    "#1.22893\n",
    "\n",
    "for i, (train_index, valid_index) in enumerate(kf.split(train_x, train_y)):\n",
    "    print('************************************  {} fold************************************'.format(str(i + 1)))\n",
    "    trn_x, trn_y, val_x, val_y = train_x.iloc[train_index], train_y[train_index], \\\n",
    "                                 train_x.iloc[valid_index], train_y[valid_index]\n",
    "\n",
    "    dtrain = lgb.Dataset(trn_x, label=trn_y)\n",
    "    dvalid = lgb.Dataset(val_x, label=val_y)\n",
    "\n",
    "    watchlist = [dtrain, dvalid]\n",
    "\n",
    "    params = {\n",
    "        'boosting_type': 'gbdt',\n",
    "        'objective': 'regression_l1',\n",
    "        'metric': 'l2_root',\n",
    "        'learning_rate': 0.01,\n",
    "        'reg_alpha': 0.7,\n",
    "        'reg_lambda': 35,\n",
    "        'bagging_fraction': 0.7,\n",
    "        'bagging_freq': 5,\n",
    "        'feature_fraction': 0.7,\n",
    "        \"random_seed\": 1,\n",
    "    }\n",
    "    model = lgb.train(params, train_set=dtrain, num_boost_round=10000, early_stopping_rounds=1000, valid_sets=watchlist,\n",
    "                      verbose_eval=200)\n",
    "\n",
    "\n",
    "\n",
    "\n",
    "    test_pred = model.predict(test_x)\n",
    "    test_lgb += test_pred / kf.n_splits\n",
    "\n",
    "\n",
    "    print(\"Features importance...\")\n",
    "    gain = model.feature_importance('gain')\n",
    "    feat_imp = pd.DataFrame({'feature': model.feature_name(),\n",
    "                             'split': model.feature_importance('split'),\n",
    "                             'gain': 100 * gain / gain.sum()}).sort_values('gain', ascending=False)\n",
    "    print('Top 50 features:\\n', feat_imp.head(50))"
   ],
   "metadata": {
    "collapsed": false,
    "pycharm": {
     "name": "#%%\n"
    }
   }
  },
  {
   "cell_type": "code",
   "execution_count": 35,
   "outputs": [
    {
     "data": {
      "text/plain": "count    1800.000000\nmean       61.058854\nstd         5.414838\nmin        55.427859\n25%        56.755190\n50%        58.922598\n75%        65.315292\nmax        78.725062\ndtype: float64"
     },
     "execution_count": 35,
     "metadata": {},
     "output_type": "execute_result"
    }
   ],
   "source": [
    "pd.Series(test_lgb).describe()\n",
    "# count    1800.000000\n",
    "# mean       60.998414\n",
    "# std         5.295495\n",
    "# min        55.222541\n",
    "# 25%        56.662194\n",
    "# 50%        58.882301\n",
    "# 75%        64.712533\n",
    "# max        78.536112\n",
    "# dtype: float64\n"
   ],
   "metadata": {
    "collapsed": false,
    "pycharm": {
     "name": "#%%\n"
    }
   }
  },
  {
   "cell_type": "code",
   "execution_count": 36,
   "outputs": [],
   "source": [
    "\n",
    "# sub = test_data[['时间','推料器启停']]\n",
    "# sub['lgb' + label] = test_lgb\n",
    "# sub.reset_index(inplace=True)\n",
    "# sub.columns = ['ID', 'Time', 'Aps', 'Ai']\n",
    "\n",
    "\n",
    "\n",
    "sub = pd.DataFrame()\n",
    "sub['ID'] = list(range(1,1801))\n",
    "sub['Time'] = test_df['时间']\n",
    "sub['Aps'] = test_df['推料器启停'].astype(bool)\n",
    "sub['Ai'] = test_lgb\n",
    "\n",
    "sub.to_csv('./lgb_ft.csv', index=False)\n",
    "\n"
   ],
   "metadata": {
    "collapsed": false,
    "pycharm": {
     "name": "#%%\n"
    }
   }
  },
  {
   "cell_type": "code",
   "execution_count": 38,
   "outputs": [],
   "source": [
    "\n"
   ],
   "metadata": {
    "collapsed": false,
    "pycharm": {
     "name": "#%%\n"
    }
   }
  },
  {
   "cell_type": "code",
   "execution_count": 38,
   "outputs": [],
   "source": [],
   "metadata": {
    "collapsed": false,
    "pycharm": {
     "name": "#%%\n"
    }
   }
  },
  {
   "cell_type": "code",
   "execution_count": 38,
   "outputs": [],
   "source": [],
   "metadata": {
    "collapsed": false,
    "pycharm": {
     "name": "#%%\n"
    }
   }
  },
  {
   "cell_type": "code",
   "execution_count": 38,
   "outputs": [],
   "source": [],
   "metadata": {
    "collapsed": false,
    "pycharm": {
     "name": "#%%\n"
    }
   }
  },
  {
   "cell_type": "code",
   "execution_count": 38,
   "outputs": [],
   "source": [],
   "metadata": {
    "collapsed": false,
    "pycharm": {
     "name": "#%%\n"
    }
   }
  },
  {
   "cell_type": "code",
   "execution_count": 38,
   "outputs": [],
   "source": [],
   "metadata": {
    "collapsed": false,
    "pycharm": {
     "name": "#%%\n"
    }
   }
  },
  {
   "cell_type": "code",
   "execution_count": 38,
   "outputs": [],
   "source": [],
   "metadata": {
    "collapsed": false,
    "pycharm": {
     "name": "#%%\n"
    }
   }
  },
  {
   "cell_type": "code",
   "execution_count": 38,
   "outputs": [],
   "source": [],
   "metadata": {
    "collapsed": false,
    "pycharm": {
     "name": "#%%\n"
    }
   }
  },
  {
   "cell_type": "code",
   "execution_count": 38,
   "outputs": [],
   "source": [],
   "metadata": {
    "collapsed": false,
    "pycharm": {
     "name": "#%%\n"
    }
   }
  },
  {
   "cell_type": "code",
   "execution_count": 38,
   "outputs": [],
   "source": [],
   "metadata": {
    "collapsed": false,
    "pycharm": {
     "name": "#%%\n"
    }
   }
  },
  {
   "cell_type": "code",
   "execution_count": 38,
   "outputs": [],
   "source": [],
   "metadata": {
    "collapsed": false,
    "pycharm": {
     "name": "#%%\n"
    }
   }
  },
  {
   "cell_type": "code",
   "execution_count": 38,
   "outputs": [],
   "source": [],
   "metadata": {
    "collapsed": false,
    "pycharm": {
     "name": "#%%\n"
    }
   }
  },
  {
   "cell_type": "code",
   "execution_count": 38,
   "outputs": [],
   "source": [],
   "metadata": {
    "collapsed": false,
    "pycharm": {
     "name": "#%%\n"
    }
   }
  },
  {
   "cell_type": "code",
   "execution_count": null,
   "outputs": [],
   "source": [
    "\n"
   ],
   "metadata": {
    "collapsed": false,
    "pycharm": {
     "name": "#%%\n"
    }
   }
  }
 ],
 "metadata": {
  "kernelspec": {
   "display_name": "Python 3",
   "language": "python",
   "name": "python3"
  },
  "language_info": {
   "codemirror_mode": {
    "name": "ipython",
    "version": 2
   },
   "file_extension": ".py",
   "mimetype": "text/x-python",
   "name": "python",
   "nbconvert_exporter": "python",
   "pygments_lexer": "ipython2",
   "version": "2.7.6"
  }
 },
 "nbformat": 4,
 "nbformat_minor": 0
}