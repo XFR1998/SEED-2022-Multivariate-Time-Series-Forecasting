{
 "cells": [
  {
   "cell_type": "code",
   "execution_count": 19,
   "outputs": [],
   "source": [
    "import os\n",
    "os.environ[\"CUDA_VISIBLE_DEVICES\"] = \"0\"\n",
    "\n",
    "import pandas as pd\n",
    "import numpy as np\n",
    "from sklearn.preprocessing import MinMaxScaler\n",
    "import matplotlib.pyplot as plt\n",
    "import lightgbm as lgb\n",
    "import math\n",
    "from sklearn.metrics import mean_squared_error as mse\n",
    "from sklearn.linear_model import LinearRegression\n",
    "import warnings\n",
    "import pdb\n",
    "warnings.filterwarnings('ignore')\n",
    "import random\n",
    "import torch\n",
    "import torch.nn as nn\n",
    "import random\n",
    "from tqdm import tqdm\n",
    "from sklearn.metrics import confusion_matrix, classification_report\n",
    "from sklearn.model_selection import train_test_split\n",
    "# from torch.utils.data import TensorDataset,SequentialSampler,RandomSampler,DataLoader\n",
    "from torch.utils.data import Dataset, DataLoader\n",
    "from tqdm import tqdm"
   ],
   "metadata": {
    "collapsed": false,
    "pycharm": {
     "name": "#%%\n"
    }
   }
  },
  {
   "cell_type": "code",
   "execution_count": 20,
   "outputs": [],
   "source": [
    "def set_seed(seed):\n",
    "    random.seed(seed)\n",
    "    np.random.seed(seed)\n",
    "    os.environ['PYTHONHASHSEED'] = str(seed)  # 禁止hash随机化\n",
    "    torch.manual_seed(seed)\n",
    "\n",
    "\n",
    "set_seed(42)"
   ],
   "metadata": {
    "collapsed": false,
    "pycharm": {
     "name": "#%%\n"
    }
   }
  },
  {
   "cell_type": "code",
   "execution_count": 21,
   "outputs": [
    {
     "name": "stdout",
     "output_type": "stream",
     "text": [
      "<class 'pandas.core.frame.DataFrame'>\n",
      "Int64Index: 141188 entries, 0 to 141187\n",
      "Data columns (total 19 columns):\n",
      " #   Column     Non-Null Count   Dtype  \n",
      "---  ------     --------------   -----  \n",
      " 0   时间         141188 non-null  object \n",
      " 1   推料器自动指令    141188 non-null  float64\n",
      " 2   CO含量       141188 non-null  float64\n",
      " 3   HCL含量      141188 non-null  float64\n",
      " 4   NOx含量      141188 non-null  float64\n",
      " 5   SO2含量      141188 non-null  float64\n",
      " 6   二次风调门      141188 non-null  float64\n",
      " 7   二次风量       141188 non-null  float64\n",
      " 8   给水流量       141188 non-null  float64\n",
      " 9   炉排实际运行指令   141188 non-null  float64\n",
      " 10  炉排自动投退信号   141188 non-null  object \n",
      " 11  汽包水位       141188 non-null  float64\n",
      " 12  推料器启停      141188 non-null  object \n",
      " 13  推料器自动投退信号  141188 non-null  object \n",
      " 14  氧量设定值      141188 non-null  float64\n",
      " 15  一次风调门      141188 non-null  float64\n",
      " 16  一次风量       141188 non-null  float64\n",
      " 17  引风机转速      141188 non-null  float64\n",
      " 18  主蒸汽流量      141188 non-null  float64\n",
      "dtypes: float64(15), object(4)\n",
      "memory usage: 21.5+ MB\n",
      "<class 'pandas.core.frame.DataFrame'>\n",
      "RangeIndex: 1800 entries, 0 to 1799\n",
      "Data columns (total 18 columns):\n",
      " #   Column     Non-Null Count  Dtype  \n",
      "---  ------     --------------  -----  \n",
      " 0   时间         1800 non-null   object \n",
      " 1   CO含量       1800 non-null   float64\n",
      " 2   HCL含量      1800 non-null   float64\n",
      " 3   NOx含量      1800 non-null   float64\n",
      " 4   SO2含量      1800 non-null   float64\n",
      " 5   二次风调门      1800 non-null   float64\n",
      " 6   二次风量       1800 non-null   float64\n",
      " 7   给水流量       1800 non-null   float64\n",
      " 8   炉排实际运行指令   1800 non-null   float64\n",
      " 9   炉排自动投退信号   1800 non-null   bool   \n",
      " 10  汽包水位       1800 non-null   float64\n",
      " 11  推料器启停      1800 non-null   bool   \n",
      " 12  推料器自动投退信号  1800 non-null   bool   \n",
      " 13  氧量设定值      1800 non-null   float64\n",
      " 14  一次风调门      1800 non-null   float64\n",
      " 15  一次风量       1800 non-null   float64\n",
      " 16  引风机转速      1800 non-null   float64\n",
      " 17  主蒸汽流量      1800 non-null   float64\n",
      "dtypes: bool(3), float64(14), object(1)\n",
      "memory usage: 216.3+ KB\n"
     ]
    }
   ],
   "source": [
    "train = pd.read_csv('./data/train.csv')\n",
    "train = train.dropna()\n",
    "\n",
    "test = pd.read_csv('./data/test.csv')\n",
    "train.info()\n",
    "test.info()\n"
   ],
   "metadata": {
    "collapsed": false,
    "pycharm": {
     "name": "#%%\n"
    }
   }
  },
  {
   "cell_type": "code",
   "execution_count": 22,
   "outputs": [
    {
     "data": {
      "text/plain": "(19, 18)"
     },
     "execution_count": 22,
     "metadata": {},
     "output_type": "execute_result"
    }
   ],
   "source": [
    "len(train.columns), len(test.columns)"
   ],
   "metadata": {
    "collapsed": false,
    "pycharm": {
     "name": "#%%\n"
    }
   }
  },
  {
   "cell_type": "code",
   "execution_count": 23,
   "outputs": [
    {
     "name": "stdout",
     "output_type": "stream",
     "text": [
      "<class 'pandas.core.frame.DataFrame'>\n",
      "Int64Index: 142988 entries, 0 to 1799\n",
      "Data columns (total 19 columns):\n",
      " #   Column     Non-Null Count   Dtype  \n",
      "---  ------     --------------   -----  \n",
      " 0   时间         142988 non-null  object \n",
      " 1   推料器自动指令    141188 non-null  float64\n",
      " 2   CO含量       142988 non-null  float64\n",
      " 3   HCL含量      142988 non-null  float64\n",
      " 4   NOx含量      142988 non-null  float64\n",
      " 5   SO2含量      142988 non-null  float64\n",
      " 6   二次风调门      142988 non-null  float64\n",
      " 7   二次风量       142988 non-null  float64\n",
      " 8   给水流量       142988 non-null  float64\n",
      " 9   炉排实际运行指令   142988 non-null  float64\n",
      " 10  炉排自动投退信号   142988 non-null  object \n",
      " 11  汽包水位       142988 non-null  float64\n",
      " 12  推料器启停      142988 non-null  object \n",
      " 13  推料器自动投退信号  142988 non-null  object \n",
      " 14  氧量设定值      142988 non-null  float64\n",
      " 15  一次风调门      142988 non-null  float64\n",
      " 16  一次风量       142988 non-null  float64\n",
      " 17  引风机转速      142988 non-null  float64\n",
      " 18  主蒸汽流量      142988 non-null  float64\n",
      "dtypes: float64(15), object(4)\n",
      "memory usage: 21.8+ MB\n"
     ]
    }
   ],
   "source": [
    "df = pd.concat([train, test])\n",
    "\n",
    "df.info()"
   ],
   "metadata": {
    "collapsed": false,
    "pycharm": {
     "name": "#%%\n"
    }
   }
  },
  {
   "cell_type": "code",
   "execution_count": 23,
   "outputs": [],
   "source": [],
   "metadata": {
    "collapsed": false,
    "pycharm": {
     "name": "#%%\n"
    }
   }
  },
  {
   "cell_type": "code",
   "execution_count": 24,
   "outputs": [
    {
     "name": "stdout",
     "output_type": "stream",
     "text": [
      "df.shape:  (142988, 19)\n"
     ]
    }
   ],
   "source": [
    "print('df.shape: ', df.shape)\n",
    "\n",
    "df.drop(columns=['时间'], inplace=True)\n"
   ],
   "metadata": {
    "collapsed": false,
    "pycharm": {
     "name": "#%%\n"
    }
   }
  },
  {
   "cell_type": "code",
   "execution_count": 25,
   "outputs": [
    {
     "data": {
      "text/plain": "   推料器自动指令    CO含量   HCL含量    NOx含量   SO2含量    二次风调门       二次风量     给水流量  \\\n0     60.0  2.6667  2.3519  56.3889  4.8750  19.6343  4330.1270  77.0035   \n1     60.0  2.7083  2.3750  56.2407  4.8542  19.6898  4330.1270  77.0324   \n2     60.0  2.7361  2.3935  56.2963  4.8125  19.6944  4330.1270  77.0979   \n3     60.0  2.7569  2.3519  56.2963  4.7639  19.6713  4582.5752  77.2415   \n4     60.0  2.7778  2.3380  56.4259  4.8056  19.6736  4330.1270  77.3591   \n\n   炉排实际运行指令 炉排自动投退信号     汽包水位  推料器启停 推料器自动投退信号  氧量设定值    一次风调门        一次风量  \\\n0      60.0     True  17.1928  False      True    6.0  60.2407  65042.4258   \n1      60.0     True  17.0795  False      True    6.0  60.3333  64419.3359   \n2      60.0     True  17.0938  False      True    6.0  60.4792  64800.8242   \n3      60.0     True  17.2114  False      True    6.0  60.5208  66169.5234   \n4      60.0     True  17.4172  False      True    6.0  60.5370  66389.2734   \n\n     引风机转速    主蒸汽流量  \n0  63.1296  61.6909  \n1  63.0370  61.3692  \n2  63.0532  61.4332  \n3  63.0579  61.3655  \n4  63.1042  61.4266  ",
      "text/html": "<div>\n<style scoped>\n    .dataframe tbody tr th:only-of-type {\n        vertical-align: middle;\n    }\n\n    .dataframe tbody tr th {\n        vertical-align: top;\n    }\n\n    .dataframe thead th {\n        text-align: right;\n    }\n</style>\n<table border=\"1\" class=\"dataframe\">\n  <thead>\n    <tr style=\"text-align: right;\">\n      <th></th>\n      <th>推料器自动指令</th>\n      <th>CO含量</th>\n      <th>HCL含量</th>\n      <th>NOx含量</th>\n      <th>SO2含量</th>\n      <th>二次风调门</th>\n      <th>二次风量</th>\n      <th>给水流量</th>\n      <th>炉排实际运行指令</th>\n      <th>炉排自动投退信号</th>\n      <th>汽包水位</th>\n      <th>推料器启停</th>\n      <th>推料器自动投退信号</th>\n      <th>氧量设定值</th>\n      <th>一次风调门</th>\n      <th>一次风量</th>\n      <th>引风机转速</th>\n      <th>主蒸汽流量</th>\n    </tr>\n  </thead>\n  <tbody>\n    <tr>\n      <th>0</th>\n      <td>60.0</td>\n      <td>2.6667</td>\n      <td>2.3519</td>\n      <td>56.3889</td>\n      <td>4.8750</td>\n      <td>19.6343</td>\n      <td>4330.1270</td>\n      <td>77.0035</td>\n      <td>60.0</td>\n      <td>True</td>\n      <td>17.1928</td>\n      <td>False</td>\n      <td>True</td>\n      <td>6.0</td>\n      <td>60.2407</td>\n      <td>65042.4258</td>\n      <td>63.1296</td>\n      <td>61.6909</td>\n    </tr>\n    <tr>\n      <th>1</th>\n      <td>60.0</td>\n      <td>2.7083</td>\n      <td>2.3750</td>\n      <td>56.2407</td>\n      <td>4.8542</td>\n      <td>19.6898</td>\n      <td>4330.1270</td>\n      <td>77.0324</td>\n      <td>60.0</td>\n      <td>True</td>\n      <td>17.0795</td>\n      <td>False</td>\n      <td>True</td>\n      <td>6.0</td>\n      <td>60.3333</td>\n      <td>64419.3359</td>\n      <td>63.0370</td>\n      <td>61.3692</td>\n    </tr>\n    <tr>\n      <th>2</th>\n      <td>60.0</td>\n      <td>2.7361</td>\n      <td>2.3935</td>\n      <td>56.2963</td>\n      <td>4.8125</td>\n      <td>19.6944</td>\n      <td>4330.1270</td>\n      <td>77.0979</td>\n      <td>60.0</td>\n      <td>True</td>\n      <td>17.0938</td>\n      <td>False</td>\n      <td>True</td>\n      <td>6.0</td>\n      <td>60.4792</td>\n      <td>64800.8242</td>\n      <td>63.0532</td>\n      <td>61.4332</td>\n    </tr>\n    <tr>\n      <th>3</th>\n      <td>60.0</td>\n      <td>2.7569</td>\n      <td>2.3519</td>\n      <td>56.2963</td>\n      <td>4.7639</td>\n      <td>19.6713</td>\n      <td>4582.5752</td>\n      <td>77.2415</td>\n      <td>60.0</td>\n      <td>True</td>\n      <td>17.2114</td>\n      <td>False</td>\n      <td>True</td>\n      <td>6.0</td>\n      <td>60.5208</td>\n      <td>66169.5234</td>\n      <td>63.0579</td>\n      <td>61.3655</td>\n    </tr>\n    <tr>\n      <th>4</th>\n      <td>60.0</td>\n      <td>2.7778</td>\n      <td>2.3380</td>\n      <td>56.4259</td>\n      <td>4.8056</td>\n      <td>19.6736</td>\n      <td>4330.1270</td>\n      <td>77.3591</td>\n      <td>60.0</td>\n      <td>True</td>\n      <td>17.4172</td>\n      <td>False</td>\n      <td>True</td>\n      <td>6.0</td>\n      <td>60.5370</td>\n      <td>66389.2734</td>\n      <td>63.1042</td>\n      <td>61.4266</td>\n    </tr>\n  </tbody>\n</table>\n</div>"
     },
     "execution_count": 25,
     "metadata": {},
     "output_type": "execute_result"
    }
   ],
   "source": [
    "df.head(5)"
   ],
   "metadata": {
    "collapsed": false,
    "pycharm": {
     "name": "#%%\n"
    }
   }
  },
  {
   "cell_type": "code",
   "execution_count": 26,
   "outputs": [],
   "source": [
    "# df['gas'] = df.CO_content + df.HCL_content + df.SO2_content + df.NOx_content\n",
    "#\n",
    "# # features_names = ['CO_content', 'HCL_content', 'NOx_content', 'SO2_content', 'Primary_air_regulator', 'Primary_air_volume',\n",
    "# #        'Main_steam_flow_rate_setting', 'Secondary_air_regulator', 'Secondary_air_volume', 'Inducer_fan_speed', 'Pusher_manual_command',\n",
    "# #        'Pusher_automatic_command', 'Oxygen_setpoint', 'Ladle_water_level', 'Grate_actual_operation_command',\n",
    "# #        'Grate_manual_command', 'Feedwater_flow']\n",
    "# features_names = ['Feedwater_flow', 'Oxygen_setpoint', 'Primary_air_volume', 'Main_steam_flow_rate_setting', 'Ladle_water_level']\n",
    "# for f in tqdm(features_names):\n",
    "#\n",
    "#     # 滑动窗口特征\n",
    "#     window_list = [300, 600, 900]\n",
    "#     for win_size in window_list:\n",
    "#         df[f+'_fore_steps_mean_'+str(win_size)] = df[f].rolling(window=win_size, center=False).mean()\n",
    "#         df[f+'_fore_steps_max_'+str(win_size)] = df[f].rolling(window=win_size, center=False).max()\n",
    "#         df[f+'_fore_steps_min_'+str(win_size)] = df[f].rolling(window=win_size, center=False).min()\n",
    "#         df[f+'_fore_steps_std_'+str(win_size)] = df[f].rolling(window=win_size, center=False).std()\n",
    "#         df[f+'_fore_steps_skew_'+str(win_size)] = df[f].rolling(window=win_size, center=False).skew()\n",
    "#\n",
    "#     # n阶差分特征\n",
    "#     diff_list = list(range(1, 60))\n",
    "#     for diff_size in diff_list:\n",
    "#         df[f+'_diff_'+str(diff_size)] = df[f].diff(periods=diff_size)"
   ],
   "metadata": {
    "collapsed": false,
    "pycharm": {
     "name": "#%%\n"
    }
   }
  },
  {
   "cell_type": "code",
   "execution_count": 27,
   "outputs": [
    {
     "name": "stderr",
     "output_type": "stream",
     "text": [
      "100%|██████████| 18/18 [00:00<00:00, 347.30it/s]\n"
     ]
    }
   ],
   "source": [
    "for col in tqdm(df.columns):\n",
    "    df[col].fillna(df[col].mean(), inplace=True)"
   ],
   "metadata": {
    "collapsed": false,
    "pycharm": {
     "name": "#%%\n"
    }
   }
  },
  {
   "cell_type": "code",
   "execution_count": 28,
   "outputs": [],
   "source": [
    "df['炉排自动投退信号'] = df['炉排自动投退信号'].map(int)\n",
    "df['推料器启停'] = df['推料器启停'].map(int)\n",
    "df['推料器自动投退信号'] = df['推料器自动投退信号'].map(int)\n",
    "\n",
    "\n"
   ],
   "metadata": {
    "collapsed": false,
    "pycharm": {
     "name": "#%%\n"
    }
   }
  },
  {
   "cell_type": "code",
   "execution_count": 29,
   "outputs": [
    {
     "name": "stderr",
     "output_type": "stream",
     "text": [
      "100%|██████████| 18/18 [00:00<00:00, 328.36it/s]\n"
     ]
    },
    {
     "name": "stdout",
     "output_type": "stream",
     "text": [
      "Mem. usage decreased to  5.86 Mb (71.7% reduction)\n"
     ]
    }
   ],
   "source": [
    "\n",
    "# 3、内存压缩\n",
    "def reduce_mem_usage(df, verbose=True):\n",
    "    numerics = ['int16', 'int32', 'int64', 'float16', 'float32', 'float64']\n",
    "    start_mem = df.memory_usage().sum() / 1024 ** 2\n",
    "    for col in tqdm(df.columns):\n",
    "        col_type = df[col].dtypes\n",
    "        if col_type in numerics:\n",
    "            c_min = df[col].min()\n",
    "            c_max = df[col].max()\n",
    "            if str(col_type)[:3] == 'int':\n",
    "                if c_min > np.iinfo(np.int8).min and c_max < np.iinfo(np.int8).max:\n",
    "                    df[col] = df[col].astype(np.int8)\n",
    "                elif c_min > np.iinfo(np.int16).min and c_max < np.iinfo(np.int16).max:\n",
    "                    df[col] = df[col].astype(np.int16)\n",
    "                elif c_min > np.iinfo(np.int32).min and c_max < np.iinfo(np.int32).max:\n",
    "                    df[col] = df[col].astype(np.int32)\n",
    "                elif c_min > np.iinfo(np.int64).min and c_max < np.iinfo(np.int64).max:\n",
    "                    df[col] = df[col].astype(np.int64)\n",
    "            else:\n",
    "                if c_min > np.finfo(np.float16).min and c_max < np.finfo(np.float16).max:\n",
    "                    df[col] = df[col].astype(np.float16)\n",
    "                elif c_min > np.finfo(np.float32).min and c_max < np.finfo(np.float32).max:\n",
    "                    df[col] = df[col].astype(np.float32)\n",
    "                else:\n",
    "                    df[col] = df[col].astype(np.float64)\n",
    "    end_mem = df.memory_usage().sum() / 1024 ** 2\n",
    "    if verbose: print('Mem. usage decreased to {:5.2f} Mb ({:.1f}% reduction)'.format(end_mem, 100 * (\n",
    "                start_mem - end_mem) / start_mem))\n",
    "    return df\n",
    "\n",
    "\n",
    "# 压缩使用内存\n",
    "# 由于数据比较大，所以合理的压缩内存节省空间尤为的重要\n",
    "# 使用reduce_mem_usage函数可以压缩近70%的内存占有。\n",
    "df = reduce_mem_usage(df)"
   ],
   "metadata": {
    "collapsed": false,
    "pycharm": {
     "name": "#%%\n"
    }
   }
  },
  {
   "cell_type": "code",
   "execution_count": 30,
   "outputs": [
    {
     "name": "stdout",
     "output_type": "stream",
     "text": [
      "--------------------data describe: -----------------------------------\n",
      "<class 'pandas.core.frame.DataFrame'>\n",
      "Int64Index: 142988 entries, 0 to 1799\n",
      "Data columns (total 18 columns):\n",
      " #   Column     Non-Null Count   Dtype  \n",
      "---  ------     --------------   -----  \n",
      " 0   推料器自动指令    142988 non-null  float16\n",
      " 1   CO含量       142988 non-null  float16\n",
      " 2   HCL含量      142988 non-null  float16\n",
      " 3   NOx含量      142988 non-null  float16\n",
      " 4   SO2含量      142988 non-null  float16\n",
      " 5   二次风调门      142988 non-null  float16\n",
      " 6   二次风量       142988 non-null  float16\n",
      " 7   给水流量       142988 non-null  float16\n",
      " 8   炉排实际运行指令   142988 non-null  float16\n",
      " 9   炉排自动投退信号   142988 non-null  int8   \n",
      " 10  汽包水位       142988 non-null  float16\n",
      " 11  推料器启停      142988 non-null  int8   \n",
      " 12  推料器自动投退信号  142988 non-null  int8   \n",
      " 13  氧量设定值      142988 non-null  float16\n",
      " 14  一次风调门      142988 non-null  float16\n",
      " 15  一次风量       142988 non-null  float32\n",
      " 16  引风机转速      142988 non-null  float16\n",
      " 17  主蒸汽流量      142988 non-null  float16\n",
      "dtypes: float16(14), float32(1), int8(3)\n",
      "memory usage: 5.9 MB\n"
     ]
    }
   ],
   "source": [
    "print('--------------------data describe: -----------------------------------')\n",
    "df.info()\n",
    "df_test = df.tail(1800)\n",
    "df_train = df.iloc[:-1800, :]\n",
    "df_train.reset_index(drop=True,inplace=True)\n",
    "\n",
    "df_valid = df_train.iloc[-1800:, :]\n",
    "df_train = df_train.iloc[:-1800, :]\n",
    "\n",
    "df_valid.reset_index(drop=True, inplace=True)"
   ],
   "metadata": {
    "collapsed": false,
    "pycharm": {
     "name": "#%%\n"
    }
   }
  },
  {
   "cell_type": "code",
   "execution_count": 31,
   "outputs": [
    {
     "name": "stdout",
     "output_type": "stream",
     "text": [
      "df_train.shape:  (139388, 18)\n",
      "df_valid.shape:  (1800, 18)\n",
      "df_test.shape:  (1800, 18)\n"
     ]
    }
   ],
   "source": [
    "print('df_train.shape: ', df_train.shape)\n",
    "print('df_valid.shape: ', df_valid.shape)\n",
    "print('df_test.shape: ', df_test.shape)"
   ],
   "metadata": {
    "collapsed": false,
    "pycharm": {
     "name": "#%%\n"
    }
   }
  },
  {
   "cell_type": "code",
   "execution_count": 32,
   "outputs": [],
   "source": [
    "df_scale = df.iloc[:-1800, :]"
   ],
   "metadata": {
    "collapsed": false,
    "pycharm": {
     "name": "#%%\n"
    }
   }
  },
  {
   "cell_type": "code",
   "execution_count": 33,
   "outputs": [],
   "source": [
    "scaler = MinMaxScaler(feature_range=(0,1))\n",
    "scaler = scaler.fit(df)\n",
    "df_for_training_scaled = scaler.transform(df_train)\n",
    "df_for_validing_scaled = scaler.transform(df_valid)\n",
    "# df_for_testing_scaled=scaler.transform(df_test)"
   ],
   "metadata": {
    "collapsed": false,
    "pycharm": {
     "name": "#%%\n"
    }
   }
  },
  {
   "cell_type": "code",
   "execution_count": 34,
   "outputs": [
    {
     "data": {
      "text/plain": "         推料器自动指令      CO含量     HCL含量     NOx含量      SO2含量      二次风调门    二次风量  \\\n0       60.00000  2.666016  2.351562  56.37500   4.875000  19.640625  4332.0   \n1       60.00000  2.708984  2.375000  56.25000   4.855469  19.687500  4332.0   \n2       60.00000  2.736328  2.392578  56.28125   4.812500  19.687500  4332.0   \n3       60.00000  2.757812  2.351562  56.28125   4.765625  19.671875  4584.0   \n4       60.00000  2.777344  2.337891  56.43750   4.804688  19.671875  4332.0   \n...          ...       ...       ...       ...        ...        ...     ...   \n139383  52.37500 -0.020599  8.289062  49.43750  23.281250  21.375000  6064.0   \n139384  52.37500 -0.117920  8.265625  49.28125  23.984375  21.296875  6064.0   \n139385  52.40625 -0.159546  8.242188  49.21875  23.968750  21.234375  6064.0   \n139386  52.40625 -0.173340  8.234375  49.21875  23.953125  21.281250  5872.0   \n139387  52.43750 -0.131714  8.210938  49.09375  24.000000  21.250000  6064.0   \n\n           给水流量  炉排实际运行指令  炉排自动投退信号       汽包水位  推料器启停  推料器自动投退信号  氧量设定值  \\\n0       77.0000   60.0000         1  17.187500      0          1    6.0   \n1       77.0625   60.0000         1  17.078125      0          1    6.0   \n2       77.1250   60.0000         1  17.093750      0          1    6.0   \n3       77.2500   60.0000         1  17.218750      0          1    6.0   \n4       77.3750   60.0000         1  17.421875      0          1    6.0   \n...         ...       ...       ...        ...    ...        ...    ...   \n139383  88.7500   42.9375         1   7.757812      1          1    6.0   \n139384  88.6250   42.9375         1   7.683594      1          1    6.0   \n139385  88.5000   42.9375         1   7.898438      1          1    6.0   \n139386  88.3750   42.9375         1   8.039062      1          1    6.0   \n139387  88.3125   42.9375         1   8.132812      1          1    6.0   \n\n           一次风调门          一次风量     引风机转速    主蒸汽流量  \n0       60.25000  65042.425781  63.12500  61.6875  \n1       60.34375  64419.335938  63.03125  61.3750  \n2       60.46875  64800.824219  63.06250  61.4375  \n3       60.53125  66169.523438  63.06250  61.3750  \n4       60.53125  66389.273438  63.09375  61.4375  \n...          ...           ...       ...      ...  \n139383  60.75000  64566.992188  63.71875  69.6250  \n139384  60.68750  64454.105469  63.96875  69.5625  \n139385  60.50000  64044.316406  64.18750  69.8750  \n139386  60.43750  64210.289062  64.37500  69.7500  \n139387  60.50000  64122.988281  64.50000  69.7500  \n\n[139388 rows x 18 columns]",
      "text/html": "<div>\n<style scoped>\n    .dataframe tbody tr th:only-of-type {\n        vertical-align: middle;\n    }\n\n    .dataframe tbody tr th {\n        vertical-align: top;\n    }\n\n    .dataframe thead th {\n        text-align: right;\n    }\n</style>\n<table border=\"1\" class=\"dataframe\">\n  <thead>\n    <tr style=\"text-align: right;\">\n      <th></th>\n      <th>推料器自动指令</th>\n      <th>CO含量</th>\n      <th>HCL含量</th>\n      <th>NOx含量</th>\n      <th>SO2含量</th>\n      <th>二次风调门</th>\n      <th>二次风量</th>\n      <th>给水流量</th>\n      <th>炉排实际运行指令</th>\n      <th>炉排自动投退信号</th>\n      <th>汽包水位</th>\n      <th>推料器启停</th>\n      <th>推料器自动投退信号</th>\n      <th>氧量设定值</th>\n      <th>一次风调门</th>\n      <th>一次风量</th>\n      <th>引风机转速</th>\n      <th>主蒸汽流量</th>\n    </tr>\n  </thead>\n  <tbody>\n    <tr>\n      <th>0</th>\n      <td>60.00000</td>\n      <td>2.666016</td>\n      <td>2.351562</td>\n      <td>56.37500</td>\n      <td>4.875000</td>\n      <td>19.640625</td>\n      <td>4332.0</td>\n      <td>77.0000</td>\n      <td>60.0000</td>\n      <td>1</td>\n      <td>17.187500</td>\n      <td>0</td>\n      <td>1</td>\n      <td>6.0</td>\n      <td>60.25000</td>\n      <td>65042.425781</td>\n      <td>63.12500</td>\n      <td>61.6875</td>\n    </tr>\n    <tr>\n      <th>1</th>\n      <td>60.00000</td>\n      <td>2.708984</td>\n      <td>2.375000</td>\n      <td>56.25000</td>\n      <td>4.855469</td>\n      <td>19.687500</td>\n      <td>4332.0</td>\n      <td>77.0625</td>\n      <td>60.0000</td>\n      <td>1</td>\n      <td>17.078125</td>\n      <td>0</td>\n      <td>1</td>\n      <td>6.0</td>\n      <td>60.34375</td>\n      <td>64419.335938</td>\n      <td>63.03125</td>\n      <td>61.3750</td>\n    </tr>\n    <tr>\n      <th>2</th>\n      <td>60.00000</td>\n      <td>2.736328</td>\n      <td>2.392578</td>\n      <td>56.28125</td>\n      <td>4.812500</td>\n      <td>19.687500</td>\n      <td>4332.0</td>\n      <td>77.1250</td>\n      <td>60.0000</td>\n      <td>1</td>\n      <td>17.093750</td>\n      <td>0</td>\n      <td>1</td>\n      <td>6.0</td>\n      <td>60.46875</td>\n      <td>64800.824219</td>\n      <td>63.06250</td>\n      <td>61.4375</td>\n    </tr>\n    <tr>\n      <th>3</th>\n      <td>60.00000</td>\n      <td>2.757812</td>\n      <td>2.351562</td>\n      <td>56.28125</td>\n      <td>4.765625</td>\n      <td>19.671875</td>\n      <td>4584.0</td>\n      <td>77.2500</td>\n      <td>60.0000</td>\n      <td>1</td>\n      <td>17.218750</td>\n      <td>0</td>\n      <td>1</td>\n      <td>6.0</td>\n      <td>60.53125</td>\n      <td>66169.523438</td>\n      <td>63.06250</td>\n      <td>61.3750</td>\n    </tr>\n    <tr>\n      <th>4</th>\n      <td>60.00000</td>\n      <td>2.777344</td>\n      <td>2.337891</td>\n      <td>56.43750</td>\n      <td>4.804688</td>\n      <td>19.671875</td>\n      <td>4332.0</td>\n      <td>77.3750</td>\n      <td>60.0000</td>\n      <td>1</td>\n      <td>17.421875</td>\n      <td>0</td>\n      <td>1</td>\n      <td>6.0</td>\n      <td>60.53125</td>\n      <td>66389.273438</td>\n      <td>63.09375</td>\n      <td>61.4375</td>\n    </tr>\n    <tr>\n      <th>...</th>\n      <td>...</td>\n      <td>...</td>\n      <td>...</td>\n      <td>...</td>\n      <td>...</td>\n      <td>...</td>\n      <td>...</td>\n      <td>...</td>\n      <td>...</td>\n      <td>...</td>\n      <td>...</td>\n      <td>...</td>\n      <td>...</td>\n      <td>...</td>\n      <td>...</td>\n      <td>...</td>\n      <td>...</td>\n      <td>...</td>\n    </tr>\n    <tr>\n      <th>139383</th>\n      <td>52.37500</td>\n      <td>-0.020599</td>\n      <td>8.289062</td>\n      <td>49.43750</td>\n      <td>23.281250</td>\n      <td>21.375000</td>\n      <td>6064.0</td>\n      <td>88.7500</td>\n      <td>42.9375</td>\n      <td>1</td>\n      <td>7.757812</td>\n      <td>1</td>\n      <td>1</td>\n      <td>6.0</td>\n      <td>60.75000</td>\n      <td>64566.992188</td>\n      <td>63.71875</td>\n      <td>69.6250</td>\n    </tr>\n    <tr>\n      <th>139384</th>\n      <td>52.37500</td>\n      <td>-0.117920</td>\n      <td>8.265625</td>\n      <td>49.28125</td>\n      <td>23.984375</td>\n      <td>21.296875</td>\n      <td>6064.0</td>\n      <td>88.6250</td>\n      <td>42.9375</td>\n      <td>1</td>\n      <td>7.683594</td>\n      <td>1</td>\n      <td>1</td>\n      <td>6.0</td>\n      <td>60.68750</td>\n      <td>64454.105469</td>\n      <td>63.96875</td>\n      <td>69.5625</td>\n    </tr>\n    <tr>\n      <th>139385</th>\n      <td>52.40625</td>\n      <td>-0.159546</td>\n      <td>8.242188</td>\n      <td>49.21875</td>\n      <td>23.968750</td>\n      <td>21.234375</td>\n      <td>6064.0</td>\n      <td>88.5000</td>\n      <td>42.9375</td>\n      <td>1</td>\n      <td>7.898438</td>\n      <td>1</td>\n      <td>1</td>\n      <td>6.0</td>\n      <td>60.50000</td>\n      <td>64044.316406</td>\n      <td>64.18750</td>\n      <td>69.8750</td>\n    </tr>\n    <tr>\n      <th>139386</th>\n      <td>52.40625</td>\n      <td>-0.173340</td>\n      <td>8.234375</td>\n      <td>49.21875</td>\n      <td>23.953125</td>\n      <td>21.281250</td>\n      <td>5872.0</td>\n      <td>88.3750</td>\n      <td>42.9375</td>\n      <td>1</td>\n      <td>8.039062</td>\n      <td>1</td>\n      <td>1</td>\n      <td>6.0</td>\n      <td>60.43750</td>\n      <td>64210.289062</td>\n      <td>64.37500</td>\n      <td>69.7500</td>\n    </tr>\n    <tr>\n      <th>139387</th>\n      <td>52.43750</td>\n      <td>-0.131714</td>\n      <td>8.210938</td>\n      <td>49.09375</td>\n      <td>24.000000</td>\n      <td>21.250000</td>\n      <td>6064.0</td>\n      <td>88.3125</td>\n      <td>42.9375</td>\n      <td>1</td>\n      <td>8.132812</td>\n      <td>1</td>\n      <td>1</td>\n      <td>6.0</td>\n      <td>60.50000</td>\n      <td>64122.988281</td>\n      <td>64.50000</td>\n      <td>69.7500</td>\n    </tr>\n  </tbody>\n</table>\n<p>139388 rows × 18 columns</p>\n</div>"
     },
     "execution_count": 34,
     "metadata": {},
     "output_type": "execute_result"
    }
   ],
   "source": [
    "df_for_training_scaled"
   ],
   "metadata": {
    "collapsed": false,
    "pycharm": {
     "name": "#%%\n"
    }
   }
  },
  {
   "cell_type": "code",
   "execution_count": 35,
   "outputs": [],
   "source": [
    "def createXY(dataset,n_past):\n",
    "  dataX = []\n",
    "  dataY = []\n",
    "  for i in range(n_past, len(dataset)):\n",
    "      dataX.append(dataset[i - n_past:i, 0:dataset.shape[1]])\n",
    "      dataY.append(dataset[i,0])\n",
    "  return np.array(dataX),np.array(dataY)\n",
    "\n",
    "\n",
    "SEQ_LEN = 300 # 即时间窗口\n",
    "\n",
    "\n",
    "trainX, trainY=createXY(df_for_training_scaled,SEQ_LEN)\n",
    "validX, validY=createXY(df_for_validing_scaled,SEQ_LEN)\n",
    "# testX, testY=createXY(df_for_testing_scaled,SEQ_LEN)"
   ],
   "metadata": {
    "collapsed": false,
    "pycharm": {
     "name": "#%%\n"
    }
   }
  },
  {
   "cell_type": "code",
   "execution_count": 36,
   "outputs": [
    {
     "name": "stdout",
     "output_type": "stream",
     "text": [
      "构建时间序列特征\n",
      "trainX.shape, trainY.shape:  (139088, 300, 18) (139088,)\n",
      "validX.shape, validY.shape:  (1500, 300, 18) (1500,)\n"
     ]
    }
   ],
   "source": [
    "print('构建时间序列特征')\n",
    "print('trainX.shape, trainY.shape: ', trainX.shape, trainY.shape)\n",
    "print('validX.shape, validY.shape: ', validX.shape, validY.shape)\n",
    "# print('testX.shape, testY.shape: ', testX.shape, testY.shape)"
   ],
   "metadata": {
    "collapsed": false,
    "pycharm": {
     "name": "#%%\n"
    }
   }
  },
  {
   "cell_type": "code",
   "execution_count": 37,
   "outputs": [],
   "source": [
    "class My_Dataset(Dataset):\n",
    "    def __init__(self, data, labels):\n",
    "        self.data = data\n",
    "        self.labels = labels\n",
    "\n",
    "    def __len__(self):\n",
    "        return len(self.data)\n",
    "\n",
    "    def __getitem__(self, idx):\n",
    "\n",
    "        sample = dict(input=torch.FloatTensor(self.data[idx]),\n",
    "                      label=torch.FloatTensor(np.array(self.labels[idx])))\n",
    "\n",
    "        return sample\n"
   ],
   "metadata": {
    "collapsed": false,
    "pycharm": {
     "name": "#%%\n"
    }
   }
  },
  {
   "cell_type": "code",
   "execution_count": 38,
   "outputs": [],
   "source": [
    "def create_data_loader(data=None, labels=None, batch_size=32):\n",
    "    ds=My_Dataset(\n",
    "        data = data,\n",
    "        labels = labels)\n",
    "    return DataLoader(ds, batch_size=batch_size, shuffle=False)\n",
    "    # if test_mode:\n",
    "    #     return DataLoader(ds, batch_size=batch_size, shuffle=False)\n",
    "    # else:\n",
    "    #     return DataLoader(ds, batch_size=batch_size, shuffle=True)"
   ],
   "metadata": {
    "collapsed": false,
    "pycharm": {
     "name": "#%%\n"
    }
   }
  },
  {
   "cell_type": "code",
   "execution_count": 39,
   "outputs": [],
   "source": [
    "train_data_loader = create_data_loader(data=trainX,\n",
    "                                       labels=trainY)\n",
    "\n",
    "val_data_loader = create_data_loader(data=validX,\n",
    "                                       labels=validY)"
   ],
   "metadata": {
    "collapsed": false,
    "pycharm": {
     "name": "#%%\n"
    }
   }
  },
  {
   "cell_type": "code",
   "execution_count": 40,
   "outputs": [
    {
     "data": {
      "text/plain": "4347"
     },
     "execution_count": 40,
     "metadata": {},
     "output_type": "execute_result"
    }
   ],
   "source": [
    "len(train_data_loader)"
   ],
   "metadata": {
    "collapsed": false,
    "pycharm": {
     "name": "#%%\n"
    }
   }
  },
  {
   "cell_type": "code",
   "execution_count": 41,
   "outputs": [
    {
     "name": "stdout",
     "output_type": "stream",
     "text": [
      "torch.Size([32, 300, 18])\n",
      "torch.Size([32])\n"
     ]
    }
   ],
   "source": [
    "data = next(iter(train_data_loader))\n",
    "data.keys()\n",
    "print(data['input'].shape)\n",
    "print(data['label'].shape)"
   ],
   "metadata": {
    "collapsed": false,
    "pycharm": {
     "name": "#%%\n"
    }
   }
  },
  {
   "cell_type": "code",
   "execution_count": 42,
   "outputs": [
    {
     "name": "stdout",
     "output_type": "stream",
     "text": [
      "use device:  cuda:0\n"
     ]
    }
   ],
   "source": [
    "\n",
    "device = torch.device(\"cuda:0\" if torch.cuda.is_available() else \"cpu\")\n",
    "print('use device: ', device)"
   ],
   "metadata": {
    "collapsed": false,
    "pycharm": {
     "name": "#%%\n"
    }
   }
  },
  {
   "cell_type": "code",
   "execution_count": 43,
   "outputs": [],
   "source": [
    "class Time_Model(nn.Module):\n",
    "\n",
    "    def __init__(self):\n",
    "        super().__init__()\n",
    "\n",
    "        self.hidden_size = 256\n",
    "        self.num_layers = 1\n",
    "        self.bidirectional = True\n",
    "        self.lstm = nn.LSTM(input_size=18,\n",
    "                             hidden_size=self.hidden_size,\n",
    "                             num_layers=self.num_layers,\n",
    "                             bidirectional=self.bidirectional,\n",
    "                             batch_first=True)\n",
    "\n",
    "        self.fc = nn.Linear(self.hidden_size*2, 1)\n",
    "\n",
    "\n",
    "    def forward(self, x):\n",
    "        device = x.device\n",
    "        batch_size, seq_len, emb_dim = x.shape\n",
    "        # 初始化：双向就乘2\n",
    "        h0 = torch.randn(self.num_layers * 2, batch_size, self.hidden_size).to(device)\n",
    "        c0 = torch.randn(self.num_layers * 2, batch_size, self.hidden_size).to(device)\n",
    "\n",
    "        x, (_, _) = self.lstm(x, (h0, c0))\n",
    "        x = x[:,-1,:] # 取最后一个时间步\n",
    "        x = self.fc(x)\n",
    "\n",
    "        return x\n",
    "\n",
    "\n",
    "# class Time_Model(nn.Module):\n",
    "#\n",
    "#     def __init__(self):\n",
    "#         super().__init__()\n",
    "#\n",
    "#         self.hidden_size = 256\n",
    "#         self.input_size = 393\n",
    "#         self.num_layers = 1\n",
    "#         self.bidirectional = True\n",
    "#         # self.lstm = nn.LSTM(input_size=22,\n",
    "#         #                      hidden_size=self.hidden_size,\n",
    "#         #                      num_layers=self.num_layers,\n",
    "#         #                      bidirectional=self.bidirectional,\n",
    "#         #                      batch_first=True)\n",
    "#\n",
    "#         self.seq_emb = nn.Sequential(\n",
    "#             nn.Linear(self.input_size, self.input_size),\n",
    "#             nn.LayerNorm(self.input_size),\n",
    "#             nn.GELU(),\n",
    "#             nn.Dropout(0.1),\n",
    "#         )\n",
    "#\n",
    "#         self.lstm1 = nn.LSTM(self.input_size, self.hidden_size//2, dropout=0.1, batch_first=True, bidirectional=True)\n",
    "#         self.lstm2 = nn.LSTM(self.hidden_size//2 * 2, self.hidden_size//4, dropout=0.1, batch_first=True, bidirectional=True)\n",
    "#         self.lstm3 = nn.LSTM(self.hidden_size//4 * 2, self.hidden_size//8, dropout=0.1, batch_first=True, bidirectional=True)\n",
    "#\n",
    "#\n",
    "#         self.head = nn.Sequential(\n",
    "#             # nn.Linear(self.hidden_size//8 * 2, self.hidden_size//8 * 2),\n",
    "#             nn.LayerNorm(self.hidden_size//8 * 2),\n",
    "#             nn.GELU(),\n",
    "#             #nn.Dropout(0.),\n",
    "#             nn.Linear(self.hidden_size//8 * 2, 1))\n",
    "#\n",
    "#\n",
    "#     def forward(self, x):\n",
    "#         device = x.device\n",
    "#         batch_size, seq_len, emb_dim = x.shape\n",
    "#         x = self.seq_emb(x)\n",
    "#\n",
    "#\n",
    "#         # 初始化：双向就乘2\n",
    "#         h0 = torch.randn(self.num_layers * 2, batch_size, self.hidden_size//2).to(device)\n",
    "#         c0 = torch.randn(self.num_layers * 2, batch_size, self.hidden_size//2).to(device)\n",
    "#         x, (_, _) = self.lstm1(x, (h0, c0))\n",
    "#\n",
    "#          # 初始化：双向就乘2\n",
    "#         h0 = torch.randn(self.num_layers * 2, batch_size, self.hidden_size//4).to(device)\n",
    "#         c0 = torch.randn(self.num_layers * 2, batch_size, self.hidden_size//4).to(device)\n",
    "#         x, (_, _) = self.lstm2(x, (h0, c0))\n",
    "#\n",
    "#         # 初始化：双向就乘2\n",
    "#         h0 = torch.randn(self.num_layers * 2, batch_size, self.hidden_size//8).to(device)\n",
    "#         c0 = torch.randn(self.num_layers * 2, batch_size, self.hidden_size//8).to(device)\n",
    "#         x, (_, _) = self.lstm3(x, (h0, c0))\n",
    "#\n",
    "#\n",
    "#         x = x[:,-1,:] # 取最后一个时间步\n",
    "#         x = self.head(x)\n",
    "#\n",
    "#         return x\n",
    "\n",
    "\n",
    "# self.seq_emb = nn.Sequential(\n",
    "#             nn.Linear(len(cfg.cont_seq_cols), self.hidden_size),\n",
    "#             nn.LayerNorm(self.hidden_size),\n",
    "#             nn.GELU(),\n",
    "#             #nn.Dropout(0.1),\n",
    "#         )\n",
    "#         self.lstm1 = nn.LSTM(self.hidden_size, self.hidden_size//2, dropout=0.1, batch_first=True, bidirectional=True)\n",
    "#         self.lstm2 = nn.LSTM(self.hidden_size//2 * 2, self.hidden_size//4, dropout=0.1, batch_first=True, bidirectional=True)\n",
    "#         self.lstm3 = nn.LSTM(self.hidden_size//4 * 2, self.hidden_size//8, dropout=0.1, batch_first=True, bidirectional=True)\n",
    "#         self.head = nn.Sequential(\n",
    "#             # nn.Linear(self.hidden_size//8 * 2, self.hidden_size//8 * 2),\n",
    "#             nn.LayerNorm(self.hidden_size//8 * 2),\n",
    "#             nn.GELU(),\n",
    "#             #nn.Dropout(0.),\n",
    "#             nn.Linear(self.hidden_size//8 * 2, 1),\n",
    "\n",
    "# class Time_Model(nn.Module):\n",
    "#\n",
    "#     def __init__(self, input_dim=22, lstm_dim=256,\n",
    "#                      dense_dim=256, logit_dim=256, num_classes=1):\n",
    "#         super().__init__()\n",
    "#\n",
    "#         self.mlp = nn.Sequential(\n",
    "#         nn.Linear(input_dim, dense_dim // 2),\n",
    "#         nn.ReLU(),\n",
    "#         nn.Linear(dense_dim // 2, dense_dim),\n",
    "#         nn.ReLU())\n",
    "#\n",
    "#         self.lstm = nn.LSTM(dense_dim, lstm_dim, batch_first=True, bidirectional=True)\n",
    "#\n",
    "#         self.logits = nn.Sequential(\n",
    "#             nn.Linear(lstm_dim * 2, logit_dim),\n",
    "#             nn.ReLU(),\n",
    "#             nn.Linear(logit_dim, num_classes),\n",
    "#         )\n",
    "#\n",
    "#     def forward(self, x):\n",
    "#         features = self.mlp(x)\n",
    "#         features, _ = self.lstm(features)\n",
    "#         features = features[:,-1,:]\n",
    "#         pred = self.logits(features)\n",
    "#\n",
    "#         return pred"
   ],
   "metadata": {
    "collapsed": false,
    "pycharm": {
     "name": "#%%\n"
    }
   }
  },
  {
   "cell_type": "code",
   "execution_count": 44,
   "outputs": [],
   "source": [
    "model = Time_Model()\n",
    "model = model.to(device)"
   ],
   "metadata": {
    "collapsed": false,
    "pycharm": {
     "name": "#%%\n"
    }
   }
  },
  {
   "cell_type": "code",
   "execution_count": 45,
   "outputs": [],
   "source": [
    "# MSE开方就是RMSE了，所以损失可以直接用来作为评估指标哦\n",
    "loss_fn = torch.nn.MSELoss(reduction='mean').to(device)\n",
    "\n",
    "optimizer = torch.optim.Adam(model.parameters(), lr=1e-3)\n",
    "EPOCHS = 32"
   ],
   "metadata": {
    "collapsed": false,
    "pycharm": {
     "name": "#%%\n"
    }
   }
  },
  {
   "cell_type": "code",
   "execution_count": 46,
   "outputs": [],
   "source": [
    "def train_epoch(model, data_loader, loss_fn, optimizer, device):\n",
    "    model = model.train()\n",
    "    losses = []\n",
    "\n",
    "    pred_list = []\n",
    "    target_list = []\n",
    "\n",
    "    for inputs in tqdm(data_loader):\n",
    "        targets = inputs[\"label\"].to(device)\n",
    "        x = inputs['input'].to(device)\n",
    "        outputs = model(x)\n",
    "        preds = outputs\n",
    "\n",
    "\n",
    "        pred_list.extend(preds.cpu().detach().numpy().tolist())\n",
    "        target_list.extend(targets.cpu().detach().numpy().tolist())\n",
    "\n",
    "\n",
    "        loss = loss_fn(outputs, targets)\n",
    "\n",
    "        losses.append(loss.item())\n",
    "        loss.backward()\n",
    "\n",
    "\n",
    "\n",
    "        # nn.utils.clip_grad_norm_(model.parameters(), max_norm=1.0)\n",
    "        optimizer.step()\n",
    "        optimizer.zero_grad()\n",
    "        # scheduler.step()\n",
    "\n",
    "    mean_loss = np.mean(losses)\n",
    "\n",
    "\n",
    "    return mean_loss"
   ],
   "metadata": {
    "collapsed": false,
    "pycharm": {
     "name": "#%%\n"
    }
   }
  },
  {
   "cell_type": "code",
   "execution_count": 47,
   "outputs": [],
   "source": [
    "def eval_model(model, data_loader, loss_fn, device):\n",
    "    model = model.eval() # 验证预测模式\n",
    "    losses = []\n",
    "    pred_list = []\n",
    "    target_list = []\n",
    "\n",
    "    with torch.no_grad():\n",
    "        for inputs in tqdm(data_loader):\n",
    "            targets = inputs[\"label\"].to(device)\n",
    "            x = inputs['input'].to(device)\n",
    "            outputs = model(x)\n",
    "            preds = outputs\n",
    "\n",
    "\n",
    "            pred_list.extend(preds.cpu().detach().numpy().tolist())\n",
    "            target_list.extend(targets.cpu().detach().numpy().tolist())\n",
    "\n",
    "\n",
    "            loss = loss_fn(outputs, targets)\n",
    "\n",
    "            losses.append(loss.item())\n",
    "\n",
    "\n",
    "\n",
    "    mean_loss = np.mean(losses)\n",
    "\n",
    "    return mean_loss"
   ],
   "metadata": {
    "collapsed": false,
    "pycharm": {
     "name": "#%%\n"
    }
   }
  },
  {
   "cell_type": "code",
   "execution_count": 48,
   "outputs": [
    {
     "name": "stdout",
     "output_type": "stream",
     "text": [
      "Epoch 1/32\n",
      "----------\n",
      "train_mse : 477.2356516457657 \n",
      " \n",
      "val_mse : 20.372872119254254 \n",
      " \n",
      "\n",
      "best model saved!!!!!!!!!!!!!\n",
      "Epoch 2/32\n",
      "----------\n",
      "train_mse : 60.91180114072028 \n",
      " \n",
      "val_mse : 19.390344768128497 \n",
      " \n",
      "\n",
      "best model saved!!!!!!!!!!!!!\n",
      "Epoch 3/32\n",
      "----------\n",
      "train_mse : 59.92571990566608 \n",
      " \n",
      "val_mse : 18.708686474789964 \n",
      " \n",
      "\n",
      "best model saved!!!!!!!!!!!!!\n",
      "Epoch 4/32\n",
      "----------\n",
      "train_mse : 59.70259783033574 \n",
      " \n",
      "val_mse : 18.7229297027943 \n",
      " \n",
      "\n",
      "Epoch 5/32\n",
      "----------\n",
      "train_mse : 59.43160635266862 \n",
      " \n",
      "val_mse : 18.62682611003835 \n",
      " \n",
      "\n",
      "best model saved!!!!!!!!!!!!!\n",
      "Epoch 6/32\n",
      "----------\n",
      "train_mse : 59.31163025796859 \n",
      " \n",
      "val_mse : 18.40085232638298 \n",
      " \n",
      "\n",
      "best model saved!!!!!!!!!!!!!\n",
      "Epoch 7/32\n",
      "----------\n",
      "train_mse : 59.15558463237513 \n",
      " \n",
      "val_mse : 18.430848034772467 \n",
      " \n",
      "\n",
      "Epoch 8/32\n",
      "----------\n"
     ]
    },
    {
     "name": "stderr",
     "output_type": "stream",
     "text": [
      "100%|██████████| 4347/4347 [02:05<00:00, 34.56it/s]\n",
      "100%|██████████| 47/47 [00:00<00:00, 111.22it/s]\n",
      "100%|██████████| 4347/4347 [02:14<00:00, 32.26it/s]\n",
      "100%|██████████| 47/47 [00:00<00:00, 94.88it/s]\n",
      "100%|██████████| 4347/4347 [02:09<00:00, 33.53it/s]\n",
      "100%|██████████| 47/47 [00:00<00:00, 103.19it/s]\n",
      "100%|██████████| 4347/4347 [02:11<00:00, 33.14it/s]\n",
      "100%|██████████| 47/47 [00:00<00:00, 102.29it/s]\n",
      "100%|██████████| 4347/4347 [02:15<00:00, 32.15it/s]\n",
      "100%|██████████| 47/47 [00:00<00:00, 101.20it/s]\n",
      "100%|██████████| 4347/4347 [02:10<00:00, 33.26it/s]\n",
      "100%|██████████| 47/47 [00:00<00:00, 102.07it/s]\n",
      "100%|██████████| 4347/4347 [02:20<00:00, 30.93it/s]\n",
      "100%|██████████| 47/47 [00:00<00:00, 89.99it/s]\n",
      " 56%|█████▋    | 2454/4347 [01:25<01:05, 28.80it/s]\n"
     ]
    },
    {
     "ename": "KeyboardInterrupt",
     "evalue": "",
     "output_type": "error",
     "traceback": [
      "\u001B[1;31m---------------------------------------------------------------------------\u001B[0m",
      "\u001B[1;31mKeyboardInterrupt\u001B[0m                         Traceback (most recent call last)",
      "\u001B[1;32mC:\\Users\\MACHEN~1\\AppData\\Local\\Temp/ipykernel_7972/2195809194.py\u001B[0m in \u001B[0;36m<module>\u001B[1;34m\u001B[0m\n\u001B[0;32m     19\u001B[0m         \u001B[0mloss_fn\u001B[0m\u001B[1;33m,\u001B[0m\u001B[1;33m\u001B[0m\u001B[1;33m\u001B[0m\u001B[0m\n\u001B[0;32m     20\u001B[0m         \u001B[0moptimizer\u001B[0m\u001B[1;33m,\u001B[0m\u001B[1;33m\u001B[0m\u001B[1;33m\u001B[0m\u001B[0m\n\u001B[1;32m---> 21\u001B[1;33m         \u001B[0mdevice\u001B[0m\u001B[1;33m,\u001B[0m\u001B[1;33m\u001B[0m\u001B[1;33m\u001B[0m\u001B[0m\n\u001B[0m\u001B[0;32m     22\u001B[0m     )\n\u001B[0;32m     23\u001B[0m \u001B[1;33m\u001B[0m\u001B[0m\n",
      "\u001B[1;32mC:\\Users\\MACHEN~1\\AppData\\Local\\Temp/ipykernel_7972/3109406669.py\u001B[0m in \u001B[0;36mtrain_epoch\u001B[1;34m(model, data_loader, loss_fn, optimizer, device)\u001B[0m\n\u001B[0;32m     20\u001B[0m \u001B[1;33m\u001B[0m\u001B[0m\n\u001B[0;32m     21\u001B[0m         \u001B[0mlosses\u001B[0m\u001B[1;33m.\u001B[0m\u001B[0mappend\u001B[0m\u001B[1;33m(\u001B[0m\u001B[0mloss\u001B[0m\u001B[1;33m.\u001B[0m\u001B[0mitem\u001B[0m\u001B[1;33m(\u001B[0m\u001B[1;33m)\u001B[0m\u001B[1;33m)\u001B[0m\u001B[1;33m\u001B[0m\u001B[1;33m\u001B[0m\u001B[0m\n\u001B[1;32m---> 22\u001B[1;33m         \u001B[0mloss\u001B[0m\u001B[1;33m.\u001B[0m\u001B[0mbackward\u001B[0m\u001B[1;33m(\u001B[0m\u001B[1;33m)\u001B[0m\u001B[1;33m\u001B[0m\u001B[1;33m\u001B[0m\u001B[0m\n\u001B[0m\u001B[0;32m     23\u001B[0m \u001B[1;33m\u001B[0m\u001B[0m\n\u001B[0;32m     24\u001B[0m \u001B[1;33m\u001B[0m\u001B[0m\n",
      "\u001B[1;32m~\\AppData\\Roaming\\Python\\Python37\\site-packages\\torch\\_tensor.py\u001B[0m in \u001B[0;36mbackward\u001B[1;34m(self, gradient, retain_graph, create_graph, inputs)\u001B[0m\n\u001B[0;32m    253\u001B[0m                 \u001B[0mcreate_graph\u001B[0m\u001B[1;33m=\u001B[0m\u001B[0mcreate_graph\u001B[0m\u001B[1;33m,\u001B[0m\u001B[1;33m\u001B[0m\u001B[1;33m\u001B[0m\u001B[0m\n\u001B[0;32m    254\u001B[0m                 inputs=inputs)\n\u001B[1;32m--> 255\u001B[1;33m         \u001B[0mtorch\u001B[0m\u001B[1;33m.\u001B[0m\u001B[0mautograd\u001B[0m\u001B[1;33m.\u001B[0m\u001B[0mbackward\u001B[0m\u001B[1;33m(\u001B[0m\u001B[0mself\u001B[0m\u001B[1;33m,\u001B[0m \u001B[0mgradient\u001B[0m\u001B[1;33m,\u001B[0m \u001B[0mretain_graph\u001B[0m\u001B[1;33m,\u001B[0m \u001B[0mcreate_graph\u001B[0m\u001B[1;33m,\u001B[0m \u001B[0minputs\u001B[0m\u001B[1;33m=\u001B[0m\u001B[0minputs\u001B[0m\u001B[1;33m)\u001B[0m\u001B[1;33m\u001B[0m\u001B[1;33m\u001B[0m\u001B[0m\n\u001B[0m\u001B[0;32m    256\u001B[0m \u001B[1;33m\u001B[0m\u001B[0m\n\u001B[0;32m    257\u001B[0m     \u001B[1;32mdef\u001B[0m \u001B[0mregister_hook\u001B[0m\u001B[1;33m(\u001B[0m\u001B[0mself\u001B[0m\u001B[1;33m,\u001B[0m \u001B[0mhook\u001B[0m\u001B[1;33m)\u001B[0m\u001B[1;33m:\u001B[0m\u001B[1;33m\u001B[0m\u001B[1;33m\u001B[0m\u001B[0m\n",
      "\u001B[1;32m~\\AppData\\Roaming\\Python\\Python37\\site-packages\\torch\\autograd\\__init__.py\u001B[0m in \u001B[0;36mbackward\u001B[1;34m(tensors, grad_tensors, retain_graph, create_graph, grad_variables, inputs)\u001B[0m\n\u001B[0;32m    147\u001B[0m     Variable._execution_engine.run_backward(\n\u001B[0;32m    148\u001B[0m         \u001B[0mtensors\u001B[0m\u001B[1;33m,\u001B[0m \u001B[0mgrad_tensors_\u001B[0m\u001B[1;33m,\u001B[0m \u001B[0mretain_graph\u001B[0m\u001B[1;33m,\u001B[0m \u001B[0mcreate_graph\u001B[0m\u001B[1;33m,\u001B[0m \u001B[0minputs\u001B[0m\u001B[1;33m,\u001B[0m\u001B[1;33m\u001B[0m\u001B[1;33m\u001B[0m\u001B[0m\n\u001B[1;32m--> 149\u001B[1;33m         allow_unreachable=True, accumulate_grad=True)  # allow_unreachable flag\n\u001B[0m\u001B[0;32m    150\u001B[0m \u001B[1;33m\u001B[0m\u001B[0m\n\u001B[0;32m    151\u001B[0m \u001B[1;33m\u001B[0m\u001B[0m\n",
      "\u001B[1;31mKeyboardInterrupt\u001B[0m: "
     ]
    }
   ],
   "source": [
    "\n",
    "from collections import defaultdict\n",
    "history = defaultdict(list) # 记录10轮loss和acc\n",
    "best_mse = float('inf')\n",
    "\n",
    "\n",
    "# -------------------控制早停--------------\n",
    "early_stop_epochs = 2\n",
    "no_improve_epochs = 0\n",
    "\n",
    "\n",
    "for epoch in range(EPOCHS):\n",
    "\n",
    "    print(f'Epoch {epoch + 1}/{EPOCHS}')\n",
    "    print('-' * 10)\n",
    "\n",
    "    train_mse = train_epoch(\n",
    "        model,\n",
    "        train_data_loader,\n",
    "        loss_fn,\n",
    "        optimizer,\n",
    "        device,\n",
    "    )\n",
    "\n",
    "    print(f'train_mse : {train_mse } \\n ')\n",
    "\n",
    "    val_mse = eval_model(\n",
    "        model,\n",
    "        val_data_loader,\n",
    "        loss_fn,\n",
    "        device\n",
    "    )\n",
    "\n",
    "    print(f'val_mse : {val_mse } \\n ')\n",
    "    print()\n",
    "\n",
    "    history['train_mse '].append(train_mse)\n",
    "    history['val_mse '].append(val_mse)\n",
    "\n",
    "\n",
    "    if val_mse  < best_mse :\n",
    "        print('best model saved!!!!!!!!!!!!!')\n",
    "        torch.save(model.state_dict(), f'./save model/best_model.pt')\n",
    "        best_mse  = val_mse\n",
    "\n",
    "        no_improve_epochs = 0\n",
    "\n",
    "    else:\n",
    "        no_improve_epochs += 1\n",
    "\n",
    "\n",
    "\n",
    "    if no_improve_epochs == early_stop_epochs:\n",
    "        print('no improve score !!! stop train !!!')\n",
    "        break"
   ],
   "metadata": {
    "collapsed": false,
    "pycharm": {
     "name": "#%%\n"
    }
   }
  },
  {
   "cell_type": "code",
   "execution_count": 49,
   "outputs": [
    {
     "data": {
      "text/plain": "      推料器自动指令       CO含量     HCL含量     NOx含量     SO2含量      二次风调门    二次风量  \\\n0       69.25  11.078125  8.820312  50.34375  5.296875  19.234375  4900.0   \n1       69.25  11.031250  8.851562  50.34375  5.277344  19.234375  4664.0   \n2       69.25  11.039062  8.867188  50.46875  5.214844  19.203125  4664.0   \n3       69.25  11.085938  8.796875  50.59375  5.257812  19.218750  4332.0   \n4       69.25  11.265625  9.062500  50.59375  5.109375  19.203125  4332.0   \n...       ...        ...       ...       ...       ...        ...     ...   \n1795    69.25   0.562500  4.828125  63.90625  4.027344  19.656250  4900.0   \n1796    69.25   0.520996  4.843750  63.78125  4.000000  19.656250  5124.0   \n1797    69.25   0.569336  4.855469  63.93750  3.986328  19.640625  4900.0   \n1798    69.25   0.458252  4.871094  63.87500  3.945312  19.640625  4900.0   \n1799    69.25   1.944336  5.167969  64.50000  3.679688  19.625000  5124.0   \n\n         给水流量  炉排实际运行指令  炉排自动投退信号       汽包水位  推料器启停  推料器自动投退信号  氧量设定值  \\\n0     79.6250  46.46875         0   2.798828      1          0    6.0   \n1     79.6875  46.46875         0   2.857422      1          0    6.0   \n2     79.7500  46.46875         0   2.867188      1          0    6.0   \n3     79.6875  46.46875         0   2.867188      1          0    6.0   \n4     79.6875  46.46875         0   3.015625      1          0    6.0   \n...       ...       ...       ...        ...    ...        ...    ...   \n1795  67.5000  43.34375         1  15.867188      1          1    5.0   \n1796  67.4375  43.37500         1  15.796875      1          1    5.0   \n1797  67.5625  43.37500         1  15.765625      1          1    5.0   \n1798  67.6875  43.40625         1  15.742188      1          1    5.0   \n1799  67.7500  43.40625         1  15.562500      1          1    5.0   \n\n        一次风调门          一次风量    引风机转速     主蒸汽流量  \n0     65.0625  68996.023438  66.5625  58.03125  \n1     65.0625  68996.023438  66.5625  58.31250  \n2     65.0625  69109.601562  66.6250  58.28125  \n3     65.0625  69271.531250  66.6875  58.21875  \n4     65.0625  69198.703125  66.8125  58.12500  \n...       ...           ...      ...       ...  \n1795  68.4375  71170.164062  71.7500  54.96875  \n1796  68.5625  71460.804688  71.7500  54.93750  \n1797  68.6875  71460.804688  71.7500  54.87500  \n1798  68.7500  71405.906250  71.7500  54.90625  \n1799  68.7500  70894.148438  71.7500  55.00000  \n\n[1800 rows x 18 columns]",
      "text/html": "<div>\n<style scoped>\n    .dataframe tbody tr th:only-of-type {\n        vertical-align: middle;\n    }\n\n    .dataframe tbody tr th {\n        vertical-align: top;\n    }\n\n    .dataframe thead th {\n        text-align: right;\n    }\n</style>\n<table border=\"1\" class=\"dataframe\">\n  <thead>\n    <tr style=\"text-align: right;\">\n      <th></th>\n      <th>推料器自动指令</th>\n      <th>CO含量</th>\n      <th>HCL含量</th>\n      <th>NOx含量</th>\n      <th>SO2含量</th>\n      <th>二次风调门</th>\n      <th>二次风量</th>\n      <th>给水流量</th>\n      <th>炉排实际运行指令</th>\n      <th>炉排自动投退信号</th>\n      <th>汽包水位</th>\n      <th>推料器启停</th>\n      <th>推料器自动投退信号</th>\n      <th>氧量设定值</th>\n      <th>一次风调门</th>\n      <th>一次风量</th>\n      <th>引风机转速</th>\n      <th>主蒸汽流量</th>\n    </tr>\n  </thead>\n  <tbody>\n    <tr>\n      <th>0</th>\n      <td>69.25</td>\n      <td>11.078125</td>\n      <td>8.820312</td>\n      <td>50.34375</td>\n      <td>5.296875</td>\n      <td>19.234375</td>\n      <td>4900.0</td>\n      <td>79.6250</td>\n      <td>46.46875</td>\n      <td>0</td>\n      <td>2.798828</td>\n      <td>1</td>\n      <td>0</td>\n      <td>6.0</td>\n      <td>65.0625</td>\n      <td>68996.023438</td>\n      <td>66.5625</td>\n      <td>58.03125</td>\n    </tr>\n    <tr>\n      <th>1</th>\n      <td>69.25</td>\n      <td>11.031250</td>\n      <td>8.851562</td>\n      <td>50.34375</td>\n      <td>5.277344</td>\n      <td>19.234375</td>\n      <td>4664.0</td>\n      <td>79.6875</td>\n      <td>46.46875</td>\n      <td>0</td>\n      <td>2.857422</td>\n      <td>1</td>\n      <td>0</td>\n      <td>6.0</td>\n      <td>65.0625</td>\n      <td>68996.023438</td>\n      <td>66.5625</td>\n      <td>58.31250</td>\n    </tr>\n    <tr>\n      <th>2</th>\n      <td>69.25</td>\n      <td>11.039062</td>\n      <td>8.867188</td>\n      <td>50.46875</td>\n      <td>5.214844</td>\n      <td>19.203125</td>\n      <td>4664.0</td>\n      <td>79.7500</td>\n      <td>46.46875</td>\n      <td>0</td>\n      <td>2.867188</td>\n      <td>1</td>\n      <td>0</td>\n      <td>6.0</td>\n      <td>65.0625</td>\n      <td>69109.601562</td>\n      <td>66.6250</td>\n      <td>58.28125</td>\n    </tr>\n    <tr>\n      <th>3</th>\n      <td>69.25</td>\n      <td>11.085938</td>\n      <td>8.796875</td>\n      <td>50.59375</td>\n      <td>5.257812</td>\n      <td>19.218750</td>\n      <td>4332.0</td>\n      <td>79.6875</td>\n      <td>46.46875</td>\n      <td>0</td>\n      <td>2.867188</td>\n      <td>1</td>\n      <td>0</td>\n      <td>6.0</td>\n      <td>65.0625</td>\n      <td>69271.531250</td>\n      <td>66.6875</td>\n      <td>58.21875</td>\n    </tr>\n    <tr>\n      <th>4</th>\n      <td>69.25</td>\n      <td>11.265625</td>\n      <td>9.062500</td>\n      <td>50.59375</td>\n      <td>5.109375</td>\n      <td>19.203125</td>\n      <td>4332.0</td>\n      <td>79.6875</td>\n      <td>46.46875</td>\n      <td>0</td>\n      <td>3.015625</td>\n      <td>1</td>\n      <td>0</td>\n      <td>6.0</td>\n      <td>65.0625</td>\n      <td>69198.703125</td>\n      <td>66.8125</td>\n      <td>58.12500</td>\n    </tr>\n    <tr>\n      <th>...</th>\n      <td>...</td>\n      <td>...</td>\n      <td>...</td>\n      <td>...</td>\n      <td>...</td>\n      <td>...</td>\n      <td>...</td>\n      <td>...</td>\n      <td>...</td>\n      <td>...</td>\n      <td>...</td>\n      <td>...</td>\n      <td>...</td>\n      <td>...</td>\n      <td>...</td>\n      <td>...</td>\n      <td>...</td>\n      <td>...</td>\n    </tr>\n    <tr>\n      <th>1795</th>\n      <td>69.25</td>\n      <td>0.562500</td>\n      <td>4.828125</td>\n      <td>63.90625</td>\n      <td>4.027344</td>\n      <td>19.656250</td>\n      <td>4900.0</td>\n      <td>67.5000</td>\n      <td>43.34375</td>\n      <td>1</td>\n      <td>15.867188</td>\n      <td>1</td>\n      <td>1</td>\n      <td>5.0</td>\n      <td>68.4375</td>\n      <td>71170.164062</td>\n      <td>71.7500</td>\n      <td>54.96875</td>\n    </tr>\n    <tr>\n      <th>1796</th>\n      <td>69.25</td>\n      <td>0.520996</td>\n      <td>4.843750</td>\n      <td>63.78125</td>\n      <td>4.000000</td>\n      <td>19.656250</td>\n      <td>5124.0</td>\n      <td>67.4375</td>\n      <td>43.37500</td>\n      <td>1</td>\n      <td>15.796875</td>\n      <td>1</td>\n      <td>1</td>\n      <td>5.0</td>\n      <td>68.5625</td>\n      <td>71460.804688</td>\n      <td>71.7500</td>\n      <td>54.93750</td>\n    </tr>\n    <tr>\n      <th>1797</th>\n      <td>69.25</td>\n      <td>0.569336</td>\n      <td>4.855469</td>\n      <td>63.93750</td>\n      <td>3.986328</td>\n      <td>19.640625</td>\n      <td>4900.0</td>\n      <td>67.5625</td>\n      <td>43.37500</td>\n      <td>1</td>\n      <td>15.765625</td>\n      <td>1</td>\n      <td>1</td>\n      <td>5.0</td>\n      <td>68.6875</td>\n      <td>71460.804688</td>\n      <td>71.7500</td>\n      <td>54.87500</td>\n    </tr>\n    <tr>\n      <th>1798</th>\n      <td>69.25</td>\n      <td>0.458252</td>\n      <td>4.871094</td>\n      <td>63.87500</td>\n      <td>3.945312</td>\n      <td>19.640625</td>\n      <td>4900.0</td>\n      <td>67.6875</td>\n      <td>43.40625</td>\n      <td>1</td>\n      <td>15.742188</td>\n      <td>1</td>\n      <td>1</td>\n      <td>5.0</td>\n      <td>68.7500</td>\n      <td>71405.906250</td>\n      <td>71.7500</td>\n      <td>54.90625</td>\n    </tr>\n    <tr>\n      <th>1799</th>\n      <td>69.25</td>\n      <td>1.944336</td>\n      <td>5.167969</td>\n      <td>64.50000</td>\n      <td>3.679688</td>\n      <td>19.625000</td>\n      <td>5124.0</td>\n      <td>67.7500</td>\n      <td>43.40625</td>\n      <td>1</td>\n      <td>15.562500</td>\n      <td>1</td>\n      <td>1</td>\n      <td>5.0</td>\n      <td>68.7500</td>\n      <td>70894.148438</td>\n      <td>71.7500</td>\n      <td>55.00000</td>\n    </tr>\n  </tbody>\n</table>\n<p>1800 rows × 18 columns</p>\n</div>"
     },
     "execution_count": 49,
     "metadata": {},
     "output_type": "execute_result"
    }
   ],
   "source": [
    "df_test\n"
   ],
   "metadata": {
    "collapsed": false,
    "pycharm": {
     "name": "#%%\n"
    }
   }
  },
  {
   "cell_type": "code",
   "execution_count": 50,
   "outputs": [
    {
     "name": "stdout",
     "output_type": "stream",
     "text": [
      "<class 'pandas.core.frame.DataFrame'>\n",
      "RangeIndex: 300 entries, 0 to 299\n",
      "Data columns (total 18 columns):\n",
      " #   Column     Non-Null Count  Dtype  \n",
      "---  ------     --------------  -----  \n",
      " 0   推料器自动指令    300 non-null    float16\n",
      " 1   CO含量       300 non-null    float16\n",
      " 2   HCL含量      300 non-null    float16\n",
      " 3   NOx含量      300 non-null    float16\n",
      " 4   SO2含量      300 non-null    float16\n",
      " 5   二次风调门      300 non-null    float16\n",
      " 6   二次风量       300 non-null    float16\n",
      " 7   给水流量       300 non-null    float16\n",
      " 8   炉排实际运行指令   300 non-null    float16\n",
      " 9   炉排自动投退信号   300 non-null    int8   \n",
      " 10  汽包水位       300 non-null    float16\n",
      " 11  推料器启停      300 non-null    int8   \n",
      " 12  推料器自动投退信号  300 non-null    int8   \n",
      " 13  氧量设定值      300 non-null    float16\n",
      " 14  一次风调门      300 non-null    float16\n",
      " 15  一次风量       300 non-null    float32\n",
      " 16  引风机转速      300 non-null    float16\n",
      " 17  主蒸汽流量      300 non-null    float16\n",
      "dtypes: float16(14), float32(1), int8(3)\n",
      "memory usage: 10.4 KB\n"
     ]
    },
    {
     "data": {
      "text/plain": "   推料器自动指令      CO含量      HCL含量    NOx含量     SO2含量      二次风调门    二次风量  \\\n0     56.5 -0.090088  12.359375  54.1250  42.28125  19.203125  5124.0   \n1     56.5 -0.229004  12.390625  54.0625  42.31250  19.203125  5124.0   \n2     56.5 -0.138672  12.390625  53.8750  42.25000  19.234375  5124.0   \n3     56.5 -0.201172  12.367188  53.8750  42.25000  19.265625  5408.0   \n4     56.5 -0.138672  12.335938  53.9375  42.21875  19.234375  5408.0   \n\n      给水流量  炉排实际运行指令  炉排自动投退信号      汽包水位  推料器启停  推料器自动投退信号  氧量设定值    一次风调门  \\\n0  73.4375  46.46875         0 -6.828125      0          0    6.0  65.0625   \n1  73.5000  46.46875         0 -6.992188      0          0    6.0  65.0625   \n2  73.7500  46.46875         0 -7.285156      0          0    6.0  65.0625   \n3  73.8750  46.46875         0 -7.492188      0          0    6.0  65.0625   \n4  74.0625  46.46875         0 -7.519531      0          0    6.0  65.0625   \n\n           一次风量    引风机转速     主蒸汽流量  \n0  68703.117188  68.3750  61.18750  \n1  68752.023438  68.3750  61.15625  \n2  68743.875000  68.4375  61.00000  \n3  68776.460938  68.3750  61.09375  \n4  68743.875000  68.3750  61.03125  ",
      "text/html": "<div>\n<style scoped>\n    .dataframe tbody tr th:only-of-type {\n        vertical-align: middle;\n    }\n\n    .dataframe tbody tr th {\n        vertical-align: top;\n    }\n\n    .dataframe thead th {\n        text-align: right;\n    }\n</style>\n<table border=\"1\" class=\"dataframe\">\n  <thead>\n    <tr style=\"text-align: right;\">\n      <th></th>\n      <th>推料器自动指令</th>\n      <th>CO含量</th>\n      <th>HCL含量</th>\n      <th>NOx含量</th>\n      <th>SO2含量</th>\n      <th>二次风调门</th>\n      <th>二次风量</th>\n      <th>给水流量</th>\n      <th>炉排实际运行指令</th>\n      <th>炉排自动投退信号</th>\n      <th>汽包水位</th>\n      <th>推料器启停</th>\n      <th>推料器自动投退信号</th>\n      <th>氧量设定值</th>\n      <th>一次风调门</th>\n      <th>一次风量</th>\n      <th>引风机转速</th>\n      <th>主蒸汽流量</th>\n    </tr>\n  </thead>\n  <tbody>\n    <tr>\n      <th>0</th>\n      <td>56.5</td>\n      <td>-0.090088</td>\n      <td>12.359375</td>\n      <td>54.1250</td>\n      <td>42.28125</td>\n      <td>19.203125</td>\n      <td>5124.0</td>\n      <td>73.4375</td>\n      <td>46.46875</td>\n      <td>0</td>\n      <td>-6.828125</td>\n      <td>0</td>\n      <td>0</td>\n      <td>6.0</td>\n      <td>65.0625</td>\n      <td>68703.117188</td>\n      <td>68.3750</td>\n      <td>61.18750</td>\n    </tr>\n    <tr>\n      <th>1</th>\n      <td>56.5</td>\n      <td>-0.229004</td>\n      <td>12.390625</td>\n      <td>54.0625</td>\n      <td>42.31250</td>\n      <td>19.203125</td>\n      <td>5124.0</td>\n      <td>73.5000</td>\n      <td>46.46875</td>\n      <td>0</td>\n      <td>-6.992188</td>\n      <td>0</td>\n      <td>0</td>\n      <td>6.0</td>\n      <td>65.0625</td>\n      <td>68752.023438</td>\n      <td>68.3750</td>\n      <td>61.15625</td>\n    </tr>\n    <tr>\n      <th>2</th>\n      <td>56.5</td>\n      <td>-0.138672</td>\n      <td>12.390625</td>\n      <td>53.8750</td>\n      <td>42.25000</td>\n      <td>19.234375</td>\n      <td>5124.0</td>\n      <td>73.7500</td>\n      <td>46.46875</td>\n      <td>0</td>\n      <td>-7.285156</td>\n      <td>0</td>\n      <td>0</td>\n      <td>6.0</td>\n      <td>65.0625</td>\n      <td>68743.875000</td>\n      <td>68.4375</td>\n      <td>61.00000</td>\n    </tr>\n    <tr>\n      <th>3</th>\n      <td>56.5</td>\n      <td>-0.201172</td>\n      <td>12.367188</td>\n      <td>53.8750</td>\n      <td>42.25000</td>\n      <td>19.265625</td>\n      <td>5408.0</td>\n      <td>73.8750</td>\n      <td>46.46875</td>\n      <td>0</td>\n      <td>-7.492188</td>\n      <td>0</td>\n      <td>0</td>\n      <td>6.0</td>\n      <td>65.0625</td>\n      <td>68776.460938</td>\n      <td>68.3750</td>\n      <td>61.09375</td>\n    </tr>\n    <tr>\n      <th>4</th>\n      <td>56.5</td>\n      <td>-0.138672</td>\n      <td>12.335938</td>\n      <td>53.9375</td>\n      <td>42.21875</td>\n      <td>19.234375</td>\n      <td>5408.0</td>\n      <td>74.0625</td>\n      <td>46.46875</td>\n      <td>0</td>\n      <td>-7.519531</td>\n      <td>0</td>\n      <td>0</td>\n      <td>6.0</td>\n      <td>65.0625</td>\n      <td>68743.875000</td>\n      <td>68.3750</td>\n      <td>61.03125</td>\n    </tr>\n  </tbody>\n</table>\n</div>"
     },
     "execution_count": 50,
     "metadata": {},
     "output_type": "execute_result"
    }
   ],
   "source": [
    "# 改变时间窗口后，这里要改动\n",
    "df_days_past = df_valid[-SEQ_LEN:]\n",
    "df_days_past.reset_index(drop=True,inplace=True)\n",
    "df_days_past.info()\n",
    "df_days_past.head(5)"
   ],
   "metadata": {
    "collapsed": false,
    "pycharm": {
     "name": "#%%\n"
    }
   }
  },
  {
   "cell_type": "code",
   "execution_count": 51,
   "outputs": [
    {
     "name": "stdout",
     "output_type": "stream",
     "text": [
      "<class 'pandas.core.frame.DataFrame'>\n",
      "Int64Index: 1800 entries, 0 to 1799\n",
      "Data columns (total 18 columns):\n",
      " #   Column     Non-Null Count  Dtype  \n",
      "---  ------     --------------  -----  \n",
      " 0   推料器自动指令    1800 non-null   float16\n",
      " 1   CO含量       1800 non-null   float16\n",
      " 2   HCL含量      1800 non-null   float16\n",
      " 3   NOx含量      1800 non-null   float16\n",
      " 4   SO2含量      1800 non-null   float16\n",
      " 5   二次风调门      1800 non-null   float16\n",
      " 6   二次风量       1800 non-null   float16\n",
      " 7   给水流量       1800 non-null   float16\n",
      " 8   炉排实际运行指令   1800 non-null   float16\n",
      " 9   炉排自动投退信号   1800 non-null   int8   \n",
      " 10  汽包水位       1800 non-null   float16\n",
      " 11  推料器启停      1800 non-null   int8   \n",
      " 12  推料器自动投退信号  1800 non-null   int8   \n",
      " 13  氧量设定值      1800 non-null   float16\n",
      " 14  一次风调门      1800 non-null   float16\n",
      " 15  一次风量       1800 non-null   float32\n",
      " 16  引风机转速      1800 non-null   float16\n",
      " 17  主蒸汽流量      1800 non-null   float16\n",
      "dtypes: float16(14), float32(1), int8(3)\n",
      "memory usage: 75.6 KB\n"
     ]
    },
    {
     "data": {
      "text/plain": "   推料器自动指令       CO含量     HCL含量     NOx含量     SO2含量      二次风调门    二次风量  \\\n0        0  11.078125  8.820312  50.34375  5.296875  19.234375  4900.0   \n1        0  11.031250  8.851562  50.34375  5.277344  19.234375  4664.0   \n2        0  11.039062  8.867188  50.46875  5.214844  19.203125  4664.0   \n3        0  11.085938  8.796875  50.59375  5.257812  19.218750  4332.0   \n4        0  11.265625  9.062500  50.59375  5.109375  19.203125  4332.0   \n\n      给水流量  炉排实际运行指令  炉排自动投退信号      汽包水位  推料器启停  推料器自动投退信号  氧量设定值    一次风调门  \\\n0  79.6250  46.46875         0  2.798828      1          0    6.0  65.0625   \n1  79.6875  46.46875         0  2.857422      1          0    6.0  65.0625   \n2  79.7500  46.46875         0  2.867188      1          0    6.0  65.0625   \n3  79.6875  46.46875         0  2.867188      1          0    6.0  65.0625   \n4  79.6875  46.46875         0  3.015625      1          0    6.0  65.0625   \n\n           一次风量    引风机转速     主蒸汽流量  \n0  68996.023438  66.5625  58.03125  \n1  68996.023438  66.5625  58.31250  \n2  69109.601562  66.6250  58.28125  \n3  69271.531250  66.6875  58.21875  \n4  69198.703125  66.8125  58.12500  ",
      "text/html": "<div>\n<style scoped>\n    .dataframe tbody tr th:only-of-type {\n        vertical-align: middle;\n    }\n\n    .dataframe tbody tr th {\n        vertical-align: top;\n    }\n\n    .dataframe thead th {\n        text-align: right;\n    }\n</style>\n<table border=\"1\" class=\"dataframe\">\n  <thead>\n    <tr style=\"text-align: right;\">\n      <th></th>\n      <th>推料器自动指令</th>\n      <th>CO含量</th>\n      <th>HCL含量</th>\n      <th>NOx含量</th>\n      <th>SO2含量</th>\n      <th>二次风调门</th>\n      <th>二次风量</th>\n      <th>给水流量</th>\n      <th>炉排实际运行指令</th>\n      <th>炉排自动投退信号</th>\n      <th>汽包水位</th>\n      <th>推料器启停</th>\n      <th>推料器自动投退信号</th>\n      <th>氧量设定值</th>\n      <th>一次风调门</th>\n      <th>一次风量</th>\n      <th>引风机转速</th>\n      <th>主蒸汽流量</th>\n    </tr>\n  </thead>\n  <tbody>\n    <tr>\n      <th>0</th>\n      <td>0</td>\n      <td>11.078125</td>\n      <td>8.820312</td>\n      <td>50.34375</td>\n      <td>5.296875</td>\n      <td>19.234375</td>\n      <td>4900.0</td>\n      <td>79.6250</td>\n      <td>46.46875</td>\n      <td>0</td>\n      <td>2.798828</td>\n      <td>1</td>\n      <td>0</td>\n      <td>6.0</td>\n      <td>65.0625</td>\n      <td>68996.023438</td>\n      <td>66.5625</td>\n      <td>58.03125</td>\n    </tr>\n    <tr>\n      <th>1</th>\n      <td>0</td>\n      <td>11.031250</td>\n      <td>8.851562</td>\n      <td>50.34375</td>\n      <td>5.277344</td>\n      <td>19.234375</td>\n      <td>4664.0</td>\n      <td>79.6875</td>\n      <td>46.46875</td>\n      <td>0</td>\n      <td>2.857422</td>\n      <td>1</td>\n      <td>0</td>\n      <td>6.0</td>\n      <td>65.0625</td>\n      <td>68996.023438</td>\n      <td>66.5625</td>\n      <td>58.31250</td>\n    </tr>\n    <tr>\n      <th>2</th>\n      <td>0</td>\n      <td>11.039062</td>\n      <td>8.867188</td>\n      <td>50.46875</td>\n      <td>5.214844</td>\n      <td>19.203125</td>\n      <td>4664.0</td>\n      <td>79.7500</td>\n      <td>46.46875</td>\n      <td>0</td>\n      <td>2.867188</td>\n      <td>1</td>\n      <td>0</td>\n      <td>6.0</td>\n      <td>65.0625</td>\n      <td>69109.601562</td>\n      <td>66.6250</td>\n      <td>58.28125</td>\n    </tr>\n    <tr>\n      <th>3</th>\n      <td>0</td>\n      <td>11.085938</td>\n      <td>8.796875</td>\n      <td>50.59375</td>\n      <td>5.257812</td>\n      <td>19.218750</td>\n      <td>4332.0</td>\n      <td>79.6875</td>\n      <td>46.46875</td>\n      <td>0</td>\n      <td>2.867188</td>\n      <td>1</td>\n      <td>0</td>\n      <td>6.0</td>\n      <td>65.0625</td>\n      <td>69271.531250</td>\n      <td>66.6875</td>\n      <td>58.21875</td>\n    </tr>\n    <tr>\n      <th>4</th>\n      <td>0</td>\n      <td>11.265625</td>\n      <td>9.062500</td>\n      <td>50.59375</td>\n      <td>5.109375</td>\n      <td>19.203125</td>\n      <td>4332.0</td>\n      <td>79.6875</td>\n      <td>46.46875</td>\n      <td>0</td>\n      <td>3.015625</td>\n      <td>1</td>\n      <td>0</td>\n      <td>6.0</td>\n      <td>65.0625</td>\n      <td>69198.703125</td>\n      <td>66.8125</td>\n      <td>58.12500</td>\n    </tr>\n  </tbody>\n</table>\n</div>"
     },
     "execution_count": 51,
     "metadata": {},
     "output_type": "execute_result"
    }
   ],
   "source": [
    "df_days_future = df_test\n",
    "df_days_future.info()\n",
    "df_days_future['推料器自动指令'] = 0\n",
    "\n",
    "df_days_future.head(5)"
   ],
   "metadata": {
    "collapsed": false,
    "pycharm": {
     "name": "#%%\n"
    }
   }
  },
  {
   "cell_type": "code",
   "execution_count": 51,
   "outputs": [],
   "source": [],
   "metadata": {
    "collapsed": false,
    "pycharm": {
     "name": "#%%\n"
    }
   }
  },
  {
   "cell_type": "code",
   "execution_count": 51,
   "outputs": [],
   "source": [],
   "metadata": {
    "collapsed": false,
    "pycharm": {
     "name": "#%%\n"
    }
   }
  },
  {
   "cell_type": "code",
   "execution_count": 52,
   "outputs": [],
   "source": [
    "# print('df_train.shape: ', df_train.shape)\n",
    "# print('df_valid.shape: ', df_valid.shape)\n",
    "# print('df_test.shape: ', df_test.shape)"
   ],
   "metadata": {
    "collapsed": false,
    "pycharm": {
     "name": "#%%\n"
    }
   }
  },
  {
   "cell_type": "code",
   "execution_count": 53,
   "outputs": [
    {
     "name": "stdout",
     "output_type": "stream",
     "text": [
      "new_scaled_array.shape:  (1800, 18)\n",
      "<class 'pandas.core.frame.DataFrame'>\n",
      "RangeIndex: 2100 entries, 0 to 2099\n",
      "Data columns (total 18 columns):\n",
      " #   Column     Non-Null Count  Dtype  \n",
      "---  ------     --------------  -----  \n",
      " 0   推料器自动指令    300 non-null    float16\n",
      " 1   CO含量       2100 non-null   float16\n",
      " 2   HCL含量      2100 non-null   float16\n",
      " 3   NOx含量      2100 non-null   float16\n",
      " 4   SO2含量      2100 non-null   float16\n",
      " 5   二次风调门      2100 non-null   float16\n",
      " 6   二次风量       2100 non-null   float16\n",
      " 7   给水流量       2100 non-null   float16\n",
      " 8   炉排实际运行指令   2100 non-null   float16\n",
      " 9   炉排自动投退信号   2100 non-null   int8   \n",
      " 10  汽包水位       2100 non-null   float16\n",
      " 11  推料器启停      2100 non-null   int8   \n",
      " 12  推料器自动投退信号  2100 non-null   int8   \n",
      " 13  氧量设定值      2100 non-null   float16\n",
      " 14  一次风调门      2100 non-null   float16\n",
      " 15  一次风量       2100 non-null   float32\n",
      " 16  引风机转速      2100 non-null   float16\n",
      " 17  主蒸汽流量      2100 non-null   float16\n",
      "dtypes: float16(14), float32(1), int8(3)\n",
      "memory usage: 71.9 KB\n"
     ]
    }
   ],
   "source": [
    "old_scaled_array=scaler.transform(df_days_past)\n",
    "new_scaled_array=scaler.transform(df_days_future)\n",
    "new_scaled_df=pd.DataFrame(new_scaled_array)\n",
    "print('new_scaled_array.shape: ', new_scaled_array.shape)\n",
    "new_scaled_df.iloc[:,0]=np.nan\n",
    "full_df=pd.concat([pd.DataFrame(old_scaled_array),new_scaled_df]).reset_index().drop([\"index\"],axis=1)\n",
    "full_df.info()"
   ],
   "metadata": {
    "collapsed": false,
    "pycharm": {
     "name": "#%%\n"
    }
   }
  },
  {
   "cell_type": "code",
   "execution_count": 54,
   "outputs": [
    {
     "data": {
      "text/plain": "      推料器自动指令      CO含量      HCL含量     NOx含量      SO2含量      二次风调门    二次风量  \\\n0        56.5 -0.090088  12.359375  54.12500  42.281250  19.203125  5124.0   \n1        56.5 -0.229004  12.390625  54.06250  42.312500  19.203125  5124.0   \n2        56.5 -0.138672  12.390625  53.87500  42.250000  19.234375  5124.0   \n3        56.5 -0.201172  12.367188  53.87500  42.250000  19.265625  5408.0   \n4        56.5 -0.138672  12.335938  53.93750  42.218750  19.234375  5408.0   \n...       ...       ...        ...       ...        ...        ...     ...   \n2095      NaN  0.562500   4.828125  63.90625   4.027344  19.656250  4900.0   \n2096      NaN  0.520996   4.843750  63.78125   4.000000  19.656250  5124.0   \n2097      NaN  0.569336   4.855469  63.93750   3.986328  19.640625  4900.0   \n2098      NaN  0.458252   4.871094  63.87500   3.945312  19.640625  4900.0   \n2099      NaN  1.944336   5.167969  64.50000   3.679688  19.625000  5124.0   \n\n         给水流量  炉排实际运行指令  炉排自动投退信号       汽包水位  推料器启停  推料器自动投退信号  氧量设定值  \\\n0     73.4375  46.46875         0  -6.828125      0          0    6.0   \n1     73.5000  46.46875         0  -6.992188      0          0    6.0   \n2     73.7500  46.46875         0  -7.285156      0          0    6.0   \n3     73.8750  46.46875         0  -7.492188      0          0    6.0   \n4     74.0625  46.46875         0  -7.519531      0          0    6.0   \n...       ...       ...       ...        ...    ...        ...    ...   \n2095  67.5000  43.34375         1  15.867188      1          1    5.0   \n2096  67.4375  43.37500         1  15.796875      1          1    5.0   \n2097  67.5625  43.37500         1  15.765625      1          1    5.0   \n2098  67.6875  43.40625         1  15.742188      1          1    5.0   \n2099  67.7500  43.40625         1  15.562500      1          1    5.0   \n\n        一次风调门          一次风量    引风机转速     主蒸汽流量  \n0     65.0625  68703.117188  68.3750  61.18750  \n1     65.0625  68752.023438  68.3750  61.15625  \n2     65.0625  68743.875000  68.4375  61.00000  \n3     65.0625  68776.460938  68.3750  61.09375  \n4     65.0625  68743.875000  68.3750  61.03125  \n...       ...           ...      ...       ...  \n2095  68.4375  71170.164062  71.7500  54.96875  \n2096  68.5625  71460.804688  71.7500  54.93750  \n2097  68.6875  71460.804688  71.7500  54.87500  \n2098  68.7500  71405.906250  71.7500  54.90625  \n2099  68.7500  70894.148438  71.7500  55.00000  \n\n[2100 rows x 18 columns]",
      "text/html": "<div>\n<style scoped>\n    .dataframe tbody tr th:only-of-type {\n        vertical-align: middle;\n    }\n\n    .dataframe tbody tr th {\n        vertical-align: top;\n    }\n\n    .dataframe thead th {\n        text-align: right;\n    }\n</style>\n<table border=\"1\" class=\"dataframe\">\n  <thead>\n    <tr style=\"text-align: right;\">\n      <th></th>\n      <th>推料器自动指令</th>\n      <th>CO含量</th>\n      <th>HCL含量</th>\n      <th>NOx含量</th>\n      <th>SO2含量</th>\n      <th>二次风调门</th>\n      <th>二次风量</th>\n      <th>给水流量</th>\n      <th>炉排实际运行指令</th>\n      <th>炉排自动投退信号</th>\n      <th>汽包水位</th>\n      <th>推料器启停</th>\n      <th>推料器自动投退信号</th>\n      <th>氧量设定值</th>\n      <th>一次风调门</th>\n      <th>一次风量</th>\n      <th>引风机转速</th>\n      <th>主蒸汽流量</th>\n    </tr>\n  </thead>\n  <tbody>\n    <tr>\n      <th>0</th>\n      <td>56.5</td>\n      <td>-0.090088</td>\n      <td>12.359375</td>\n      <td>54.12500</td>\n      <td>42.281250</td>\n      <td>19.203125</td>\n      <td>5124.0</td>\n      <td>73.4375</td>\n      <td>46.46875</td>\n      <td>0</td>\n      <td>-6.828125</td>\n      <td>0</td>\n      <td>0</td>\n      <td>6.0</td>\n      <td>65.0625</td>\n      <td>68703.117188</td>\n      <td>68.3750</td>\n      <td>61.18750</td>\n    </tr>\n    <tr>\n      <th>1</th>\n      <td>56.5</td>\n      <td>-0.229004</td>\n      <td>12.390625</td>\n      <td>54.06250</td>\n      <td>42.312500</td>\n      <td>19.203125</td>\n      <td>5124.0</td>\n      <td>73.5000</td>\n      <td>46.46875</td>\n      <td>0</td>\n      <td>-6.992188</td>\n      <td>0</td>\n      <td>0</td>\n      <td>6.0</td>\n      <td>65.0625</td>\n      <td>68752.023438</td>\n      <td>68.3750</td>\n      <td>61.15625</td>\n    </tr>\n    <tr>\n      <th>2</th>\n      <td>56.5</td>\n      <td>-0.138672</td>\n      <td>12.390625</td>\n      <td>53.87500</td>\n      <td>42.250000</td>\n      <td>19.234375</td>\n      <td>5124.0</td>\n      <td>73.7500</td>\n      <td>46.46875</td>\n      <td>0</td>\n      <td>-7.285156</td>\n      <td>0</td>\n      <td>0</td>\n      <td>6.0</td>\n      <td>65.0625</td>\n      <td>68743.875000</td>\n      <td>68.4375</td>\n      <td>61.00000</td>\n    </tr>\n    <tr>\n      <th>3</th>\n      <td>56.5</td>\n      <td>-0.201172</td>\n      <td>12.367188</td>\n      <td>53.87500</td>\n      <td>42.250000</td>\n      <td>19.265625</td>\n      <td>5408.0</td>\n      <td>73.8750</td>\n      <td>46.46875</td>\n      <td>0</td>\n      <td>-7.492188</td>\n      <td>0</td>\n      <td>0</td>\n      <td>6.0</td>\n      <td>65.0625</td>\n      <td>68776.460938</td>\n      <td>68.3750</td>\n      <td>61.09375</td>\n    </tr>\n    <tr>\n      <th>4</th>\n      <td>56.5</td>\n      <td>-0.138672</td>\n      <td>12.335938</td>\n      <td>53.93750</td>\n      <td>42.218750</td>\n      <td>19.234375</td>\n      <td>5408.0</td>\n      <td>74.0625</td>\n      <td>46.46875</td>\n      <td>0</td>\n      <td>-7.519531</td>\n      <td>0</td>\n      <td>0</td>\n      <td>6.0</td>\n      <td>65.0625</td>\n      <td>68743.875000</td>\n      <td>68.3750</td>\n      <td>61.03125</td>\n    </tr>\n    <tr>\n      <th>...</th>\n      <td>...</td>\n      <td>...</td>\n      <td>...</td>\n      <td>...</td>\n      <td>...</td>\n      <td>...</td>\n      <td>...</td>\n      <td>...</td>\n      <td>...</td>\n      <td>...</td>\n      <td>...</td>\n      <td>...</td>\n      <td>...</td>\n      <td>...</td>\n      <td>...</td>\n      <td>...</td>\n      <td>...</td>\n      <td>...</td>\n    </tr>\n    <tr>\n      <th>2095</th>\n      <td>NaN</td>\n      <td>0.562500</td>\n      <td>4.828125</td>\n      <td>63.90625</td>\n      <td>4.027344</td>\n      <td>19.656250</td>\n      <td>4900.0</td>\n      <td>67.5000</td>\n      <td>43.34375</td>\n      <td>1</td>\n      <td>15.867188</td>\n      <td>1</td>\n      <td>1</td>\n      <td>5.0</td>\n      <td>68.4375</td>\n      <td>71170.164062</td>\n      <td>71.7500</td>\n      <td>54.96875</td>\n    </tr>\n    <tr>\n      <th>2096</th>\n      <td>NaN</td>\n      <td>0.520996</td>\n      <td>4.843750</td>\n      <td>63.78125</td>\n      <td>4.000000</td>\n      <td>19.656250</td>\n      <td>5124.0</td>\n      <td>67.4375</td>\n      <td>43.37500</td>\n      <td>1</td>\n      <td>15.796875</td>\n      <td>1</td>\n      <td>1</td>\n      <td>5.0</td>\n      <td>68.5625</td>\n      <td>71460.804688</td>\n      <td>71.7500</td>\n      <td>54.93750</td>\n    </tr>\n    <tr>\n      <th>2097</th>\n      <td>NaN</td>\n      <td>0.569336</td>\n      <td>4.855469</td>\n      <td>63.93750</td>\n      <td>3.986328</td>\n      <td>19.640625</td>\n      <td>4900.0</td>\n      <td>67.5625</td>\n      <td>43.37500</td>\n      <td>1</td>\n      <td>15.765625</td>\n      <td>1</td>\n      <td>1</td>\n      <td>5.0</td>\n      <td>68.6875</td>\n      <td>71460.804688</td>\n      <td>71.7500</td>\n      <td>54.87500</td>\n    </tr>\n    <tr>\n      <th>2098</th>\n      <td>NaN</td>\n      <td>0.458252</td>\n      <td>4.871094</td>\n      <td>63.87500</td>\n      <td>3.945312</td>\n      <td>19.640625</td>\n      <td>4900.0</td>\n      <td>67.6875</td>\n      <td>43.40625</td>\n      <td>1</td>\n      <td>15.742188</td>\n      <td>1</td>\n      <td>1</td>\n      <td>5.0</td>\n      <td>68.7500</td>\n      <td>71405.906250</td>\n      <td>71.7500</td>\n      <td>54.90625</td>\n    </tr>\n    <tr>\n      <th>2099</th>\n      <td>NaN</td>\n      <td>1.944336</td>\n      <td>5.167969</td>\n      <td>64.50000</td>\n      <td>3.679688</td>\n      <td>19.625000</td>\n      <td>5124.0</td>\n      <td>67.7500</td>\n      <td>43.40625</td>\n      <td>1</td>\n      <td>15.562500</td>\n      <td>1</td>\n      <td>1</td>\n      <td>5.0</td>\n      <td>68.7500</td>\n      <td>70894.148438</td>\n      <td>71.7500</td>\n      <td>55.00000</td>\n    </tr>\n  </tbody>\n</table>\n<p>2100 rows × 18 columns</p>\n</div>"
     },
     "execution_count": 54,
     "metadata": {},
     "output_type": "execute_result"
    }
   ],
   "source": [
    "full_df"
   ],
   "metadata": {
    "collapsed": false,
    "pycharm": {
     "name": "#%%\n"
    }
   }
  },
  {
   "cell_type": "code",
   "execution_count": 55,
   "outputs": [
    {
     "name": "stdout",
     "output_type": "stream",
     "text": [
      "use device:  cuda:0\n"
     ]
    },
    {
     "data": {
      "text/plain": "Time_Model(\n  (lstm): LSTM(18, 256, batch_first=True, bidirectional=True)\n  (fc): Linear(in_features=512, out_features=1, bias=True)\n)"
     },
     "execution_count": 55,
     "metadata": {},
     "output_type": "execute_result"
    }
   ],
   "source": [
    "device = torch.device(\"cuda:0\" if torch.cuda.is_available() else \"cpu\")\n",
    "print('use device: ', device)\n",
    "model = Time_Model()\n",
    "\n",
    "\n",
    "path = './save model/best_model.pt'\n",
    "model.load_state_dict(torch.load(path))\n",
    "model = model.to(device)\n",
    "\n",
    "\n",
    "model.eval()"
   ],
   "metadata": {
    "collapsed": false,
    "pycharm": {
     "name": "#%%\n"
    }
   }
  },
  {
   "cell_type": "code",
   "execution_count": 56,
   "outputs": [],
   "source": [
    "full_df_scaled_array=full_df.values\n",
    "all_data=[]\n",
    "time_step=SEQ_LEN\n",
    "for i in range(time_step,len(full_df_scaled_array)):\n",
    "    data_x=[]\n",
    "    data_x.append(\n",
    "    full_df_scaled_array[i-time_step :i , 0:full_df_scaled_array.shape[1]])\n",
    "    data_x=np.array(data_x)\n",
    "\n",
    "    data_x = torch.FloatTensor(data_x).to(device)\n",
    "    with torch.no_grad():\n",
    "        # print('-'*10)\n",
    "        # print(data_x[0][0])\n",
    "        prediction=model(data_x)\n",
    "        # print(prediction)\n",
    "        # print('-'*10)\n",
    "    # print(prediction.shape)\n",
    "    # break\n",
    "    prediction = prediction.squeeze(-1)\n",
    "    prediction = prediction.cpu().detach().numpy()\n",
    "\n",
    "    all_data.append(prediction)\n",
    "    full_df_scaled_array[i, 0] = prediction\n",
    "    # full_df.iloc[i,0]=prediction"
   ],
   "metadata": {
    "collapsed": false,
    "pycharm": {
     "name": "#%%\n"
    }
   }
  },
  {
   "cell_type": "code",
   "execution_count": 57,
   "outputs": [
    {
     "data": {
      "text/plain": "array([58.841137, 59.0605  , 58.654602, 59.029358, 58.868793, 58.788483,\n       58.430443, 59.554134, 58.767166, 58.562542], dtype=float32)"
     },
     "execution_count": 57,
     "metadata": {},
     "output_type": "execute_result"
    }
   ],
   "source": [
    "full_df_scaled_array[:, 0][-10:]"
   ],
   "metadata": {
    "collapsed": false,
    "pycharm": {
     "name": "#%%\n"
    }
   }
  },
  {
   "cell_type": "code",
   "execution_count": 58,
   "outputs": [],
   "source": [
    "# full_df_scaled_array[:, 0][-10:]"
   ],
   "metadata": {
    "collapsed": false,
    "pycharm": {
     "name": "#%%\n"
    }
   }
  },
  {
   "cell_type": "code",
   "execution_count": 59,
   "outputs": [],
   "source": [
    "# all_data"
   ],
   "metadata": {
    "collapsed": false,
    "pycharm": {
     "name": "#%%\n"
    }
   }
  },
  {
   "cell_type": "code",
   "execution_count": 60,
   "outputs": [
    {
     "name": "stdout",
     "output_type": "stream",
     "text": [
      "<class 'pandas.core.frame.DataFrame'>\n",
      "RangeIndex: 2100 entries, 0 to 2099\n",
      "Data columns (total 18 columns):\n",
      " #   Column     Non-Null Count  Dtype  \n",
      "---  ------     --------------  -----  \n",
      " 0   推料器自动指令    300 non-null    float16\n",
      " 1   CO含量       2100 non-null   float16\n",
      " 2   HCL含量      2100 non-null   float16\n",
      " 3   NOx含量      2100 non-null   float16\n",
      " 4   SO2含量      2100 non-null   float16\n",
      " 5   二次风调门      2100 non-null   float16\n",
      " 6   二次风量       2100 non-null   float16\n",
      " 7   给水流量       2100 non-null   float16\n",
      " 8   炉排实际运行指令   2100 non-null   float16\n",
      " 9   炉排自动投退信号   2100 non-null   int8   \n",
      " 10  汽包水位       2100 non-null   float16\n",
      " 11  推料器启停      2100 non-null   int8   \n",
      " 12  推料器自动投退信号  2100 non-null   int8   \n",
      " 13  氧量设定值      2100 non-null   float16\n",
      " 14  一次风调门      2100 non-null   float16\n",
      " 15  一次风量       2100 non-null   float32\n",
      " 16  引风机转速      2100 non-null   float16\n",
      " 17  主蒸汽流量      2100 non-null   float16\n",
      "dtypes: float16(14), float32(1), int8(3)\n",
      "memory usage: 71.9 KB\n"
     ]
    }
   ],
   "source": [
    "full_df.info()"
   ],
   "metadata": {
    "collapsed": false,
    "pycharm": {
     "name": "#%%\n"
    }
   }
  },
  {
   "cell_type": "code",
   "execution_count": 61,
   "outputs": [
    {
     "name": "stdout",
     "output_type": "stream",
     "text": [
      "[58.44201  58.608704 58.556267 ... 59.554134 58.767166 58.562542]\n"
     ]
    }
   ],
   "source": [
    "new_array=np.array(all_data)\n",
    "new_array=new_array.reshape(-1,1)\n",
    "prediction_copies_array = np.repeat(new_array,18, axis=-1)\n",
    "y_pred_future_days = scaler.inverse_transform(np.reshape(prediction_copies_array,(len(new_array),18)))[:,0]\n",
    "print(y_pred_future_days)"
   ],
   "metadata": {
    "collapsed": false,
    "pycharm": {
     "name": "#%%\n"
    }
   }
  },
  {
   "cell_type": "code",
   "execution_count": 62,
   "outputs": [
    {
     "data": {
      "text/plain": "1800"
     },
     "execution_count": 62,
     "metadata": {},
     "output_type": "execute_result"
    }
   ],
   "source": [
    "\n",
    "len(all_data)"
   ],
   "metadata": {
    "collapsed": false,
    "pycharm": {
     "name": "#%%\n"
    }
   }
  },
  {
   "cell_type": "code",
   "execution_count": 63,
   "outputs": [
    {
     "data": {
      "text/plain": "array([[58.44201 , 58.44201 , 58.44201 , ..., 58.44201 , 58.44201 ,\n        58.44201 ],\n       [58.608704, 58.608704, 58.608704, ..., 58.608704, 58.608704,\n        58.608704],\n       [58.556267, 58.556267, 58.556267, ..., 58.556267, 58.556267,\n        58.556267],\n       ...,\n       [59.554134, 59.554134, 59.554134, ..., 59.554134, 59.554134,\n        59.554134],\n       [58.767166, 58.767166, 58.767166, ..., 58.767166, 58.767166,\n        58.767166],\n       [58.562542, 58.562542, 58.562542, ..., 58.562542, 58.562542,\n        58.562542]], dtype=float32)"
     },
     "execution_count": 63,
     "metadata": {},
     "output_type": "execute_result"
    }
   ],
   "source": [
    "prediction_copies_array\n"
   ],
   "metadata": {
    "collapsed": false,
    "pycharm": {
     "name": "#%%\n"
    }
   }
  },
  {
   "cell_type": "code",
   "execution_count": 63,
   "outputs": [],
   "source": [],
   "metadata": {
    "collapsed": false,
    "pycharm": {
     "name": "#%%\n"
    }
   }
  },
  {
   "cell_type": "code",
   "execution_count": 64,
   "outputs": [],
   "source": [
    "test = pd.read_csv('./data/test.csv')"
   ],
   "metadata": {
    "collapsed": false,
    "pycharm": {
     "name": "#%%\n"
    }
   }
  },
  {
   "cell_type": "code",
   "execution_count": 65,
   "outputs": [],
   "source": [
    "\n",
    "# sub = pd.DataFrame({'ID': list(range(1,1801)),\n",
    "#                     'Time': test['时间'],\n",
    "#                     'Steam_flow': y_pred_future_days})\n",
    "# \n",
    "# \n",
    "# sub.to_csv('result.csv',index=False)\n",
    "sub = pd.DataFrame()\n",
    "sub['ID'] = list(range(1,1801))\n",
    "sub['Time'] = test['时间']\n",
    "sub['Aps'] = test['推料器启停'].astype(bool)\n",
    "sub['Ai'] = y_pred_future_days\n",
    "\n",
    "sub.to_csv('./result.csv', index=False)"
   ],
   "metadata": {
    "collapsed": false,
    "pycharm": {
     "name": "#%%\n"
    }
   }
  },
  {
   "cell_type": "code",
   "execution_count": null,
   "outputs": [],
   "source": [
    "\n",
    "sub = pd.read_csv('./demo2.csv')"
   ],
   "metadata": {
    "collapsed": false,
    "pycharm": {
     "name": "#%%\n"
    }
   }
  },
  {
   "cell_type": "code",
   "execution_count": null,
   "outputs": [],
   "source": [
    "import matplotlib.pyplot as plt\n",
    "train = pd.read_csv('data/train.csv')\n",
    "t1 = train['主蒸汽流量'].tolist()\n",
    "t2 = sub['Steam_flow'].tolist()\n",
    "plt.figure(dpi=200)\n",
    "plt.plot(list(range(len(t1))), t1)\n",
    "plt.plot(list(range(len(t1), len(t1)+len(t2))), t2)\n",
    "plt.savefig('./pred.jpg')"
   ],
   "metadata": {
    "collapsed": false,
    "pycharm": {
     "name": "#%%\n"
    }
   }
  },
  {
   "cell_type": "code",
   "execution_count": null,
   "outputs": [],
   "source": [],
   "metadata": {
    "collapsed": false,
    "pycharm": {
     "name": "#%%\n"
    }
   }
  },
  {
   "cell_type": "code",
   "execution_count": null,
   "outputs": [],
   "source": [],
   "metadata": {
    "collapsed": false,
    "pycharm": {
     "name": "#%%\n"
    }
   }
  },
  {
   "cell_type": "code",
   "execution_count": null,
   "outputs": [],
   "source": [],
   "metadata": {
    "collapsed": false,
    "pycharm": {
     "name": "#%%\n"
    }
   }
  },
  {
   "cell_type": "code",
   "execution_count": null,
   "outputs": [],
   "source": [],
   "metadata": {
    "collapsed": false,
    "pycharm": {
     "name": "#%%\n"
    }
   }
  },
  {
   "cell_type": "code",
   "execution_count": null,
   "outputs": [],
   "source": [
    "\n"
   ],
   "metadata": {
    "collapsed": false,
    "pycharm": {
     "name": "#%%\n"
    }
   }
  }
 ],
 "metadata": {
  "kernelspec": {
   "display_name": "Python 3",
   "language": "python",
   "name": "python3"
  },
  "language_info": {
   "codemirror_mode": {
    "name": "ipython",
    "version": 2
   },
   "file_extension": ".py",
   "mimetype": "text/x-python",
   "name": "python",
   "nbconvert_exporter": "python",
   "pygments_lexer": "ipython2",
   "version": "2.7.6"
  }
 },
 "nbformat": 4,
 "nbformat_minor": 0
}