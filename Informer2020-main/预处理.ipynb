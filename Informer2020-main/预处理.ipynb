{
 "cells": [
  {
   "cell_type": "code",
   "execution_count": 1,
   "metadata": {
    "collapsed": true
   },
   "outputs": [],
   "source": [
    "import pandas as pd"
   ]
  },
  {
   "cell_type": "code",
   "execution_count": 2,
   "outputs": [
    {
     "name": "stdout",
     "output_type": "stream",
     "text": [
      "<class 'pandas.core.frame.DataFrame'>\n",
      "RangeIndex: 257382 entries, 0 to 257381\n",
      "Data columns (total 23 columns):\n",
      " #   Column                             Non-Null Count   Dtype  \n",
      "---  ------                             --------------   -----  \n",
      " 0   date                               257382 non-null  object \n",
      " 1   Main_steam_flow_rate               257382 non-null  float64\n",
      " 2   CO_content                         257382 non-null  float64\n",
      " 3   HCL_content                        257382 non-null  float64\n",
      " 4   NOx_content                        257382 non-null  float64\n",
      " 5   SO2_content                        257382 non-null  float64\n",
      " 6   Primary_air_regulator              257382 non-null  float64\n",
      " 7   Primary_air_volume                 257382 non-null  float64\n",
      " 8   Main_steam_flow_rate_setting       257382 non-null  float64\n",
      " 9   Secondary_air_regulator            257382 non-null  float64\n",
      " 10  Secondary_air_volume               257382 non-null  float64\n",
      " 11  Inducer_fan_speed                  257382 non-null  float64\n",
      " 12  Pusher_start_stop                  257382 non-null  bool   \n",
      " 13  Pusher_manual_command              257382 non-null  float64\n",
      " 14  Pusher_automatic_throwback_signal  257382 non-null  bool   \n",
      " 15  Pusher_automatic_command           257382 non-null  float64\n",
      " 16  Oxygen_setpoint                    257382 non-null  float64\n",
      " 17  Ladle_water_level                  257382 non-null  float64\n",
      " 18  Grate_start_stop                   257382 non-null  bool   \n",
      " 19  Grate_actual_operation_command     257382 non-null  float64\n",
      " 20  Grate_manual_command               257382 non-null  float64\n",
      " 21  Grate_automatic_throw-out_signal   257382 non-null  bool   \n",
      " 22  Feedwater_flow                     257382 non-null  float64\n",
      "dtypes: bool(4), float64(18), object(1)\n",
      "memory usage: 38.3+ MB\n",
      "<class 'pandas.core.frame.DataFrame'>\n",
      "RangeIndex: 1800 entries, 0 to 1799\n",
      "Data columns (total 22 columns):\n",
      " #   Column                             Non-Null Count  Dtype  \n",
      "---  ------                             --------------  -----  \n",
      " 0   date                               1800 non-null   object \n",
      " 1   CO_content                         1800 non-null   float64\n",
      " 2   HCL_content                        1800 non-null   float64\n",
      " 3   NOx_content                        1800 non-null   float64\n",
      " 4   SO2_content                        1800 non-null   float64\n",
      " 5   Primary_air_regulator              1800 non-null   float64\n",
      " 6   Primary_air_volume                 1800 non-null   float64\n",
      " 7   Main_steam_flow_rate_setting       1800 non-null   float64\n",
      " 8   Secondary_air_regulator            1800 non-null   float64\n",
      " 9   Secondary_air_volume               1800 non-null   float64\n",
      " 10  Inducer_fan_speed                  1800 non-null   float64\n",
      " 11  Pusher_start_stop                  1800 non-null   bool   \n",
      " 12  Pusher_manual_command              1800 non-null   float64\n",
      " 13  Pusher_automatic_throwback_signal  1800 non-null   bool   \n",
      " 14  Pusher_automatic_command           1800 non-null   float64\n",
      " 15  Oxygen_setpoint                    1800 non-null   float64\n",
      " 16  Ladle_water_level                  1800 non-null   float64\n",
      " 17  Grate_start_stop                   1800 non-null   bool   \n",
      " 18  Grate_actual_operation_command     1800 non-null   float64\n",
      " 19  Grate_manual_command               1800 non-null   float64\n",
      " 20  Grate_automatic_throw-out_signal   1800 non-null   bool   \n",
      " 21  Feedwater_flow                     1800 non-null   float64\n",
      "dtypes: bool(4), float64(17), object(1)\n",
      "memory usage: 260.3+ KB\n"
     ]
    }
   ],
   "source": [
    "train = pd.read_csv('./data/SEED-2022/otrain.csv')\n",
    "test = pd.read_csv('./data/SEED-2022/otest.csv')\n",
    "train.info()\n",
    "test.info()"
   ],
   "metadata": {
    "collapsed": false,
    "pycharm": {
     "name": "#%%\n"
    }
   }
  },
  {
   "cell_type": "code",
   "execution_count": 3,
   "outputs": [],
   "source": [
    "train = train.dropna()\n",
    "# train.reset_index(drop=True,inplace=True)\n",
    "#\n",
    "# label = 'Main_steam_flow_rate'\n",
    "\n",
    "# =============================================================================\n",
    "# ['时间', '主蒸汽流量', 'CO含量', 'HCL含量', 'NOx含量', 'SO2含量', '一次风调门', '一次风量',\n",
    "#        '主蒸汽流量设定值', '二次风调门', '二次风量', '引风机转速', '推料器启停', '推料器手动指令',\n",
    "#        '推料器自动投退信号', '推料器自动指令', '氧量设定值', '汽包水位', '炉排启停', '炉排实际运行指令',\n",
    "#        '炉排手动指令', '炉排自动投退信号', '给水流量']\n",
    "# =============================================================================\n",
    "\n",
    "train.columns = ['date', 'Main_steam_flow_rate', 'CO_content', 'HCL_content', 'NOx_content', 'SO2_content', 'Primary_air_regulator', 'Primary_air_volume',\n",
    "       'Main_steam_flow_rate_setting', 'Secondary_air_regulator', 'Secondary_air_volume', 'Inducer_fan_speed', 'Pusher_start_stop', 'Pusher_manual_command',\n",
    "       'Pusher_automatic_throwback_signal', 'Pusher_automatic_command', 'Oxygen_setpoint', 'Ladle_water_level', 'Grate_start_stop', 'Grate_actual_operation_command',\n",
    "       'Grate_manual_command', 'Grate_automatic_throw-out_signal', 'Feedwater_flow']\n",
    "\n",
    "test.columns = ['date', 'CO_content', 'HCL_content', 'NOx_content', 'SO2_content', 'Primary_air_regulator', 'Primary_air_volume',\n",
    "       'Main_steam_flow_rate_setting', 'Secondary_air_regulator', 'Secondary_air_volume', 'Inducer_fan_speed', 'Pusher_start_stop', 'Pusher_manual_command',\n",
    "       'Pusher_automatic_throwback_signal', 'Pusher_automatic_command', 'Oxygen_setpoint', 'Ladle_water_level', 'Grate_start_stop', 'Grate_actual_operation_command',\n",
    "       'Grate_manual_command', 'Grate_automatic_throw-out_signal', 'Feedwater_flow']\n",
    "\n",
    "\n",
    "def convert_type(data):\n",
    "    data['Grate_start_stop'] = data['Grate_start_stop'].map(int)\n",
    "    data['Pusher_start_stop'] = data['Pusher_start_stop'].map(int)\n",
    "    data['Pusher_automatic_throwback_signal'] = data['Pusher_automatic_throwback_signal'].map(int)\n",
    "    data['Grate_automatic_throw-out_signal'] = data['Grate_automatic_throw-out_signal'].map(int)\n",
    "    return data\n",
    "\n",
    "train = convert_type(train)\n",
    "test = convert_type(test)"
   ],
   "metadata": {
    "collapsed": false,
    "pycharm": {
     "name": "#%%\n"
    }
   }
  },
  {
   "cell_type": "code",
   "execution_count": 4,
   "outputs": [],
   "source": [
    "train.to_csv('./data/SEED-2022/train.csv', index=False)\n",
    "test.to_csv('./data/SEED-2022/test.csv', index=False)\n"
   ],
   "metadata": {
    "collapsed": false,
    "pycharm": {
     "name": "#%%\n"
    }
   }
  }
 ],
 "metadata": {
  "kernelspec": {
   "display_name": "Python 3",
   "language": "python",
   "name": "python3"
  },
  "language_info": {
   "codemirror_mode": {
    "name": "ipython",
    "version": 2
   },
   "file_extension": ".py",
   "mimetype": "text/x-python",
   "name": "python",
   "nbconvert_exporter": "python",
   "pygments_lexer": "ipython2",
   "version": "2.7.6"
  }
 },
 "nbformat": 4,
 "nbformat_minor": 0
}