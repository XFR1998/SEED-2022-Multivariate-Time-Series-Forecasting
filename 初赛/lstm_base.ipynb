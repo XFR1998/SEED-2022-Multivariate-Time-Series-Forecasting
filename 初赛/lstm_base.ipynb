{
 "cells": [
  {
   "cell_type": "code",
   "execution_count": null,
   "outputs": [],
   "source": [
    "import os\n",
    "os.environ[\"CUDA_VISIBLE_DEVICES\"] = \"0\"\n",
    "\n",
    "import pandas as pd\n",
    "import numpy as np\n",
    "from sklearn.preprocessing import MinMaxScaler\n",
    "import matplotlib.pyplot as plt\n",
    "import lightgbm as lgb\n",
    "import math\n",
    "from sklearn.metrics import mean_squared_error as mse\n",
    "from sklearn.linear_model import LinearRegression\n",
    "import warnings\n",
    "import pdb\n",
    "warnings.filterwarnings('ignore')\n",
    "import random\n",
    "import torch\n",
    "import torch.nn as nn\n",
    "import random\n",
    "from tqdm import tqdm\n",
    "from sklearn.metrics import confusion_matrix, classification_report\n",
    "from sklearn.model_selection import train_test_split\n",
    "# from torch.utils.data import TensorDataset,SequentialSampler,RandomSampler,DataLoader\n",
    "from torch.utils.data import Dataset, DataLoader\n",
    "from tqdm import tqdm"
   ],
   "metadata": {
    "collapsed": false,
    "pycharm": {
     "name": "#%%\n"
    }
   }
  },
  {
   "cell_type": "code",
   "execution_count": null,
   "outputs": [],
   "source": [
    "def set_seed(seed):\n",
    "    random.seed(seed)\n",
    "    np.random.seed(seed)\n",
    "    os.environ['PYTHONHASHSEED'] = str(seed)  # 禁止hash随机化\n",
    "    torch.manual_seed(seed)\n",
    "\n",
    "\n",
    "set_seed(42)\n",
    "train = pd.read_csv('data/train.csv')\n",
    "test = pd.read_csv('data/test.csv')\n",
    "\n",
    "print('训练集的大小为： ', len(train))\n",
    "print('测试集的大小为： ', len(test))\n",
    "\n",
    "\n",
    "# train = train.dropna()\n",
    "# train.reset_index(drop=True,inplace=True)\n",
    "\n",
    "label = 'Main_steam_flow_rate'\n",
    "\n",
    "# =============================================================================\n",
    "# ['时间', '主蒸汽流量', 'CO含量', 'HCL含量', 'NOx含量', 'SO2含量', '一次风调门', '一次风量',\n",
    "#        '主蒸汽流量设定值', '二次风调门', '二次风量', '引风机转速', '推料器启停', '推料器手动指令',\n",
    "#        '推料器自动投退信号', '推料器自动指令', '氧量设定值', '汽包水位', '炉排启停', '炉排实际运行指令',\n",
    "#        '炉排手动指令', '炉排自动投退信号', '给水流量']\n",
    "# =============================================================================\n"
   ],
   "metadata": {
    "collapsed": false,
    "pycharm": {
     "name": "#%%\n"
    }
   }
  },
  {
   "cell_type": "code",
   "execution_count": null,
   "outputs": [],
   "source": [
    "train.columns = ['Time', 'Main_steam_flow_rate', 'CO_content', 'HCL_content', 'NOx_content', 'SO2_content', 'Primary_air_regulator', 'Primary_air_volume',\n",
    "       'Main_steam_flow_rate_setting', 'Secondary_air_regulator', 'Secondary_air_volume', 'Inducer_fan_speed', 'Pusher_start_stop', 'Pusher_manual_command',\n",
    "       'Pusher_automatic_throwback_signal', 'Pusher_automatic_command', 'Oxygen_setpoint', 'Ladle_water_level', 'Grate_start_stop', 'Grate_actual_operation_command',\n",
    "       'Grate_manual_command', 'Grate_automatic_throw-out_signal', 'Feedwater_flow']\n",
    "\n",
    "test.columns = ['Time', 'CO_content', 'HCL_content', 'NOx_content', 'SO2_content', 'Primary_air_regulator', 'Primary_air_volume',\n",
    "       'Main_steam_flow_rate_setting', 'Secondary_air_regulator', 'Secondary_air_volume', 'Inducer_fan_speed', 'Pusher_start_stop', 'Pusher_manual_command',\n",
    "       'Pusher_automatic_throwback_signal', 'Pusher_automatic_command', 'Oxygen_setpoint', 'Ladle_water_level', 'Grate_start_stop', 'Grate_actual_operation_command',\n",
    "       'Grate_manual_command', 'Grate_automatic_throw-out_signal', 'Feedwater_flow']\n"
   ],
   "metadata": {
    "collapsed": false,
    "pycharm": {
     "name": "#%%\n"
    }
   }
  },
  {
   "cell_type": "code",
   "execution_count": null,
   "outputs": [],
   "source": [
    "len(train.columns), len(test.columns)"
   ],
   "metadata": {
    "collapsed": false,
    "pycharm": {
     "name": "#%%\n"
    }
   }
  },
  {
   "cell_type": "code",
   "execution_count": null,
   "outputs": [],
   "source": [
    "df = pd.concat([train, test])\n",
    "\n",
    "df.info()"
   ],
   "metadata": {
    "collapsed": false,
    "pycharm": {
     "name": "#%%\n"
    }
   }
  },
  {
   "cell_type": "code",
   "execution_count": null,
   "outputs": [],
   "source": [],
   "metadata": {
    "collapsed": false,
    "pycharm": {
     "name": "#%%\n"
    }
   }
  },
  {
   "cell_type": "code",
   "execution_count": null,
   "outputs": [],
   "source": [
    "print('df.shape: ', df.shape)\n",
    "\n",
    "df.drop(columns=['Time'], inplace=True)\n"
   ],
   "metadata": {
    "collapsed": false,
    "pycharm": {
     "name": "#%%\n"
    }
   }
  },
  {
   "cell_type": "code",
   "execution_count": null,
   "outputs": [],
   "source": [
    "df.head(5)"
   ],
   "metadata": {
    "collapsed": false,
    "pycharm": {
     "name": "#%%\n"
    }
   }
  },
  {
   "cell_type": "code",
   "execution_count": null,
   "outputs": [],
   "source": [
    "df['gas'] = df.CO_content + df.HCL_content + df.SO2_content + df.NOx_content\n",
    "\n",
    "# features_names = ['CO_content', 'HCL_content', 'NOx_content', 'SO2_content', 'Primary_air_regulator', 'Primary_air_volume',\n",
    "#        'Main_steam_flow_rate_setting', 'Secondary_air_regulator', 'Secondary_air_volume', 'Inducer_fan_speed', 'Pusher_manual_command',\n",
    "#        'Pusher_automatic_command', 'Oxygen_setpoint', 'Ladle_water_level', 'Grate_actual_operation_command',\n",
    "#        'Grate_manual_command', 'Feedwater_flow']\n",
    "features_names = ['Feedwater_flow', 'Oxygen_setpoint', 'Primary_air_volume', 'Main_steam_flow_rate_setting', 'Ladle_water_level']\n",
    "for f in tqdm(features_names):\n",
    "\n",
    "    # 滑动窗口特征\n",
    "    window_list = [300, 600, 900]\n",
    "    for win_size in window_list:\n",
    "        df[f+'_fore_steps_mean_'+str(win_size)] = df[f].rolling(window=win_size, center=False).mean()\n",
    "        df[f+'_fore_steps_max_'+str(win_size)] = df[f].rolling(window=win_size, center=False).max()\n",
    "        df[f+'_fore_steps_min_'+str(win_size)] = df[f].rolling(window=win_size, center=False).min()\n",
    "        df[f+'_fore_steps_std_'+str(win_size)] = df[f].rolling(window=win_size, center=False).std()\n",
    "        df[f+'_fore_steps_skew_'+str(win_size)] = df[f].rolling(window=win_size, center=False).skew()\n",
    "\n",
    "    # n阶差分特征\n",
    "    diff_list = list(range(1, 60))\n",
    "    for diff_size in diff_list:\n",
    "        df[f+'_diff_'+str(diff_size)] = df[f].diff(periods=diff_size)"
   ],
   "metadata": {
    "collapsed": false,
    "pycharm": {
     "name": "#%%\n"
    }
   }
  },
  {
   "cell_type": "code",
   "execution_count": null,
   "outputs": [],
   "source": [
    "for col in tqdm(df.columns):\n",
    "    df[col].fillna(df[col].mean(), inplace=True)"
   ],
   "metadata": {
    "collapsed": false,
    "pycharm": {
     "name": "#%%\n"
    }
   }
  },
  {
   "cell_type": "code",
   "execution_count": null,
   "outputs": [],
   "source": [
    "df['Grate_start_stop'] = df['Grate_start_stop'].map(int)\n",
    "df['Pusher_start_stop'] = df['Pusher_start_stop'].map(int)\n",
    "df['Pusher_automatic_throwback_signal'] = df['Pusher_automatic_throwback_signal'].map(int)\n",
    "df['Grate_automatic_throw-out_signal'] = df['Grate_automatic_throw-out_signal'].map(int)\n",
    "\n"
   ],
   "metadata": {
    "collapsed": false,
    "pycharm": {
     "name": "#%%\n"
    }
   }
  },
  {
   "cell_type": "code",
   "execution_count": null,
   "outputs": [],
   "source": [
    "\n",
    "# 3、内存压缩\n",
    "def reduce_mem_usage(df, verbose=True):\n",
    "    numerics = ['int16', 'int32', 'int64', 'float16', 'float32', 'float64']\n",
    "    start_mem = df.memory_usage().sum() / 1024 ** 2\n",
    "    for col in tqdm(df.columns):\n",
    "        col_type = df[col].dtypes\n",
    "        if col_type in numerics:\n",
    "            c_min = df[col].min()\n",
    "            c_max = df[col].max()\n",
    "            if str(col_type)[:3] == 'int':\n",
    "                if c_min > np.iinfo(np.int8).min and c_max < np.iinfo(np.int8).max:\n",
    "                    df[col] = df[col].astype(np.int8)\n",
    "                elif c_min > np.iinfo(np.int16).min and c_max < np.iinfo(np.int16).max:\n",
    "                    df[col] = df[col].astype(np.int16)\n",
    "                elif c_min > np.iinfo(np.int32).min and c_max < np.iinfo(np.int32).max:\n",
    "                    df[col] = df[col].astype(np.int32)\n",
    "                elif c_min > np.iinfo(np.int64).min and c_max < np.iinfo(np.int64).max:\n",
    "                    df[col] = df[col].astype(np.int64)\n",
    "            else:\n",
    "                if c_min > np.finfo(np.float16).min and c_max < np.finfo(np.float16).max:\n",
    "                    df[col] = df[col].astype(np.float16)\n",
    "                elif c_min > np.finfo(np.float32).min and c_max < np.finfo(np.float32).max:\n",
    "                    df[col] = df[col].astype(np.float32)\n",
    "                else:\n",
    "                    df[col] = df[col].astype(np.float64)\n",
    "    end_mem = df.memory_usage().sum() / 1024 ** 2\n",
    "    if verbose: print('Mem. usage decreased to {:5.2f} Mb ({:.1f}% reduction)'.format(end_mem, 100 * (\n",
    "                start_mem - end_mem) / start_mem))\n",
    "    return df\n",
    "\n",
    "\n",
    "# 压缩使用内存\n",
    "# 由于数据比较大，所以合理的压缩内存节省空间尤为的重要\n",
    "# 使用reduce_mem_usage函数可以压缩近70%的内存占有。\n",
    "df = reduce_mem_usage(df)"
   ],
   "metadata": {
    "collapsed": false,
    "pycharm": {
     "name": "#%%\n"
    }
   }
  },
  {
   "cell_type": "code",
   "execution_count": null,
   "outputs": [],
   "source": [
    "print('--------------------data describe: -----------------------------------')\n",
    "df.info()\n",
    "df_test = df.tail(1800)\n",
    "df_train = df.iloc[:-1800, :]\n",
    "df_train.reset_index(drop=True,inplace=True)\n",
    "\n",
    "df_valid = df_train.iloc[-1800:, :]\n",
    "df_train = df_train.iloc[:-1800, :]\n",
    "\n",
    "df_valid.reset_index(drop=True, inplace=True)"
   ],
   "metadata": {
    "collapsed": false,
    "pycharm": {
     "name": "#%%\n"
    }
   }
  },
  {
   "cell_type": "code",
   "execution_count": null,
   "outputs": [],
   "source": [
    "print('df_train.shape: ', df_train.shape)\n",
    "print('df_valid.shape: ', df_valid.shape)\n",
    "print('df_test.shape: ', df_test.shape)"
   ],
   "metadata": {
    "collapsed": false,
    "pycharm": {
     "name": "#%%\n"
    }
   }
  },
  {
   "cell_type": "code",
   "execution_count": null,
   "outputs": [],
   "source": [
    "df_scale = df.iloc[:-1800, :]"
   ],
   "metadata": {
    "collapsed": false,
    "pycharm": {
     "name": "#%%\n"
    }
   }
  },
  {
   "cell_type": "code",
   "execution_count": null,
   "outputs": [],
   "source": [
    "scaler = MinMaxScaler(feature_range=(0,1))\n",
    "scaler = scaler.fit(df)\n",
    "df_for_training_scaled = scaler.transform(df_train)\n",
    "df_for_validing_scaled = scaler.transform(df_valid)\n",
    "# df_for_testing_scaled=scaler.transform(df_test)"
   ],
   "metadata": {
    "collapsed": false,
    "pycharm": {
     "name": "#%%\n"
    }
   }
  },
  {
   "cell_type": "code",
   "execution_count": null,
   "outputs": [],
   "source": [
    "df_for_training_scaled"
   ],
   "metadata": {
    "collapsed": false,
    "pycharm": {
     "name": "#%%\n"
    }
   }
  },
  {
   "cell_type": "code",
   "execution_count": null,
   "outputs": [],
   "source": [
    "def createXY(dataset,n_past):\n",
    "  dataX = []\n",
    "  dataY = []\n",
    "  for i in range(n_past, len(dataset)):\n",
    "      dataX.append(dataset[i - n_past:i, 0:dataset.shape[1]])\n",
    "      dataY.append(dataset[i,0])\n",
    "  return np.array(dataX),np.array(dataY)\n",
    "\n",
    "\n",
    "SEQ_LEN = 30 # 即时间窗口\n",
    "\n",
    "\n",
    "trainX, trainY=createXY(df_for_training_scaled,SEQ_LEN)\n",
    "validX, validY=createXY(df_for_validing_scaled,SEQ_LEN)\n",
    "# testX, testY=createXY(df_for_testing_scaled,SEQ_LEN)"
   ],
   "metadata": {
    "collapsed": false,
    "pycharm": {
     "name": "#%%\n"
    }
   }
  },
  {
   "cell_type": "code",
   "execution_count": null,
   "outputs": [],
   "source": [
    "print('构建时间序列特征')\n",
    "print('trainX.shape, trainY.shape: ', trainX.shape, trainY.shape)\n",
    "print('validX.shape, validY.shape: ', validX.shape, validY.shape)\n",
    "# print('testX.shape, testY.shape: ', testX.shape, testY.shape)"
   ],
   "metadata": {
    "collapsed": false,
    "pycharm": {
     "name": "#%%\n"
    }
   }
  },
  {
   "cell_type": "code",
   "execution_count": null,
   "outputs": [],
   "source": [
    "class My_Dataset(Dataset):\n",
    "    def __init__(self, data, labels):\n",
    "        self.data = data\n",
    "        self.labels = labels\n",
    "\n",
    "    def __len__(self):\n",
    "        return len(self.data)\n",
    "\n",
    "    def __getitem__(self, idx):\n",
    "\n",
    "        sample = dict(input=torch.FloatTensor(self.data[idx]),\n",
    "                      label=torch.FloatTensor(np.array(self.labels[idx])))\n",
    "\n",
    "        return sample\n"
   ],
   "metadata": {
    "collapsed": false,
    "pycharm": {
     "name": "#%%\n"
    }
   }
  },
  {
   "cell_type": "code",
   "execution_count": null,
   "outputs": [],
   "source": [
    "def create_data_loader(data=None, labels=None, batch_size=32):\n",
    "    ds=My_Dataset(\n",
    "        data = data,\n",
    "        labels = labels)\n",
    "    return DataLoader(ds, batch_size=batch_size, shuffle=False)\n",
    "    # if test_mode:\n",
    "    #     return DataLoader(ds, batch_size=batch_size, shuffle=False)\n",
    "    # else:\n",
    "    #     return DataLoader(ds, batch_size=batch_size, shuffle=True)"
   ],
   "metadata": {
    "collapsed": false,
    "pycharm": {
     "name": "#%%\n"
    }
   }
  },
  {
   "cell_type": "code",
   "execution_count": null,
   "outputs": [],
   "source": [
    "train_data_loader = create_data_loader(data=trainX,\n",
    "                                       labels=trainY)\n",
    "\n",
    "val_data_loader = create_data_loader(data=validX,\n",
    "                                       labels=validY)"
   ],
   "metadata": {
    "collapsed": false,
    "pycharm": {
     "name": "#%%\n"
    }
   }
  },
  {
   "cell_type": "code",
   "execution_count": null,
   "outputs": [],
   "source": [
    "len(train_data_loader)"
   ],
   "metadata": {
    "collapsed": false,
    "pycharm": {
     "name": "#%%\n"
    }
   }
  },
  {
   "cell_type": "code",
   "execution_count": null,
   "outputs": [],
   "source": [
    "data = next(iter(train_data_loader))\n",
    "data.keys()\n",
    "print(data['input'].shape)\n",
    "print(data['label'].shape)"
   ],
   "metadata": {
    "collapsed": false,
    "pycharm": {
     "name": "#%%\n"
    }
   }
  },
  {
   "cell_type": "code",
   "execution_count": null,
   "outputs": [],
   "source": [
    "\n",
    "device = torch.device(\"cuda:0\" if torch.cuda.is_available() else \"cpu\")\n",
    "print('use device: ', device)"
   ],
   "metadata": {
    "collapsed": false,
    "pycharm": {
     "name": "#%%\n"
    }
   }
  },
  {
   "cell_type": "code",
   "execution_count": null,
   "outputs": [],
   "source": [
    "# class Time_Model(nn.Module):\n",
    "#\n",
    "#     def __init__(self):\n",
    "#         super().__init__()\n",
    "#\n",
    "#         self.hidden_size = 256\n",
    "#         self.num_layers = 1\n",
    "#         self.bidirectional = True\n",
    "#         self.lstm = nn.LSTM(input_size=22,\n",
    "#                              hidden_size=self.hidden_size,\n",
    "#                              num_layers=self.num_layers,\n",
    "#                              bidirectional=self.bidirectional,\n",
    "#                              batch_first=True)\n",
    "#\n",
    "#         self.fc = nn.Linear(self.hidden_size*2, 1)\n",
    "#\n",
    "#\n",
    "#     def forward(self, x):\n",
    "#         device = x.device\n",
    "#         batch_size, seq_len, emb_dim = x.shape\n",
    "#         # 初始化：双向就乘2\n",
    "#         h0 = torch.randn(self.num_layers * 2, batch_size, self.hidden_size).to(device)\n",
    "#         c0 = torch.randn(self.num_layers * 2, batch_size, self.hidden_size).to(device)\n",
    "#\n",
    "#         x, (_, _) = self.lstm(x, (h0, c0))\n",
    "#         x = x[:,-1,:] # 取最后一个时间步\n",
    "#         x = self.fc(x)\n",
    "#\n",
    "#         return x\n",
    "\n",
    "\n",
    "class Time_Model(nn.Module):\n",
    "\n",
    "    def __init__(self):\n",
    "        super().__init__()\n",
    "\n",
    "        self.hidden_size = 256\n",
    "        self.input_size = 393\n",
    "        self.num_layers = 1\n",
    "        self.bidirectional = True\n",
    "        # self.lstm = nn.LSTM(input_size=22,\n",
    "        #                      hidden_size=self.hidden_size,\n",
    "        #                      num_layers=self.num_layers,\n",
    "        #                      bidirectional=self.bidirectional,\n",
    "        #                      batch_first=True)\n",
    "\n",
    "        self.seq_emb = nn.Sequential(\n",
    "            nn.Linear(self.input_size, self.input_size),\n",
    "            nn.LayerNorm(self.input_size),\n",
    "            nn.GELU(),\n",
    "            nn.Dropout(0.1),\n",
    "        )\n",
    "\n",
    "        self.lstm1 = nn.LSTM(self.input_size, self.hidden_size//2, dropout=0.1, batch_first=True, bidirectional=True)\n",
    "        self.lstm2 = nn.LSTM(self.hidden_size//2 * 2, self.hidden_size//4, dropout=0.1, batch_first=True, bidirectional=True)\n",
    "        self.lstm3 = nn.LSTM(self.hidden_size//4 * 2, self.hidden_size//8, dropout=0.1, batch_first=True, bidirectional=True)\n",
    "\n",
    "\n",
    "        self.head = nn.Sequential(\n",
    "            # nn.Linear(self.hidden_size//8 * 2, self.hidden_size//8 * 2),\n",
    "            nn.LayerNorm(self.hidden_size//8 * 2),\n",
    "            nn.GELU(),\n",
    "            #nn.Dropout(0.),\n",
    "            nn.Linear(self.hidden_size//8 * 2, 1))\n",
    "\n",
    "\n",
    "    def forward(self, x):\n",
    "        device = x.device\n",
    "        batch_size, seq_len, emb_dim = x.shape\n",
    "        x = self.seq_emb(x)\n",
    "\n",
    "\n",
    "        # 初始化：双向就乘2\n",
    "        h0 = torch.randn(self.num_layers * 2, batch_size, self.hidden_size//2).to(device)\n",
    "        c0 = torch.randn(self.num_layers * 2, batch_size, self.hidden_size//2).to(device)\n",
    "        x, (_, _) = self.lstm1(x, (h0, c0))\n",
    "\n",
    "         # 初始化：双向就乘2\n",
    "        h0 = torch.randn(self.num_layers * 2, batch_size, self.hidden_size//4).to(device)\n",
    "        c0 = torch.randn(self.num_layers * 2, batch_size, self.hidden_size//4).to(device)\n",
    "        x, (_, _) = self.lstm2(x, (h0, c0))\n",
    "\n",
    "        # 初始化：双向就乘2\n",
    "        h0 = torch.randn(self.num_layers * 2, batch_size, self.hidden_size//8).to(device)\n",
    "        c0 = torch.randn(self.num_layers * 2, batch_size, self.hidden_size//8).to(device)\n",
    "        x, (_, _) = self.lstm3(x, (h0, c0))\n",
    "\n",
    "\n",
    "        x = x[:,-1,:] # 取最后一个时间步\n",
    "        x = self.head(x)\n",
    "\n",
    "        return x\n",
    "\n",
    "\n",
    "# self.seq_emb = nn.Sequential(\n",
    "#             nn.Linear(len(cfg.cont_seq_cols), self.hidden_size),\n",
    "#             nn.LayerNorm(self.hidden_size),\n",
    "#             nn.GELU(),\n",
    "#             #nn.Dropout(0.1),\n",
    "#         )\n",
    "#         self.lstm1 = nn.LSTM(self.hidden_size, self.hidden_size//2, dropout=0.1, batch_first=True, bidirectional=True)\n",
    "#         self.lstm2 = nn.LSTM(self.hidden_size//2 * 2, self.hidden_size//4, dropout=0.1, batch_first=True, bidirectional=True)\n",
    "#         self.lstm3 = nn.LSTM(self.hidden_size//4 * 2, self.hidden_size//8, dropout=0.1, batch_first=True, bidirectional=True)\n",
    "#         self.head = nn.Sequential(\n",
    "#             # nn.Linear(self.hidden_size//8 * 2, self.hidden_size//8 * 2),\n",
    "#             nn.LayerNorm(self.hidden_size//8 * 2),\n",
    "#             nn.GELU(),\n",
    "#             #nn.Dropout(0.),\n",
    "#             nn.Linear(self.hidden_size//8 * 2, 1),\n",
    "\n",
    "# class Time_Model(nn.Module):\n",
    "#\n",
    "#     def __init__(self, input_dim=22, lstm_dim=256,\n",
    "#                      dense_dim=256, logit_dim=256, num_classes=1):\n",
    "#         super().__init__()\n",
    "#\n",
    "#         self.mlp = nn.Sequential(\n",
    "#         nn.Linear(input_dim, dense_dim // 2),\n",
    "#         nn.ReLU(),\n",
    "#         nn.Linear(dense_dim // 2, dense_dim),\n",
    "#         nn.ReLU())\n",
    "#\n",
    "#         self.lstm = nn.LSTM(dense_dim, lstm_dim, batch_first=True, bidirectional=True)\n",
    "#\n",
    "#         self.logits = nn.Sequential(\n",
    "#             nn.Linear(lstm_dim * 2, logit_dim),\n",
    "#             nn.ReLU(),\n",
    "#             nn.Linear(logit_dim, num_classes),\n",
    "#         )\n",
    "#\n",
    "#     def forward(self, x):\n",
    "#         features = self.mlp(x)\n",
    "#         features, _ = self.lstm(features)\n",
    "#         features = features[:,-1,:]\n",
    "#         pred = self.logits(features)\n",
    "#\n",
    "#         return pred"
   ],
   "metadata": {
    "collapsed": false,
    "pycharm": {
     "name": "#%%\n"
    }
   }
  },
  {
   "cell_type": "code",
   "execution_count": null,
   "outputs": [],
   "source": [
    "model = Time_Model()\n",
    "model = model.to(device)"
   ],
   "metadata": {
    "collapsed": false,
    "pycharm": {
     "name": "#%%\n"
    }
   }
  },
  {
   "cell_type": "code",
   "execution_count": null,
   "outputs": [],
   "source": [
    "# MSE开方就是RMSE了，所以损失可以直接用来作为评估指标哦\n",
    "loss_fn = torch.nn.MSELoss(reduction='mean').to(device)\n",
    "\n",
    "optimizer = torch.optim.Adam(model.parameters(), lr=1e-3)\n",
    "EPOCHS = 32"
   ],
   "metadata": {
    "collapsed": false,
    "pycharm": {
     "name": "#%%\n"
    }
   }
  },
  {
   "cell_type": "code",
   "execution_count": null,
   "outputs": [],
   "source": [
    "def train_epoch(model, data_loader, loss_fn, optimizer, device):\n",
    "    model = model.train()\n",
    "    losses = []\n",
    "\n",
    "    pred_list = []\n",
    "    target_list = []\n",
    "\n",
    "    for inputs in tqdm(data_loader):\n",
    "        targets = inputs[\"label\"].to(device)\n",
    "        x = inputs['input'].to(device)\n",
    "        outputs = model(x)\n",
    "        preds = outputs\n",
    "\n",
    "\n",
    "        pred_list.extend(preds.cpu().detach().numpy().tolist())\n",
    "        target_list.extend(targets.cpu().detach().numpy().tolist())\n",
    "\n",
    "\n",
    "        loss = loss_fn(outputs, targets)\n",
    "\n",
    "        losses.append(loss.item())\n",
    "        loss.backward()\n",
    "\n",
    "\n",
    "\n",
    "        # nn.utils.clip_grad_norm_(model.parameters(), max_norm=1.0)\n",
    "        optimizer.step()\n",
    "        optimizer.zero_grad()\n",
    "        # scheduler.step()\n",
    "\n",
    "    mean_loss = np.mean(losses)\n",
    "\n",
    "\n",
    "    return mean_loss"
   ],
   "metadata": {
    "collapsed": false,
    "pycharm": {
     "name": "#%%\n"
    }
   }
  },
  {
   "cell_type": "code",
   "execution_count": null,
   "outputs": [],
   "source": [
    "def eval_model(model, data_loader, loss_fn, device):\n",
    "    model = model.eval() # 验证预测模式\n",
    "    losses = []\n",
    "    pred_list = []\n",
    "    target_list = []\n",
    "\n",
    "    with torch.no_grad():\n",
    "        for inputs in tqdm(data_loader):\n",
    "            targets = inputs[\"label\"].to(device)\n",
    "            x = inputs['input'].to(device)\n",
    "            outputs = model(x)\n",
    "            preds = outputs\n",
    "\n",
    "\n",
    "            pred_list.extend(preds.cpu().detach().numpy().tolist())\n",
    "            target_list.extend(targets.cpu().detach().numpy().tolist())\n",
    "\n",
    "\n",
    "            loss = loss_fn(outputs, targets)\n",
    "\n",
    "            losses.append(loss.item())\n",
    "\n",
    "\n",
    "\n",
    "    mean_loss = np.mean(losses)\n",
    "\n",
    "    return mean_loss"
   ],
   "metadata": {
    "collapsed": false,
    "pycharm": {
     "name": "#%%\n"
    }
   }
  },
  {
   "cell_type": "code",
   "execution_count": null,
   "outputs": [],
   "source": [
    "\n",
    "from collections import defaultdict\n",
    "history = defaultdict(list) # 记录10轮loss和acc\n",
    "best_mse = float('inf')\n",
    "\n",
    "\n",
    "# -------------------控制早停--------------\n",
    "early_stop_epochs = 2\n",
    "no_improve_epochs = 0\n",
    "\n",
    "\n",
    "for epoch in range(EPOCHS):\n",
    "\n",
    "    print(f'Epoch {epoch + 1}/{EPOCHS}')\n",
    "    print('-' * 10)\n",
    "\n",
    "    train_mse = train_epoch(\n",
    "        model,\n",
    "        train_data_loader,\n",
    "        loss_fn,\n",
    "        optimizer,\n",
    "        device,\n",
    "    )\n",
    "\n",
    "    print(f'train_mse : {train_mse } \\n ')\n",
    "\n",
    "    val_mse = eval_model(\n",
    "        model,\n",
    "        val_data_loader,\n",
    "        loss_fn,\n",
    "        device\n",
    "    )\n",
    "\n",
    "    print(f'val_mse : {val_mse } \\n ')\n",
    "    print()\n",
    "\n",
    "    history['train_mse '].append(train_mse)\n",
    "    history['val_mse '].append(val_mse)\n",
    "\n",
    "\n",
    "    if val_mse  < best_mse :\n",
    "        print('best model saved!!!!!!!!!!!!!')\n",
    "        torch.save(model.state_dict(), f'./save model/best_model.pt')\n",
    "        best_mse  = val_mse\n",
    "\n",
    "        no_improve_epochs = 0\n",
    "\n",
    "    else:\n",
    "        no_improve_epochs += 1\n",
    "\n",
    "\n",
    "\n",
    "    if no_improve_epochs == early_stop_epochs:\n",
    "        print('no improve score !!! stop train !!!')\n",
    "        break"
   ],
   "metadata": {
    "collapsed": false,
    "pycharm": {
     "name": "#%%\n"
    }
   }
  },
  {
   "cell_type": "code",
   "execution_count": null,
   "outputs": [],
   "source": [
    "df_test\n"
   ],
   "metadata": {
    "collapsed": false,
    "pycharm": {
     "name": "#%%\n"
    }
   }
  },
  {
   "cell_type": "code",
   "execution_count": null,
   "outputs": [],
   "source": [
    "# 改变时间窗口后，这里要改动\n",
    "df_days_past = df_valid[-SEQ_LEN:]\n",
    "df_days_past.reset_index(drop=True,inplace=True)\n",
    "df_days_past.info()\n",
    "df_days_past.head(5)"
   ],
   "metadata": {
    "collapsed": false,
    "pycharm": {
     "name": "#%%\n"
    }
   }
  },
  {
   "cell_type": "code",
   "execution_count": null,
   "outputs": [],
   "source": [
    "df_days_future = df_test\n",
    "df_days_future.info()\n",
    "df_days_future['Main_steam_flow_rate'] = 0\n",
    "\n",
    "df_days_future.head(5)"
   ],
   "metadata": {
    "collapsed": false,
    "pycharm": {
     "name": "#%%\n"
    }
   }
  },
  {
   "cell_type": "code",
   "execution_count": null,
   "outputs": [],
   "source": [],
   "metadata": {
    "collapsed": false,
    "pycharm": {
     "name": "#%%\n"
    }
   }
  },
  {
   "cell_type": "code",
   "execution_count": null,
   "outputs": [],
   "source": [],
   "metadata": {
    "collapsed": false,
    "pycharm": {
     "name": "#%%\n"
    }
   }
  },
  {
   "cell_type": "code",
   "execution_count": null,
   "outputs": [],
   "source": [
    "# print('df_train.shape: ', df_train.shape)\n",
    "# print('df_valid.shape: ', df_valid.shape)\n",
    "# print('df_test.shape: ', df_test.shape)"
   ],
   "metadata": {
    "collapsed": false,
    "pycharm": {
     "name": "#%%\n"
    }
   }
  },
  {
   "cell_type": "code",
   "execution_count": null,
   "outputs": [],
   "source": [
    "old_scaled_array=scaler.transform(df_days_past)\n",
    "new_scaled_array=scaler.transform(df_days_future)\n",
    "new_scaled_df=pd.DataFrame(new_scaled_array)\n",
    "print('new_scaled_array.shape: ', new_scaled_array.shape)\n",
    "new_scaled_df.iloc[:,0]=np.nan\n",
    "full_df=pd.concat([pd.DataFrame(old_scaled_array),new_scaled_df]).reset_index().drop([\"index\"],axis=1)\n",
    "full_df.info()"
   ],
   "metadata": {
    "collapsed": false,
    "pycharm": {
     "name": "#%%\n"
    }
   }
  },
  {
   "cell_type": "code",
   "execution_count": null,
   "outputs": [],
   "source": [
    "full_df"
   ],
   "metadata": {
    "collapsed": false,
    "pycharm": {
     "name": "#%%\n"
    }
   }
  },
  {
   "cell_type": "code",
   "execution_count": null,
   "outputs": [],
   "source": [
    "device = torch.device(\"cuda:0\" if torch.cuda.is_available() else \"cpu\")\n",
    "print('use device: ', device)\n",
    "model = Time_Model()\n",
    "\n",
    "\n",
    "path = './save model/best_model.pt'\n",
    "model.load_state_dict(torch.load(path))\n",
    "model = model.to(device)\n",
    "\n",
    "\n",
    "model.eval()"
   ],
   "metadata": {
    "collapsed": false,
    "pycharm": {
     "name": "#%%\n"
    }
   }
  },
  {
   "cell_type": "code",
   "execution_count": null,
   "outputs": [],
   "source": [
    "full_df_scaled_array=full_df.values\n",
    "all_data=[]\n",
    "time_step=SEQ_LEN\n",
    "for i in range(time_step,len(full_df_scaled_array)):\n",
    "    data_x=[]\n",
    "    data_x.append(\n",
    "    full_df_scaled_array[i-time_step :i , 0:full_df_scaled_array.shape[1]])\n",
    "    data_x=np.array(data_x)\n",
    "\n",
    "    data_x = torch.FloatTensor(data_x).to(device)\n",
    "    with torch.no_grad():\n",
    "        # print('-'*10)\n",
    "        # print(data_x[0][0])\n",
    "        prediction=model(data_x)\n",
    "        # print(prediction)\n",
    "        # print('-'*10)\n",
    "    # print(prediction.shape)\n",
    "    # break\n",
    "    prediction = prediction.squeeze(-1)\n",
    "    prediction = prediction.cpu().detach().numpy()\n",
    "\n",
    "    all_data.append(prediction)\n",
    "    full_df_scaled_array[i, 0] = prediction\n",
    "    # full_df.iloc[i,0]=prediction"
   ],
   "metadata": {
    "collapsed": false,
    "pycharm": {
     "name": "#%%\n"
    }
   }
  },
  {
   "cell_type": "code",
   "execution_count": null,
   "outputs": [],
   "source": [
    "full_df_scaled_array[:, 0][-10:]"
   ],
   "metadata": {
    "collapsed": false,
    "pycharm": {
     "name": "#%%\n"
    }
   }
  },
  {
   "cell_type": "code",
   "execution_count": null,
   "outputs": [],
   "source": [
    "# full_df_scaled_array[:, 0][-10:]"
   ],
   "metadata": {
    "collapsed": false,
    "pycharm": {
     "name": "#%%\n"
    }
   }
  },
  {
   "cell_type": "code",
   "execution_count": null,
   "outputs": [],
   "source": [
    "# all_data"
   ],
   "metadata": {
    "collapsed": false,
    "pycharm": {
     "name": "#%%\n"
    }
   }
  },
  {
   "cell_type": "code",
   "execution_count": null,
   "outputs": [],
   "source": [
    "full_df.info()"
   ],
   "metadata": {
    "collapsed": false,
    "pycharm": {
     "name": "#%%\n"
    }
   }
  },
  {
   "cell_type": "code",
   "execution_count": null,
   "outputs": [],
   "source": [
    "new_array=np.array(all_data)\n",
    "new_array=new_array.reshape(-1,1)\n",
    "prediction_copies_array = np.repeat(new_array,393, axis=-1)\n",
    "y_pred_future_days = scaler.inverse_transform(np.reshape(prediction_copies_array,(len(new_array),393)))[:,0]\n",
    "print(y_pred_future_days)"
   ],
   "metadata": {
    "collapsed": false,
    "pycharm": {
     "name": "#%%\n"
    }
   }
  },
  {
   "cell_type": "code",
   "execution_count": null,
   "outputs": [],
   "source": [
    "\n",
    "len(all_data)"
   ],
   "metadata": {
    "collapsed": false,
    "pycharm": {
     "name": "#%%\n"
    }
   }
  },
  {
   "cell_type": "code",
   "execution_count": null,
   "outputs": [],
   "source": [
    "prediction_copies_array\n"
   ],
   "metadata": {
    "collapsed": false,
    "pycharm": {
     "name": "#%%\n"
    }
   }
  },
  {
   "cell_type": "code",
   "execution_count": null,
   "outputs": [],
   "source": [],
   "metadata": {
    "collapsed": false,
    "pycharm": {
     "name": "#%%\n"
    }
   }
  },
  {
   "cell_type": "code",
   "execution_count": null,
   "outputs": [],
   "source": [
    "test = pd.read_csv('data/test.csv')"
   ],
   "metadata": {
    "collapsed": false,
    "pycharm": {
     "name": "#%%\n"
    }
   }
  },
  {
   "cell_type": "code",
   "execution_count": null,
   "outputs": [],
   "source": [
    "\n",
    "sub = pd.DataFrame({'ID': list(range(1,1801)),\n",
    "                    'Time': test['时间'],\n",
    "                    'Steam_flow': y_pred_future_days})\n",
    "\n",
    "\n",
    "sub.to_csv('result.csv',index=False)"
   ],
   "metadata": {
    "collapsed": false,
    "pycharm": {
     "name": "#%%\n"
    }
   }
  },
  {
   "cell_type": "code",
   "execution_count": null,
   "outputs": [],
   "source": [
    "\n",
    "sub = pd.read_csv('./demo2.csv')"
   ],
   "metadata": {
    "collapsed": false,
    "pycharm": {
     "name": "#%%\n"
    }
   }
  },
  {
   "cell_type": "code",
   "execution_count": null,
   "outputs": [],
   "source": [
    "import matplotlib.pyplot as plt\n",
    "train = pd.read_csv('data/train.csv')\n",
    "t1 = train['主蒸汽流量'].tolist()\n",
    "t2 = sub['Steam_flow'].tolist()\n",
    "plt.figure(dpi=200)\n",
    "plt.plot(list(range(len(t1))), t1)\n",
    "plt.plot(list(range(len(t1), len(t1)+len(t2))), t2)\n",
    "plt.savefig('./pred.jpg')"
   ],
   "metadata": {
    "collapsed": false,
    "pycharm": {
     "name": "#%%\n"
    }
   }
  },
  {
   "cell_type": "code",
   "execution_count": null,
   "outputs": [],
   "source": [],
   "metadata": {
    "collapsed": false,
    "pycharm": {
     "name": "#%%\n"
    }
   }
  },
  {
   "cell_type": "code",
   "execution_count": null,
   "outputs": [],
   "source": [],
   "metadata": {
    "collapsed": false,
    "pycharm": {
     "name": "#%%\n"
    }
   }
  },
  {
   "cell_type": "code",
   "execution_count": null,
   "outputs": [],
   "source": [],
   "metadata": {
    "collapsed": false,
    "pycharm": {
     "name": "#%%\n"
    }
   }
  },
  {
   "cell_type": "code",
   "execution_count": null,
   "outputs": [],
   "source": [],
   "metadata": {
    "collapsed": false,
    "pycharm": {
     "name": "#%%\n"
    }
   }
  },
  {
   "cell_type": "code",
   "execution_count": null,
   "outputs": [],
   "source": [
    "\n"
   ],
   "metadata": {
    "collapsed": false,
    "pycharm": {
     "name": "#%%\n"
    }
   }
  }
 ],
 "metadata": {
  "kernelspec": {
   "display_name": "Python 3",
   "language": "python",
   "name": "python3"
  },
  "language_info": {
   "codemirror_mode": {
    "name": "ipython",
    "version": 2
   },
   "file_extension": ".py",
   "mimetype": "text/x-python",
   "name": "python",
   "nbconvert_exporter": "python",
   "pygments_lexer": "ipython2",
   "version": "2.7.6"
  }
 },
 "nbformat": 4,
 "nbformat_minor": 0
}