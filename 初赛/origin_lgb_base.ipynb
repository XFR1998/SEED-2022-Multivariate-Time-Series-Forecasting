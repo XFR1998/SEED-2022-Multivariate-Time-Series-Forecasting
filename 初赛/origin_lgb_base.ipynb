{
 "cells": [
  {
   "cell_type": "code",
   "execution_count": 1,
   "metadata": {
    "collapsed": true
   },
   "outputs": [],
   "source": [
    "import os\n",
    "import pandas as pd\n",
    "import numpy as np\n",
    "import matplotlib.pyplot as plt\n",
    "import lightgbm as lgb\n",
    "import math\n",
    "from sklearn.metrics import mean_squared_error as mse\n",
    "from sklearn.linear_model import LinearRegression\n",
    "import warnings\n",
    "import pdb\n",
    "warnings.filterwarnings('ignore')\n",
    "import random\n",
    "from tqdm import tqdm\n",
    "from sklearn.model_selection import StratifiedKFold, KFold"
   ]
  },
  {
   "cell_type": "code",
   "execution_count": 2,
   "outputs": [],
   "source": [
    "def set_seed(seed):\n",
    "    random.seed(seed)\n",
    "    np.random.seed(seed)\n",
    "    os.environ['PYTHONHASHSEED'] = str(seed)  # 禁止hash随机化\n",
    "\n",
    "set_seed(42)"
   ],
   "metadata": {
    "collapsed": false,
    "pycharm": {
     "name": "#%%\n"
    }
   }
  },
  {
   "cell_type": "code",
   "execution_count": 3,
   "outputs": [],
   "source": [
    "train = pd.read_csv('data/train.csv')\n",
    "test = pd.read_csv('data/test.csv')\n",
    "\n",
    "train = train.dropna()\n",
    "train.reset_index(drop=True,inplace=True)\n",
    "\n",
    "label = 'Main_steam_flow_rate'\n",
    "\n",
    "# =============================================================================\n",
    "# ['时间', '主蒸汽流量', 'CO含量', 'HCL含量', 'NOx含量', 'SO2含量', '一次风调门', '一次风量',\n",
    "#        '主蒸汽流量设定值', '二次风调门', '二次风量', '引风机转速', '推料器启停', '推料器手动指令',\n",
    "#        '推料器自动投退信号', '推料器自动指令', '氧量设定值', '汽包水位', '炉排启停', '炉排实际运行指令',\n",
    "#        '炉排手动指令', '炉排自动投退信号', '给水流量']\n",
    "# =============================================================================\n",
    "\n",
    "train.columns = ['Time', 'Main_steam_flow_rate', 'CO_content', 'HCL_content', 'NOx_content', 'SO2_content', 'Primary_air_regulator', 'Primary_air_volume',\n",
    "       'Main_steam_flow_rate_setting', 'Secondary_air_regulator', 'Secondary_air_volume', 'Inducer_fan_speed', 'Pusher_start_stop', 'Pusher_manual_command',\n",
    "       'Pusher_automatic_throwback_signal', 'Pusher_automatic_command', 'Oxygen_setpoint', 'Ladle_water_level', 'Grate_start_stop', 'Grate_actual_operation_command',\n",
    "       'Grate_manual_command', 'Grate_automatic_throw-out_signal', 'Feedwater_flow']\n",
    "\n",
    "test.columns = ['Time', 'CO_content', 'HCL_content', 'NOx_content', 'SO2_content', 'Primary_air_regulator', 'Primary_air_volume',\n",
    "       'Main_steam_flow_rate_setting', 'Secondary_air_regulator', 'Secondary_air_volume', 'Inducer_fan_speed', 'Pusher_start_stop', 'Pusher_manual_command',\n",
    "       'Pusher_automatic_throwback_signal', 'Pusher_automatic_command', 'Oxygen_setpoint', 'Ladle_water_level', 'Grate_start_stop', 'Grate_actual_operation_command',\n",
    "       'Grate_manual_command', 'Grate_automatic_throw-out_signal', 'Feedwater_flow']\n",
    "\n",
    "data = pd.concat([train, test])"
   ],
   "metadata": {
    "collapsed": false,
    "pycharm": {
     "name": "#%%\n"
    }
   }
  },
  {
   "cell_type": "code",
   "execution_count": 4,
   "outputs": [],
   "source": [
    "data['gas'] = data.CO_content + data.HCL_content + data.SO2_content + data.NOx_content\n",
    "for f in ['Feedwater_flow', 'Oxygen_setpoint', 'Primary_air_volume', 'Main_steam_flow_rate_setting', 'Ladle_water_level']:\n",
    "    shift_f = []\n",
    "    shift_d = []\n",
    "    for i in range(200):\n",
    "        colname = f+'_shift_{}'.format(i+1)\n",
    "        data[colname] = data[f].shift(i+1)\n",
    "        shift_f.append(colname)\n",
    "\n",
    "\n",
    "        # # 与上n分钟的变化比例特征\n",
    "        # if i%60==0:\n",
    "        #     temp_name = f+'_ratio_{}'.format(i)\n",
    "        #     data[temp_name] = data[colname]/data[colname].shift(i+1)\n",
    "\n",
    "    # .diff用于计算一列中某元素与该列中前？个元素的差值（默认前一个元素）\n",
    "        colname = f+'_diff_{}'.format(i+1)\n",
    "        data[colname] = data[f].diff(i+1)\n",
    "\n",
    "    # data[f+'_diff'] = data[f].diff(1)\n",
    "    # 对每一行：shift_列的值取平均，即将前n天的值取平均，取最大值，最最小值，最标准差\n",
    "\n",
    "    data[f+'_fore_steps_mean'] = data[shift_f].mean(1)\n",
    "    data[f+'_fore_steps_max'] = data[shift_f].max(1)\n",
    "    data[f+'_fore_steps_min'] = data[shift_f].min(1)\n",
    "    data[f+'_fore_steps_std'] = data[shift_f].std(1)\n",
    "    data[f+'_fore_steps_std'] = data[shift_f].skew(1)\n",
    "\n",
    "\n",
    "    data.drop(shift_f, axis=1, inplace=True)\n",
    "#\n",
    "data['Grate_start_stop'] = data['Grate_start_stop'].map(int)\n",
    "data['Pusher_start_stop'] = data['Pusher_start_stop'].map(int)\n",
    "data['Pusher_automatic_throwback_signal'] = data['Pusher_automatic_throwback_signal'].map(int)\n",
    "data['Grate_automatic_throw-out_signal'] = data['Grate_automatic_throw-out_signal'].map(int)"
   ],
   "metadata": {
    "collapsed": false,
    "pycharm": {
     "name": "#%%\n"
    }
   }
  },
  {
   "cell_type": "code",
   "execution_count": 5,
   "outputs": [],
   "source": [
    "# groupby + shift(差值特征) + transform(count, mean, max, min, skew)\n",
    "\n",
    "def get_shift_feats(data, gap_list=[1], gp_col='', target_col=''):\n",
    "    # gp_col可以是个列表进行多次分组，e.g. gp_col = [id1, id2]\n",
    "    for gap in gap_list:\n",
    "        # 后面减前面\n",
    "        data[f'{gp_col}_{target_col}_next_{gap}'] = data.groupby(gp_col)[target_col].shift(-gap)\n",
    "        data[f'{gp_col}_{target_col}_next_{gap}'] = data[f'{gp_col}_{target_col}_next_{gap}'] - data[target_col]\n",
    "\n",
    "        # 前面减后面\n",
    "        data[f'{gp_col}_{target_col}_prev_{gap}'] = data.groupby(gp_col)[target_col].shift(+gap)\n",
    "        data[f'{gp_col}_{target_col}_prev_{gap}'] = data[f'{gp_col}_{target_col}_next_{gap}'] - data[target_col]\n",
    "\n",
    "\n",
    "        # 统计其不为nan的值\n",
    "        data[f'{gp_col}_{target_col}_next_{gap}_count'] = data.groupby(gp_col)[f'{gp_col}_{target_col}_next_{gap}'].transform('count')\n",
    "        data[f'{gp_col}_{target_col}_prev_{gap}_count'] = data.groupby(gp_col)[f'{gp_col}_{target_col}_prev_{gap}'].transform('count')\n",
    "\n",
    "        # 统计其平均值\n",
    "        data[f'{gp_col}_{target_col}_next_{gap}_mean'] = data.groupby(gp_col)[f'{gp_col}_{target_col}_next_{gap}'].transform('mean')\n",
    "        data[f'{gp_col}_{target_col}_prev_{gap}_mean'] = data.groupby(gp_col)[f'{gp_col}_{target_col}_prev_{gap}'].transform('mean')\n",
    "\n",
    "        # 统计其最大值\n",
    "        data[f'{gp_col}_{target_col}_next_{gap}_max'] = data.groupby(gp_col)[f'{gp_col}_{target_col}_next_{gap}'].transform('max')\n",
    "        data[f'{gp_col}_{target_col}_prev_{gap}_max'] = data.groupby(gp_col)[f'{gp_col}_{target_col}_prev_{gap}'].transform('max')\n",
    "\n",
    "        # 统计其最小值\n",
    "        data[f'{gp_col}_{target_col}_next_{gap}_min'] = data.groupby(gp_col)[f'{gp_col}_{target_col}_next_{gap}'].transform('min')\n",
    "        data[f'{gp_col}_{target_col}_prev_{gap}_min'] = data.groupby(gp_col)[f'{gp_col}_{target_col}_prev_{gap}'].transform('min')\n",
    "\n",
    "        # 统计其skew值\n",
    "        data[f'{gp_col}_{target_col}_next_{gap}_skew'] = data.groupby(gp_col)[f'{gp_col}_{target_col}_next_{gap}'].transform('skew')\n",
    "        data[f'{gp_col}_{target_col}_prev_{gap}_skew'] = data.groupby(gp_col)[f'{gp_col}_{target_col}_prev_{gap}'].transform('skew')\n",
    "\n",
    "    return data"
   ],
   "metadata": {
    "collapsed": false,
    "pycharm": {
     "name": "#%%\n"
    }
   }
  },
  {
   "cell_type": "code",
   "execution_count": 6,
   "outputs": [],
   "source": [
    "# gp_tg_cols = [(['Pusher_start_stop'], 'Feedwater_flow'),\n",
    "#               (['Pusher_automatic_throwback_signal'], 'Feedwater_flow'),\n",
    "#               (['Grate_start_stop'], 'Feedwater_flow'),\n",
    "#               (['Grate_automatic_throw-out_signal'], 'Feedwater_flow'),###########\n",
    "#               (['Pusher_start_stop'], 'Ladle_water_level'),\n",
    "#               (['Pusher_automatic_throwback_signal'], 'Ladle_water_level'),\n",
    "#               (['Grate_start_stop'], 'Ladle_water_level'),\n",
    "#               (['Grate_automatic_throw-out_signal'], 'Ladle_water_level'),##########\n",
    "#                (['Pusher_start_stop'], 'Inducer_fan_speed'),\n",
    "#               (['Pusher_automatic_throwback_signal'], 'Inducer_fan_speed'),\n",
    "#               (['Grate_start_stop'], 'Inducer_fan_speed'),\n",
    "#               (['Grate_automatic_throw-out_signal'], 'Inducer_fan_speed')]##########\n",
    "\n",
    "gp_tg_cols = [(['Main_steam_flow_rate_setting'], 'Feedwater_flow')]\n"
   ],
   "metadata": {
    "collapsed": false,
    "pycharm": {
     "name": "#%%\n"
    }
   }
  },
  {
   "cell_type": "code",
   "execution_count": 7,
   "outputs": [
    {
     "name": "stderr",
     "output_type": "stream",
     "text": [
      "100%|██████████| 1/1 [00:40<00:00, 40.11s/it]\n"
     ]
    }
   ],
   "source": [
    "for col in tqdm(gp_tg_cols):\n",
    "    data = get_shift_feats(data, gap_list=list(range(1, 10)), gp_col=col[0], target_col=col[1])"
   ],
   "metadata": {
    "collapsed": false,
    "pycharm": {
     "name": "#%%\n"
    }
   }
  },
  {
   "cell_type": "code",
   "execution_count": 8,
   "outputs": [],
   "source": [
    "import re\n",
    "data = data.rename(columns = lambda x:re.sub('[^A-Za-z0-9_]+', '', x))"
   ],
   "metadata": {
    "collapsed": false,
    "pycharm": {
     "name": "#%%\n"
    }
   }
  },
  {
   "cell_type": "code",
   "execution_count": 9,
   "outputs": [],
   "source": [
    "# for col in tqdm(gp_tg_cols):\n",
    "#     data = get_shift_feats(data, gap_list=[1,2,3], gp_col=col[0], target_col=col[1])"
   ],
   "metadata": {
    "collapsed": false,
    "pycharm": {
     "name": "#%%\n"
    }
   }
  },
  {
   "cell_type": "code",
   "execution_count": 10,
   "outputs": [],
   "source": [
    "# import re\n",
    "# data = data.rename(columns = lambda x:re.sub('[^A-Za-z0-9_]+', '', x))"
   ],
   "metadata": {
    "collapsed": false,
    "pycharm": {
     "name": "#%%\n"
    }
   }
  },
  {
   "cell_type": "code",
   "execution_count": 11,
   "outputs": [
    {
     "name": "stdout",
     "output_type": "stream",
     "text": [
      "nums features:  1152\n"
     ]
    }
   ],
   "source": [
    "print('nums features: ', len(data.columns))"
   ],
   "metadata": {
    "collapsed": false,
    "pycharm": {
     "name": "#%%\n"
    }
   }
  },
  {
   "cell_type": "code",
   "execution_count": 12,
   "outputs": [],
   "source": [
    "# 3、内存压缩\n",
    "\n",
    "# Mem. usage decreased to 2351.47 Mb (69.3% reduction)"
   ],
   "metadata": {
    "collapsed": false,
    "pycharm": {
     "name": "#%%\n"
    }
   }
  },
  {
   "cell_type": "code",
   "execution_count": 13,
   "outputs": [],
   "source": [
    "\n",
    "test_data = data.tail(1800)\n",
    "train = data.iloc[:-1800, :]\n",
    "train.reset_index(drop=True,inplace=True)\n",
    "features = train.columns.drop(['Time',label]).tolist()\n",
    "train_x, train_y = train[features], train[label]"
   ],
   "metadata": {
    "collapsed": false,
    "pycharm": {
     "name": "#%%\n"
    }
   }
  },
  {
   "cell_type": "code",
   "execution_count": null,
   "outputs": [
    {
     "name": "stdout",
     "output_type": "stream",
     "text": [
      "************************************  1 fold************************************\n",
      "[LightGBM] [Warning] Auto-choosing col-wise multi-threading, the overhead of testing was 0.913166 seconds.\n",
      "You can set `force_col_wise=true` to remove the overhead.\n",
      "[LightGBM] [Info] Total Bins 274624\n",
      "[LightGBM] [Info] Number of data points in the train set: 205905, number of used features: 1150\n",
      "[LightGBM] [Info] Start training from score 58.092949\n",
      "Training until validation scores don't improve for 1000 rounds\n",
      "[200]\ttraining's rmse: 2.25847\tvalid_1's rmse: 2.25809\n",
      "[400]\ttraining's rmse: 1.50488\tvalid_1's rmse: 1.5138\n",
      "[600]\ttraining's rmse: 1.16864\tvalid_1's rmse: 1.18688\n",
      "[800]\ttraining's rmse: 0.981902\tvalid_1's rmse: 1.00315\n",
      "[1000]\ttraining's rmse: 0.876103\tvalid_1's rmse: 0.90087\n",
      "[1200]\ttraining's rmse: 0.795984\tvalid_1's rmse: 0.821975\n",
      "[1400]\ttraining's rmse: 0.740575\tvalid_1's rmse: 0.767008\n",
      "[1600]\ttraining's rmse: 0.698963\tvalid_1's rmse: 0.725659\n",
      "[1800]\ttraining's rmse: 0.662464\tvalid_1's rmse: 0.688893\n",
      "[2000]\ttraining's rmse: 0.633091\tvalid_1's rmse: 0.659491\n",
      "[2200]\ttraining's rmse: 0.609517\tvalid_1's rmse: 0.636297\n",
      "[2400]\ttraining's rmse: 0.589064\tvalid_1's rmse: 0.616111\n",
      "[2600]\ttraining's rmse: 0.570645\tvalid_1's rmse: 0.598142\n",
      "[2800]\ttraining's rmse: 0.554205\tvalid_1's rmse: 0.582075\n",
      "[3000]\ttraining's rmse: 0.538573\tvalid_1's rmse: 0.566978\n",
      "[3200]\ttraining's rmse: 0.52291\tvalid_1's rmse: 0.551762\n",
      "[3400]\ttraining's rmse: 0.50927\tvalid_1's rmse: 0.538419\n",
      "[3600]\ttraining's rmse: 0.497734\tvalid_1's rmse: 0.527355\n",
      "[3800]\ttraining's rmse: 0.486892\tvalid_1's rmse: 0.516921\n",
      "[4000]\ttraining's rmse: 0.476453\tvalid_1's rmse: 0.506854\n",
      "[4200]\ttraining's rmse: 0.466603\tvalid_1's rmse: 0.497461\n",
      "[4400]\ttraining's rmse: 0.457086\tvalid_1's rmse: 0.488368\n",
      "[4600]\ttraining's rmse: 0.447335\tvalid_1's rmse: 0.478962\n",
      "[4800]\ttraining's rmse: 0.438352\tvalid_1's rmse: 0.470356\n",
      "[5000]\ttraining's rmse: 0.430296\tvalid_1's rmse: 0.462729\n"
     ]
    }
   ],
   "source": [
    "# 交叉验证所使用的第三方库\n",
    "\n",
    "\n",
    "kf = KFold(n_splits=5, shuffle=True, random_state=42)\n",
    "test_x = test_data[features]\n",
    "test_lgb = np.zeros(test_x.shape[0])\n",
    "for i, (train_index, valid_index) in enumerate(kf.split(train_x, train_y)):\n",
    "    print('************************************  {} fold************************************'.format(str(i + 1)))\n",
    "    trn_x, trn_y, val_x, val_y = train_x.iloc[train_index], train_y[train_index], \\\n",
    "                                 train_x.iloc[valid_index], train_y[valid_index]\n",
    "    \n",
    "    dtrain = lgb.Dataset(trn_x,label=trn_y)\n",
    "    dvalid = lgb.Dataset(val_x,label=val_y)\n",
    "    \n",
    "    watchlist = [dtrain,dvalid]\n",
    "    \n",
    "    params = {\n",
    "    'boosting_type': 'gbdt',\n",
    "    'objective': 'regression_l1',\n",
    "    'metric': 'l2_root',\n",
    "    'learning_rate': 0.01,\n",
    "    'reg_alpha': 0.7,\n",
    "    'reg_lambda': 35,\n",
    "    'bagging_fraction': 0.7,\n",
    "    'bagging_freq': 5,\n",
    "    'feature_fraction': 0.7,\n",
    "    \"random_seed\": 1,\n",
    "}\n",
    "    model = lgb.train(params,train_set=dtrain,num_boost_round=10000,early_stopping_rounds=1000,valid_sets=watchlist,verbose_eval=200)\n",
    "    \n",
    "    test_pred = model.predict(test_x)\n",
    "    test_lgb += test_pred / kf.n_splits"
   ],
   "metadata": {
    "collapsed": false,
    "pycharm": {
     "name": "#%%\n",
     "is_executing": true
    }
   }
  },
  {
   "cell_type": "code",
   "execution_count": null,
   "outputs": [],
   "source": [],
   "metadata": {
    "collapsed": false,
    "pycharm": {
     "name": "#%%\n",
     "is_executing": true
    }
   }
  },
  {
   "cell_type": "code",
   "execution_count": null,
   "outputs": [],
   "source": [],
   "metadata": {
    "collapsed": false,
    "pycharm": {
     "name": "#%%\n",
     "is_executing": true
    }
   }
  },
  {
   "cell_type": "code",
   "execution_count": null,
   "outputs": [],
   "source": [
    "sub = test_data[['Time']]\n",
    "sub['lgb'+label] = test_lgb\n",
    "sub.reset_index(inplace=True)\n",
    "sub.columns=['ID','Time','Steam_flow']\n",
    "\n",
    "sub.to_csv('result.csv',index=False)\n"
   ],
   "metadata": {
    "collapsed": false,
    "pycharm": {
     "name": "#%%\n",
     "is_executing": true
    }
   }
  },
  {
   "cell_type": "code",
   "execution_count": 8,
   "outputs": [],
   "source": [],
   "metadata": {
    "collapsed": false,
    "pycharm": {
     "name": "#%%\n"
    }
   }
  },
  {
   "cell_type": "code",
   "execution_count": 8,
   "outputs": [],
   "source": [],
   "metadata": {
    "collapsed": false,
    "pycharm": {
     "name": "#%%\n"
    }
   }
  },
  {
   "cell_type": "code",
   "execution_count": 8,
   "outputs": [],
   "source": [],
   "metadata": {
    "collapsed": false,
    "pycharm": {
     "name": "#%%\n"
    }
   }
  },
  {
   "cell_type": "code",
   "execution_count": 0,
   "outputs": [],
   "source": [],
   "metadata": {
    "collapsed": false,
    "pycharm": {
     "name": "#%%\n"
    }
   }
  },
  {
   "cell_type": "code",
   "execution_count": 0,
   "outputs": [],
   "source": [],
   "metadata": {
    "collapsed": false,
    "pycharm": {
     "name": "#%%\n"
    }
   }
  },
  {
   "cell_type": "code",
   "execution_count": 0,
   "outputs": [],
   "source": [],
   "metadata": {
    "collapsed": false,
    "pycharm": {
     "name": "#%%\n"
    }
   }
  },
  {
   "cell_type": "code",
   "execution_count": 0,
   "outputs": [],
   "source": [],
   "metadata": {
    "collapsed": false,
    "pycharm": {
     "name": "#%%\n"
    }
   }
  },
  {
   "cell_type": "code",
   "execution_count": 0,
   "outputs": [],
   "source": [],
   "metadata": {
    "collapsed": false,
    "pycharm": {
     "name": "#%%\n"
    }
   }
  },
  {
   "cell_type": "code",
   "execution_count": 0,
   "outputs": [],
   "source": [],
   "metadata": {
    "collapsed": false,
    "pycharm": {
     "name": "#%%\n"
    }
   }
  },
  {
   "cell_type": "code",
   "execution_count": 0,
   "outputs": [],
   "source": [],
   "metadata": {
    "collapsed": false,
    "pycharm": {
     "name": "#%%\n"
    }
   }
  },
  {
   "cell_type": "code",
   "execution_count": 0,
   "outputs": [],
   "source": [],
   "metadata": {
    "collapsed": false,
    "pycharm": {
     "name": "#%%\n"
    }
   }
  },
  {
   "cell_type": "code",
   "execution_count": 0,
   "outputs": [],
   "source": [],
   "metadata": {
    "collapsed": false,
    "pycharm": {
     "name": "#%%\n"
    }
   }
  },
  {
   "cell_type": "code",
   "execution_count": 0,
   "outputs": [],
   "source": [],
   "metadata": {
    "collapsed": false,
    "pycharm": {
     "name": "#%%\n"
    }
   }
  },
  {
   "cell_type": "code",
   "execution_count": 0,
   "outputs": [],
   "source": [],
   "metadata": {
    "collapsed": false,
    "pycharm": {
     "name": "#%%\n"
    }
   }
  },
  {
   "cell_type": "code",
   "execution_count": 0,
   "outputs": [],
   "source": [],
   "metadata": {
    "collapsed": false,
    "pycharm": {
     "name": "#%%\n"
    }
   }
  },
  {
   "cell_type": "code",
   "execution_count": 0,
   "outputs": [],
   "source": [],
   "metadata": {
    "collapsed": false,
    "pycharm": {
     "name": "#%%\n"
    }
   }
  },
  {
   "cell_type": "code",
   "execution_count": 0,
   "outputs": [],
   "source": [],
   "metadata": {
    "collapsed": false,
    "pycharm": {
     "name": "#%%\n"
    }
   }
  },
  {
   "cell_type": "code",
   "execution_count": 0,
   "outputs": [],
   "source": [],
   "metadata": {
    "collapsed": false,
    "pycharm": {
     "name": "#%%\n"
    }
   }
  },
  {
   "cell_type": "code",
   "execution_count": null,
   "outputs": [],
   "source": [
    "\n"
   ],
   "metadata": {
    "collapsed": false,
    "pycharm": {
     "name": "#%%\n"
    }
   }
  }
 ],
 "metadata": {
  "kernelspec": {
   "display_name": "Python 3",
   "language": "python",
   "name": "python3"
  },
  "language_info": {
   "codemirror_mode": {
    "name": "ipython",
    "version": 2
   },
   "file_extension": ".py",
   "mimetype": "text/x-python",
   "name": "python",
   "nbconvert_exporter": "python",
   "pygments_lexer": "ipython2",
   "version": "2.7.6"
  }
 },
 "nbformat": 4,
 "nbformat_minor": 0
}