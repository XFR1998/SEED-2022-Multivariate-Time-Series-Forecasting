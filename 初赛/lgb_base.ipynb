{
 "cells": [
  {
   "cell_type": "code",
   "execution_count": 1,
   "metadata": {
    "collapsed": true
   },
   "outputs": [],
   "source": [
    "# -*- coding: utf-8 -*-\n",
    "\"\"\"\n",
    "Created on Wed Oct 19 13:29:30 2022\n",
    "\n",
    "@author: xdata\n",
    "\"\"\"\n",
    "import os\n",
    "import pandas as pd\n",
    "import numpy as np\n",
    "import matplotlib.pyplot as plt\n",
    "import lightgbm as lgb\n",
    "import math\n",
    "from sklearn.metrics import mean_squared_error as mse\n",
    "from sklearn.linear_model import LinearRegression\n",
    "import warnings\n",
    "import pdb\n",
    "warnings.filterwarnings('ignore')\n",
    "import random\n",
    "from tqdm import tqdm"
   ]
  },
  {
   "cell_type": "code",
   "execution_count": 2,
   "outputs": [
    {
     "name": "stdout",
     "output_type": "stream",
     "text": [
      "训练集的大小为：  257398\n",
      "测试集的大小为：  1800\n"
     ]
    }
   ],
   "source": [
    "def set_seed(seed):\n",
    "    random.seed(seed)\n",
    "    np.random.seed(seed)\n",
    "    os.environ['PYTHONHASHSEED'] = str(seed)  # 禁止hash随机化\n",
    "\n",
    "\n",
    "set_seed(42)\n",
    "train = pd.read_csv('data/train.csv')\n",
    "test = pd.read_csv('data/test.csv')\n",
    "\n",
    "print('训练集的大小为： ', len(train))\n",
    "print('测试集的大小为： ', len(test))\n",
    "\n",
    "\n",
    "train = train.dropna()\n",
    "train.reset_index(drop=True,inplace=True)\n",
    "\n",
    "label = 'Main_steam_flow_rate'\n",
    "\n",
    "# =============================================================================\n",
    "# ['时间', '主蒸汽流量', 'CO含量', 'HCL含量', 'NOx含量', 'SO2含量', '一次风调门', '一次风量',\n",
    "#        '主蒸汽流量设定值', '二次风调门', '二次风量', '引风机转速', '推料器启停', '推料器手动指令',\n",
    "#        '推料器自动投退信号', '推料器自动指令', '氧量设定值', '汽包水位', '炉排启停', '炉排实际运行指令',\n",
    "#        '炉排手动指令', '炉排自动投退信号', '给水流量']\n",
    "# =============================================================================\n"
   ],
   "metadata": {
    "collapsed": false,
    "pycharm": {
     "name": "#%%\n"
    }
   }
  },
  {
   "cell_type": "code",
   "execution_count": 3,
   "outputs": [],
   "source": [
    "train.columns = ['Time', 'Main_steam_flow_rate', 'CO_content', 'HCL_content', 'NOx_content', 'SO2_content', 'Primary_air_regulator', 'Primary_air_volume',\n",
    "       'Main_steam_flow_rate_setting', 'Secondary_air_regulator', 'Secondary_air_volume', 'Inducer_fan_speed', 'Pusher_start_stop', 'Pusher_manual_command',\n",
    "       'Pusher_automatic_throwback_signal', 'Pusher_automatic_command', 'Oxygen_setpoint', 'Ladle_water_level', 'Grate_start_stop', 'Grate_actual_operation_command',\n",
    "       'Grate_manual_command', 'Grate_automatic_throw-out_signal', 'Feedwater_flow']\n",
    "\n",
    "test.columns = ['Time', 'CO_content', 'HCL_content', 'NOx_content', 'SO2_content', 'Primary_air_regulator', 'Primary_air_volume',\n",
    "       'Main_steam_flow_rate_setting', 'Secondary_air_regulator', 'Secondary_air_volume', 'Inducer_fan_speed', 'Pusher_start_stop', 'Pusher_manual_command',\n",
    "       'Pusher_automatic_throwback_signal', 'Pusher_automatic_command', 'Oxygen_setpoint', 'Ladle_water_level', 'Grate_start_stop', 'Grate_actual_operation_command',\n",
    "       'Grate_manual_command', 'Grate_automatic_throw-out_signal', 'Feedwater_flow']\n"
   ],
   "metadata": {
    "collapsed": false,
    "pycharm": {
     "name": "#%%\n"
    }
   }
  },
  {
   "cell_type": "code",
   "execution_count": 4,
   "outputs": [
    {
     "data": {
      "text/plain": "(23, 22)"
     },
     "execution_count": 4,
     "metadata": {},
     "output_type": "execute_result"
    }
   ],
   "source": [
    "len(train.columns), len(test.columns)"
   ],
   "metadata": {
    "collapsed": false,
    "pycharm": {
     "name": "#%%\n"
    }
   }
  },
  {
   "cell_type": "code",
   "execution_count": 5,
   "outputs": [],
   "source": [
    "data = pd.concat([train, test])\n",
    "data.index = list(range(len(data)))"
   ],
   "metadata": {
    "collapsed": false,
    "pycharm": {
     "name": "#%%\n"
    }
   }
  },
  {
   "cell_type": "code",
   "execution_count": 6,
   "outputs": [],
   "source": [
    "# ------------------------------时间特征构造----------------------------------------\n",
    "# time = pd.to_datetime(data['Time'])\n",
    "# data['Day'] = time.apply(lambda x: x.day)\n",
    "# data['Hour'] = time.apply(lambda x: x.hour)\n",
    "# data['Minute'] = time.apply(lambda x: x.minute)\n",
    "# # --------------------------------end--------------------------------------------\n",
    "#"
   ],
   "metadata": {
    "collapsed": false,
    "pycharm": {
     "name": "#%%\n"
    }
   }
  },
  {
   "cell_type": "code",
   "execution_count": 7,
   "outputs": [],
   "source": [
    "# data['Minute']\n"
   ],
   "metadata": {
    "collapsed": false,
    "pycharm": {
     "name": "#%%\n"
    }
   }
  },
  {
   "cell_type": "code",
   "execution_count": 8,
   "outputs": [
    {
     "name": "stderr",
     "output_type": "stream",
     "text": [
      "100%|██████████| 5/5 [00:01<00:00,  4.71it/s]\n"
     ]
    }
   ],
   "source": [
    "data['gas'] = data.CO_content + data.HCL_content + data.SO2_content + data.NOx_content\n",
    "\n",
    "# features_names = ['CO_content', 'HCL_content', 'NOx_content', 'SO2_content', 'Primary_air_regulator', 'Primary_air_volume',\n",
    "#        'Main_steam_flow_rate_setting', 'Secondary_air_regulator', 'Secondary_air_volume', 'Inducer_fan_speed', 'Pusher_manual_command',\n",
    "#        'Pusher_automatic_command', 'Oxygen_setpoint', 'Ladle_water_level', 'Grate_actual_operation_command',\n",
    "#        'Grate_manual_command', 'Feedwater_flow']\n",
    "features_names = ['Feedwater_flow', 'Oxygen_setpoint', 'Primary_air_volume', 'Main_steam_flow_rate_setting', 'Ladle_water_level']\n",
    "for f in tqdm(features_names):\n",
    "\n",
    "    # 滑动窗口特征\n",
    "    window_list = [300, 600, 900]\n",
    "    for win_size in window_list:\n",
    "        data[f+'_fore_steps_mean_'+str(win_size)] = data[f].rolling(window=win_size, center=False).mean()\n",
    "        data[f+'_fore_steps_max_'+str(win_size)] = data[f].rolling(window=win_size, center=False).max()\n",
    "        data[f+'_fore_steps_min_'+str(win_size)] = data[f].rolling(window=win_size, center=False).min()\n",
    "        data[f+'_fore_steps_std_'+str(win_size)] = data[f].rolling(window=win_size, center=False).std()\n",
    "        data[f+'_fore_steps_skew_'+str(win_size)] = data[f].rolling(window=win_size, center=False).skew()\n",
    "\n",
    "    # n阶差分特征\n",
    "    diff_list = list(range(1, 60))\n",
    "    for diff_size in diff_list:\n",
    "        data[f+'_diff_'+str(diff_size)] = data[f].diff(periods=diff_size)"
   ],
   "metadata": {
    "collapsed": false,
    "pycharm": {
     "name": "#%%\n"
    }
   }
  },
  {
   "cell_type": "code",
   "execution_count": 9,
   "outputs": [
    {
     "name": "stderr",
     "output_type": "stream",
     "text": [
      "100%|██████████| 1/1 [01:50<00:00, 110.19s/it]\n"
     ]
    }
   ],
   "source": [
    "f = 'Main_steam_flow_rate'\n",
    "# 滑动窗口特征\n",
    "window_list = [1800]\n",
    "for win_size in tqdm(window_list):\n",
    "    # 因为是标签，当前时刻是没预测的，所以得除去当前时刻的再计算。\n",
    "    # data[f+'_fore_steps_mean_'+str(win_size)] = (data[f].rolling(window=win_size, center=False).sum()-data[f]) / (win_size-1)\n",
    "\n",
    "\n",
    "    mean_list = []\n",
    "    for ser in data[f].rolling(window=win_size, center=False):\n",
    "        mean_list.append(ser[:-1].mean())\n",
    "    data[f+'_fore_steps_mean_'+str(win_size)] = mean_list\n",
    "\n",
    "\n",
    "    max_list = []\n",
    "    for ser in data[f].rolling(window=win_size, center=False):\n",
    "        max_list.append(ser[:-1].max())\n",
    "    data[f+'_fore_steps_max_'+str(win_size)] = max_list\n",
    "\n",
    "    min_list = []\n",
    "    for ser in data[f].rolling(window=win_size, center=False):\n",
    "        min_list.append(ser[:-1].min())\n",
    "    data[f+'_fore_steps_min_'+str(win_size)] = min_list\n",
    "\n",
    "    std_list = []\n",
    "    for ser in data[f].rolling(window=win_size, center=False):\n",
    "        std_list.append(ser[:-1].std())\n",
    "    data[f+'_fore_steps_std_'+str(win_size)] = std_list\n",
    "\n",
    "    skew_list = []\n",
    "    for ser in data[f].rolling(window=win_size, center=False):\n",
    "        skew_list.append(ser[:-1].skew())\n",
    "    data[f+'_fore_steps_skew_'+str(win_size)] = skew_list\n",
    "    # data[f+'_fore_steps_max_'+str(win_size)] = data[f].rolling(window=win_size, center=False).max()\n",
    "    # data[f+'_fore_steps_min_'+str(win_size)] = data[f].rolling(window=win_size, center=False).min()\n",
    "    # data[f+'_fore_steps_std_'+str(win_size)] = data[f].rolling(window=win_size, center=False).std()\n",
    "    # data[f+'_fore_steps_skew_'+str(win_size)] = data[f].rolling(window=win_size, center=False).skew()\n",
    "\n",
    "# n阶差分特征\n",
    "# diff_list = list(range(1, 60))\n",
    "# for diff_size in diff_list:\n",
    "#     data[f+'_diff_'+str(diff_size)] = data[f].diff(periods=diff_size)"
   ],
   "metadata": {
    "collapsed": false,
    "pycharm": {
     "name": "#%%\n"
    }
   }
  },
  {
   "cell_type": "code",
   "execution_count": 10,
   "outputs": [],
   "source": [
    "# f = 'Main_steam_flow_rate'\n",
    "# data[f+'_fore_steps_min_'+str(300)][-1800:]"
   ],
   "metadata": {
    "collapsed": false,
    "pycharm": {
     "name": "#%%\n"
    }
   }
  },
  {
   "cell_type": "code",
   "execution_count": 10,
   "outputs": [],
   "source": [],
   "metadata": {
    "collapsed": false,
    "pycharm": {
     "name": "#%%\n"
    }
   }
  },
  {
   "cell_type": "code",
   "execution_count": 11,
   "outputs": [],
   "source": [
    "# len(shift_f[:10])"
   ],
   "metadata": {
    "collapsed": false,
    "pycharm": {
     "name": "#%%\n"
    }
   }
  },
  {
   "cell_type": "code",
   "execution_count": 12,
   "outputs": [],
   "source": [
    "data['Grate_start_stop'] = data['Grate_start_stop'].map(int)\n",
    "data['Pusher_start_stop'] = data['Pusher_start_stop'].map(int)\n",
    "data['Pusher_automatic_throwback_signal'] = data['Pusher_automatic_throwback_signal'].map(int)\n",
    "data['Grate_automatic_throw-out_signal'] = data['Grate_automatic_throw-out_signal'].map(int)"
   ],
   "metadata": {
    "collapsed": false,
    "pycharm": {
     "name": "#%%\n"
    }
   }
  },
  {
   "cell_type": "code",
   "execution_count": 13,
   "outputs": [
    {
     "name": "stderr",
     "output_type": "stream",
     "text": [
      "100%|██████████| 399/399 [00:01<00:00, 270.22it/s]\n"
     ]
    },
    {
     "name": "stdout",
     "output_type": "stream",
     "text": [
      "Mem. usage decreased to 204.66 Mb (74.1% reduction)\n"
     ]
    }
   ],
   "source": [
    "# 3、内存压缩\n",
    "def reduce_mem_usage(df, verbose=True):\n",
    "    numerics = ['int16', 'int32', 'int64', 'float16', 'float32', 'float64']\n",
    "    start_mem = df.memory_usage().sum() / 1024 ** 2\n",
    "    for col in tqdm(df.columns):\n",
    "        col_type = df[col].dtypes\n",
    "        if col_type in numerics:\n",
    "            c_min = df[col].min()\n",
    "            c_max = df[col].max()\n",
    "            if str(col_type)[:3] == 'int':\n",
    "                if c_min > np.iinfo(np.int8).min and c_max < np.iinfo(np.int8).max:\n",
    "                    df[col] = df[col].astype(np.int8)\n",
    "                elif c_min > np.iinfo(np.int16).min and c_max < np.iinfo(np.int16).max:\n",
    "                    df[col] = df[col].astype(np.int16)\n",
    "                elif c_min > np.iinfo(np.int32).min and c_max < np.iinfo(np.int32).max:\n",
    "                    df[col] = df[col].astype(np.int32)\n",
    "                elif c_min > np.iinfo(np.int64).min and c_max < np.iinfo(np.int64).max:\n",
    "                    df[col] = df[col].astype(np.int64)\n",
    "            else:\n",
    "                if c_min > np.finfo(np.float16).min and c_max < np.finfo(np.float16).max:\n",
    "                    df[col] = df[col].astype(np.float16)\n",
    "                elif c_min > np.finfo(np.float32).min and c_max < np.finfo(np.float32).max:\n",
    "                    df[col] = df[col].astype(np.float32)\n",
    "                else:\n",
    "                    df[col] = df[col].astype(np.float64)\n",
    "    end_mem = df.memory_usage().sum() / 1024 ** 2\n",
    "    if verbose: print('Mem. usage decreased to {:5.2f} Mb ({:.1f}% reduction)'.format(end_mem, 100 * (\n",
    "                start_mem - end_mem) / start_mem))\n",
    "    return df\n",
    "\n",
    "\n",
    "# 压缩使用内存\n",
    "# 由于数据比较大，所以合理的压缩内存节省空间尤为的重要\n",
    "# 使用reduce_mem_usage函数可以压缩近70%的内存占有。\n",
    "data = reduce_mem_usage(data)"
   ],
   "metadata": {
    "collapsed": false,
    "pycharm": {
     "name": "#%%\n"
    }
   }
  },
  {
   "cell_type": "code",
   "execution_count": 14,
   "outputs": [
    {
     "name": "stdout",
     "output_type": "stream",
     "text": [
      "<class 'pandas.core.frame.DataFrame'>\n",
      "Int64Index: 259182 entries, 0 to 259181\n",
      "Columns: 399 entries, Time to Main_steam_flow_rate_fore_steps_skew_1800\n",
      "dtypes: float16(384), float32(10), int8(4), object(1)\n",
      "memory usage: 204.7+ MB\n"
     ]
    }
   ],
   "source": [
    "data.info()"
   ],
   "metadata": {
    "collapsed": false,
    "pycharm": {
     "name": "#%%\n"
    }
   }
  },
  {
   "cell_type": "code",
   "execution_count": 15,
   "outputs": [
    {
     "name": "stdout",
     "output_type": "stream",
     "text": [
      "[LightGBM] [Warning] Auto-choosing col-wise multi-threading, the overhead of testing was 0.346349 seconds.\n",
      "You can set `force_col_wise=true` to remove the overhead.\n",
      "[LightGBM] [Info] Total Bins 99325\n",
      "[LightGBM] [Info] Number of data points in the train set: 255582, number of used features: 397\n",
      "[LightGBM] [Info] Start training from score 58.093750\n",
      "Training until validation scores don't improve for 1000 rounds\n",
      "[200]\ttraining's rmse: 2.18503\tvalid_1's rmse: 2.31997\n",
      "[400]\ttraining's rmse: 1.35609\tvalid_1's rmse: 1.86251\n",
      "[600]\ttraining's rmse: 1.02435\tvalid_1's rmse: 1.65603\n",
      "[800]\ttraining's rmse: 0.80199\tvalid_1's rmse: 1.53832\n",
      "[1000]\ttraining's rmse: 0.674694\tvalid_1's rmse: 1.49303\n",
      "[1200]\ttraining's rmse: 0.588295\tvalid_1's rmse: 1.47394\n",
      "[1400]\ttraining's rmse: 0.532298\tvalid_1's rmse: 1.45718\n",
      "[1600]\ttraining's rmse: 0.493642\tvalid_1's rmse: 1.44334\n",
      "[1800]\ttraining's rmse: 0.459809\tvalid_1's rmse: 1.42922\n",
      "[2000]\ttraining's rmse: 0.432892\tvalid_1's rmse: 1.41901\n",
      "[2200]\ttraining's rmse: 0.411143\tvalid_1's rmse: 1.41354\n",
      "[2400]\ttraining's rmse: 0.393639\tvalid_1's rmse: 1.41003\n",
      "[2600]\ttraining's rmse: 0.378966\tvalid_1's rmse: 1.40749\n",
      "[2800]\ttraining's rmse: 0.36602\tvalid_1's rmse: 1.39891\n",
      "[3000]\ttraining's rmse: 0.353998\tvalid_1's rmse: 1.39922\n",
      "[3200]\ttraining's rmse: 0.342925\tvalid_1's rmse: 1.39518\n",
      "[3400]\ttraining's rmse: 0.333809\tvalid_1's rmse: 1.39459\n",
      "[3600]\ttraining's rmse: 0.325226\tvalid_1's rmse: 1.39415\n",
      "[3800]\ttraining's rmse: 0.317896\tvalid_1's rmse: 1.39246\n",
      "[4000]\ttraining's rmse: 0.311305\tvalid_1's rmse: 1.39384\n",
      "[4200]\ttraining's rmse: 0.30506\tvalid_1's rmse: 1.40231\n",
      "[4400]\ttraining's rmse: 0.299694\tvalid_1's rmse: 1.40557\n",
      "[4600]\ttraining's rmse: 0.294708\tvalid_1's rmse: 1.40494\n",
      "[4800]\ttraining's rmse: 0.290252\tvalid_1's rmse: 1.40731\n",
      "Early stopping, best iteration is:\n",
      "[3872]\ttraining's rmse: 0.315525\tvalid_1's rmse: 1.3905\n"
     ]
    }
   ],
   "source": [
    "test = data.tail(1800)\n",
    "train = data.iloc[:-1800, :]\n",
    "train.reset_index(drop=True,inplace=True)\n",
    "\n",
    "valid = train.iloc[-1800:, :]\n",
    "train = train.iloc[:-1800, :]\n",
    "\n",
    "valid.reset_index(drop=True, inplace=True)\n",
    "\n",
    "\n",
    "\n",
    "features = train.columns.drop(['Time',label]).tolist()\n",
    "\n",
    "params = {\n",
    "    'boosting_type': 'gbdt',\n",
    "    'objective': 'regression_l1',\n",
    "    'metric': 'l2_root',\n",
    "    'learning_rate': 0.01,\n",
    "    'reg_alpha': 0.7,\n",
    "    'reg_lambda': 35,\n",
    "    'bagging_fraction': 0.7,\n",
    "    'bagging_freq': 5,\n",
    "    'feature_fraction': 0.7,\n",
    "    \"random_seed\": 1,\n",
    "}\n",
    "\n",
    "dtrain = lgb.Dataset(train[features],label=train[label])\n",
    "dvalid = lgb.Dataset(valid[features],label=valid[label])\n",
    "\n",
    "watchlist = [dtrain,dvalid]\n",
    "model = lgb.train(params,train_set=dtrain,num_boost_round=10000,early_stopping_rounds=1000,valid_sets=watchlist,verbose_eval=200)\n",
    "\n",
    "feature_importance = pd.DataFrame()\n",
    "feature_importance['fea_name'] = features\n",
    "feature_importance['fea_imp'] = model.feature_importance()\n",
    "feature_importance = feature_importance.sort_values('fea_imp',ascending = False)\n",
    "\n",
    "\n",
    "\n",
    "\n",
    "sub = test[['Time']]\n",
    "sub['lgb'+label] = model.predict(test[features])\n",
    "sub.reset_index(inplace=True)\n",
    "sub.columns=['ID','Time','Steam_flow']\n",
    "\n",
    "# sub.to_csv('result.csv',index=False)"
   ],
   "metadata": {
    "collapsed": false,
    "pycharm": {
     "name": "#%%\n"
    }
   }
  },
  {
   "cell_type": "code",
   "execution_count": 16,
   "outputs": [
    {
     "data": {
      "text/plain": "                                     fea_name  fea_imp\n20                             Feedwater_flow     5347\n323     Ladle_water_level_fore_steps_mean_600     3675\n393  Main_steam_flow_rate_fore_steps_max_1800     2863\n15                          Ladle_water_level     2608\n318     Ladle_water_level_fore_steps_mean_300     2562\n..                                        ...      ...\n144                   Oxygen_setpoint_diff_34        0\n186                 Primary_air_volume_diff_2        0\n185                 Primary_air_volume_diff_1        0\n149                   Oxygen_setpoint_diff_39        0\n188                 Primary_air_volume_diff_4        0\n\n[397 rows x 2 columns]",
      "text/html": "<div>\n<style scoped>\n    .dataframe tbody tr th:only-of-type {\n        vertical-align: middle;\n    }\n\n    .dataframe tbody tr th {\n        vertical-align: top;\n    }\n\n    .dataframe thead th {\n        text-align: right;\n    }\n</style>\n<table border=\"1\" class=\"dataframe\">\n  <thead>\n    <tr style=\"text-align: right;\">\n      <th></th>\n      <th>fea_name</th>\n      <th>fea_imp</th>\n    </tr>\n  </thead>\n  <tbody>\n    <tr>\n      <th>20</th>\n      <td>Feedwater_flow</td>\n      <td>5347</td>\n    </tr>\n    <tr>\n      <th>323</th>\n      <td>Ladle_water_level_fore_steps_mean_600</td>\n      <td>3675</td>\n    </tr>\n    <tr>\n      <th>393</th>\n      <td>Main_steam_flow_rate_fore_steps_max_1800</td>\n      <td>2863</td>\n    </tr>\n    <tr>\n      <th>15</th>\n      <td>Ladle_water_level</td>\n      <td>2608</td>\n    </tr>\n    <tr>\n      <th>318</th>\n      <td>Ladle_water_level_fore_steps_mean_300</td>\n      <td>2562</td>\n    </tr>\n    <tr>\n      <th>...</th>\n      <td>...</td>\n      <td>...</td>\n    </tr>\n    <tr>\n      <th>144</th>\n      <td>Oxygen_setpoint_diff_34</td>\n      <td>0</td>\n    </tr>\n    <tr>\n      <th>186</th>\n      <td>Primary_air_volume_diff_2</td>\n      <td>0</td>\n    </tr>\n    <tr>\n      <th>185</th>\n      <td>Primary_air_volume_diff_1</td>\n      <td>0</td>\n    </tr>\n    <tr>\n      <th>149</th>\n      <td>Oxygen_setpoint_diff_39</td>\n      <td>0</td>\n    </tr>\n    <tr>\n      <th>188</th>\n      <td>Primary_air_volume_diff_4</td>\n      <td>0</td>\n    </tr>\n  </tbody>\n</table>\n<p>397 rows × 2 columns</p>\n</div>"
     },
     "execution_count": 16,
     "metadata": {},
     "output_type": "execute_result"
    }
   ],
   "source": [
    "feature_importance"
   ],
   "metadata": {
    "collapsed": false,
    "pycharm": {
     "name": "#%%\n"
    }
   }
  },
  {
   "cell_type": "code",
   "execution_count": 17,
   "outputs": [],
   "source": [
    "# features"
   ],
   "metadata": {
    "collapsed": false,
    "pycharm": {
     "name": "#%%\n"
    }
   }
  },
  {
   "cell_type": "code",
   "execution_count": 18,
   "outputs": [],
   "source": [
    "all_df = pd.concat([train, valid, test])\n",
    "all_df.index = list(range(len(all_df)))"
   ],
   "metadata": {
    "collapsed": false,
    "pycharm": {
     "name": "#%%\n"
    }
   }
  },
  {
   "cell_type": "code",
   "execution_count": 19,
   "outputs": [
    {
     "name": "stdout",
     "output_type": "stream",
     "text": [
      "<class 'pandas.core.frame.DataFrame'>\n",
      "Int64Index: 259182 entries, 0 to 259181\n",
      "Columns: 399 entries, Time to Main_steam_flow_rate_fore_steps_skew_1800\n",
      "dtypes: float16(384), float32(10), int8(4), object(1)\n",
      "memory usage: 204.7+ MB\n"
     ]
    }
   ],
   "source": [
    "all_df.info()"
   ],
   "metadata": {
    "collapsed": false,
    "pycharm": {
     "name": "#%%\n"
    }
   }
  },
  {
   "cell_type": "code",
   "execution_count": 22,
   "outputs": [
    {
     "name": "stderr",
     "output_type": "stream",
     "text": [
      "100%|██████████| 1800/1800 [04:41<00:00,  6.40it/s]\n"
     ]
    }
   ],
   "source": [
    "f = 'Main_steam_flow_rate'\n",
    "pred_list = []\n",
    "for i in tqdm(test.index):\n",
    "    window_list = [1800]\n",
    "    for win_size in window_list:\n",
    "        all_df[f+'_fore_steps_mean_'+str(win_size)][i] = (all_df[f][i-win_size:i]).mean()\n",
    "        # print('-'*10)\n",
    "        # print(test[f+'_fore_steps_mean_'+str(win_size)][i])\n",
    "        # print('-'*10)\n",
    "        all_df[f+'_fore_steps_max_'+str(win_size)][i] = (all_df[f][i-win_size:i]).max()\n",
    "        all_df[f+'_fore_steps_min_'+str(win_size)][i] = (all_df[f][i-win_size:i]).min()\n",
    "        all_df[f+'_fore_steps_std_'+str(win_size)][i] = (all_df[f][i-win_size:i]).std()\n",
    "        all_df[f+'_fore_steps_skew_'+str(win_size)][i] = (all_df[f][i-win_size:i]).skew()\n",
    "    x = all_df[features].loc[i]\n",
    "    y = model.predict(x)[0]\n",
    "    all_df[f][i] = y\n",
    "    pred_list.append(y)"
   ],
   "metadata": {
    "collapsed": false,
    "pycharm": {
     "name": "#%%\n"
    }
   }
  },
  {
   "cell_type": "code",
   "execution_count": null,
   "outputs": [],
   "source": [
    "# all_df[f+'_fore_steps_mean_'+str(300)][-1800:]"
   ],
   "metadata": {
    "collapsed": false,
    "pycharm": {
     "name": "#%%\n"
    }
   }
  },
  {
   "cell_type": "code",
   "execution_count": null,
   "outputs": [],
   "source": [
    "# i = test.index[0]\n",
    "# all_df[f][test.index[0]-300, test.index[0]]"
   ],
   "metadata": {
    "collapsed": false,
    "pycharm": {
     "name": "#%%\n"
    }
   }
  },
  {
   "cell_type": "code",
   "execution_count": null,
   "outputs": [],
   "source": [
    "i = test.index[0]\n",
    "all_df[f+'_fore_steps_mean_'+str(300)][i]"
   ],
   "metadata": {
    "collapsed": false,
    "pycharm": {
     "name": "#%%\n"
    }
   }
  },
  {
   "cell_type": "code",
   "execution_count": null,
   "outputs": [],
   "source": [
    "all_df[f][i-300:i]"
   ],
   "metadata": {
    "collapsed": false,
    "pycharm": {
     "name": "#%%\n"
    }
   }
  },
  {
   "cell_type": "code",
   "execution_count": null,
   "outputs": [],
   "source": [
    "np.mean(pred_list)"
   ],
   "metadata": {
    "collapsed": false,
    "pycharm": {
     "name": "#%%\n"
    }
   }
  },
  {
   "cell_type": "code",
   "execution_count": null,
   "outputs": [],
   "source": [],
   "metadata": {
    "collapsed": false,
    "pycharm": {
     "name": "#%%\n"
    }
   }
  },
  {
   "cell_type": "code",
   "execution_count": null,
   "outputs": [],
   "source": [
    "pd.Series(pred_list).describe()"
   ],
   "metadata": {
    "collapsed": false,
    "pycharm": {
     "name": "#%%\n"
    }
   }
  },
  {
   "cell_type": "code",
   "execution_count": null,
   "outputs": [],
   "source": [
    "# pred_list = [i[0] for i in pred_list]"
   ],
   "metadata": {
    "collapsed": false,
    "pycharm": {
     "name": "#%%\n"
    }
   }
  },
  {
   "cell_type": "code",
   "execution_count": 23,
   "outputs": [],
   "source": [
    "sub['Steam_flow'] = pred_list\n",
    "sub['ID'] = list(range(1800))\n",
    "sub.to_csv('result.csv',index=False)"
   ],
   "metadata": {
    "collapsed": false,
    "pycharm": {
     "name": "#%%\n"
    }
   }
  },
  {
   "cell_type": "code",
   "execution_count": 24,
   "outputs": [
    {
     "data": {
      "text/plain": "63.34949113317607"
     },
     "execution_count": 24,
     "metadata": {},
     "output_type": "execute_result"
    }
   ],
   "source": [
    "max(pred_list)"
   ],
   "metadata": {
    "collapsed": false,
    "pycharm": {
     "name": "#%%\n"
    }
   }
  },
  {
   "cell_type": "code",
   "execution_count": 32,
   "outputs": [
    {
     "data": {
      "text/plain": "<Figure size 1200x800 with 1 Axes>",
      "image/png": "[encoded data removed]"
     },
     "metadata": {
      "needs_background": "light"
     },
     "output_type": "display_data"
    }
   ],
   "source": [
    "import matplotlib.pyplot as plt\n",
    "train = pd.read_csv('data/train.csv')\n",
    "t1 = train['主蒸汽流量'].tolist()\n",
    "t2 = sub['Steam_flow'].tolist()\n",
    "plt.figure(dpi=200)\n",
    "plt.plot(list(range(len(t1))), t1)\n",
    "plt.plot(list(range(len(t1), len(t1)+len(t2))), t2)\n",
    "plt.savefig('./pred.jpg')\n",
    "\n"
   ],
   "metadata": {
    "collapsed": false,
    "pycharm": {
     "name": "#%%\n"
    }
   }
  },
  {
   "cell_type": "code",
   "execution_count": 306,
   "outputs": [
    {
     "data": {
      "text/plain": "1800"
     },
     "execution_count": 306,
     "metadata": {},
     "output_type": "execute_result"
    }
   ],
   "source": [
    "len(t2)"
   ],
   "metadata": {
    "collapsed": false,
    "pycharm": {
     "name": "#%%\n"
    }
   }
  },
  {
   "cell_type": "code",
   "execution_count": 33,
   "outputs": [
    {
     "data": {
      "text/plain": "<seaborn.axisgrid.FacetGrid at 0x24c97a68688>"
     },
     "execution_count": 33,
     "metadata": {},
     "output_type": "execute_result"
    },
    {
     "data": {
      "text/plain": "<Figure size 360x360 with 1 Axes>",
      "image/png": "[encoded data removed]"
     },
     "metadata": {
      "needs_background": "light"
     },
     "output_type": "display_data"
    }
   ],
   "source": [
    "import seaborn as sbs\n",
    "sbs.displot(pred_list)"
   ],
   "metadata": {
    "collapsed": false,
    "pycharm": {
     "name": "#%%\n"
    }
   }
  },
  {
   "cell_type": "code",
   "execution_count": 34,
   "outputs": [
    {
     "data": {
      "text/plain": "<seaborn.axisgrid.FacetGrid at 0x24c89cb1cc8>"
     },
     "execution_count": 34,
     "metadata": {},
     "output_type": "execute_result"
    },
    {
     "data": {
      "text/plain": "<Figure size 360x360 with 1 Axes>",
      "image/png": "[encoded data removed]"
     },
     "metadata": {
      "needs_background": "light"
     },
     "output_type": "display_data"
    }
   ],
   "source": [
    "sbs.displot(t1)\n"
   ],
   "metadata": {
    "collapsed": false,
    "pycharm": {
     "name": "#%%\n"
    }
   }
  },
  {
   "cell_type": "code",
   "execution_count": 313,
   "outputs": [
    {
     "data": {
      "text/plain": "<seaborn.axisgrid.FacetGrid at 0x171addb4f48>"
     },
     "execution_count": 313,
     "metadata": {},
     "output_type": "execute_result"
    },
    {
     "data": {
      "text/plain": "<Figure size 360x360 with 1 Axes>",
      "image/png": "[encoded data removed]"
     },
     "metadata": {
      "needs_background": "light"
     },
     "output_type": "display_data"
    }
   ],
   "source": [
    "demo = pd.read_csv('./demo2.csv')\n",
    "t3 = demo['Steam_flow'].tolist()\n",
    "sbs.displot(t3)"
   ],
   "metadata": {
    "collapsed": false,
    "pycharm": {
     "name": "#%%\n"
    }
   }
  },
  {
   "cell_type": "code",
   "execution_count": 1,
   "outputs": [],
   "source": [],
   "metadata": {
    "collapsed": false,
    "pycharm": {
     "name": "#%%\n"
    }
   }
  },
  {
   "cell_type": "code",
   "execution_count": 35,
   "outputs": [
    {
     "data": {
      "text/plain": "                     Time  Main_steam_flow_rate  CO_content  HCL_content  \\\n0     2021-12-22 23:00:00              68.25000  300.000000     2.222656   \n1     2021-12-22 23:00:01              68.25000  300.000000     2.222656   \n2     2021-12-22 23:00:02              68.31250  300.250000     2.216797   \n3     2021-12-22 23:00:03              68.25000  300.000000     2.250000   \n4     2021-12-22 23:00:04              68.18750  300.250000     2.267578   \n...                   ...                   ...         ...          ...   \n1795  2021-12-22 23:29:55              57.78125    2.304688     2.648438   \n1796  2021-12-22 23:29:56              57.81250    2.541016     2.773438   \n1797  2021-12-22 23:29:57              57.78125    2.521484     2.804688   \n1798  2021-12-22 23:29:58              57.75000    2.478516     2.814453   \n1799  2021-12-22 23:29:59              58.03125    2.458984     2.861328   \n\n      NOx_content  SO2_content  Primary_air_regulator  Primary_air_volume  \\\n0       31.671875   194.375000              30.343750        32417.697266   \n1       31.671875   194.375000              30.343750        32417.697266   \n2       31.484375   194.250000              30.312500        32192.269531   \n3       31.500000   194.250000              30.328125        32122.589844   \n4       31.593750   194.125000              30.343750        32296.507812   \n...           ...          ...                    ...                 ...   \n1795   111.625000     2.791016              65.562500        72750.445312   \n1796   111.562500     3.257812              65.562500        72642.570312   \n1797   111.687500     3.250000              65.562500        72248.210938   \n1798   111.562500     3.320312              65.562500        72480.445312   \n1799   111.562500     3.214844              65.562500        72773.546875   \n\n      Main_steam_flow_rate_setting  Secondary_air_regulator  ...  \\\n0                             60.0                 89.43750  ...   \n1                             60.0                 89.43750  ...   \n2                             60.0                 89.43750  ...   \n3                             60.0                 89.43750  ...   \n4                             60.0                 89.50000  ...   \n...                            ...                      ...  ...   \n1795                          60.0                 49.53125  ...   \n1796                          60.0                 49.50000  ...   \n1797                          60.0                 49.46875  ...   \n1798                          60.0                 49.46875  ...   \n1799                          60.0                 49.46875  ...   \n\n      Main_steam_flow_rate_fore_steps_mean_600  \\\n0                                     67.75000   \n1                                     67.75000   \n2                                     67.75000   \n3                                     67.75000   \n4                                     67.75000   \n...                                        ...   \n1795                                  57.31250   \n1796                                  57.31250   \n1797                                  57.31250   \n1798                                  57.34375   \n1799                                  57.34375   \n\n      Main_steam_flow_rate_fore_steps_max_600  \\\n0                                     69.1875   \n1                                     69.1875   \n2                                     69.1875   \n3                                     69.1875   \n4                                     69.1875   \n...                                       ...   \n1795                                  58.1250   \n1796                                  58.1250   \n1797                                  58.1250   \n1798                                  58.1250   \n1799                                  58.1250   \n\n      Main_steam_flow_rate_fore_steps_min_600  \\\n0                                     66.0625   \n1                                     66.0625   \n2                                     66.0625   \n3                                     66.0625   \n4                                     66.0625   \n...                                       ...   \n1795                                  56.6875   \n1796                                  56.6875   \n1797                                  56.6875   \n1798                                  56.6875   \n1799                                  56.6875   \n\n      Main_steam_flow_rate_fore_steps_std_600  \\\n0                                    0.951660   \n1                                    0.950684   \n2                                    0.949707   \n3                                    0.948730   \n4                                    0.947266   \n...                                       ...   \n1795                                 0.323486   \n1796                                 0.324219   \n1797                                 0.324707   \n1798                                 0.325195   \n1799                                 0.325439   \n\n      Main_steam_flow_rate_fore_steps_skew_600  \\\n0                                    -0.223999   \n1                                    -0.224121   \n2                                    -0.223877   \n3                                    -0.224487   \n4                                    -0.225342   \n...                                        ...   \n1795                                  0.122375   \n1796                                  0.120667   \n1797                                  0.119568   \n1798                                  0.116699   \n1799                                  0.115601   \n\n      Main_steam_flow_rate_fore_steps_mean_900  \\\n0                                      68.4375   \n1                                      68.4375   \n2                                      68.4375   \n3                                      68.4375   \n4                                      68.4375   \n...                                        ...   \n1795                                   57.5625   \n1796                                   57.5625   \n1797                                   57.5625   \n1798                                   57.5625   \n1799                                   57.5625   \n\n      Main_steam_flow_rate_fore_steps_max_900  \\\n0                                    71.62500   \n1                                    71.62500   \n2                                    71.50000   \n3                                    71.50000   \n4                                    71.50000   \n...                                       ...   \n1795                                 58.71875   \n1796                                 58.71875   \n1797                                 58.71875   \n1798                                 58.71875   \n1799                                 58.71875   \n\n      Main_steam_flow_rate_fore_steps_min_900  \\\n0                                     66.0625   \n1                                     66.0625   \n2                                     66.0625   \n3                                     66.0625   \n4                                     66.0625   \n...                                       ...   \n1795                                  56.6875   \n1796                                  56.6875   \n1797                                  56.6875   \n1798                                  56.6875   \n1799                                  56.6875   \n\n      Main_steam_flow_rate_fore_steps_std_900  \\\n0                                    1.343750   \n1                                    1.339844   \n2                                    1.335938   \n3                                    1.332031   \n4                                    1.328125   \n...                                       ...   \n1795                                 0.458984   \n1796                                 0.458252   \n1797                                 0.457520   \n1798                                 0.456787   \n1799                                 0.455811   \n\n      Main_steam_flow_rate_fore_steps_skew_900  \n0                                     0.240967  \n1                                     0.237671  \n2                                     0.233032  \n3                                     0.230225  \n4                                     0.227051  \n...                                        ...  \n1795                                  0.187500  \n1796                                  0.186768  \n1797                                  0.186035  \n1798                                  0.185425  \n1799                                  0.182739  \n\n[1800 rows x 409 columns]",
      "text/html": "<div>\n<style scoped>\n    .dataframe tbody tr th:only-of-type {\n        vertical-align: middle;\n    }\n\n    .dataframe tbody tr th {\n        vertical-align: top;\n    }\n\n    .dataframe thead th {\n        text-align: right;\n    }\n</style>\n<table border=\"1\" class=\"dataframe\">\n  <thead>\n    <tr style=\"text-align: right;\">\n      <th></th>\n      <th>Time</th>\n      <th>Main_steam_flow_rate</th>\n      <th>CO_content</th>\n      <th>HCL_content</th>\n      <th>NOx_content</th>\n      <th>SO2_content</th>\n      <th>Primary_air_regulator</th>\n      <th>Primary_air_volume</th>\n      <th>Main_steam_flow_rate_setting</th>\n      <th>Secondary_air_regulator</th>\n      <th>...</th>\n      <th>Main_steam_flow_rate_fore_steps_mean_600</th>\n      <th>Main_steam_flow_rate_fore_steps_max_600</th>\n      <th>Main_steam_flow_rate_fore_steps_min_600</th>\n      <th>Main_steam_flow_rate_fore_steps_std_600</th>\n      <th>Main_steam_flow_rate_fore_steps_skew_600</th>\n      <th>Main_steam_flow_rate_fore_steps_mean_900</th>\n      <th>Main_steam_flow_rate_fore_steps_max_900</th>\n      <th>Main_steam_flow_rate_fore_steps_min_900</th>\n      <th>Main_steam_flow_rate_fore_steps_std_900</th>\n      <th>Main_steam_flow_rate_fore_steps_skew_900</th>\n    </tr>\n  </thead>\n  <tbody>\n    <tr>\n      <th>0</th>\n      <td>2021-12-22 23:00:00</td>\n      <td>68.25000</td>\n      <td>300.000000</td>\n      <td>2.222656</td>\n      <td>31.671875</td>\n      <td>194.375000</td>\n      <td>30.343750</td>\n      <td>32417.697266</td>\n      <td>60.0</td>\n      <td>89.43750</td>\n      <td>...</td>\n      <td>67.75000</td>\n      <td>69.1875</td>\n      <td>66.0625</td>\n      <td>0.951660</td>\n      <td>-0.223999</td>\n      <td>68.4375</td>\n      <td>71.62500</td>\n      <td>66.0625</td>\n      <td>1.343750</td>\n      <td>0.240967</td>\n    </tr>\n    <tr>\n      <th>1</th>\n      <td>2021-12-22 23:00:01</td>\n      <td>68.25000</td>\n      <td>300.000000</td>\n      <td>2.222656</td>\n      <td>31.671875</td>\n      <td>194.375000</td>\n      <td>30.343750</td>\n      <td>32417.697266</td>\n      <td>60.0</td>\n      <td>89.43750</td>\n      <td>...</td>\n      <td>67.75000</td>\n      <td>69.1875</td>\n      <td>66.0625</td>\n      <td>0.950684</td>\n      <td>-0.224121</td>\n      <td>68.4375</td>\n      <td>71.62500</td>\n      <td>66.0625</td>\n      <td>1.339844</td>\n      <td>0.237671</td>\n    </tr>\n    <tr>\n      <th>2</th>\n      <td>2021-12-22 23:00:02</td>\n      <td>68.31250</td>\n      <td>300.250000</td>\n      <td>2.216797</td>\n      <td>31.484375</td>\n      <td>194.250000</td>\n      <td>30.312500</td>\n      <td>32192.269531</td>\n      <td>60.0</td>\n      <td>89.43750</td>\n      <td>...</td>\n      <td>67.75000</td>\n      <td>69.1875</td>\n      <td>66.0625</td>\n      <td>0.949707</td>\n      <td>-0.223877</td>\n      <td>68.4375</td>\n      <td>71.50000</td>\n      <td>66.0625</td>\n      <td>1.335938</td>\n      <td>0.233032</td>\n    </tr>\n    <tr>\n      <th>3</th>\n      <td>2021-12-22 23:00:03</td>\n      <td>68.25000</td>\n      <td>300.000000</td>\n      <td>2.250000</td>\n      <td>31.500000</td>\n      <td>194.250000</td>\n      <td>30.328125</td>\n      <td>32122.589844</td>\n      <td>60.0</td>\n      <td>89.43750</td>\n      <td>...</td>\n      <td>67.75000</td>\n      <td>69.1875</td>\n      <td>66.0625</td>\n      <td>0.948730</td>\n      <td>-0.224487</td>\n      <td>68.4375</td>\n      <td>71.50000</td>\n      <td>66.0625</td>\n      <td>1.332031</td>\n      <td>0.230225</td>\n    </tr>\n    <tr>\n      <th>4</th>\n      <td>2021-12-22 23:00:04</td>\n      <td>68.18750</td>\n      <td>300.250000</td>\n      <td>2.267578</td>\n      <td>31.593750</td>\n      <td>194.125000</td>\n      <td>30.343750</td>\n      <td>32296.507812</td>\n      <td>60.0</td>\n      <td>89.50000</td>\n      <td>...</td>\n      <td>67.75000</td>\n      <td>69.1875</td>\n      <td>66.0625</td>\n      <td>0.947266</td>\n      <td>-0.225342</td>\n      <td>68.4375</td>\n      <td>71.50000</td>\n      <td>66.0625</td>\n      <td>1.328125</td>\n      <td>0.227051</td>\n    </tr>\n    <tr>\n      <th>...</th>\n      <td>...</td>\n      <td>...</td>\n      <td>...</td>\n      <td>...</td>\n      <td>...</td>\n      <td>...</td>\n      <td>...</td>\n      <td>...</td>\n      <td>...</td>\n      <td>...</td>\n      <td>...</td>\n      <td>...</td>\n      <td>...</td>\n      <td>...</td>\n      <td>...</td>\n      <td>...</td>\n      <td>...</td>\n      <td>...</td>\n      <td>...</td>\n      <td>...</td>\n      <td>...</td>\n    </tr>\n    <tr>\n      <th>1795</th>\n      <td>2021-12-22 23:29:55</td>\n      <td>57.78125</td>\n      <td>2.304688</td>\n      <td>2.648438</td>\n      <td>111.625000</td>\n      <td>2.791016</td>\n      <td>65.562500</td>\n      <td>72750.445312</td>\n      <td>60.0</td>\n      <td>49.53125</td>\n      <td>...</td>\n      <td>57.31250</td>\n      <td>58.1250</td>\n      <td>56.6875</td>\n      <td>0.323486</td>\n      <td>0.122375</td>\n      <td>57.5625</td>\n      <td>58.71875</td>\n      <td>56.6875</td>\n      <td>0.458984</td>\n      <td>0.187500</td>\n    </tr>\n    <tr>\n      <th>1796</th>\n      <td>2021-12-22 23:29:56</td>\n      <td>57.81250</td>\n      <td>2.541016</td>\n      <td>2.773438</td>\n      <td>111.562500</td>\n      <td>3.257812</td>\n      <td>65.562500</td>\n      <td>72642.570312</td>\n      <td>60.0</td>\n      <td>49.50000</td>\n      <td>...</td>\n      <td>57.31250</td>\n      <td>58.1250</td>\n      <td>56.6875</td>\n      <td>0.324219</td>\n      <td>0.120667</td>\n      <td>57.5625</td>\n      <td>58.71875</td>\n      <td>56.6875</td>\n      <td>0.458252</td>\n      <td>0.186768</td>\n    </tr>\n    <tr>\n      <th>1797</th>\n      <td>2021-12-22 23:29:57</td>\n      <td>57.78125</td>\n      <td>2.521484</td>\n      <td>2.804688</td>\n      <td>111.687500</td>\n      <td>3.250000</td>\n      <td>65.562500</td>\n      <td>72248.210938</td>\n      <td>60.0</td>\n      <td>49.46875</td>\n      <td>...</td>\n      <td>57.31250</td>\n      <td>58.1250</td>\n      <td>56.6875</td>\n      <td>0.324707</td>\n      <td>0.119568</td>\n      <td>57.5625</td>\n      <td>58.71875</td>\n      <td>56.6875</td>\n      <td>0.457520</td>\n      <td>0.186035</td>\n    </tr>\n    <tr>\n      <th>1798</th>\n      <td>2021-12-22 23:29:58</td>\n      <td>57.75000</td>\n      <td>2.478516</td>\n      <td>2.814453</td>\n      <td>111.562500</td>\n      <td>3.320312</td>\n      <td>65.562500</td>\n      <td>72480.445312</td>\n      <td>60.0</td>\n      <td>49.46875</td>\n      <td>...</td>\n      <td>57.34375</td>\n      <td>58.1250</td>\n      <td>56.6875</td>\n      <td>0.325195</td>\n      <td>0.116699</td>\n      <td>57.5625</td>\n      <td>58.71875</td>\n      <td>56.6875</td>\n      <td>0.456787</td>\n      <td>0.185425</td>\n    </tr>\n    <tr>\n      <th>1799</th>\n      <td>2021-12-22 23:29:59</td>\n      <td>58.03125</td>\n      <td>2.458984</td>\n      <td>2.861328</td>\n      <td>111.562500</td>\n      <td>3.214844</td>\n      <td>65.562500</td>\n      <td>72773.546875</td>\n      <td>60.0</td>\n      <td>49.46875</td>\n      <td>...</td>\n      <td>57.34375</td>\n      <td>58.1250</td>\n      <td>56.6875</td>\n      <td>0.325439</td>\n      <td>0.115601</td>\n      <td>57.5625</td>\n      <td>58.71875</td>\n      <td>56.6875</td>\n      <td>0.455811</td>\n      <td>0.182739</td>\n    </tr>\n  </tbody>\n</table>\n<p>1800 rows × 409 columns</p>\n</div>"
     },
     "execution_count": 35,
     "metadata": {},
     "output_type": "execute_result"
    }
   ],
   "source": [
    "valid"
   ],
   "metadata": {
    "collapsed": false,
    "pycharm": {
     "name": "#%%\n"
    }
   }
  },
  {
   "cell_type": "code",
   "execution_count": 1,
   "outputs": [],
   "source": [],
   "metadata": {
    "collapsed": false,
    "pycharm": {
     "name": "#%%\n"
    }
   }
  },
  {
   "cell_type": "code",
   "execution_count": 1,
   "outputs": [],
   "source": [],
   "metadata": {
    "collapsed": false,
    "pycharm": {
     "name": "#%%\n"
    }
   }
  },
  {
   "cell_type": "code",
   "execution_count": 1,
   "outputs": [],
   "source": [],
   "metadata": {
    "collapsed": false,
    "pycharm": {
     "name": "#%%\n"
    }
   }
  },
  {
   "cell_type": "code",
   "execution_count": 1,
   "outputs": [],
   "source": [],
   "metadata": {
    "collapsed": false,
    "pycharm": {
     "name": "#%%\n"
    }
   }
  },
  {
   "cell_type": "code",
   "execution_count": 1,
   "outputs": [],
   "source": [],
   "metadata": {
    "collapsed": false,
    "pycharm": {
     "name": "#%%\n"
    }
   }
  },
  {
   "cell_type": "code",
   "execution_count": 1,
   "outputs": [],
   "source": [],
   "metadata": {
    "collapsed": false,
    "pycharm": {
     "name": "#%%\n"
    }
   }
  },
  {
   "cell_type": "code",
   "execution_count": 1,
   "outputs": [],
   "source": [],
   "metadata": {
    "collapsed": false,
    "pycharm": {
     "name": "#%%\n"
    }
   }
  },
  {
   "cell_type": "code",
   "execution_count": 1,
   "outputs": [],
   "source": [],
   "metadata": {
    "collapsed": false,
    "pycharm": {
     "name": "#%%\n"
    }
   }
  },
  {
   "cell_type": "code",
   "execution_count": 1,
   "outputs": [],
   "source": [],
   "metadata": {
    "collapsed": false,
    "pycharm": {
     "name": "#%%\n"
    }
   }
  },
  {
   "cell_type": "code",
   "execution_count": 1,
   "outputs": [],
   "source": [],
   "metadata": {
    "collapsed": false,
    "pycharm": {
     "name": "#%%\n"
    }
   }
  },
  {
   "cell_type": "code",
   "execution_count": 1,
   "outputs": [],
   "source": [],
   "metadata": {
    "collapsed": false,
    "pycharm": {
     "name": "#%%\n"
    }
   }
  },
  {
   "cell_type": "code",
   "execution_count": 1,
   "outputs": [],
   "source": [],
   "metadata": {
    "collapsed": false,
    "pycharm": {
     "name": "#%%\n"
    }
   }
  },
  {
   "cell_type": "code",
   "execution_count": 1,
   "outputs": [],
   "source": [],
   "metadata": {
    "collapsed": false,
    "pycharm": {
     "name": "#%%\n"
    }
   }
  },
  {
   "cell_type": "code",
   "execution_count": 1,
   "outputs": [],
   "source": [],
   "metadata": {
    "collapsed": false,
    "pycharm": {
     "name": "#%%\n"
    }
   }
  },
  {
   "cell_type": "code",
   "execution_count": null,
   "outputs": [],
   "source": [
    "\n"
   ],
   "metadata": {
    "collapsed": false,
    "pycharm": {
     "name": "#%%\n"
    }
   }
  }
 ],
 "metadata": {
  "kernelspec": {
   "display_name": "Python 3",
   "language": "python",
   "name": "python3"
  },
  "language_info": {
   "codemirror_mode": {
    "name": "ipython",
    "version": 2
   },
   "file_extension": ".py",
   "mimetype": "text/x-python",
   "name": "python",
   "nbconvert_exporter": "python",
   "pygments_lexer": "ipython2",
   "version": "2.7.6"
  }
 },
 "nbformat": 4,
 "nbformat_minor": 0
}