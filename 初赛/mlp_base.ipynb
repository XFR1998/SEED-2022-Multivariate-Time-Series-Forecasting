{
 "cells": [
  {
   "cell_type": "code",
   "execution_count": 151,
   "outputs": [],
   "source": [
    "# -*- coding: utf-8 -*-\n",
    "\"\"\"\n",
    "Created on Wed Oct 19 13:29:30 2022\n",
    "\n",
    "@author: xdata\n",
    "\"\"\"\n",
    "import os\n",
    "import pandas as pd\n",
    "import numpy as np\n",
    "from sklearn.preprocessing import MinMaxScaler\n",
    "import matplotlib.pyplot as plt\n",
    "import lightgbm as lgb\n",
    "import math\n",
    "from sklearn.metrics import mean_squared_error as mse\n",
    "from sklearn.linear_model import LinearRegression\n",
    "import warnings\n",
    "import pdb\n",
    "warnings.filterwarnings('ignore')\n",
    "import random\n",
    "import torch\n",
    "import torch.nn as nn\n",
    "import random\n",
    "from tqdm import tqdm\n",
    "from sklearn.metrics import confusion_matrix, classification_report\n",
    "from sklearn.model_selection import train_test_split\n",
    "# from torch.utils.data import TensorDataset,SequentialSampler,RandomSampler,DataLoader\n",
    "from torch.utils.data import Dataset, DataLoader\n",
    "from tqdm import tqdm"
   ],
   "metadata": {
    "collapsed": false,
    "pycharm": {
     "name": "#%%\n"
    }
   }
  },
  {
   "cell_type": "code",
   "execution_count": 152,
   "outputs": [
    {
     "name": "stdout",
     "output_type": "stream",
     "text": [
      "训练集的大小为：  257398\n",
      "测试集的大小为：  1800\n"
     ]
    }
   ],
   "source": [
    "def set_seed(seed):\n",
    "    random.seed(seed)\n",
    "    np.random.seed(seed)\n",
    "    os.environ['PYTHONHASHSEED'] = str(seed)  # 禁止hash随机化\n",
    "    torch.manual_seed(seed)\n",
    "\n",
    "\n",
    "set_seed(2022)\n",
    "train = pd.read_csv('data/train.csv')\n",
    "test = pd.read_csv('data/test.csv')\n",
    "\n",
    "print('训练集的大小为： ', len(train))\n",
    "print('测试集的大小为： ', len(test))\n",
    "\n",
    "\n",
    "train = train.dropna()\n",
    "train.reset_index(drop=True,inplace=True)\n",
    "\n",
    "label = 'Main_steam_flow_rate'\n",
    "\n",
    "# =============================================================================\n",
    "# ['时间', '主蒸汽流量', 'CO含量', 'HCL含量', 'NOx含量', 'SO2含量', '一次风调门', '一次风量',\n",
    "#        '主蒸汽流量设定值', '二次风调门', '二次风量', '引风机转速', '推料器启停', '推料器手动指令',\n",
    "#        '推料器自动投退信号', '推料器自动指令', '氧量设定值', '汽包水位', '炉排启停', '炉排实际运行指令',\n",
    "#        '炉排手动指令', '炉排自动投退信号', '给水流量']\n",
    "# =============================================================================\n"
   ],
   "metadata": {
    "collapsed": false,
    "pycharm": {
     "name": "#%%\n"
    }
   }
  },
  {
   "cell_type": "code",
   "execution_count": 153,
   "outputs": [],
   "source": [
    "train.columns = ['Time', 'Main_steam_flow_rate', 'CO_content', 'HCL_content', 'NOx_content', 'SO2_content', 'Primary_air_regulator', 'Primary_air_volume',\n",
    "       'Main_steam_flow_rate_setting', 'Secondary_air_regulator', 'Secondary_air_volume', 'Inducer_fan_speed', 'Pusher_start_stop', 'Pusher_manual_command',\n",
    "       'Pusher_automatic_throwback_signal', 'Pusher_automatic_command', 'Oxygen_setpoint', 'Ladle_water_level', 'Grate_start_stop', 'Grate_actual_operation_command',\n",
    "       'Grate_manual_command', 'Grate_automatic_throw-out_signal', 'Feedwater_flow']\n",
    "\n",
    "test.columns = ['Time', 'CO_content', 'HCL_content', 'NOx_content', 'SO2_content', 'Primary_air_regulator', 'Primary_air_volume',\n",
    "       'Main_steam_flow_rate_setting', 'Secondary_air_regulator', 'Secondary_air_volume', 'Inducer_fan_speed', 'Pusher_start_stop', 'Pusher_manual_command',\n",
    "       'Pusher_automatic_throwback_signal', 'Pusher_automatic_command', 'Oxygen_setpoint', 'Ladle_water_level', 'Grate_start_stop', 'Grate_actual_operation_command',\n",
    "       'Grate_manual_command', 'Grate_automatic_throw-out_signal', 'Feedwater_flow']\n"
   ],
   "metadata": {
    "collapsed": false,
    "pycharm": {
     "name": "#%%\n"
    }
   }
  },
  {
   "cell_type": "code",
   "execution_count": 154,
   "outputs": [
    {
     "data": {
      "text/plain": "(23, 22)"
     },
     "execution_count": 154,
     "metadata": {},
     "output_type": "execute_result"
    }
   ],
   "source": [
    "len(train.columns), len(test.columns)"
   ],
   "metadata": {
    "collapsed": false,
    "pycharm": {
     "name": "#%%\n"
    }
   }
  },
  {
   "cell_type": "code",
   "execution_count": 155,
   "outputs": [
    {
     "name": "stdout",
     "output_type": "stream",
     "text": [
      "<class 'pandas.core.frame.DataFrame'>\n",
      "Int64Index: 259182 entries, 0 to 1799\n",
      "Data columns (total 23 columns):\n",
      " #   Column                             Non-Null Count   Dtype  \n",
      "---  ------                             --------------   -----  \n",
      " 0   Time                               259182 non-null  object \n",
      " 1   Main_steam_flow_rate               257382 non-null  float64\n",
      " 2   CO_content                         259182 non-null  float64\n",
      " 3   HCL_content                        259182 non-null  float64\n",
      " 4   NOx_content                        259182 non-null  float64\n",
      " 5   SO2_content                        259182 non-null  float64\n",
      " 6   Primary_air_regulator              259182 non-null  float64\n",
      " 7   Primary_air_volume                 259182 non-null  float64\n",
      " 8   Main_steam_flow_rate_setting       259182 non-null  float64\n",
      " 9   Secondary_air_regulator            259182 non-null  float64\n",
      " 10  Secondary_air_volume               259182 non-null  float64\n",
      " 11  Inducer_fan_speed                  259182 non-null  float64\n",
      " 12  Pusher_start_stop                  259182 non-null  object \n",
      " 13  Pusher_manual_command              259182 non-null  float64\n",
      " 14  Pusher_automatic_throwback_signal  259182 non-null  object \n",
      " 15  Pusher_automatic_command           259182 non-null  float64\n",
      " 16  Oxygen_setpoint                    259182 non-null  float64\n",
      " 17  Ladle_water_level                  259182 non-null  float64\n",
      " 18  Grate_start_stop                   259182 non-null  object \n",
      " 19  Grate_actual_operation_command     259182 non-null  float64\n",
      " 20  Grate_manual_command               259182 non-null  float64\n",
      " 21  Grate_automatic_throw-out_signal   259182 non-null  object \n",
      " 22  Feedwater_flow                     259182 non-null  float64\n",
      "dtypes: float64(18), object(5)\n",
      "memory usage: 47.5+ MB\n"
     ]
    }
   ],
   "source": [
    "df = pd.concat([train, test])\n",
    "\n",
    "df.info()"
   ],
   "metadata": {
    "collapsed": false,
    "pycharm": {
     "name": "#%%\n"
    }
   }
  },
  {
   "cell_type": "code",
   "execution_count": 156,
   "outputs": [
    {
     "data": {
      "text/plain": "                  Time  Main_steam_flow_rate  CO_content  HCL_content  \\\n0  2021-12-20 00:00:06               54.4935      1.8403       5.9213   \n1  2021-12-20 00:00:07               54.4664      1.8681       5.9074   \n2  2021-12-20 00:00:08               54.5466      1.8264       5.8796   \n3  2021-12-20 00:00:09               54.5126      1.8403       5.8935   \n4  2021-12-20 00:00:10               54.3731      1.9028       5.9074   \n\n   NOx_content  SO2_content  Primary_air_regulator  Primary_air_volume  \\\n0      57.0556       2.8819                75.2477          72565.4141   \n1      57.1111       2.8542                75.2384          71991.8828   \n2      56.9444       2.8472                75.3657          71781.4844   \n3      56.7593       2.9236                75.3426          72240.4453   \n4      56.9259       2.8750                75.2940          72842.7813   \n\n   Main_steam_flow_rate_setting  Secondary_air_regulator  ...  \\\n0                          60.0                  21.1690  ...   \n1                          60.0                  21.3009  ...   \n2                          60.0                  21.3495  ...   \n3                          60.0                  21.4907  ...   \n4                          60.0                  21.7176  ...   \n\n   Pusher_manual_command  Pusher_automatic_throwback_signal  \\\n0                54.0946                               True   \n1                54.0435                               True   \n2                54.0453                               True   \n3                54.0535                               True   \n4                54.0618                               True   \n\n  Pusher_automatic_command  Oxygen_setpoint Ladle_water_level  \\\n0                  54.0971              5.5            1.8370   \n1                  54.0387              5.5            1.9551   \n2                  54.0469              5.5            2.0904   \n3                  54.0552              5.5            2.2391   \n4                  54.0634              5.5            2.4038   \n\n   Grate_start_stop  Grate_actual_operation_command  Grate_manual_command  \\\n0              True                         44.0921               44.0946   \n1              True                         44.1057               44.0435   \n2              True                         44.0436               44.0453   \n3              True                         44.0527               44.0535   \n4              True                         44.0601               44.0618   \n\n  Grate_automatic_throw-out_signal  Feedwater_flow  \n0                             True         74.3151  \n1                             True         74.3242  \n2                             True         74.2533  \n3                             True         74.2104  \n4                             True         74.1579  \n\n[5 rows x 23 columns]",
      "text/html": "<div>\n<style scoped>\n    .dataframe tbody tr th:only-of-type {\n        vertical-align: middle;\n    }\n\n    .dataframe tbody tr th {\n        vertical-align: top;\n    }\n\n    .dataframe thead th {\n        text-align: right;\n    }\n</style>\n<table border=\"1\" class=\"dataframe\">\n  <thead>\n    <tr style=\"text-align: right;\">\n      <th></th>\n      <th>Time</th>\n      <th>Main_steam_flow_rate</th>\n      <th>CO_content</th>\n      <th>HCL_content</th>\n      <th>NOx_content</th>\n      <th>SO2_content</th>\n      <th>Primary_air_regulator</th>\n      <th>Primary_air_volume</th>\n      <th>Main_steam_flow_rate_setting</th>\n      <th>Secondary_air_regulator</th>\n      <th>...</th>\n      <th>Pusher_manual_command</th>\n      <th>Pusher_automatic_throwback_signal</th>\n      <th>Pusher_automatic_command</th>\n      <th>Oxygen_setpoint</th>\n      <th>Ladle_water_level</th>\n      <th>Grate_start_stop</th>\n      <th>Grate_actual_operation_command</th>\n      <th>Grate_manual_command</th>\n      <th>Grate_automatic_throw-out_signal</th>\n      <th>Feedwater_flow</th>\n    </tr>\n  </thead>\n  <tbody>\n    <tr>\n      <th>0</th>\n      <td>2021-12-20 00:00:06</td>\n      <td>54.4935</td>\n      <td>1.8403</td>\n      <td>5.9213</td>\n      <td>57.0556</td>\n      <td>2.8819</td>\n      <td>75.2477</td>\n      <td>72565.4141</td>\n      <td>60.0</td>\n      <td>21.1690</td>\n      <td>...</td>\n      <td>54.0946</td>\n      <td>True</td>\n      <td>54.0971</td>\n      <td>5.5</td>\n      <td>1.8370</td>\n      <td>True</td>\n      <td>44.0921</td>\n      <td>44.0946</td>\n      <td>True</td>\n      <td>74.3151</td>\n    </tr>\n    <tr>\n      <th>1</th>\n      <td>2021-12-20 00:00:07</td>\n      <td>54.4664</td>\n      <td>1.8681</td>\n      <td>5.9074</td>\n      <td>57.1111</td>\n      <td>2.8542</td>\n      <td>75.2384</td>\n      <td>71991.8828</td>\n      <td>60.0</td>\n      <td>21.3009</td>\n      <td>...</td>\n      <td>54.0435</td>\n      <td>True</td>\n      <td>54.0387</td>\n      <td>5.5</td>\n      <td>1.9551</td>\n      <td>True</td>\n      <td>44.1057</td>\n      <td>44.0435</td>\n      <td>True</td>\n      <td>74.3242</td>\n    </tr>\n    <tr>\n      <th>2</th>\n      <td>2021-12-20 00:00:08</td>\n      <td>54.5466</td>\n      <td>1.8264</td>\n      <td>5.8796</td>\n      <td>56.9444</td>\n      <td>2.8472</td>\n      <td>75.3657</td>\n      <td>71781.4844</td>\n      <td>60.0</td>\n      <td>21.3495</td>\n      <td>...</td>\n      <td>54.0453</td>\n      <td>True</td>\n      <td>54.0469</td>\n      <td>5.5</td>\n      <td>2.0904</td>\n      <td>True</td>\n      <td>44.0436</td>\n      <td>44.0453</td>\n      <td>True</td>\n      <td>74.2533</td>\n    </tr>\n    <tr>\n      <th>3</th>\n      <td>2021-12-20 00:00:09</td>\n      <td>54.5126</td>\n      <td>1.8403</td>\n      <td>5.8935</td>\n      <td>56.7593</td>\n      <td>2.9236</td>\n      <td>75.3426</td>\n      <td>72240.4453</td>\n      <td>60.0</td>\n      <td>21.4907</td>\n      <td>...</td>\n      <td>54.0535</td>\n      <td>True</td>\n      <td>54.0552</td>\n      <td>5.5</td>\n      <td>2.2391</td>\n      <td>True</td>\n      <td>44.0527</td>\n      <td>44.0535</td>\n      <td>True</td>\n      <td>74.2104</td>\n    </tr>\n    <tr>\n      <th>4</th>\n      <td>2021-12-20 00:00:10</td>\n      <td>54.3731</td>\n      <td>1.9028</td>\n      <td>5.9074</td>\n      <td>56.9259</td>\n      <td>2.8750</td>\n      <td>75.2940</td>\n      <td>72842.7813</td>\n      <td>60.0</td>\n      <td>21.7176</td>\n      <td>...</td>\n      <td>54.0618</td>\n      <td>True</td>\n      <td>54.0634</td>\n      <td>5.5</td>\n      <td>2.4038</td>\n      <td>True</td>\n      <td>44.0601</td>\n      <td>44.0618</td>\n      <td>True</td>\n      <td>74.1579</td>\n    </tr>\n  </tbody>\n</table>\n<p>5 rows × 23 columns</p>\n</div>"
     },
     "execution_count": 156,
     "metadata": {},
     "output_type": "execute_result"
    }
   ],
   "source": [
    "df.head(5)\n"
   ],
   "metadata": {
    "collapsed": false,
    "pycharm": {
     "name": "#%%\n"
    }
   }
  },
  {
   "cell_type": "code",
   "execution_count": 157,
   "outputs": [
    {
     "name": "stdout",
     "output_type": "stream",
     "text": [
      "df.shape:  (259182, 23)\n"
     ]
    }
   ],
   "source": [
    "print('df.shape: ', df.shape)\n",
    "\n",
    "df.drop(columns=['Time'], inplace=True)"
   ],
   "metadata": {
    "collapsed": false,
    "pycharm": {
     "name": "#%%\n"
    }
   }
  },
  {
   "cell_type": "code",
   "execution_count": 158,
   "outputs": [],
   "source": [
    "\n",
    "df['gas'] = df.CO_content + df.HCL_content + df.SO2_content + df.NOx_content\n",
    "for f in ['Feedwater_flow', 'Oxygen_setpoint', 'Primary_air_volume', 'Main_steam_flow_rate_setting', 'Ladle_water_level']:\n",
    "    shift_f = []\n",
    "    shift_d = []\n",
    "    for i in range(200):\n",
    "        colname = f+'_shift_{}'.format(i+1)\n",
    "        df[colname] = df[f].shift(i+1)\n",
    "        shift_f.append(colname)\n",
    "\n",
    "        if i>10:\n",
    "            shift_d.append(colname)\n",
    "        colname = f+'_diff_{}'.format(i+1)\n",
    "        df[colname] = df[f].diff(i+1)\n",
    "# =============================================================================\n",
    "#         if (i+1)%50==0:\n",
    "#             data[f+'_fore_{}_steps_mean'.format(i)] = data[shift_f].mean(1)\n",
    "#             data[f+'_fore_{}_steps_max'.format(i)] = data[shift_f].max(1)\n",
    "#             data[f+'_fore_{}_steps_min'.format(i)] = data[shift_f].min(1)\n",
    "#             data[f+'_fore_{}_steps_std'.format(i)] = data[shift_f].std(1)\n",
    "# =============================================================================\n",
    "\n",
    "    # data[f+'_diff'] = data[f].diff(1)\n",
    "    df[f+'_fore_7_steps_mean'] = df[shift_f].mean(1)\n",
    "    df[f+'_fore_7_steps_max'] = df[shift_f].max(1)\n",
    "    df[f+'_fore_7_steps_min'] = df[shift_f].min(1)\n",
    "    df[f+'_fore_7_steps_std'] = df[shift_f].std(1)\n",
    "    df.drop(shift_d, axis=1, inplace=True)\n",
    "\n",
    "df['Grate_start_stop'] = df['Grate_start_stop'].map(int)\n",
    "df['Pusher_start_stop'] = df['Pusher_start_stop'].map(int)\n",
    "df['Pusher_automatic_throwback_signal'] = df['Pusher_automatic_throwback_signal'].map(int)\n",
    "df['Grate_automatic_throw-out_signal'] = df['Grate_automatic_throw-out_signal'].map(int)"
   ],
   "metadata": {
    "collapsed": false,
    "pycharm": {
     "name": "#%%\n"
    }
   }
  },
  {
   "cell_type": "code",
   "execution_count": 189,
   "outputs": [],
   "source": [
    "for column in list(df.columns[df.isnull().sum() > 0]):\n",
    "\n",
    "    mean_val = df[column].mean()\n",
    "\n",
    "    df[column].fillna(0, inplace=True)"
   ],
   "metadata": {
    "collapsed": false,
    "pycharm": {
     "name": "#%%\n"
    }
   }
  },
  {
   "cell_type": "code",
   "execution_count": 190,
   "outputs": [],
   "source": [
    "df_test = df.tail(1800)\n",
    "df_train = df.iloc[:-1800, :]\n",
    "df_train.reset_index(drop=True,inplace=True)\n",
    "\n",
    "df_valid = df_train.iloc[-1800:, :]\n",
    "df_train = df_train.iloc[:-1800, :]\n",
    "\n",
    "df_valid.reset_index(drop=True, inplace=True)"
   ],
   "metadata": {
    "collapsed": false,
    "pycharm": {
     "name": "#%%\n"
    }
   }
  },
  {
   "cell_type": "code",
   "execution_count": 208,
   "outputs": [
    {
     "data": {
      "text/plain": "        Main_steam_flow_rate  CO_content  HCL_content  NOx_content  \\\n0                    54.4935      1.8403       5.9213      57.0556   \n1                    54.4664      1.8681       5.9074      57.1111   \n2                    54.5466      1.8264       5.8796      56.9444   \n3                    54.5126      1.8403       5.8935      56.7593   \n4                    54.3731      1.9028       5.9074      56.9259   \n...                      ...         ...          ...          ...   \n255577               68.3063    300.0692       1.7870      30.4815   \n255578               68.4041    300.0969       1.8287      30.3704   \n255579               68.2642    300.1178       1.8148      30.3519   \n255580               68.2996    300.0693       1.8056      30.5926   \n255581               68.2906    300.0970       1.7593      30.5926   \n\n        SO2_content  Primary_air_regulator  Primary_air_volume  \\\n0            2.8819                75.2477          72565.4141   \n1            2.8542                75.2384          71991.8828   \n2            2.8472                75.3657          71781.4844   \n3            2.9236                75.3426          72240.4453   \n4            2.8750                75.2940          72842.7813   \n...             ...                    ...                 ...   \n255577     202.0139                30.3401          32727.2578   \n255578     201.9236                30.3169          32641.5645   \n255579     201.9028                30.3077          32693.0098   \n255580     201.8333                30.3470          32812.7305   \n255581     201.9167                30.3331          32761.4766   \n\n        Main_steam_flow_rate_setting  Secondary_air_regulator  \\\n0                               60.0                  21.1690   \n1                               60.0                  21.3009   \n2                               60.0                  21.3495   \n3                               60.0                  21.4907   \n4                               60.0                  21.7176   \n...                              ...                      ...   \n255577                          60.0                  89.4491   \n255578                          60.0                  89.4097   \n255579                          60.0                  89.4144   \n255580                          60.0                  89.4259   \n255581                          60.0                  89.4329   \n\n        Secondary_air_volume  ...  Ladle_water_level_diff_195  \\\n0                  4898.9800  ...                    0.006806   \n1                  4898.9800  ...                    0.006806   \n2                  4898.9800  ...                    0.006806   \n3                  5123.4751  ...                    0.006806   \n4                  5123.4751  ...                    0.006806   \n...                      ...  ...                         ...   \n255577            35028.5625  ...                   24.957900   \n255578            34996.4297  ...                   24.824300   \n255579            34781.4570  ...                   24.839500   \n255580            34565.1523  ...                   24.670100   \n255581            34889.1094  ...                   24.518600   \n\n        Ladle_water_level_diff_196  Ladle_water_level_diff_197  \\\n0                         0.006806                    0.006806   \n1                         0.006806                    0.006806   \n2                         0.006806                    0.006806   \n3                         0.006806                    0.006806   \n4                         0.006806                    0.006806   \n...                            ...                         ...   \n255577                   25.175700                   25.528300   \n255578                   24.921500                   25.139300   \n255579                   24.814200                   24.911400   \n255580                   24.789300                   24.764000   \n255581                   24.603400                   24.722600   \n\n        Ladle_water_level_diff_198  Ladle_water_level_diff_199  \\\n0                         0.006806                    0.006806   \n1                         0.006806                    0.006806   \n2                         0.006806                    0.006806   \n3                         0.006806                    0.006806   \n4                         0.006806                    0.006806   \n...                            ...                         ...   \n255577                   25.788700                   25.870100   \n255578                   25.491900                   25.752300   \n255579                   25.129200                   25.481800   \n255580                   24.861200                   25.079000   \n255581                   24.697300                   24.794500   \n\n        Ladle_water_level_diff_200  Ladle_water_level_fore_7_steps_mean  \\\n0                         0.006807                             4.999725   \n1                         0.006807                             1.837000   \n2                         0.006807                             1.896050   \n3                         0.006807                             1.960833   \n4                         0.006807                             2.030400   \n...                            ...                                  ...   \n255577                   25.961200                            12.305163   \n255578                   25.833700                            12.434969   \n255579                   25.742200                            12.564137   \n255580                   25.431600                            12.692848   \n255581                   25.012300                            12.820006   \n\n        Ladle_water_level_fore_7_steps_max  \\\n0                                 8.832276   \n1                                 1.837000   \n2                                 1.955100   \n3                                 2.090400   \n4                                 2.239100   \n...                                    ...   \n255577                           26.686700   \n255578                           26.686700   \n255579                           26.686700   \n255580                           26.686700   \n255581                           26.686700   \n\n        Ladle_water_level_fore_7_steps_min  Ladle_water_level_fore_7_steps_std  \n0                                 0.997382                            2.302957  \n1                                 1.837000                            2.302957  \n2                                 1.837000                            0.083509  \n3                                 1.837000                            0.126797  \n4                                 1.837000                            0.173426  \n...                                    ...                                 ...  \n255577                           -2.627900                           10.013213  \n255578                           -2.536800                            9.986895  \n255579                           -2.455400                            9.959306  \n255580                           -2.195000                            9.930523  \n255581                           -1.842400                            9.901711  \n\n[255582 rows x 1098 columns]",
      "text/html": "<div>\n<style scoped>\n    .dataframe tbody tr th:only-of-type {\n        vertical-align: middle;\n    }\n\n    .dataframe tbody tr th {\n        vertical-align: top;\n    }\n\n    .dataframe thead th {\n        text-align: right;\n    }\n</style>\n<table border=\"1\" class=\"dataframe\">\n  <thead>\n    <tr style=\"text-align: right;\">\n      <th></th>\n      <th>Main_steam_flow_rate</th>\n      <th>CO_content</th>\n      <th>HCL_content</th>\n      <th>NOx_content</th>\n      <th>SO2_content</th>\n      <th>Primary_air_regulator</th>\n      <th>Primary_air_volume</th>\n      <th>Main_steam_flow_rate_setting</th>\n      <th>Secondary_air_regulator</th>\n      <th>Secondary_air_volume</th>\n      <th>...</th>\n      <th>Ladle_water_level_diff_195</th>\n      <th>Ladle_water_level_diff_196</th>\n      <th>Ladle_water_level_diff_197</th>\n      <th>Ladle_water_level_diff_198</th>\n      <th>Ladle_water_level_diff_199</th>\n      <th>Ladle_water_level_diff_200</th>\n      <th>Ladle_water_level_fore_7_steps_mean</th>\n      <th>Ladle_water_level_fore_7_steps_max</th>\n      <th>Ladle_water_level_fore_7_steps_min</th>\n      <th>Ladle_water_level_fore_7_steps_std</th>\n    </tr>\n  </thead>\n  <tbody>\n    <tr>\n      <th>0</th>\n      <td>54.4935</td>\n      <td>1.8403</td>\n      <td>5.9213</td>\n      <td>57.0556</td>\n      <td>2.8819</td>\n      <td>75.2477</td>\n      <td>72565.4141</td>\n      <td>60.0</td>\n      <td>21.1690</td>\n      <td>4898.9800</td>\n      <td>...</td>\n      <td>0.006806</td>\n      <td>0.006806</td>\n      <td>0.006806</td>\n      <td>0.006806</td>\n      <td>0.006806</td>\n      <td>0.006807</td>\n      <td>4.999725</td>\n      <td>8.832276</td>\n      <td>0.997382</td>\n      <td>2.302957</td>\n    </tr>\n    <tr>\n      <th>1</th>\n      <td>54.4664</td>\n      <td>1.8681</td>\n      <td>5.9074</td>\n      <td>57.1111</td>\n      <td>2.8542</td>\n      <td>75.2384</td>\n      <td>71991.8828</td>\n      <td>60.0</td>\n      <td>21.3009</td>\n      <td>4898.9800</td>\n      <td>...</td>\n      <td>0.006806</td>\n      <td>0.006806</td>\n      <td>0.006806</td>\n      <td>0.006806</td>\n      <td>0.006806</td>\n      <td>0.006807</td>\n      <td>1.837000</td>\n      <td>1.837000</td>\n      <td>1.837000</td>\n      <td>2.302957</td>\n    </tr>\n    <tr>\n      <th>2</th>\n      <td>54.5466</td>\n      <td>1.8264</td>\n      <td>5.8796</td>\n      <td>56.9444</td>\n      <td>2.8472</td>\n      <td>75.3657</td>\n      <td>71781.4844</td>\n      <td>60.0</td>\n      <td>21.3495</td>\n      <td>4898.9800</td>\n      <td>...</td>\n      <td>0.006806</td>\n      <td>0.006806</td>\n      <td>0.006806</td>\n      <td>0.006806</td>\n      <td>0.006806</td>\n      <td>0.006807</td>\n      <td>1.896050</td>\n      <td>1.955100</td>\n      <td>1.837000</td>\n      <td>0.083509</td>\n    </tr>\n    <tr>\n      <th>3</th>\n      <td>54.5126</td>\n      <td>1.8403</td>\n      <td>5.8935</td>\n      <td>56.7593</td>\n      <td>2.9236</td>\n      <td>75.3426</td>\n      <td>72240.4453</td>\n      <td>60.0</td>\n      <td>21.4907</td>\n      <td>5123.4751</td>\n      <td>...</td>\n      <td>0.006806</td>\n      <td>0.006806</td>\n      <td>0.006806</td>\n      <td>0.006806</td>\n      <td>0.006806</td>\n      <td>0.006807</td>\n      <td>1.960833</td>\n      <td>2.090400</td>\n      <td>1.837000</td>\n      <td>0.126797</td>\n    </tr>\n    <tr>\n      <th>4</th>\n      <td>54.3731</td>\n      <td>1.9028</td>\n      <td>5.9074</td>\n      <td>56.9259</td>\n      <td>2.8750</td>\n      <td>75.2940</td>\n      <td>72842.7813</td>\n      <td>60.0</td>\n      <td>21.7176</td>\n      <td>5123.4751</td>\n      <td>...</td>\n      <td>0.006806</td>\n      <td>0.006806</td>\n      <td>0.006806</td>\n      <td>0.006806</td>\n      <td>0.006806</td>\n      <td>0.006807</td>\n      <td>2.030400</td>\n      <td>2.239100</td>\n      <td>1.837000</td>\n      <td>0.173426</td>\n    </tr>\n    <tr>\n      <th>...</th>\n      <td>...</td>\n      <td>...</td>\n      <td>...</td>\n      <td>...</td>\n      <td>...</td>\n      <td>...</td>\n      <td>...</td>\n      <td>...</td>\n      <td>...</td>\n      <td>...</td>\n      <td>...</td>\n      <td>...</td>\n      <td>...</td>\n      <td>...</td>\n      <td>...</td>\n      <td>...</td>\n      <td>...</td>\n      <td>...</td>\n      <td>...</td>\n      <td>...</td>\n      <td>...</td>\n    </tr>\n    <tr>\n      <th>255577</th>\n      <td>68.3063</td>\n      <td>300.0692</td>\n      <td>1.7870</td>\n      <td>30.4815</td>\n      <td>202.0139</td>\n      <td>30.3401</td>\n      <td>32727.2578</td>\n      <td>60.0</td>\n      <td>89.4491</td>\n      <td>35028.5625</td>\n      <td>...</td>\n      <td>24.957900</td>\n      <td>25.175700</td>\n      <td>25.528300</td>\n      <td>25.788700</td>\n      <td>25.870100</td>\n      <td>25.961200</td>\n      <td>12.305163</td>\n      <td>26.686700</td>\n      <td>-2.627900</td>\n      <td>10.013213</td>\n    </tr>\n    <tr>\n      <th>255578</th>\n      <td>68.4041</td>\n      <td>300.0969</td>\n      <td>1.8287</td>\n      <td>30.3704</td>\n      <td>201.9236</td>\n      <td>30.3169</td>\n      <td>32641.5645</td>\n      <td>60.0</td>\n      <td>89.4097</td>\n      <td>34996.4297</td>\n      <td>...</td>\n      <td>24.824300</td>\n      <td>24.921500</td>\n      <td>25.139300</td>\n      <td>25.491900</td>\n      <td>25.752300</td>\n      <td>25.833700</td>\n      <td>12.434969</td>\n      <td>26.686700</td>\n      <td>-2.536800</td>\n      <td>9.986895</td>\n    </tr>\n    <tr>\n      <th>255579</th>\n      <td>68.2642</td>\n      <td>300.1178</td>\n      <td>1.8148</td>\n      <td>30.3519</td>\n      <td>201.9028</td>\n      <td>30.3077</td>\n      <td>32693.0098</td>\n      <td>60.0</td>\n      <td>89.4144</td>\n      <td>34781.4570</td>\n      <td>...</td>\n      <td>24.839500</td>\n      <td>24.814200</td>\n      <td>24.911400</td>\n      <td>25.129200</td>\n      <td>25.481800</td>\n      <td>25.742200</td>\n      <td>12.564137</td>\n      <td>26.686700</td>\n      <td>-2.455400</td>\n      <td>9.959306</td>\n    </tr>\n    <tr>\n      <th>255580</th>\n      <td>68.2996</td>\n      <td>300.0693</td>\n      <td>1.8056</td>\n      <td>30.5926</td>\n      <td>201.8333</td>\n      <td>30.3470</td>\n      <td>32812.7305</td>\n      <td>60.0</td>\n      <td>89.4259</td>\n      <td>34565.1523</td>\n      <td>...</td>\n      <td>24.670100</td>\n      <td>24.789300</td>\n      <td>24.764000</td>\n      <td>24.861200</td>\n      <td>25.079000</td>\n      <td>25.431600</td>\n      <td>12.692848</td>\n      <td>26.686700</td>\n      <td>-2.195000</td>\n      <td>9.930523</td>\n    </tr>\n    <tr>\n      <th>255581</th>\n      <td>68.2906</td>\n      <td>300.0970</td>\n      <td>1.7593</td>\n      <td>30.5926</td>\n      <td>201.9167</td>\n      <td>30.3331</td>\n      <td>32761.4766</td>\n      <td>60.0</td>\n      <td>89.4329</td>\n      <td>34889.1094</td>\n      <td>...</td>\n      <td>24.518600</td>\n      <td>24.603400</td>\n      <td>24.722600</td>\n      <td>24.697300</td>\n      <td>24.794500</td>\n      <td>25.012300</td>\n      <td>12.820006</td>\n      <td>26.686700</td>\n      <td>-1.842400</td>\n      <td>9.901711</td>\n    </tr>\n  </tbody>\n</table>\n<p>255582 rows × 1098 columns</p>\n</div>"
     },
     "execution_count": 208,
     "metadata": {},
     "output_type": "execute_result"
    }
   ],
   "source": [
    "df_train"
   ],
   "metadata": {
    "collapsed": false,
    "pycharm": {
     "name": "#%%\n"
    }
   }
  },
  {
   "cell_type": "code",
   "execution_count": 191,
   "outputs": [
    {
     "name": "stdout",
     "output_type": "stream",
     "text": [
      "df_train.shape:  (255582, 1098)\n",
      "df_valid.shape:  (1800, 1098)\n",
      "df_test.shape:  (1800, 1098)\n"
     ]
    }
   ],
   "source": [
    "print('df_train.shape: ', df_train.shape)\n",
    "print('df_valid.shape: ', df_valid.shape)\n",
    "print('df_test.shape: ', df_test.shape)"
   ],
   "metadata": {
    "collapsed": false,
    "pycharm": {
     "name": "#%%\n"
    }
   }
  },
  {
   "cell_type": "code",
   "execution_count": 192,
   "outputs": [],
   "source": [
    "scaler = MinMaxScaler(feature_range=(0,1))\n",
    "df_for_training_scaled = scaler.fit_transform(df_train)\n",
    "df_for_validing_scaled = scaler.transform(df_valid)\n",
    "# df_for_testing_scaled=scaler.transform(df_test)"
   ],
   "metadata": {
    "collapsed": false,
    "pycharm": {
     "name": "#%%\n"
    }
   }
  },
  {
   "cell_type": "code",
   "execution_count": 193,
   "outputs": [
    {
     "data": {
      "text/plain": "(255582, 1098)"
     },
     "execution_count": 193,
     "metadata": {},
     "output_type": "execute_result"
    }
   ],
   "source": [
    "df_for_training_scaled.shape"
   ],
   "metadata": {
    "collapsed": false,
    "pycharm": {
     "name": "#%%\n"
    }
   }
  },
  {
   "cell_type": "code",
   "execution_count": 194,
   "outputs": [],
   "source": [
    "trainX, trainY = df_for_training_scaled[:, 1:], df_for_training_scaled[:, 0]\n",
    "validX, validY = df_for_validing_scaled[:, 1:], df_for_validing_scaled[:, 0]"
   ],
   "metadata": {
    "collapsed": false,
    "pycharm": {
     "name": "#%%\n"
    }
   }
  },
  {
   "cell_type": "code",
   "execution_count": 195,
   "outputs": [
    {
     "name": "stdout",
     "output_type": "stream",
     "text": [
      "构建时间序列特征\n",
      "trainX.shape, trainY.shape:  (255582, 1097) (255582,)\n",
      "validX.shape, validY.shape:  (1800, 1097) (1800,)\n"
     ]
    }
   ],
   "source": [
    "print('构建时间序列特征')\n",
    "print('trainX.shape, trainY.shape: ', trainX.shape, trainY.shape)\n",
    "print('validX.shape, validY.shape: ', validX.shape, validY.shape)\n",
    "# print('testX.shape, testY.shape: ', testX.shape, testY.shape)"
   ],
   "metadata": {
    "collapsed": false,
    "pycharm": {
     "name": "#%%\n"
    }
   }
  },
  {
   "cell_type": "code",
   "execution_count": 196,
   "outputs": [],
   "source": [
    "class My_Dataset(Dataset):\n",
    "    def __init__(self, data, labels, test_mode=False):\n",
    "        self.data = data\n",
    "        self.labels = labels\n",
    "        self.test_mode = test_mode\n",
    "\n",
    "    def __len__(self):\n",
    "        return len(self.data)\n",
    "\n",
    "    def __getitem__(self, idx):\n",
    "        if self.test_mode:\n",
    "            sample = dict(input=torch.FloatTensor(self.data[idx]))\n",
    "        else:\n",
    "            sample = dict(input=torch.FloatTensor(self.data[idx]),\n",
    "                          label=torch.FloatTensor(np.array(self.labels[idx])))\n",
    "        return sample\n"
   ],
   "metadata": {
    "collapsed": false,
    "pycharm": {
     "name": "#%%\n"
    }
   }
  },
  {
   "cell_type": "code",
   "execution_count": 197,
   "outputs": [],
   "source": [
    "def create_data_loader(data=None, labels=None, batch_size=32, test_mode=False):\n",
    "    ds=My_Dataset(\n",
    "        data = data,\n",
    "        labels = labels,\n",
    "        test_mode=test_mode)\n",
    "    return DataLoader(ds, batch_size=batch_size, shuffle=False)\n",
    "    # if test_mode:\n",
    "    #     return DataLoader(ds, batch_size=batch_size, shuffle=False)\n",
    "    # else:\n",
    "    #     return DataLoader(ds, batch_size=batch_size, shuffle=True)"
   ],
   "metadata": {
    "collapsed": false,
    "pycharm": {
     "name": "#%%\n"
    }
   }
  },
  {
   "cell_type": "code",
   "execution_count": 198,
   "outputs": [],
   "source": [
    "train_data_loader = create_data_loader(data=trainX,\n",
    "                                       labels=trainY)\n",
    "\n",
    "val_data_loader = create_data_loader(data=validX,\n",
    "                                       labels=validY)"
   ],
   "metadata": {
    "collapsed": false,
    "pycharm": {
     "name": "#%%\n"
    }
   }
  },
  {
   "cell_type": "code",
   "execution_count": 199,
   "outputs": [
    {
     "data": {
      "text/plain": "7987"
     },
     "execution_count": 199,
     "metadata": {},
     "output_type": "execute_result"
    }
   ],
   "source": [
    "len(train_data_loader)"
   ],
   "metadata": {
    "collapsed": false,
    "pycharm": {
     "name": "#%%\n"
    }
   }
  },
  {
   "cell_type": "code",
   "execution_count": 200,
   "outputs": [
    {
     "name": "stdout",
     "output_type": "stream",
     "text": [
      "torch.Size([32, 1097])\n",
      "torch.Size([32])\n"
     ]
    }
   ],
   "source": [
    "data = next(iter(train_data_loader))\n",
    "data.keys()\n",
    "print(data['input'].shape)\n",
    "print(data['label'].shape)"
   ],
   "metadata": {
    "collapsed": false,
    "pycharm": {
     "name": "#%%\n"
    }
   }
  },
  {
   "cell_type": "code",
   "execution_count": 201,
   "outputs": [
    {
     "name": "stdout",
     "output_type": "stream",
     "text": [
      "use device:  cuda:0\n"
     ]
    }
   ],
   "source": [
    "\n",
    "device = torch.device(\"cuda:0\" if torch.cuda.is_available() else \"cpu\")\n",
    "print('use device: ', device)"
   ],
   "metadata": {
    "collapsed": false,
    "pycharm": {
     "name": "#%%\n"
    }
   }
  },
  {
   "cell_type": "code",
   "execution_count": 202,
   "outputs": [],
   "source": [
    "class Time_Model(nn.Module):\n",
    "\n",
    "    def __init__(self):\n",
    "        super().__init__()\n",
    "\n",
    "        # self.hidden_size = 256\n",
    "        # self.num_layers = 1\n",
    "        # self.bidirectional = True\n",
    "        # self.lstm = nn.LSTM(input_size=22,\n",
    "        #                      hidden_size=self.hidden_size,\n",
    "        #                      num_layers=self.num_layers,\n",
    "        #                      bidirectional=self.bidirectional,\n",
    "        #                      batch_first=True)\n",
    "        # self.fc = nn.Linear(self.hidden_size*2, 1)\n",
    "        feature_dim = 1097\n",
    "        self.mlp = nn.Sequential(\n",
    "            nn.Linear(feature_dim, 256),\n",
    "            nn.ReLU(),\n",
    "            nn.Linear(256, 1),\n",
    "            nn.ReLU(),\n",
    "        )\n",
    "\n",
    "    def forward(self, x):\n",
    "        # device = x.device\n",
    "        # batch_size, seq_len, emb_dim = x.shape\n",
    "        # # 初始化：双向就乘2\n",
    "        # h0 = torch.randn(self.num_layers * 2, batch_size, self.hidden_size).to(device)\n",
    "        # c0 = torch.randn(self.num_layers * 2, batch_size, self.hidden_size).to(device)\n",
    "        # x, (_, _) = self.lstm(x, (h0, c0))\n",
    "        # x = x[:,-1,:] # 取最后一个时间步\n",
    "        # x = self.fc(x)\n",
    "        x = self.mlp(x)\n",
    "        return x"
   ],
   "metadata": {
    "collapsed": false,
    "pycharm": {
     "name": "#%%\n"
    }
   }
  },
  {
   "cell_type": "code",
   "execution_count": 203,
   "outputs": [],
   "source": [
    "model = Time_Model()\n",
    "model = model.to(device)"
   ],
   "metadata": {
    "collapsed": false,
    "pycharm": {
     "name": "#%%\n"
    }
   }
  },
  {
   "cell_type": "code",
   "execution_count": 204,
   "outputs": [],
   "source": [
    "# MSE开方就是RMSE了，所以损失可以直接用来作为评估指标哦\n",
    "loss_fn = torch.nn.MSELoss(reduction='mean').to(device)\n",
    "\n",
    "optimizer = torch.optim.Adam(model.parameters(), lr=1e-3)\n",
    "EPOCHS = 32"
   ],
   "metadata": {
    "collapsed": false,
    "pycharm": {
     "name": "#%%\n"
    }
   }
  },
  {
   "cell_type": "code",
   "execution_count": 205,
   "outputs": [],
   "source": [
    "def train_epoch(model, data_loader, loss_fn, optimizer, device):\n",
    "    model = model.train()\n",
    "    losses = []\n",
    "\n",
    "    pred_list = []\n",
    "    target_list = []\n",
    "\n",
    "    for inputs in tqdm(data_loader):\n",
    "        targets = inputs[\"label\"].to(device)\n",
    "        x = inputs['input'].to(device)\n",
    "        outputs = model(x)\n",
    "        preds = outputs\n",
    "\n",
    "\n",
    "        pred_list.extend(preds.cpu().detach().numpy().tolist())\n",
    "        target_list.extend(targets.cpu().detach().numpy().tolist())\n",
    "\n",
    "\n",
    "        loss = loss_fn(outputs, targets)\n",
    "        # MSE开方就是RMSE了\n",
    "        losses.append(np.sqrt(loss.item()))\n",
    "        loss.backward()\n",
    "\n",
    "\n",
    "\n",
    "        # nn.utils.clip_grad_norm_(model.parameters(), max_norm=1.0)\n",
    "        optimizer.step()\n",
    "        optimizer.zero_grad()\n",
    "        # scheduler.step()\n",
    "\n",
    "    mean_loss = np.mean(losses)\n",
    "\n",
    "\n",
    "    return mean_loss"
   ],
   "metadata": {
    "collapsed": false,
    "pycharm": {
     "name": "#%%\n"
    }
   }
  },
  {
   "cell_type": "code",
   "execution_count": 206,
   "outputs": [],
   "source": [
    "def eval_model(model, data_loader, loss_fn, device):\n",
    "    model = model.eval() # 验证预测模式\n",
    "    losses = []\n",
    "    pred_list = []\n",
    "    target_list = []\n",
    "\n",
    "    with torch.no_grad():\n",
    "        for inputs in tqdm(data_loader):\n",
    "            targets = inputs[\"label\"].to(device)\n",
    "            x = inputs['input'].to(device)\n",
    "            outputs = model(x)\n",
    "            preds = outputs\n",
    "\n",
    "\n",
    "            pred_list.extend(preds.cpu().detach().numpy().tolist())\n",
    "            target_list.extend(targets.cpu().detach().numpy().tolist())\n",
    "\n",
    "\n",
    "            loss = loss_fn(outputs, targets)\n",
    "\n",
    "\n",
    "            # MSE开方就是RMSE了\n",
    "            losses.append(np.sqrt(loss.item()))\n",
    "\n",
    "\n",
    "\n",
    "    mean_loss = np.mean(losses)\n",
    "\n",
    "    return mean_loss"
   ],
   "metadata": {
    "collapsed": false,
    "pycharm": {
     "name": "#%%\n"
    }
   }
  },
  {
   "cell_type": "code",
   "execution_count": 207,
   "outputs": [
    {
     "name": "stdout",
     "output_type": "stream",
     "text": [
      "Epoch 1/32\n",
      "----------\n",
      "train_rmse : 0.4220077037134499 \n",
      " \n",
      "val_rmse : 0.4773867655171617 \n",
      " \n",
      "\n",
      "best model saved!!!!!!!!!!!!!\n",
      "Epoch 2/32\n",
      "----------\n",
      "train_rmse : 0.4218875788798358 \n",
      " \n",
      "val_rmse : 0.4773867655171617 \n",
      " \n",
      "\n",
      "Epoch 3/32\n",
      "----------\n"
     ]
    },
    {
     "name": "stderr",
     "output_type": "stream",
     "text": [
      "100%|██████████| 7987/7987 [00:14<00:00, 569.59it/s]\n",
      "100%|██████████| 57/57 [00:00<00:00, 1003.38it/s]\n",
      "100%|██████████| 7987/7987 [00:13<00:00, 585.07it/s]\n",
      "100%|██████████| 57/57 [00:00<00:00, 1058.91it/s]\n",
      " 44%|████▎     | 3493/7987 [00:06<00:07, 581.85it/s]\n"
     ]
    },
    {
     "ename": "KeyboardInterrupt",
     "evalue": "",
     "output_type": "error",
     "traceback": [
      "\u001B[1;31m---------------------------------------------------------------------------\u001B[0m",
      "\u001B[1;31mKeyboardInterrupt\u001B[0m                         Traceback (most recent call last)",
      "\u001B[1;32mC:\\Users\\MACHEN~1\\AppData\\Local\\Temp/ipykernel_1372/3210378692.py\u001B[0m in \u001B[0;36m<module>\u001B[1;34m\u001B[0m\n\u001B[0;32m     19\u001B[0m         \u001B[0mloss_fn\u001B[0m\u001B[1;33m,\u001B[0m\u001B[1;33m\u001B[0m\u001B[1;33m\u001B[0m\u001B[0m\n\u001B[0;32m     20\u001B[0m         \u001B[0moptimizer\u001B[0m\u001B[1;33m,\u001B[0m\u001B[1;33m\u001B[0m\u001B[1;33m\u001B[0m\u001B[0m\n\u001B[1;32m---> 21\u001B[1;33m         \u001B[0mdevice\u001B[0m\u001B[1;33m,\u001B[0m\u001B[1;33m\u001B[0m\u001B[1;33m\u001B[0m\u001B[0m\n\u001B[0m\u001B[0;32m     22\u001B[0m     )\n\u001B[0;32m     23\u001B[0m \u001B[1;33m\u001B[0m\u001B[0m\n",
      "\u001B[1;32mC:\\Users\\MACHEN~1\\AppData\\Local\\Temp/ipykernel_1372/2822271462.py\u001B[0m in \u001B[0;36mtrain_epoch\u001B[1;34m(model, data_loader, loss_fn, optimizer, device)\u001B[0m\n\u001B[0;32m     25\u001B[0m \u001B[1;33m\u001B[0m\u001B[0m\n\u001B[0;32m     26\u001B[0m         \u001B[1;31m# nn.utils.clip_grad_norm_(model.parameters(), max_norm=1.0)\u001B[0m\u001B[1;33m\u001B[0m\u001B[1;33m\u001B[0m\u001B[1;33m\u001B[0m\u001B[0m\n\u001B[1;32m---> 27\u001B[1;33m         \u001B[0moptimizer\u001B[0m\u001B[1;33m.\u001B[0m\u001B[0mstep\u001B[0m\u001B[1;33m(\u001B[0m\u001B[1;33m)\u001B[0m\u001B[1;33m\u001B[0m\u001B[1;33m\u001B[0m\u001B[0m\n\u001B[0m\u001B[0;32m     28\u001B[0m         \u001B[0moptimizer\u001B[0m\u001B[1;33m.\u001B[0m\u001B[0mzero_grad\u001B[0m\u001B[1;33m(\u001B[0m\u001B[1;33m)\u001B[0m\u001B[1;33m\u001B[0m\u001B[1;33m\u001B[0m\u001B[0m\n\u001B[0;32m     29\u001B[0m         \u001B[1;31m# scheduler.step()\u001B[0m\u001B[1;33m\u001B[0m\u001B[1;33m\u001B[0m\u001B[1;33m\u001B[0m\u001B[0m\n",
      "\u001B[1;32m~\\AppData\\Roaming\\Python\\Python37\\site-packages\\torch\\optim\\optimizer.py\u001B[0m in \u001B[0;36mwrapper\u001B[1;34m(*args, **kwargs)\u001B[0m\n\u001B[0;32m     86\u001B[0m                 \u001B[0mprofile_name\u001B[0m \u001B[1;33m=\u001B[0m \u001B[1;34m\"Optimizer.step#{}.step\"\u001B[0m\u001B[1;33m.\u001B[0m\u001B[0mformat\u001B[0m\u001B[1;33m(\u001B[0m\u001B[0mobj\u001B[0m\u001B[1;33m.\u001B[0m\u001B[0m__class__\u001B[0m\u001B[1;33m.\u001B[0m\u001B[0m__name__\u001B[0m\u001B[1;33m)\u001B[0m\u001B[1;33m\u001B[0m\u001B[1;33m\u001B[0m\u001B[0m\n\u001B[0;32m     87\u001B[0m                 \u001B[1;32mwith\u001B[0m \u001B[0mtorch\u001B[0m\u001B[1;33m.\u001B[0m\u001B[0mautograd\u001B[0m\u001B[1;33m.\u001B[0m\u001B[0mprofiler\u001B[0m\u001B[1;33m.\u001B[0m\u001B[0mrecord_function\u001B[0m\u001B[1;33m(\u001B[0m\u001B[0mprofile_name\u001B[0m\u001B[1;33m)\u001B[0m\u001B[1;33m:\u001B[0m\u001B[1;33m\u001B[0m\u001B[1;33m\u001B[0m\u001B[0m\n\u001B[1;32m---> 88\u001B[1;33m                     \u001B[1;32mreturn\u001B[0m \u001B[0mfunc\u001B[0m\u001B[1;33m(\u001B[0m\u001B[1;33m*\u001B[0m\u001B[0margs\u001B[0m\u001B[1;33m,\u001B[0m \u001B[1;33m**\u001B[0m\u001B[0mkwargs\u001B[0m\u001B[1;33m)\u001B[0m\u001B[1;33m\u001B[0m\u001B[1;33m\u001B[0m\u001B[0m\n\u001B[0m\u001B[0;32m     89\u001B[0m             \u001B[1;32mreturn\u001B[0m \u001B[0mwrapper\u001B[0m\u001B[1;33m\u001B[0m\u001B[1;33m\u001B[0m\u001B[0m\n\u001B[0;32m     90\u001B[0m \u001B[1;33m\u001B[0m\u001B[0m\n",
      "\u001B[1;32m~\\AppData\\Roaming\\Python\\Python37\\site-packages\\torch\\autograd\\grad_mode.py\u001B[0m in \u001B[0;36mdecorate_context\u001B[1;34m(*args, **kwargs)\u001B[0m\n\u001B[0;32m     26\u001B[0m         \u001B[1;32mdef\u001B[0m \u001B[0mdecorate_context\u001B[0m\u001B[1;33m(\u001B[0m\u001B[1;33m*\u001B[0m\u001B[0margs\u001B[0m\u001B[1;33m,\u001B[0m \u001B[1;33m**\u001B[0m\u001B[0mkwargs\u001B[0m\u001B[1;33m)\u001B[0m\u001B[1;33m:\u001B[0m\u001B[1;33m\u001B[0m\u001B[1;33m\u001B[0m\u001B[0m\n\u001B[0;32m     27\u001B[0m             \u001B[1;32mwith\u001B[0m \u001B[0mself\u001B[0m\u001B[1;33m.\u001B[0m\u001B[0m__class__\u001B[0m\u001B[1;33m(\u001B[0m\u001B[1;33m)\u001B[0m\u001B[1;33m:\u001B[0m\u001B[1;33m\u001B[0m\u001B[1;33m\u001B[0m\u001B[0m\n\u001B[1;32m---> 28\u001B[1;33m                 \u001B[1;32mreturn\u001B[0m \u001B[0mfunc\u001B[0m\u001B[1;33m(\u001B[0m\u001B[1;33m*\u001B[0m\u001B[0margs\u001B[0m\u001B[1;33m,\u001B[0m \u001B[1;33m**\u001B[0m\u001B[0mkwargs\u001B[0m\u001B[1;33m)\u001B[0m\u001B[1;33m\u001B[0m\u001B[1;33m\u001B[0m\u001B[0m\n\u001B[0m\u001B[0;32m     29\u001B[0m         \u001B[1;32mreturn\u001B[0m \u001B[0mcast\u001B[0m\u001B[1;33m(\u001B[0m\u001B[0mF\u001B[0m\u001B[1;33m,\u001B[0m \u001B[0mdecorate_context\u001B[0m\u001B[1;33m)\u001B[0m\u001B[1;33m\u001B[0m\u001B[1;33m\u001B[0m\u001B[0m\n\u001B[0;32m     30\u001B[0m \u001B[1;33m\u001B[0m\u001B[0m\n",
      "\u001B[1;32m~\\AppData\\Roaming\\Python\\Python37\\site-packages\\torch\\optim\\adam.py\u001B[0m in \u001B[0;36mstep\u001B[1;34m(self, closure)\u001B[0m\n\u001B[0;32m    116\u001B[0m                    \u001B[0mlr\u001B[0m\u001B[1;33m=\u001B[0m\u001B[0mgroup\u001B[0m\u001B[1;33m[\u001B[0m\u001B[1;34m'lr'\u001B[0m\u001B[1;33m]\u001B[0m\u001B[1;33m,\u001B[0m\u001B[1;33m\u001B[0m\u001B[1;33m\u001B[0m\u001B[0m\n\u001B[0;32m    117\u001B[0m                    \u001B[0mweight_decay\u001B[0m\u001B[1;33m=\u001B[0m\u001B[0mgroup\u001B[0m\u001B[1;33m[\u001B[0m\u001B[1;34m'weight_decay'\u001B[0m\u001B[1;33m]\u001B[0m\u001B[1;33m,\u001B[0m\u001B[1;33m\u001B[0m\u001B[1;33m\u001B[0m\u001B[0m\n\u001B[1;32m--> 118\u001B[1;33m                    eps=group['eps'])\n\u001B[0m\u001B[0;32m    119\u001B[0m         \u001B[1;32mreturn\u001B[0m \u001B[0mloss\u001B[0m\u001B[1;33m\u001B[0m\u001B[1;33m\u001B[0m\u001B[0m\n",
      "\u001B[1;32m~\\AppData\\Roaming\\Python\\Python37\\site-packages\\torch\\optim\\_functional.py\u001B[0m in \u001B[0;36madam\u001B[1;34m(params, grads, exp_avgs, exp_avg_sqs, max_exp_avg_sqs, state_steps, amsgrad, beta1, beta2, lr, weight_decay, eps)\u001B[0m\n\u001B[0;32m     92\u001B[0m             \u001B[0mdenom\u001B[0m \u001B[1;33m=\u001B[0m \u001B[1;33m(\u001B[0m\u001B[0mmax_exp_avg_sqs\u001B[0m\u001B[1;33m[\u001B[0m\u001B[0mi\u001B[0m\u001B[1;33m]\u001B[0m\u001B[1;33m.\u001B[0m\u001B[0msqrt\u001B[0m\u001B[1;33m(\u001B[0m\u001B[1;33m)\u001B[0m \u001B[1;33m/\u001B[0m \u001B[0mmath\u001B[0m\u001B[1;33m.\u001B[0m\u001B[0msqrt\u001B[0m\u001B[1;33m(\u001B[0m\u001B[0mbias_correction2\u001B[0m\u001B[1;33m)\u001B[0m\u001B[1;33m)\u001B[0m\u001B[1;33m.\u001B[0m\u001B[0madd_\u001B[0m\u001B[1;33m(\u001B[0m\u001B[0meps\u001B[0m\u001B[1;33m)\u001B[0m\u001B[1;33m\u001B[0m\u001B[1;33m\u001B[0m\u001B[0m\n\u001B[0;32m     93\u001B[0m         \u001B[1;32melse\u001B[0m\u001B[1;33m:\u001B[0m\u001B[1;33m\u001B[0m\u001B[1;33m\u001B[0m\u001B[0m\n\u001B[1;32m---> 94\u001B[1;33m             \u001B[0mdenom\u001B[0m \u001B[1;33m=\u001B[0m \u001B[1;33m(\u001B[0m\u001B[0mexp_avg_sq\u001B[0m\u001B[1;33m.\u001B[0m\u001B[0msqrt\u001B[0m\u001B[1;33m(\u001B[0m\u001B[1;33m)\u001B[0m \u001B[1;33m/\u001B[0m \u001B[0mmath\u001B[0m\u001B[1;33m.\u001B[0m\u001B[0msqrt\u001B[0m\u001B[1;33m(\u001B[0m\u001B[0mbias_correction2\u001B[0m\u001B[1;33m)\u001B[0m\u001B[1;33m)\u001B[0m\u001B[1;33m.\u001B[0m\u001B[0madd_\u001B[0m\u001B[1;33m(\u001B[0m\u001B[0meps\u001B[0m\u001B[1;33m)\u001B[0m\u001B[1;33m\u001B[0m\u001B[1;33m\u001B[0m\u001B[0m\n\u001B[0m\u001B[0;32m     95\u001B[0m \u001B[1;33m\u001B[0m\u001B[0m\n\u001B[0;32m     96\u001B[0m         \u001B[0mstep_size\u001B[0m \u001B[1;33m=\u001B[0m \u001B[0mlr\u001B[0m \u001B[1;33m/\u001B[0m \u001B[0mbias_correction1\u001B[0m\u001B[1;33m\u001B[0m\u001B[1;33m\u001B[0m\u001B[0m\n",
      "\u001B[1;31mKeyboardInterrupt\u001B[0m: "
     ]
    }
   ],
   "source": [
    "\n",
    "from collections import defaultdict\n",
    "history = defaultdict(list) # 记录10轮loss和acc\n",
    "best_rmse = float('inf')\n",
    "\n",
    "\n",
    "# -------------------控制早停--------------\n",
    "early_stop_epochs = 5\n",
    "no_improve_epochs = 0\n",
    "\n",
    "\n",
    "for epoch in range(EPOCHS):\n",
    "\n",
    "    print(f'Epoch {epoch + 1}/{EPOCHS}')\n",
    "    print('-' * 10)\n",
    "\n",
    "    train_rmse = train_epoch(\n",
    "        model,\n",
    "        train_data_loader,\n",
    "        loss_fn,\n",
    "        optimizer,\n",
    "        device,\n",
    "    )\n",
    "\n",
    "    print(f'train_rmse : {train_rmse } \\n ')\n",
    "\n",
    "    val_rmse = eval_model(\n",
    "        model,\n",
    "        val_data_loader,\n",
    "        loss_fn,\n",
    "        device\n",
    "    )\n",
    "\n",
    "    print(f'val_rmse : {val_rmse } \\n ')\n",
    "    print()\n",
    "\n",
    "    history['train_rmse '].append(train_rmse)\n",
    "    history['val_rmse '].append(val_rmse)\n",
    "\n",
    "\n",
    "    if val_rmse  < best_rmse :\n",
    "        print('best model saved!!!!!!!!!!!!!')\n",
    "        torch.save(model.state_dict(), f'./save model/best_model.pt')\n",
    "        best_rmse  = val_rmse\n",
    "\n",
    "        no_improve_epochs = 0\n",
    "\n",
    "    else:\n",
    "        no_improve_epochs += 1\n",
    "\n",
    "\n",
    "\n",
    "    if no_improve_epochs == early_stop_epochs:\n",
    "        print('no improve score !!! stop train !!!')\n",
    "        break"
   ],
   "metadata": {
    "collapsed": false,
    "pycharm": {
     "name": "#%%\n"
    }
   }
  },
  {
   "cell_type": "code",
   "execution_count": null,
   "outputs": [],
   "source": [],
   "metadata": {
    "collapsed": false,
    "pycharm": {
     "name": "#%%\n"
    }
   }
  },
  {
   "cell_type": "code",
   "execution_count": null,
   "outputs": [],
   "source": [
    "df_test"
   ],
   "metadata": {
    "collapsed": false,
    "pycharm": {
     "name": "#%%\n"
    }
   }
  },
  {
   "cell_type": "code",
   "execution_count": null,
   "outputs": [],
   "source": [
    "\n",
    "df_test.info()\n",
    "df_test['Main_steam_flow_rate'] = 0\n",
    "df_test.head(5)"
   ],
   "metadata": {
    "collapsed": false,
    "pycharm": {
     "name": "#%%\n"
    }
   }
  },
  {
   "cell_type": "code",
   "execution_count": null,
   "outputs": [],
   "source": [],
   "metadata": {
    "collapsed": false,
    "pycharm": {
     "name": "#%%\n"
    }
   }
  },
  {
   "cell_type": "code",
   "execution_count": null,
   "outputs": [],
   "source": [
    "\n",
    "new_scaled_array=scaler.transform(df_test)\n",
    "new_scaled_df=pd.DataFrame(new_scaled_array)\n",
    "print('new_scaled_array.shape: ', new_scaled_array.shape)\n",
    "new_scaled_df.iloc[:,0]=np.nan"
   ],
   "metadata": {
    "collapsed": false,
    "pycharm": {
     "name": "#%%\n"
    }
   }
  },
  {
   "cell_type": "code",
   "execution_count": null,
   "outputs": [],
   "source": [
    "testX = new_scaled_df.values[:, 1:]\n",
    "testX.shape"
   ],
   "metadata": {
    "collapsed": false,
    "pycharm": {
     "name": "#%%\n"
    }
   }
  },
  {
   "cell_type": "code",
   "execution_count": null,
   "outputs": [],
   "source": [
    "test_data_loader = create_data_loader(data=testX,\n",
    "                                      labels=None,\n",
    "                                      test_mode=True)\n",
    "\n"
   ],
   "metadata": {
    "collapsed": false,
    "pycharm": {
     "name": "#%%\n"
    }
   }
  },
  {
   "cell_type": "code",
   "execution_count": null,
   "outputs": [],
   "source": [
    "device = torch.device(\"cuda:0\" if torch.cuda.is_available() else \"cpu\")\n",
    "print('use device: ', device)\n",
    "model = Time_Model()\n",
    "\n",
    "\n",
    "path = './save model/best_model.pt'\n",
    "model.load_state_dict(torch.load(path))\n",
    "model = model.to(device)\n",
    "\n",
    "\n",
    "model.eval()"
   ],
   "metadata": {
    "collapsed": false,
    "pycharm": {
     "name": "#%%\n"
    }
   }
  },
  {
   "cell_type": "code",
   "execution_count": null,
   "outputs": [],
   "source": [
    "pred_list = []\n",
    "with torch.no_grad():\n",
    "    for inputs in tqdm(test_data_loader):\n",
    "        x = inputs['input'].to(device)\n",
    "        preds = model(x)\n",
    "        pred_list.extend(preds.cpu().detach().numpy().tolist())"
   ],
   "metadata": {
    "collapsed": false,
    "pycharm": {
     "name": "#%%\n"
    }
   }
  },
  {
   "cell_type": "code",
   "execution_count": null,
   "outputs": [],
   "source": [
    "len(pred_list)"
   ],
   "metadata": {
    "collapsed": false,
    "pycharm": {
     "name": "#%%\n"
    }
   }
  },
  {
   "cell_type": "code",
   "execution_count": null,
   "outputs": [],
   "source": [],
   "metadata": {
    "collapsed": false,
    "pycharm": {
     "name": "#%%\n"
    }
   }
  },
  {
   "cell_type": "code",
   "execution_count": null,
   "outputs": [],
   "source": [
    "new_array=np.array(pred_list)\n",
    "new_array=new_array.reshape(-1,1)"
   ],
   "metadata": {
    "collapsed": false,
    "pycharm": {
     "name": "#%%\n"
    }
   }
  },
  {
   "cell_type": "code",
   "execution_count": null,
   "outputs": [],
   "source": [
    "prediction_copies_array = np.repeat(new_array,1098, axis=-1)\n",
    "y_pred_future_days = scaler.inverse_transform(np.reshape(prediction_copies_array,(len(new_array),1098)))[:,0]\n",
    "print(y_pred_future_days)"
   ],
   "metadata": {
    "collapsed": false,
    "pycharm": {
     "name": "#%%\n"
    }
   }
  },
  {
   "cell_type": "code",
   "execution_count": null,
   "outputs": [],
   "source": [
    "\n"
   ],
   "metadata": {
    "collapsed": false,
    "pycharm": {
     "name": "#%%\n"
    }
   }
  },
  {
   "cell_type": "code",
   "execution_count": null,
   "outputs": [],
   "source": [
    "test = pd.read_csv('data/test.csv')"
   ],
   "metadata": {
    "collapsed": false,
    "pycharm": {
     "name": "#%%\n"
    }
   }
  },
  {
   "cell_type": "code",
   "execution_count": null,
   "outputs": [],
   "source": [
    "\n",
    "sub = pd.DataFrame({'ID': list(range(1,1801)),\n",
    "                    'Time': test['时间'],\n",
    "                    'Steam_flow': y_pred_future_days})\n",
    "sub.to_csv('result.csv',index=False)"
   ],
   "metadata": {
    "collapsed": false,
    "pycharm": {
     "name": "#%%\n"
    }
   }
  },
  {
   "cell_type": "code",
   "execution_count": null,
   "outputs": [],
   "source": [
    "\n",
    "sub = pd.read_csv('./demo2.csv')"
   ],
   "metadata": {
    "collapsed": false,
    "pycharm": {
     "name": "#%%\n"
    }
   }
  },
  {
   "cell_type": "code",
   "execution_count": null,
   "outputs": [],
   "source": [
    "import matplotlib.pyplot as plt\n",
    "train = pd.read_csv('data/train.csv')\n",
    "t1 = train['主蒸汽流量'].tolist()\n",
    "t2 = sub['Steam_flow'].tolist()\n",
    "plt.figure(dpi=200)\n",
    "plt.plot(list(range(len(t1))), t1)\n",
    "plt.plot(list(range(len(t1), len(t1)+len(t2))), t2)\n",
    "plt.savefig('./pred.jpg')"
   ],
   "metadata": {
    "collapsed": false,
    "pycharm": {
     "name": "#%%\n"
    }
   }
  },
  {
   "cell_type": "code",
   "execution_count": 50,
   "outputs": [
    {
     "ename": "TypeError",
     "evalue": "'list' object cannot be interpreted as an integer",
     "output_type": "error",
     "traceback": [
      "\u001B[1;31m---------------------------------------------------------------------------\u001B[0m",
      "\u001B[1;31mTypeError\u001B[0m                                 Traceback (most recent call last)",
      "\u001B[1;32mC:\\Users\\MACHEN~1\\AppData\\Local\\Temp/ipykernel_15600/155397264.py\u001B[0m in \u001B[0;36m<module>\u001B[1;34m\u001B[0m\n\u001B[1;32m----> 1\u001B[1;33m \u001B[0mlist\u001B[0m\u001B[1;33m(\u001B[0m\u001B[0mrange\u001B[0m\u001B[1;33m(\u001B[0m\u001B[0mt1\u001B[0m\u001B[1;33m)\u001B[0m\u001B[1;33m)\u001B[0m\u001B[1;33m\u001B[0m\u001B[1;33m\u001B[0m\u001B[0m\n\u001B[0m",
      "\u001B[1;31mTypeError\u001B[0m: 'list' object cannot be interpreted as an integer"
     ]
    }
   ],
   "source": [
    "list(range(t1))"
   ],
   "metadata": {
    "collapsed": false,
    "pycharm": {
     "name": "#%%\n"
    }
   }
  }
 ],
 "metadata": {
  "kernelspec": {
   "display_name": "Python 3",
   "language": "python",
   "name": "python3"
  },
  "language_info": {
   "codemirror_mode": {
    "name": "ipython",
    "version": 2
   },
   "file_extension": ".py",
   "mimetype": "text/x-python",
   "name": "python",
   "nbconvert_exporter": "python",
   "pygments_lexer": "ipython2",
   "version": "2.7.6"
  }
 },
 "nbformat": 4,
 "nbformat_minor": 0
}